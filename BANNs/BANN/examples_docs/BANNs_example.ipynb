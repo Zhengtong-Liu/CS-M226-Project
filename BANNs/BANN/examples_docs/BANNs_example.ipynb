{
 "cells": [
  {
   "cell_type": "markdown",
   "metadata": {},
   "source": [
    "## BANNs Example Run\n",
    "\n",
    "### Introduction\n",
    "In this Jupyter notebook, we demonstrate how to run BANNs and access the model output on a sample dataset. \n",
    "\n"
   ]
  },
  {
   "cell_type": "markdown",
   "metadata": {},
   "source": [
    "### Simulating Data\n",
    "We will first simulate the sample data and pick which SNPs and SNP-sets are supposed to be the real associated values.\n"
   ]
  },
  {
   "cell_type": "code",
   "execution_count": 1,
   "metadata": {},
   "outputs": [
    {
     "name": "stdout",
     "output_type": "stream",
     "text": [
      "Dimensions of genotype matrix: (500, 1000)\n",
      "Number of samples: 500  Number of SNPs: 1000\n"
     ]
    }
   ],
   "source": [
    "import numpy as np\n",
    "np.random.seed(111) # We will seed the random number generator of numpy for reproducible results\n",
    "\n",
    "############### SIMULATING GENOTYPES #################\n",
    "# Defining the parameters of the simulated genotype matrix:\n",
    "N=500 #Number of samples (or \"individuals\")\n",
    "p=1000 #Number of SNPs\n",
    "\n",
    "# Randomly assign a minor allele frequency (maf) value to each SNP (limiting the range to 0.05 - 0.5 in this simulation):\n",
    "maf = 0.05 + 0.45*np.random.uniform(size=p)\n",
    "# Simulate the genotype matrix based on maf values for each SNP. \n",
    "# If the random allele frequencies we generate in the simulation step below is larger than the corresponding maf \n",
    "X = ((np.random.uniform(size=[N,p])>maf)&(np.random.uniform(size=[N,p])>maf))*1.0\n",
    "\n",
    "# Center and scale (z-score standardize) the genotype matrix:\n",
    "Xmean= np.mean(X, axis=0) #mean of each column, which corresponds to a SNP locus\n",
    "Xstd= np.std(X,axis=0) #standard deviation of each column\n",
    "X=np.nan_to_num((X-Xmean)/Xstd) #Final standardized simulated genotype matrix\n",
    "\n",
    "print(\"Dimensions of genotype matrix:\", X.shape)\n",
    "print(\"Number of samples:\", N, \" Number of SNPs:\",p)"
   ]
  },
  {
   "cell_type": "code",
   "execution_count": 2,
   "metadata": {},
   "outputs": [
    {
     "name": "stdout",
     "output_type": "stream",
     "text": [
      "Shape of the phenotype array: (500, 1)\n"
     ]
    }
   ],
   "source": [
    "############### SIMULATING PHENOTYPES #################\n",
    "# Defining the parameters of the phenotype simulations:\n",
    "\n",
    "H2 = 0.6 #Broad-sense heritability, meaning 60% of phenotypic variation is explained by genotypic variation.\n",
    "rho= 1 #All of the heritability comes from additive effects\n",
    "causal_indices=np.arange(0,10) #Pick the first 10 of 1000 SNPs to have non-zero effect sizes\n",
    "ncausal=len(causal_indices)\n",
    "\n",
    "# Simulate phenotype data based on additive effects:\n",
    "\n",
    "Xadditive=X[:, causal_indices] # Get the causal SNP values\n",
    "betaAdd= np.repeat(1, ncausal)# Initialize all effect sizes for these SNPs as \"1\"\n",
    "#Initialize the value of the portion of phenotypic variation explained by the additive effects as XB:\n",
    "y_additive=np.dot(Xadditive, betaAdd)\n",
    "# Re-scale additive effect sizes based on H^2*rho:\n",
    "betaAdd= betaAdd * np.sqrt(H2*rho/np.var(y_additive))\n",
    "# Update y_additive based on effect sizes:\n",
    "y_additive=np.dot(Xadditive, betaAdd) \n",
    "\n",
    "# Simulate random noise (drawn from standard normal distribution) for the rest of phenotypic variation (40%):\n",
    "y_noise = np.random.normal(size=N)\n",
    "y_noise = y_noise * np.sqrt((1 - H2) / np.var(y_noise))\n",
    "\n",
    "# Add y_additive and y_noise to get the final simulated phenotypes:\n",
    "y = np.add(y_additive.reshape(N, 1), y_noise.reshape(N, 1)) \n",
    "print(\"Shape of the phenotype array:\", y.shape)"
   ]
  },
  {
   "cell_type": "code",
   "execution_count": 3,
   "metadata": {},
   "outputs": [
    {
     "name": "stdout",
     "output_type": "stream",
     "text": [
      "The shape of the annotation mask is: (1000, 200)\n",
      "Number of SNPs: 1000  Number of SNP-sets: 200\n",
      "This is what the annotation mask looks like:\n",
      "[[1. 0. 0. ... 0. 0. 0.]\n",
      " [1. 0. 0. ... 0. 0. 0.]\n",
      " [1. 0. 0. ... 0. 0. 0.]\n",
      " ...\n",
      " [0. 0. 0. ... 0. 0. 1.]\n",
      " [0. 0. 0. ... 0. 0. 1.]\n",
      " [0. 0. 0. ... 0. 0. 1.]]\n"
     ]
    }
   ],
   "source": [
    "############## SIMULATE THE ANNOTATION MASK #################\n",
    "# While annotation.py script can be used to create biological annotations from SNP List and gene list files,\n",
    "# we will create a simple annotation mask here, where every five SNP falls into one SNP-set in order:\n",
    "\n",
    "nSNPs= p #Number of SNPs\n",
    "nSets= int(p/5) #Number of SNP-sets \n",
    "mask=np.zeros(shape=(nSNPs,nSets)) #Initialize annotation mask as a matrix of zeros of size nSNPs by nSets\n",
    "\n",
    "for i in range(0,nSets):#iterating over the columns of the annotation matrix, which correspond to SNP-sets\n",
    "\tfor j in range(i*5,(i+1)*5): #iterating over the rows of the annotation matrix, which correspond to SNPs\n",
    "\t\tmask[j,i]=1 #Make corresponding 5 SNPs fall into the corresponding SNPsets by turning these values to \"1\"\n",
    "\n",
    "print(\"The shape of the annotation mask is:\", mask.shape)\n",
    "print(\"Number of SNPs:\",mask.shape[0], \" Number of SNP-sets:\", mask.shape[1])\n",
    "print(\"This is what the annotation mask looks like:\")\n",
    "print(mask)\n",
    "\n",
    "#### Save files:\n",
    "np.savetxt(\"Xtest2.txt\", X, delimiter=\" \")\n",
    "np.savetxt(\"ytest2.txt\", y, delimiter=\" \")\n",
    "np.savetxt(\"masktest2.txt\",mask, delimiter=\" \")"
   ]
  },
  {
   "cell_type": "markdown",
   "metadata": {},
   "source": [
    "### Running BANNs model on the simulated data:\n",
    "Based on the simulation scheme above, we expect the first 10 SNPs and the first 2 SNP-sets to be picked to be associated with the phenotype by BANNs model. Let's run it:"
   ]
  },
  {
   "cell_type": "code",
   "execution_count": 5,
   "metadata": {},
   "outputs": [
    {
     "name": "stdout",
     "output_type": "stream",
     "text": [
      "Welcome to BANNs. Please make sure SNPs in the SNP List you provide are in the same order as in the genotype matrix. Results we return will be in the order of SNP annotations and SNP-set annotations.\n",
      "(500,)\n",
      "20/20 [==============================] - 15s 731ms/step\n",
      "20/20 [==============================] - 16s 795ms/step\n",
      "(500,)\n",
      "20/20 [==============================] - 4s 205ms/step\n",
      "20/20 [==============================] - 4s 206ms/step\n",
      "PVE\n",
      "0.6276360168462365\n",
      "0.6106107547232769\n"
     ]
    },
    {
     "data": {
      "image/png": "[encoded data removed]",
      "text/plain": [
       "<Figure size 432x288 with 1 Axes>"
      ]
     },
     "metadata": {
      "needs_background": "light"
     },
     "output_type": "display_data"
    },
    {
     "data": {
      "image/png": "[encoded data removed]",
      "text/plain": [
       "<Figure size 432x288 with 1 Axes>"
      ]
     },
     "metadata": {
      "needs_background": "light"
     },
     "output_type": "display_data"
    }
   ],
   "source": [
    "# Importing annotation.py from the src folder:\n",
    "import matplotlib.pyplot as plt\n",
    "import sys\n",
    "sys.path.insert(0, '../src/') #Need to do this for this notebook example since the code lives in a different directory \n",
    "\n",
    "from BANN import * # Import annotation code\n",
    "\n",
    "#Changing back to the original directory:\n",
    "sys.path.insert(0, '../examples_docs/')\n",
    "\n",
    "X = np.loadtxt(\"Xtest2.txt\")\n",
    "y = np.loadtxt(\"ytest2.txt\")\n",
    "mask = np.loadtxt(\"masktest2.txt\")\n",
    "\n",
    "bann=BANNs(X,y, mask, nModelsSNP=20, nModelsSET=20)\n",
    "[SNP_layer, SET_layer]=bann.run()\n",
    "print(\"PVE\")\n",
    "print(SNP_layer.pve)\n",
    "print(SET_layer.pve)\n",
    "\n",
    "\n",
    "SNPpips=SNP_layer.pip\n",
    "SETpips=SET_layer.pip\n",
    "plt.scatter(np.arange(len(SNPpips)), SNPpips)\n",
    "plt.show()\n",
    "\n",
    "plt.scatter(np.arange(len(SETpips)), SETpips)\n",
    "plt.show()"
   ]
  },
  {
   "cell_type": "markdown",
   "metadata": {},
   "source": [
    "### Computational Power\n",
    "ROC curves"
   ]
  },
  {
   "cell_type": "code",
   "execution_count": null,
   "metadata": {},
   "outputs": [],
   "source": []
  }
 ],
 "metadata": {
  "kernelspec": {
   "display_name": "Python 3",
   "language": "python",
   "name": "python3"
  },
  "language_info": {
   "codemirror_mode": {
    "name": "ipython",
    "version": 3
   },
   "file_extension": ".py",
   "mimetype": "text/x-python",
   "name": "python",
   "nbconvert_exporter": "python",
   "pygments_lexer": "ipython3",
   "version": "3.7.6"
  }
 },
 "nbformat": 4,
 "nbformat_minor": 4
}

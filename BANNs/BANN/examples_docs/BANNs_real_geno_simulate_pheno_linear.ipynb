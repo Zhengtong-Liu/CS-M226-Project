{
 "cells": [
  {
   "cell_type": "markdown",
   "metadata": {},
   "source": [
    "### Preparation (Import Packages)"
   ]
  },
  {
   "cell_type": "code",
   "execution_count": 1,
   "metadata": {},
   "outputs": [
    {
     "name": "stderr",
     "output_type": "stream",
     "text": [
      "2022-11-26 21:35:58.106908: I tensorflow/core/platform/cpu_feature_guard.cc:193] This TensorFlow binary is optimized with oneAPI Deep Neural Network Library (oneDNN) to use the following CPU instructions in performance-critical operations:  AVX2 AVX512F FMA\n",
      "To enable them in other operations, rebuild TensorFlow with the appropriate compiler flags.\n",
      "2022-11-26 21:35:58.260946: W tensorflow/stream_executor/platform/default/dso_loader.cc:64] Could not load dynamic library 'libcudart.so.11.0'; dlerror: libcudart.so.11.0: cannot open shared object file: No such file or directory; LD_LIBRARY_PATH: /u/local/apps/python/3.9.6/gcc-4.8.5/lib:/u/local/compilers/intel/2020.4/compilers_and_libraries_2020.4.304/linux/compiler/lib/intel64_lin:/u/local/compilers/intel/2020.4/compilers_and_libraries_2020.4.304/linux/daal/../tbb/lib/intel64_lin/gcc4.4:/u/local/compilers/intel/2020.4/compilers_and_libraries_2020.4.304/linux/daal/../tbb/lib/intel64_lin/gcc4.8:/u/local/compilers/intel/2020.4/compilers_and_libraries_2020.4.304/linux/daal/lib/intel64_lin:/u/local/compilers/intel/2020.4/compilers_and_libraries_2020.4.304/linux/ipp/../tbb/lib/intel64/gcc4.8:/u/local/compilers/intel/2020.4/compilers_and_libraries_2020.4.304/linux/ipp/lib/intel64:/u/local/compilers/intel/2020.4/compilers_and_libraries_2020.4.304/linux/mkl/lib/intel64_lin:/u/local/compilers/intel/2020.4/compilers_and_libraries_2020.4.304/linux/mpi/intel64/lib:/u/local/compilers/intel/2020.4/compilers_and_libraries_2020.4.304/linux/mpi/intel64/lib/release:/u/local/compilers/intel/2020.4/compilers_and_libraries_2020.4.304/linux/mpi/intel64/libfabric/lib:/u/local/compilers/intel/2020.4/compilers_and_libraries_2020.4.304/linux/tbb/lib/intel64/gcc4.8:/u/local/compilers/intel/2020.4/debugger_2020/libipt/intel64/lib:/u/local/compilers/intel/2020.4/debugger_2020/python/intel64/lib\n",
      "2022-11-26 21:35:58.260976: I tensorflow/stream_executor/cuda/cudart_stub.cc:29] Ignore above cudart dlerror if you do not have a GPU set up on your machine.\n",
      "2022-11-26 21:35:58.297344: E tensorflow/stream_executor/cuda/cuda_blas.cc:2981] Unable to register cuBLAS factory: Attempting to register factory for plugin cuBLAS when one has already been registered\n",
      "2022-11-26 21:35:59.860842: W tensorflow/stream_executor/platform/default/dso_loader.cc:64] Could not load dynamic library 'libnvinfer.so.7'; dlerror: libnvinfer.so.7: cannot open shared object file: No such file or directory; LD_LIBRARY_PATH: /u/local/apps/python/3.9.6/gcc-4.8.5/lib:/u/local/compilers/intel/2020.4/compilers_and_libraries_2020.4.304/linux/compiler/lib/intel64_lin:/u/local/compilers/intel/2020.4/compilers_and_libraries_2020.4.304/linux/daal/../tbb/lib/intel64_lin/gcc4.4:/u/local/compilers/intel/2020.4/compilers_and_libraries_2020.4.304/linux/daal/../tbb/lib/intel64_lin/gcc4.8:/u/local/compilers/intel/2020.4/compilers_and_libraries_2020.4.304/linux/daal/lib/intel64_lin:/u/local/compilers/intel/2020.4/compilers_and_libraries_2020.4.304/linux/ipp/../tbb/lib/intel64/gcc4.8:/u/local/compilers/intel/2020.4/compilers_and_libraries_2020.4.304/linux/ipp/lib/intel64:/u/local/compilers/intel/2020.4/compilers_and_libraries_2020.4.304/linux/mkl/lib/intel64_lin:/u/local/compilers/intel/2020.4/compilers_and_libraries_2020.4.304/linux/mpi/intel64/lib:/u/local/compilers/intel/2020.4/compilers_and_libraries_2020.4.304/linux/mpi/intel64/lib/release:/u/local/compilers/intel/2020.4/compilers_and_libraries_2020.4.304/linux/mpi/intel64/libfabric/lib:/u/local/compilers/intel/2020.4/compilers_and_libraries_2020.4.304/linux/tbb/lib/intel64/gcc4.8:/u/local/compilers/intel/2020.4/debugger_2020/libipt/intel64/lib:/u/local/compilers/intel/2020.4/debugger_2020/python/intel64/lib\n",
      "2022-11-26 21:35:59.861031: W tensorflow/stream_executor/platform/default/dso_loader.cc:64] Could not load dynamic library 'libnvinfer_plugin.so.7'; dlerror: libnvinfer_plugin.so.7: cannot open shared object file: No such file or directory; LD_LIBRARY_PATH: /u/local/apps/python/3.9.6/gcc-4.8.5/lib:/u/local/compilers/intel/2020.4/compilers_and_libraries_2020.4.304/linux/compiler/lib/intel64_lin:/u/local/compilers/intel/2020.4/compilers_and_libraries_2020.4.304/linux/daal/../tbb/lib/intel64_lin/gcc4.4:/u/local/compilers/intel/2020.4/compilers_and_libraries_2020.4.304/linux/daal/../tbb/lib/intel64_lin/gcc4.8:/u/local/compilers/intel/2020.4/compilers_and_libraries_2020.4.304/linux/daal/lib/intel64_lin:/u/local/compilers/intel/2020.4/compilers_and_libraries_2020.4.304/linux/ipp/../tbb/lib/intel64/gcc4.8:/u/local/compilers/intel/2020.4/compilers_and_libraries_2020.4.304/linux/ipp/lib/intel64:/u/local/compilers/intel/2020.4/compilers_and_libraries_2020.4.304/linux/mkl/lib/intel64_lin:/u/local/compilers/intel/2020.4/compilers_and_libraries_2020.4.304/linux/mpi/intel64/lib:/u/local/compilers/intel/2020.4/compilers_and_libraries_2020.4.304/linux/mpi/intel64/lib/release:/u/local/compilers/intel/2020.4/compilers_and_libraries_2020.4.304/linux/mpi/intel64/libfabric/lib:/u/local/compilers/intel/2020.4/compilers_and_libraries_2020.4.304/linux/tbb/lib/intel64/gcc4.8:/u/local/compilers/intel/2020.4/debugger_2020/libipt/intel64/lib:/u/local/compilers/intel/2020.4/debugger_2020/python/intel64/lib\n",
      "2022-11-26 21:35:59.861047: W tensorflow/compiler/tf2tensorrt/utils/py_utils.cc:38] TF-TRT Warning: Cannot dlopen some TensorRT libraries. If you would like to use Nvidia GPU with TensorRT, please make sure the missing libraries mentioned above are installed properly.\n"
     ]
    }
   ],
   "source": [
    "import numpy as np\n",
    "import pandas as pd\n",
    "import matplotlib.pyplot as plt\n",
    "from pandas_plink import read_plink1_bin\n",
    "from sklearn.kernel_approximation import RBFSampler\n",
    "from sklearn.metrics.pairwise import rbf_kernel\n",
    "from sklearn.cluster import DBSCAN\n",
    "from sklearn.preprocessing import StandardScaler\n",
    "from sklearn.metrics import roc_curve, auc\n",
    "from sklearn.metrics import roc_auc_score\n",
    "from sklearn.preprocessing import label_binarize\n",
    "from collections import Counter\n",
    "\n",
    "import sys, ast\n",
    "sys.path.insert(0, '../src/')\n",
    "from annotation import *\n",
    "from BANN import * # Import annotation code\n",
    "\n",
    "sys.path.insert(0, '../examples_docs/')\n",
    "\n",
    "import magenpy as mgp\n",
    "import viprs as vp"
   ]
  },
  {
   "cell_type": "code",
   "execution_count": 2,
   "metadata": {},
   "outputs": [],
   "source": [
    "### ROC Curve\n",
    "def draw_roc_curve(y_true, y_pred_dict):\n",
    "    n_classes = 2\n",
    "    \n",
    "    plt.figure(figsize=(6, 6))\n",
    "    for method_name, y_pred in y_pred_dict.items():\n",
    "        fpr = dict()\n",
    "        tpr = dict()\n",
    "        roc_auc = dict()\n",
    "        for i in range(n_classes):\n",
    "            fpr[i], tpr[i], _ = roc_curve(y_pred[:, i], y_true[:, i])\n",
    "            roc_auc[i] = auc(fpr[i], tpr[i])\n",
    "\n",
    "        # Compute micro-average ROC curve and ROC area\n",
    "        fpr[\"micro\"], tpr[\"micro\"], _ = roc_curve(y_pred.ravel(), y_true.ravel())\n",
    "        roc_auc[\"micro\"] = auc(fpr[\"micro\"], tpr[\"micro\"])\n",
    "        \n",
    "        lw = 2\n",
    "        plt.plot(\n",
    "            fpr[1],\n",
    "            tpr[1],\n",
    "            lw=lw,\n",
    "            label=f\"{method_name} (area = %0.2f)\" % roc_auc[1],\n",
    "        )\n",
    "        plt.plot([0, 1], [0, 1], color=\"navy\", lw=lw, linestyle=\"--\")\n",
    "        plt.xlim([-0.05, 1.0])\n",
    "        plt.ylim([-0.05, 1.05])\n",
    "        plt.xlabel(\"False Positive Rate\")\n",
    "        plt.ylabel(\"True Positive Rate\")\n",
    "        plt.legend(loc=\"lower right\")\n",
    "    plt.show()"
   ]
  },
  {
   "cell_type": "markdown",
   "metadata": {},
   "source": [
    "### Gene Annotation (only needs to run once)"
   ]
  },
  {
   "cell_type": "code",
   "execution_count": 3,
   "metadata": {},
   "outputs": [],
   "source": [
    "chr_selected = \"22\"\n",
    "\n",
    "data_folder = \"/u/home/z/zhengton/project-sriram/CS-M226-Project/data/\"\n",
    "# genotype_prefix = \"combined_final_no_dup_chr22\"\n",
    "\n",
    "genotype_prefix = \"chr22_filtered/combined_final_no_dup_chr22\"\n",
    "# genotype_prefix = \"sample_data/1000G_eur_chr22\"\n",
    "\n",
    "path_to_SNPList = data_folder+genotype_prefix+\".map\"\n",
    "path_to_geneList = data_folder+\"gene_list.txt\"\n",
    "path_to_selected_geneList = data_folder+f\"gene_list_chr{chr_selected}.txt\"\n",
    "file_to_annotationDF=data_folder+f\"AnnotationDF_chr{chr_selected}.txt\""
   ]
  },
  {
   "cell_type": "code",
   "execution_count": 4,
   "metadata": {},
   "outputs": [],
   "source": [
    "geneList_DF = pd.read_csv(path_to_geneList, sep='\\t', header=None)\n",
    "geneList_DF.columns = [\"Chromosome\", \"Start\", \"End\", \"GeneID\"]\n",
    "selected_geneList_DF = geneList_DF[geneList_DF.Chromosome == chr_selected]\n",
    "\n",
    "selected_geneList_DF.to_csv(path_to_selected_geneList, sep='\\t', header=False, index=None)"
   ]
  },
  {
   "cell_type": "code",
   "execution_count": 5,
   "metadata": {},
   "outputs": [
    {
     "data": {
      "text/html": [
       "<div>\n",
       "<style scoped>\n",
       "    .dataframe tbody tr th:only-of-type {\n",
       "        vertical-align: middle;\n",
       "    }\n",
       "\n",
       "    .dataframe tbody tr th {\n",
       "        vertical-align: top;\n",
       "    }\n",
       "\n",
       "    .dataframe thead th {\n",
       "        text-align: right;\n",
       "    }\n",
       "</style>\n",
       "<table border=\"1\" class=\"dataframe\">\n",
       "  <thead>\n",
       "    <tr style=\"text-align: right;\">\n",
       "      <th></th>\n",
       "      <th>Chromosome</th>\n",
       "      <th>Start</th>\n",
       "      <th>End</th>\n",
       "      <th>GeneID</th>\n",
       "    </tr>\n",
       "  </thead>\n",
       "  <tbody>\n",
       "    <tr>\n",
       "      <th>8</th>\n",
       "      <td>22</td>\n",
       "      <td>42692120</td>\n",
       "      <td>42720870</td>\n",
       "      <td>A4GALT</td>\n",
       "    </tr>\n",
       "    <tr>\n",
       "      <th>170</th>\n",
       "      <td>22</td>\n",
       "      <td>41469124</td>\n",
       "      <td>41528989</td>\n",
       "      <td>ACO2</td>\n",
       "    </tr>\n",
       "    <tr>\n",
       "      <th>191</th>\n",
       "      <td>22</td>\n",
       "      <td>50738223</td>\n",
       "      <td>50745299</td>\n",
       "      <td>ACR</td>\n",
       "    </tr>\n",
       "    <tr>\n",
       "      <th>367</th>\n",
       "      <td>22</td>\n",
       "      <td>50481555</td>\n",
       "      <td>50486437</td>\n",
       "      <td>ADM2</td>\n",
       "    </tr>\n",
       "    <tr>\n",
       "      <th>373</th>\n",
       "      <td>22</td>\n",
       "      <td>24423596</td>\n",
       "      <td>24442361</td>\n",
       "      <td>ADORA2A</td>\n",
       "    </tr>\n",
       "    <tr>\n",
       "      <th>...</th>\n",
       "      <td>...</td>\n",
       "      <td>...</td>\n",
       "      <td>...</td>\n",
       "      <td>...</td>\n",
       "    </tr>\n",
       "    <tr>\n",
       "      <th>26450</th>\n",
       "      <td>22</td>\n",
       "      <td>20394114</td>\n",
       "      <td>20408463</td>\n",
       "      <td>ZNF74</td>\n",
       "    </tr>\n",
       "    <tr>\n",
       "      <th>26559</th>\n",
       "      <td>22</td>\n",
       "      <td>22513735</td>\n",
       "      <td>22520281</td>\n",
       "      <td>ZNF280A</td>\n",
       "    </tr>\n",
       "    <tr>\n",
       "      <th>26560</th>\n",
       "      <td>22</td>\n",
       "      <td>22484425</td>\n",
       "      <td>22509187</td>\n",
       "      <td>ZNF280B</td>\n",
       "    </tr>\n",
       "    <tr>\n",
       "      <th>26973</th>\n",
       "      <td>22</td>\n",
       "      <td>28883766</td>\n",
       "      <td>29057488</td>\n",
       "      <td>ZNRF3</td>\n",
       "    </tr>\n",
       "    <tr>\n",
       "      <th>26974</th>\n",
       "      <td>22</td>\n",
       "      <td>29024998</td>\n",
       "      <td>29031476</td>\n",
       "      <td>ZNRF3-AS1</td>\n",
       "    </tr>\n",
       "  </tbody>\n",
       "</table>\n",
       "<p>594 rows × 4 columns</p>\n",
       "</div>"
      ],
      "text/plain": [
       "      Chromosome     Start       End     GeneID\n",
       "8             22  42692120  42720870     A4GALT\n",
       "170           22  41469124  41528989       ACO2\n",
       "191           22  50738223  50745299        ACR\n",
       "367           22  50481555  50486437       ADM2\n",
       "373           22  24423596  24442361    ADORA2A\n",
       "...          ...       ...       ...        ...\n",
       "26450         22  20394114  20408463      ZNF74\n",
       "26559         22  22513735  22520281    ZNF280A\n",
       "26560         22  22484425  22509187    ZNF280B\n",
       "26973         22  28883766  29057488      ZNRF3\n",
       "26974         22  29024998  29031476  ZNRF3-AS1\n",
       "\n",
       "[594 rows x 4 columns]"
      ]
     },
     "execution_count": 5,
     "metadata": {},
     "output_type": "execute_result"
    }
   ],
   "source": [
    "selected_geneList_DF"
   ]
  },
  {
   "cell_type": "code",
   "execution_count": 7,
   "metadata": {},
   "outputs": [],
   "source": [
    "path_to_filtered_geneList = data_folder+\"/filtered_gene_list.txt\"\n",
    "filtered_geneList_DF = selected_geneList_DF\n",
    "filtered_geneList_DF\n",
    "filtered_geneList_DF.to_csv(path_to_filtered_geneList, header=None, index=False, sep='\\t')"
   ]
  },
  {
   "cell_type": "code",
   "execution_count": 6,
   "metadata": {},
   "outputs": [
    {
     "name": "stdout",
     "output_type": "stream",
     "text": [
      "You have chosen to annotate SNP-sets without intergenic regions and with a buffer of 500bp\n",
      "Annotating SNP-sets with the corresponding SNPs\n"
     ]
    },
    {
     "name": "stderr",
     "output_type": "stream",
     "text": [
      "100% 2576/2576 [00:01<00:00, 1385.63it/s]\n"
     ]
    },
    {
     "name": "stdout",
     "output_type": "stream",
     "text": [
      "Dropping SNP-sets that are singletons (containing only one SNP) and re-annotating SNPs without them\n",
      "Annotating SNP-sets with the corresponding SNPs\n"
     ]
    },
    {
     "name": "stderr",
     "output_type": "stream",
     "text": [
      "100% 2576/2576 [00:01<00:00, 1407.49it/s]"
     ]
    },
    {
     "name": "stdout",
     "output_type": "stream",
     "text": [
      "Saving annotation results to file /u/home/z/zhengton/project-sriram/CS-M226-Project/data/AnnotationDF_chr22.txt\n",
      "                GeneID Chromosome       Start         End  \\\n",
      "0               CCT8L2         22  16590757.0  16592810.0   \n",
      "1               TPTEP1         22  16601910.0  16648830.0   \n",
      "2    ANKRD62P1-PARP4P3         22  16653708.0  16675540.0   \n",
      "3                 GAB4         22  16961935.0  17008222.0   \n",
      "4                CECR7         22  17036569.0  17058792.0   \n",
      "..                 ...        ...         ...         ...   \n",
      "406               ARSA         22  50622753.0  50628173.0   \n",
      "407             SHANK3         22  50674641.0  50733212.0   \n",
      "408                ACR         22  50738223.0  50745299.0   \n",
      "409          RPL23AP82         22  50757085.0  50799637.0   \n",
      "410             RABL2B         22  50767491.0  50783659.0   \n",
      "\n",
      "                                              SNPindex  \\\n",
      "0                                                  [0]   \n",
      "1                                                  [1]   \n",
      "2                                                  [2]   \n",
      "3                                   [3, 4, 5, 6, 7, 8]   \n",
      "4                                              [9, 10]   \n",
      "..                                                 ...   \n",
      "406                                             [2558]   \n",
      "407  [2559, 2560, 2561, 2562, 2563, 2564, 2565, 256...   \n",
      "408                                 [2568, 2569, 2570]   \n",
      "409                     [2571, 2572, 2573, 2574, 2575]   \n",
      "410                                             [2571]   \n",
      "\n",
      "                                             VariantID  \n",
      "0                                        [rs201574129]  \n",
      "1                                          [rs2078654]  \n",
      "2                                        [rs201328411]  \n",
      "3    [rs5746425, rs190147045, rs537561555, rs200099...  \n",
      "4                             [rs139936342, rs5747939]  \n",
      "..                                                 ...  \n",
      "406                                        [rs4838860]  \n",
      "407  [rs5771282, rs1076649, rs2272855, rs13053868, ...  \n",
      "408               [rs28533833, rs73891214, rs28645770]  \n",
      "409  [rs141476490, rs62241245, rs368487204, rs74509...  \n",
      "410                                      [rs141476490]  \n",
      "\n",
      "[411 rows x 6 columns]\n"
     ]
    },
    {
     "name": "stderr",
     "output_type": "stream",
     "text": [
      "\n"
     ]
    }
   ],
   "source": [
    "annotationDF=annotate(path_to_SNPList, path_to_selected_geneList, outputFile=file_to_annotationDF, \n",
    "                      intergenic=False, buffer=500, dropSingletons=True)\n",
    "\n",
    "print(annotationDF)"
   ]
  },
  {
   "cell_type": "code",
   "execution_count": null,
   "metadata": {
    "collapsed": true
   },
   "outputs": [],
   "source": [
    "# annotationDF = pd.read_csv(file_to_annotationDF, index_col=0, sep='\\t')\n",
    "# selected_annotationDF = annotationDF[annotationDF.Chromosome == int(chr_selected)]\n",
    "# selected_annotationDF.SNPindex = selected_annotationDF.SNPindex.apply(lambda x: np.array(ast.literal_eval(x)) - selected_SNPList_DF.index[0])\n",
    "# selected_annotationDF.VariantID = selected_annotationDF.VariantID.apply(lambda x: ast.literal_eval(x))\n",
    "# selected_annotationDF = selected_annotationDF.reset_index().drop(columns=['index'])\n",
    "\n",
    "# selected_SNPList_DF = selected_SNPList_DF.reset_index().drop(columns=['index'])"
   ]
  },
  {
   "cell_type": "code",
   "execution_count": 7,
   "metadata": {},
   "outputs": [
    {
     "name": "stdout",
     "output_type": "stream",
     "text": [
      "creating mask\n"
     ]
    },
    {
     "name": "stderr",
     "output_type": "stream",
     "text": [
      "100% 411/411 [00:00<00:00, 8080.83it/s]\n"
     ]
    },
    {
     "name": "stdout",
     "output_type": "stream",
     "text": [
      "Saving annotation mask to file /u/home/z/zhengton/project-sriram/CS-M226-Project/data/chr22_Mask.txt in tab-delimited format\n",
      "[[1. 0. 0. ... 0. 0. 0.]\n",
      " [0. 1. 0. ... 0. 0. 0.]\n",
      " [0. 0. 1. ... 0. 0. 0.]\n",
      " ...\n",
      " [0. 0. 0. ... 0. 1. 0.]\n",
      " [0. 0. 0. ... 0. 1. 0.]\n",
      " [0. 0. 0. ... 0. 1. 0.]]\n"
     ]
    }
   ],
   "source": [
    "mask_outputFile=data_folder+f\"chr{chr_selected}_Mask.txt\"\n",
    "mask = getMaskMatrix(path_to_SNPList, annotationDF, mask_outputFile)\n",
    "print(mask)"
   ]
  },
  {
   "cell_type": "markdown",
   "metadata": {},
   "source": [
    "### Load Genotype"
   ]
  },
  {
   "cell_type": "code",
   "execution_count": 8,
   "metadata": {},
   "outputs": [
    {
     "name": "stderr",
     "output_type": "stream",
     "text": [
      "Mapping files: 100% 3/3 [00:00<00:00, 34.27it/s]\n"
     ]
    }
   ],
   "source": [
    "bfile=data_folder+genotype_prefix\n",
    "\n",
    "bed = bfile+'.bed'\n",
    "fam = bfile+'.fam'\n",
    "bim = bfile+'.bim'\n",
    "\n",
    "G = read_plink1_bin(bed, bim, fam, verbose=True)"
   ]
  },
  {
   "cell_type": "code",
   "execution_count": 9,
   "metadata": {},
   "outputs": [
    {
     "data": {
      "text/html": [
       "<div><svg style=\"position: absolute; width: 0; height: 0; overflow: hidden\">\n",
       "<defs>\n",
       "<symbol id=\"icon-database\" viewBox=\"0 0 32 32\">\n",
       "<path d=\"M16 0c-8.837 0-16 2.239-16 5v4c0 2.761 7.163 5 16 5s16-2.239 16-5v-4c0-2.761-7.163-5-16-5z\"></path>\n",
       "<path d=\"M16 17c-8.837 0-16-2.239-16-5v6c0 2.761 7.163 5 16 5s16-2.239 16-5v-6c0 2.761-7.163 5-16 5z\"></path>\n",
       "<path d=\"M16 26c-8.837 0-16-2.239-16-5v6c0 2.761 7.163 5 16 5s16-2.239 16-5v-6c0 2.761-7.163 5-16 5z\"></path>\n",
       "</symbol>\n",
       "<symbol id=\"icon-file-text2\" viewBox=\"0 0 32 32\">\n",
       "<path d=\"M28.681 7.159c-0.694-0.947-1.662-2.053-2.724-3.116s-2.169-2.030-3.116-2.724c-1.612-1.182-2.393-1.319-2.841-1.319h-15.5c-1.378 0-2.5 1.121-2.5 2.5v27c0 1.378 1.122 2.5 2.5 2.5h23c1.378 0 2.5-1.122 2.5-2.5v-19.5c0-0.448-0.137-1.23-1.319-2.841zM24.543 5.457c0.959 0.959 1.712 1.825 2.268 2.543h-4.811v-4.811c0.718 0.556 1.584 1.309 2.543 2.268zM28 29.5c0 0.271-0.229 0.5-0.5 0.5h-23c-0.271 0-0.5-0.229-0.5-0.5v-27c0-0.271 0.229-0.5 0.5-0.5 0 0 15.499-0 15.5 0v7c0 0.552 0.448 1 1 1h7v19.5z\"></path>\n",
       "<path d=\"M23 26h-14c-0.552 0-1-0.448-1-1s0.448-1 1-1h14c0.552 0 1 0.448 1 1s-0.448 1-1 1z\"></path>\n",
       "<path d=\"M23 22h-14c-0.552 0-1-0.448-1-1s0.448-1 1-1h14c0.552 0 1 0.448 1 1s-0.448 1-1 1z\"></path>\n",
       "<path d=\"M23 18h-14c-0.552 0-1-0.448-1-1s0.448-1 1-1h14c0.552 0 1 0.448 1 1s-0.448 1-1 1z\"></path>\n",
       "</symbol>\n",
       "</defs>\n",
       "</svg>\n",
       "<style>/* CSS stylesheet for displaying xarray objects in jupyterlab.\n",
       " *\n",
       " */\n",
       "\n",
       ":root {\n",
       "  --xr-font-color0: var(--jp-content-font-color0, rgba(0, 0, 0, 1));\n",
       "  --xr-font-color2: var(--jp-content-font-color2, rgba(0, 0, 0, 0.54));\n",
       "  --xr-font-color3: var(--jp-content-font-color3, rgba(0, 0, 0, 0.38));\n",
       "  --xr-border-color: var(--jp-border-color2, #e0e0e0);\n",
       "  --xr-disabled-color: var(--jp-layout-color3, #bdbdbd);\n",
       "  --xr-background-color: var(--jp-layout-color0, white);\n",
       "  --xr-background-color-row-even: var(--jp-layout-color1, white);\n",
       "  --xr-background-color-row-odd: var(--jp-layout-color2, #eeeeee);\n",
       "}\n",
       "\n",
       "html[theme=dark],\n",
       "body.vscode-dark {\n",
       "  --xr-font-color0: rgba(255, 255, 255, 1);\n",
       "  --xr-font-color2: rgba(255, 255, 255, 0.54);\n",
       "  --xr-font-color3: rgba(255, 255, 255, 0.38);\n",
       "  --xr-border-color: #1F1F1F;\n",
       "  --xr-disabled-color: #515151;\n",
       "  --xr-background-color: #111111;\n",
       "  --xr-background-color-row-even: #111111;\n",
       "  --xr-background-color-row-odd: #313131;\n",
       "}\n",
       "\n",
       ".xr-wrap {\n",
       "  display: block;\n",
       "  min-width: 300px;\n",
       "  max-width: 700px;\n",
       "}\n",
       "\n",
       ".xr-text-repr-fallback {\n",
       "  /* fallback to plain text repr when CSS is not injected (untrusted notebook) */\n",
       "  display: none;\n",
       "}\n",
       "\n",
       ".xr-header {\n",
       "  padding-top: 6px;\n",
       "  padding-bottom: 6px;\n",
       "  margin-bottom: 4px;\n",
       "  border-bottom: solid 1px var(--xr-border-color);\n",
       "}\n",
       "\n",
       ".xr-header > div,\n",
       ".xr-header > ul {\n",
       "  display: inline;\n",
       "  margin-top: 0;\n",
       "  margin-bottom: 0;\n",
       "}\n",
       "\n",
       ".xr-obj-type,\n",
       ".xr-array-name {\n",
       "  margin-left: 2px;\n",
       "  margin-right: 10px;\n",
       "}\n",
       "\n",
       ".xr-obj-type {\n",
       "  color: var(--xr-font-color2);\n",
       "}\n",
       "\n",
       ".xr-sections {\n",
       "  padding-left: 0 !important;\n",
       "  display: grid;\n",
       "  grid-template-columns: 150px auto auto 1fr 20px 20px;\n",
       "}\n",
       "\n",
       ".xr-section-item {\n",
       "  display: contents;\n",
       "}\n",
       "\n",
       ".xr-section-item input {\n",
       "  display: none;\n",
       "}\n",
       "\n",
       ".xr-section-item input + label {\n",
       "  color: var(--xr-disabled-color);\n",
       "}\n",
       "\n",
       ".xr-section-item input:enabled + label {\n",
       "  cursor: pointer;\n",
       "  color: var(--xr-font-color2);\n",
       "}\n",
       "\n",
       ".xr-section-item input:enabled + label:hover {\n",
       "  color: var(--xr-font-color0);\n",
       "}\n",
       "\n",
       ".xr-section-summary {\n",
       "  grid-column: 1;\n",
       "  color: var(--xr-font-color2);\n",
       "  font-weight: 500;\n",
       "}\n",
       "\n",
       ".xr-section-summary > span {\n",
       "  display: inline-block;\n",
       "  padding-left: 0.5em;\n",
       "}\n",
       "\n",
       ".xr-section-summary-in:disabled + label {\n",
       "  color: var(--xr-font-color2);\n",
       "}\n",
       "\n",
       ".xr-section-summary-in + label:before {\n",
       "  display: inline-block;\n",
       "  content: '►';\n",
       "  font-size: 11px;\n",
       "  width: 15px;\n",
       "  text-align: center;\n",
       "}\n",
       "\n",
       ".xr-section-summary-in:disabled + label:before {\n",
       "  color: var(--xr-disabled-color);\n",
       "}\n",
       "\n",
       ".xr-section-summary-in:checked + label:before {\n",
       "  content: '▼';\n",
       "}\n",
       "\n",
       ".xr-section-summary-in:checked + label > span {\n",
       "  display: none;\n",
       "}\n",
       "\n",
       ".xr-section-summary,\n",
       ".xr-section-inline-details {\n",
       "  padding-top: 4px;\n",
       "  padding-bottom: 4px;\n",
       "}\n",
       "\n",
       ".xr-section-inline-details {\n",
       "  grid-column: 2 / -1;\n",
       "}\n",
       "\n",
       ".xr-section-details {\n",
       "  display: none;\n",
       "  grid-column: 1 / -1;\n",
       "  margin-bottom: 5px;\n",
       "}\n",
       "\n",
       ".xr-section-summary-in:checked ~ .xr-section-details {\n",
       "  display: contents;\n",
       "}\n",
       "\n",
       ".xr-array-wrap {\n",
       "  grid-column: 1 / -1;\n",
       "  display: grid;\n",
       "  grid-template-columns: 20px auto;\n",
       "}\n",
       "\n",
       ".xr-array-wrap > label {\n",
       "  grid-column: 1;\n",
       "  vertical-align: top;\n",
       "}\n",
       "\n",
       ".xr-preview {\n",
       "  color: var(--xr-font-color3);\n",
       "}\n",
       "\n",
       ".xr-array-preview,\n",
       ".xr-array-data {\n",
       "  padding: 0 5px !important;\n",
       "  grid-column: 2;\n",
       "}\n",
       "\n",
       ".xr-array-data,\n",
       ".xr-array-in:checked ~ .xr-array-preview {\n",
       "  display: none;\n",
       "}\n",
       "\n",
       ".xr-array-in:checked ~ .xr-array-data,\n",
       ".xr-array-preview {\n",
       "  display: inline-block;\n",
       "}\n",
       "\n",
       ".xr-dim-list {\n",
       "  display: inline-block !important;\n",
       "  list-style: none;\n",
       "  padding: 0 !important;\n",
       "  margin: 0;\n",
       "}\n",
       "\n",
       ".xr-dim-list li {\n",
       "  display: inline-block;\n",
       "  padding: 0;\n",
       "  margin: 0;\n",
       "}\n",
       "\n",
       ".xr-dim-list:before {\n",
       "  content: '(';\n",
       "}\n",
       "\n",
       ".xr-dim-list:after {\n",
       "  content: ')';\n",
       "}\n",
       "\n",
       ".xr-dim-list li:not(:last-child):after {\n",
       "  content: ',';\n",
       "  padding-right: 5px;\n",
       "}\n",
       "\n",
       ".xr-has-index {\n",
       "  font-weight: bold;\n",
       "}\n",
       "\n",
       ".xr-var-list,\n",
       ".xr-var-item {\n",
       "  display: contents;\n",
       "}\n",
       "\n",
       ".xr-var-item > div,\n",
       ".xr-var-item label,\n",
       ".xr-var-item > .xr-var-name span {\n",
       "  background-color: var(--xr-background-color-row-even);\n",
       "  margin-bottom: 0;\n",
       "}\n",
       "\n",
       ".xr-var-item > .xr-var-name:hover span {\n",
       "  padding-right: 5px;\n",
       "}\n",
       "\n",
       ".xr-var-list > li:nth-child(odd) > div,\n",
       ".xr-var-list > li:nth-child(odd) > label,\n",
       ".xr-var-list > li:nth-child(odd) > .xr-var-name span {\n",
       "  background-color: var(--xr-background-color-row-odd);\n",
       "}\n",
       "\n",
       ".xr-var-name {\n",
       "  grid-column: 1;\n",
       "}\n",
       "\n",
       ".xr-var-dims {\n",
       "  grid-column: 2;\n",
       "}\n",
       "\n",
       ".xr-var-dtype {\n",
       "  grid-column: 3;\n",
       "  text-align: right;\n",
       "  color: var(--xr-font-color2);\n",
       "}\n",
       "\n",
       ".xr-var-preview {\n",
       "  grid-column: 4;\n",
       "}\n",
       "\n",
       ".xr-var-name,\n",
       ".xr-var-dims,\n",
       ".xr-var-dtype,\n",
       ".xr-preview,\n",
       ".xr-attrs dt {\n",
       "  white-space: nowrap;\n",
       "  overflow: hidden;\n",
       "  text-overflow: ellipsis;\n",
       "  padding-right: 10px;\n",
       "}\n",
       "\n",
       ".xr-var-name:hover,\n",
       ".xr-var-dims:hover,\n",
       ".xr-var-dtype:hover,\n",
       ".xr-attrs dt:hover {\n",
       "  overflow: visible;\n",
       "  width: auto;\n",
       "  z-index: 1;\n",
       "}\n",
       "\n",
       ".xr-var-attrs,\n",
       ".xr-var-data {\n",
       "  display: none;\n",
       "  background-color: var(--xr-background-color) !important;\n",
       "  padding-bottom: 5px !important;\n",
       "}\n",
       "\n",
       ".xr-var-attrs-in:checked ~ .xr-var-attrs,\n",
       ".xr-var-data-in:checked ~ .xr-var-data {\n",
       "  display: block;\n",
       "}\n",
       "\n",
       ".xr-var-data > table {\n",
       "  float: right;\n",
       "}\n",
       "\n",
       ".xr-var-name span,\n",
       ".xr-var-data,\n",
       ".xr-attrs {\n",
       "  padding-left: 25px !important;\n",
       "}\n",
       "\n",
       ".xr-attrs,\n",
       ".xr-var-attrs,\n",
       ".xr-var-data {\n",
       "  grid-column: 1 / -1;\n",
       "}\n",
       "\n",
       "dl.xr-attrs {\n",
       "  padding: 0;\n",
       "  margin: 0;\n",
       "  display: grid;\n",
       "  grid-template-columns: 125px auto;\n",
       "}\n",
       "\n",
       ".xr-attrs dt,\n",
       ".xr-attrs dd {\n",
       "  padding: 0;\n",
       "  margin: 0;\n",
       "  float: left;\n",
       "  padding-right: 10px;\n",
       "  width: auto;\n",
       "}\n",
       "\n",
       ".xr-attrs dt {\n",
       "  font-weight: normal;\n",
       "  grid-column: 1;\n",
       "}\n",
       "\n",
       ".xr-attrs dt:hover span {\n",
       "  display: inline-block;\n",
       "  background: var(--xr-background-color);\n",
       "  padding-right: 10px;\n",
       "}\n",
       "\n",
       ".xr-attrs dd {\n",
       "  grid-column: 2;\n",
       "  white-space: pre-wrap;\n",
       "  word-break: break-all;\n",
       "}\n",
       "\n",
       ".xr-icon-database,\n",
       ".xr-icon-file-text2 {\n",
       "  display: inline-block;\n",
       "  vertical-align: middle;\n",
       "  width: 1em;\n",
       "  height: 1.5em !important;\n",
       "  stroke-width: 0;\n",
       "  stroke: currentColor;\n",
       "  fill: currentColor;\n",
       "}\n",
       "</style><pre class='xr-text-repr-fallback'>&lt;xarray.DataArray &#x27;genotype&#x27; (sample: 2504, variant: 2576)&gt;\n",
       "dask.array&lt;transpose, shape=(2504, 2576), dtype=float32, chunksize=(1024, 1024), chunktype=numpy.ndarray&gt;\n",
       "Coordinates:\n",
       "  * sample   (sample) object &#x27;HG00096&#x27; &#x27;HG00097&#x27; ... &#x27;NA21143&#x27; &#x27;NA21144&#x27;\n",
       "  * variant  (variant) &lt;U11 &#x27;variant0&#x27; &#x27;variant1&#x27; ... &#x27;variant2575&#x27;\n",
       "    fid      (sample) object &#x27;HG00096&#x27; &#x27;HG00097&#x27; ... &#x27;NA21143&#x27; &#x27;NA21144&#x27;\n",
       "    iid      (sample) object &#x27;HG00096&#x27; &#x27;HG00097&#x27; ... &#x27;NA21143&#x27; &#x27;NA21144&#x27;\n",
       "    father   (sample) object &#x27;0&#x27; &#x27;0&#x27; &#x27;0&#x27; &#x27;0&#x27; &#x27;0&#x27; &#x27;0&#x27; ... &#x27;0&#x27; &#x27;0&#x27; &#x27;0&#x27; &#x27;0&#x27; &#x27;0&#x27; &#x27;0&#x27;\n",
       "    mother   (sample) object &#x27;0&#x27; &#x27;0&#x27; &#x27;0&#x27; &#x27;0&#x27; &#x27;0&#x27; &#x27;0&#x27; ... &#x27;0&#x27; &#x27;0&#x27; &#x27;0&#x27; &#x27;0&#x27; &#x27;0&#x27; &#x27;0&#x27;\n",
       "    gender   (sample) object &#x27;0&#x27; &#x27;0&#x27; &#x27;0&#x27; &#x27;0&#x27; &#x27;0&#x27; &#x27;0&#x27; ... &#x27;0&#x27; &#x27;0&#x27; &#x27;0&#x27; &#x27;0&#x27; &#x27;0&#x27; &#x27;0&#x27;\n",
       "    trait    (sample) object &#x27;-9&#x27; &#x27;-9&#x27; &#x27;-9&#x27; &#x27;-9&#x27; &#x27;-9&#x27; ... &#x27;-9&#x27; &#x27;-9&#x27; &#x27;-9&#x27; &#x27;-9&#x27;\n",
       "    chrom    (variant) object &#x27;22&#x27; &#x27;22&#x27; &#x27;22&#x27; &#x27;22&#x27; &#x27;22&#x27; ... &#x27;22&#x27; &#x27;22&#x27; &#x27;22&#x27; &#x27;22&#x27;\n",
       "    snp      (variant) object &#x27;rs201574129&#x27; &#x27;rs2078654&#x27; ... &#x27;rs28852528&#x27;\n",
       "    cm       (variant) float64 0.0 0.0 0.0 0.0 0.0 0.0 ... 0.0 0.0 0.0 0.0 0.0\n",
       "    pos      (variant) int32 16591627 16636637 16673521 ... 50789720 50791182\n",
       "    a0       (variant) object &#x27;T&#x27; &#x27;C&#x27; &#x27;C&#x27; &#x27;A&#x27; &#x27;G&#x27; &#x27;G&#x27; ... &#x27;G&#x27; &#x27;C&#x27; &#x27;T&#x27; &#x27;T&#x27; &#x27;A&#x27;\n",
       "    a1       (variant) object &#x27;A&#x27; &#x27;T&#x27; &#x27;T&#x27; &#x27;G&#x27; &#x27;A&#x27; &#x27;T&#x27; ... &#x27;C&#x27; &#x27;T&#x27; &#x27;C&#x27; &#x27;C&#x27; &#x27;C&#x27;</pre><div class='xr-wrap' hidden><div class='xr-header'><div class='xr-obj-type'>xarray.DataArray</div><div class='xr-array-name'>'genotype'</div><ul class='xr-dim-list'><li><span class='xr-has-index'>sample</span>: 2504</li><li><span class='xr-has-index'>variant</span>: 2576</li></ul></div><ul class='xr-sections'><li class='xr-section-item'><div class='xr-array-wrap'><input id='section-73382546-0a77-4dd8-8950-12e4b0610878' class='xr-array-in' type='checkbox' checked><label for='section-73382546-0a77-4dd8-8950-12e4b0610878' title='Show/hide data repr'><svg class='icon xr-icon-database'><use xlink:href='#icon-database'></use></svg></label><div class='xr-array-preview xr-preview'><span>dask.array&lt;chunksize=(1024, 1024), meta=np.ndarray&gt;</span></div><div class='xr-array-data'><table>\n",
       "    <tr>\n",
       "        <td>\n",
       "            <table>\n",
       "                <thead>\n",
       "                    <tr>\n",
       "                        <td> </td>\n",
       "                        <th> Array </th>\n",
       "                        <th> Chunk </th>\n",
       "                    </tr>\n",
       "                </thead>\n",
       "                <tbody>\n",
       "                    \n",
       "                    <tr>\n",
       "                        <th> Bytes </th>\n",
       "                        <td> 24.61 MiB </td>\n",
       "                        <td> 4.00 MiB </td>\n",
       "                    </tr>\n",
       "                    \n",
       "                    <tr>\n",
       "                        <th> Shape </th>\n",
       "                        <td> (2504, 2576) </td>\n",
       "                        <td> (1024, 1024) </td>\n",
       "                    </tr>\n",
       "                    <tr>\n",
       "                        <th> Count </th>\n",
       "                        <td> 45 Tasks </td>\n",
       "                        <td> 9 Chunks </td>\n",
       "                    </tr>\n",
       "                    <tr>\n",
       "                    <th> Type </th>\n",
       "                    <td> float32 </td>\n",
       "                    <td> numpy.ndarray </td>\n",
       "                    </tr>\n",
       "                </tbody>\n",
       "            </table>\n",
       "        </td>\n",
       "        <td>\n",
       "        <svg width=\"170\" height=\"166\" style=\"stroke:rgb(0,0,0);stroke-width:1\" >\n",
       "\n",
       "  <!-- Horizontal lines -->\n",
       "  <line x1=\"0\" y1=\"0\" x2=\"120\" y2=\"0\" style=\"stroke-width:2\" />\n",
       "  <line x1=\"0\" y1=\"47\" x2=\"120\" y2=\"47\" />\n",
       "  <line x1=\"0\" y1=\"95\" x2=\"120\" y2=\"95\" />\n",
       "  <line x1=\"0\" y1=\"116\" x2=\"120\" y2=\"116\" style=\"stroke-width:2\" />\n",
       "\n",
       "  <!-- Vertical lines -->\n",
       "  <line x1=\"0\" y1=\"0\" x2=\"0\" y2=\"116\" style=\"stroke-width:2\" />\n",
       "  <line x1=\"47\" y1=\"0\" x2=\"47\" y2=\"116\" />\n",
       "  <line x1=\"95\" y1=\"0\" x2=\"95\" y2=\"116\" />\n",
       "  <line x1=\"120\" y1=\"0\" x2=\"120\" y2=\"116\" style=\"stroke-width:2\" />\n",
       "\n",
       "  <!-- Colored Rectangle -->\n",
       "  <polygon points=\"0.0,0.0 120.0,0.0 120.0,116.64596273291926 0.0,116.64596273291926\" style=\"fill:#ECB172A0;stroke-width:0\"/>\n",
       "\n",
       "  <!-- Text -->\n",
       "  <text x=\"60.000000\" y=\"136.645963\" font-size=\"1.0rem\" font-weight=\"100\" text-anchor=\"middle\" >2576</text>\n",
       "  <text x=\"140.000000\" y=\"58.322981\" font-size=\"1.0rem\" font-weight=\"100\" text-anchor=\"middle\" transform=\"rotate(-90,140.000000,58.322981)\">2504</text>\n",
       "</svg>\n",
       "        </td>\n",
       "    </tr>\n",
       "</table></div></div></li><li class='xr-section-item'><input id='section-2d38da15-abc3-4cd9-8e96-38eb2ad94905' class='xr-section-summary-in' type='checkbox'  checked><label for='section-2d38da15-abc3-4cd9-8e96-38eb2ad94905' class='xr-section-summary' >Coordinates: <span>(14)</span></label><div class='xr-section-inline-details'></div><div class='xr-section-details'><ul class='xr-var-list'><li class='xr-var-item'><div class='xr-var-name'><span class='xr-has-index'>sample</span></div><div class='xr-var-dims'>(sample)</div><div class='xr-var-dtype'>object</div><div class='xr-var-preview xr-preview'>&#x27;HG00096&#x27; &#x27;HG00097&#x27; ... &#x27;NA21144&#x27;</div><input id='attrs-e03d925c-b51a-4d37-874e-2e180b2e3e92' class='xr-var-attrs-in' type='checkbox' disabled><label for='attrs-e03d925c-b51a-4d37-874e-2e180b2e3e92' title='Show/Hide attributes'><svg class='icon xr-icon-file-text2'><use xlink:href='#icon-file-text2'></use></svg></label><input id='data-38c1e77f-2cc5-4db0-afb6-836c11f1ca4e' class='xr-var-data-in' type='checkbox'><label for='data-38c1e77f-2cc5-4db0-afb6-836c11f1ca4e' title='Show/Hide data repr'><svg class='icon xr-icon-database'><use xlink:href='#icon-database'></use></svg></label><div class='xr-var-attrs'><dl class='xr-attrs'></dl></div><div class='xr-var-data'><pre>array([&#x27;HG00096&#x27;, &#x27;HG00097&#x27;, &#x27;HG00099&#x27;, ..., &#x27;NA21142&#x27;, &#x27;NA21143&#x27;, &#x27;NA21144&#x27;],\n",
       "      dtype=object)</pre></div></li><li class='xr-var-item'><div class='xr-var-name'><span class='xr-has-index'>variant</span></div><div class='xr-var-dims'>(variant)</div><div class='xr-var-dtype'>&lt;U11</div><div class='xr-var-preview xr-preview'>&#x27;variant0&#x27; ... &#x27;variant2575&#x27;</div><input id='attrs-87f7d380-6eb5-4a8d-a3ff-914e250a10f7' class='xr-var-attrs-in' type='checkbox' disabled><label for='attrs-87f7d380-6eb5-4a8d-a3ff-914e250a10f7' title='Show/Hide attributes'><svg class='icon xr-icon-file-text2'><use xlink:href='#icon-file-text2'></use></svg></label><input id='data-87d258bf-105e-4784-a23b-90eb6a1a19bb' class='xr-var-data-in' type='checkbox'><label for='data-87d258bf-105e-4784-a23b-90eb6a1a19bb' title='Show/Hide data repr'><svg class='icon xr-icon-database'><use xlink:href='#icon-database'></use></svg></label><div class='xr-var-attrs'><dl class='xr-attrs'></dl></div><div class='xr-var-data'><pre>array([&#x27;variant0&#x27;, &#x27;variant1&#x27;, &#x27;variant2&#x27;, ..., &#x27;variant2573&#x27;, &#x27;variant2574&#x27;,\n",
       "       &#x27;variant2575&#x27;], dtype=&#x27;&lt;U11&#x27;)</pre></div></li><li class='xr-var-item'><div class='xr-var-name'><span>fid</span></div><div class='xr-var-dims'>(sample)</div><div class='xr-var-dtype'>object</div><div class='xr-var-preview xr-preview'>&#x27;HG00096&#x27; &#x27;HG00097&#x27; ... &#x27;NA21144&#x27;</div><input id='attrs-d8448b39-cce6-4e5a-838f-9c08a4c2e6db' class='xr-var-attrs-in' type='checkbox' disabled><label for='attrs-d8448b39-cce6-4e5a-838f-9c08a4c2e6db' title='Show/Hide attributes'><svg class='icon xr-icon-file-text2'><use xlink:href='#icon-file-text2'></use></svg></label><input id='data-57085391-34af-4aac-b2d2-d0610baf3e0a' class='xr-var-data-in' type='checkbox'><label for='data-57085391-34af-4aac-b2d2-d0610baf3e0a' title='Show/Hide data repr'><svg class='icon xr-icon-database'><use xlink:href='#icon-database'></use></svg></label><div class='xr-var-attrs'><dl class='xr-attrs'></dl></div><div class='xr-var-data'><pre>array([&#x27;HG00096&#x27;, &#x27;HG00097&#x27;, &#x27;HG00099&#x27;, ..., &#x27;NA21142&#x27;, &#x27;NA21143&#x27;,\n",
       "       &#x27;NA21144&#x27;], dtype=object)</pre></div></li><li class='xr-var-item'><div class='xr-var-name'><span>iid</span></div><div class='xr-var-dims'>(sample)</div><div class='xr-var-dtype'>object</div><div class='xr-var-preview xr-preview'>&#x27;HG00096&#x27; &#x27;HG00097&#x27; ... &#x27;NA21144&#x27;</div><input id='attrs-f249466a-27d5-4bed-9475-57715d259961' class='xr-var-attrs-in' type='checkbox' disabled><label for='attrs-f249466a-27d5-4bed-9475-57715d259961' title='Show/Hide attributes'><svg class='icon xr-icon-file-text2'><use xlink:href='#icon-file-text2'></use></svg></label><input id='data-7d1fce35-aa4a-44c5-84c3-8ed145faa7c8' class='xr-var-data-in' type='checkbox'><label for='data-7d1fce35-aa4a-44c5-84c3-8ed145faa7c8' title='Show/Hide data repr'><svg class='icon xr-icon-database'><use xlink:href='#icon-database'></use></svg></label><div class='xr-var-attrs'><dl class='xr-attrs'></dl></div><div class='xr-var-data'><pre>array([&#x27;HG00096&#x27;, &#x27;HG00097&#x27;, &#x27;HG00099&#x27;, ..., &#x27;NA21142&#x27;, &#x27;NA21143&#x27;,\n",
       "       &#x27;NA21144&#x27;], dtype=object)</pre></div></li><li class='xr-var-item'><div class='xr-var-name'><span>father</span></div><div class='xr-var-dims'>(sample)</div><div class='xr-var-dtype'>object</div><div class='xr-var-preview xr-preview'>&#x27;0&#x27; &#x27;0&#x27; &#x27;0&#x27; &#x27;0&#x27; ... &#x27;0&#x27; &#x27;0&#x27; &#x27;0&#x27; &#x27;0&#x27;</div><input id='attrs-87c2700f-4f6d-451c-8f91-0af1db14ed41' class='xr-var-attrs-in' type='checkbox' disabled><label for='attrs-87c2700f-4f6d-451c-8f91-0af1db14ed41' title='Show/Hide attributes'><svg class='icon xr-icon-file-text2'><use xlink:href='#icon-file-text2'></use></svg></label><input id='data-36044db4-cc60-4d9a-a1ea-25d7c798150e' class='xr-var-data-in' type='checkbox'><label for='data-36044db4-cc60-4d9a-a1ea-25d7c798150e' title='Show/Hide data repr'><svg class='icon xr-icon-database'><use xlink:href='#icon-database'></use></svg></label><div class='xr-var-attrs'><dl class='xr-attrs'></dl></div><div class='xr-var-data'><pre>array([&#x27;0&#x27;, &#x27;0&#x27;, &#x27;0&#x27;, ..., &#x27;0&#x27;, &#x27;0&#x27;, &#x27;0&#x27;], dtype=object)</pre></div></li><li class='xr-var-item'><div class='xr-var-name'><span>mother</span></div><div class='xr-var-dims'>(sample)</div><div class='xr-var-dtype'>object</div><div class='xr-var-preview xr-preview'>&#x27;0&#x27; &#x27;0&#x27; &#x27;0&#x27; &#x27;0&#x27; ... &#x27;0&#x27; &#x27;0&#x27; &#x27;0&#x27; &#x27;0&#x27;</div><input id='attrs-5ab2af0c-2ff8-406d-9f93-7ff595dc1403' class='xr-var-attrs-in' type='checkbox' disabled><label for='attrs-5ab2af0c-2ff8-406d-9f93-7ff595dc1403' title='Show/Hide attributes'><svg class='icon xr-icon-file-text2'><use xlink:href='#icon-file-text2'></use></svg></label><input id='data-08422b79-3029-4470-807e-9d2dbbd2db84' class='xr-var-data-in' type='checkbox'><label for='data-08422b79-3029-4470-807e-9d2dbbd2db84' title='Show/Hide data repr'><svg class='icon xr-icon-database'><use xlink:href='#icon-database'></use></svg></label><div class='xr-var-attrs'><dl class='xr-attrs'></dl></div><div class='xr-var-data'><pre>array([&#x27;0&#x27;, &#x27;0&#x27;, &#x27;0&#x27;, ..., &#x27;0&#x27;, &#x27;0&#x27;, &#x27;0&#x27;], dtype=object)</pre></div></li><li class='xr-var-item'><div class='xr-var-name'><span>gender</span></div><div class='xr-var-dims'>(sample)</div><div class='xr-var-dtype'>object</div><div class='xr-var-preview xr-preview'>&#x27;0&#x27; &#x27;0&#x27; &#x27;0&#x27; &#x27;0&#x27; ... &#x27;0&#x27; &#x27;0&#x27; &#x27;0&#x27; &#x27;0&#x27;</div><input id='attrs-645ecc16-2cd8-4ba5-a1b9-e622d35f8ccb' class='xr-var-attrs-in' type='checkbox' disabled><label for='attrs-645ecc16-2cd8-4ba5-a1b9-e622d35f8ccb' title='Show/Hide attributes'><svg class='icon xr-icon-file-text2'><use xlink:href='#icon-file-text2'></use></svg></label><input id='data-b8867ec2-93bb-4990-ad59-c327178db57a' class='xr-var-data-in' type='checkbox'><label for='data-b8867ec2-93bb-4990-ad59-c327178db57a' title='Show/Hide data repr'><svg class='icon xr-icon-database'><use xlink:href='#icon-database'></use></svg></label><div class='xr-var-attrs'><dl class='xr-attrs'></dl></div><div class='xr-var-data'><pre>array([&#x27;0&#x27;, &#x27;0&#x27;, &#x27;0&#x27;, ..., &#x27;0&#x27;, &#x27;0&#x27;, &#x27;0&#x27;], dtype=object)</pre></div></li><li class='xr-var-item'><div class='xr-var-name'><span>trait</span></div><div class='xr-var-dims'>(sample)</div><div class='xr-var-dtype'>object</div><div class='xr-var-preview xr-preview'>&#x27;-9&#x27; &#x27;-9&#x27; &#x27;-9&#x27; ... &#x27;-9&#x27; &#x27;-9&#x27; &#x27;-9&#x27;</div><input id='attrs-9b69325c-3f83-4845-a509-49c5dde80131' class='xr-var-attrs-in' type='checkbox' disabled><label for='attrs-9b69325c-3f83-4845-a509-49c5dde80131' title='Show/Hide attributes'><svg class='icon xr-icon-file-text2'><use xlink:href='#icon-file-text2'></use></svg></label><input id='data-98c3ace3-0bf9-4d9b-81ab-042815d9aedc' class='xr-var-data-in' type='checkbox'><label for='data-98c3ace3-0bf9-4d9b-81ab-042815d9aedc' title='Show/Hide data repr'><svg class='icon xr-icon-database'><use xlink:href='#icon-database'></use></svg></label><div class='xr-var-attrs'><dl class='xr-attrs'></dl></div><div class='xr-var-data'><pre>array([&#x27;-9&#x27;, &#x27;-9&#x27;, &#x27;-9&#x27;, ..., &#x27;-9&#x27;, &#x27;-9&#x27;, &#x27;-9&#x27;], dtype=object)</pre></div></li><li class='xr-var-item'><div class='xr-var-name'><span>chrom</span></div><div class='xr-var-dims'>(variant)</div><div class='xr-var-dtype'>object</div><div class='xr-var-preview xr-preview'>&#x27;22&#x27; &#x27;22&#x27; &#x27;22&#x27; ... &#x27;22&#x27; &#x27;22&#x27; &#x27;22&#x27;</div><input id='attrs-84eb5f78-ec99-49ae-a6a1-cdceddd0664e' class='xr-var-attrs-in' type='checkbox' disabled><label for='attrs-84eb5f78-ec99-49ae-a6a1-cdceddd0664e' title='Show/Hide attributes'><svg class='icon xr-icon-file-text2'><use xlink:href='#icon-file-text2'></use></svg></label><input id='data-1cc0218d-6b1e-451c-b1bf-22fd31d54567' class='xr-var-data-in' type='checkbox'><label for='data-1cc0218d-6b1e-451c-b1bf-22fd31d54567' title='Show/Hide data repr'><svg class='icon xr-icon-database'><use xlink:href='#icon-database'></use></svg></label><div class='xr-var-attrs'><dl class='xr-attrs'></dl></div><div class='xr-var-data'><pre>array([&#x27;22&#x27;, &#x27;22&#x27;, &#x27;22&#x27;, ..., &#x27;22&#x27;, &#x27;22&#x27;, &#x27;22&#x27;], dtype=object)</pre></div></li><li class='xr-var-item'><div class='xr-var-name'><span>snp</span></div><div class='xr-var-dims'>(variant)</div><div class='xr-var-dtype'>object</div><div class='xr-var-preview xr-preview'>&#x27;rs201574129&#x27; ... &#x27;rs28852528&#x27;</div><input id='attrs-6016e2ac-5ba6-4f83-9fb5-8a9be3b029c7' class='xr-var-attrs-in' type='checkbox' disabled><label for='attrs-6016e2ac-5ba6-4f83-9fb5-8a9be3b029c7' title='Show/Hide attributes'><svg class='icon xr-icon-file-text2'><use xlink:href='#icon-file-text2'></use></svg></label><input id='data-97ced1c4-44a6-42e9-a1fd-2ebca8a6adbd' class='xr-var-data-in' type='checkbox'><label for='data-97ced1c4-44a6-42e9-a1fd-2ebca8a6adbd' title='Show/Hide data repr'><svg class='icon xr-icon-database'><use xlink:href='#icon-database'></use></svg></label><div class='xr-var-attrs'><dl class='xr-attrs'></dl></div><div class='xr-var-data'><pre>array([&#x27;rs201574129&#x27;, &#x27;rs2078654&#x27;, &#x27;rs201328411&#x27;, ..., &#x27;rs368487204&#x27;,\n",
       "       &#x27;rs74509399&#x27;, &#x27;rs28852528&#x27;], dtype=object)</pre></div></li><li class='xr-var-item'><div class='xr-var-name'><span>cm</span></div><div class='xr-var-dims'>(variant)</div><div class='xr-var-dtype'>float64</div><div class='xr-var-preview xr-preview'>0.0 0.0 0.0 0.0 ... 0.0 0.0 0.0 0.0</div><input id='attrs-403e34d6-497a-4bb9-a647-3baf74bd921b' class='xr-var-attrs-in' type='checkbox' disabled><label for='attrs-403e34d6-497a-4bb9-a647-3baf74bd921b' title='Show/Hide attributes'><svg class='icon xr-icon-file-text2'><use xlink:href='#icon-file-text2'></use></svg></label><input id='data-a8d4f51d-3b0f-47f2-8c7d-eb80c22cf172' class='xr-var-data-in' type='checkbox'><label for='data-a8d4f51d-3b0f-47f2-8c7d-eb80c22cf172' title='Show/Hide data repr'><svg class='icon xr-icon-database'><use xlink:href='#icon-database'></use></svg></label><div class='xr-var-attrs'><dl class='xr-attrs'></dl></div><div class='xr-var-data'><pre>array([0., 0., 0., ..., 0., 0., 0.])</pre></div></li><li class='xr-var-item'><div class='xr-var-name'><span>pos</span></div><div class='xr-var-dims'>(variant)</div><div class='xr-var-dtype'>int32</div><div class='xr-var-preview xr-preview'>16591627 16636637 ... 50791182</div><input id='attrs-9a422329-712a-409c-869c-59509a6115a2' class='xr-var-attrs-in' type='checkbox' disabled><label for='attrs-9a422329-712a-409c-869c-59509a6115a2' title='Show/Hide attributes'><svg class='icon xr-icon-file-text2'><use xlink:href='#icon-file-text2'></use></svg></label><input id='data-07de205b-5b41-4ba8-903d-438677eb2abe' class='xr-var-data-in' type='checkbox'><label for='data-07de205b-5b41-4ba8-903d-438677eb2abe' title='Show/Hide data repr'><svg class='icon xr-icon-database'><use xlink:href='#icon-database'></use></svg></label><div class='xr-var-attrs'><dl class='xr-attrs'></dl></div><div class='xr-var-data'><pre>array([16591627, 16636637, 16673521, ..., 50789491, 50789720, 50791182],\n",
       "      dtype=int32)</pre></div></li><li class='xr-var-item'><div class='xr-var-name'><span>a0</span></div><div class='xr-var-dims'>(variant)</div><div class='xr-var-dtype'>object</div><div class='xr-var-preview xr-preview'>&#x27;T&#x27; &#x27;C&#x27; &#x27;C&#x27; &#x27;A&#x27; ... &#x27;C&#x27; &#x27;T&#x27; &#x27;T&#x27; &#x27;A&#x27;</div><input id='attrs-712d905d-85ae-43f9-9bb2-20a432d18aeb' class='xr-var-attrs-in' type='checkbox' disabled><label for='attrs-712d905d-85ae-43f9-9bb2-20a432d18aeb' title='Show/Hide attributes'><svg class='icon xr-icon-file-text2'><use xlink:href='#icon-file-text2'></use></svg></label><input id='data-c2f33511-fc11-427c-ada0-ecb502219e58' class='xr-var-data-in' type='checkbox'><label for='data-c2f33511-fc11-427c-ada0-ecb502219e58' title='Show/Hide data repr'><svg class='icon xr-icon-database'><use xlink:href='#icon-database'></use></svg></label><div class='xr-var-attrs'><dl class='xr-attrs'></dl></div><div class='xr-var-data'><pre>array([&#x27;T&#x27;, &#x27;C&#x27;, &#x27;C&#x27;, ..., &#x27;T&#x27;, &#x27;T&#x27;, &#x27;A&#x27;], dtype=object)</pre></div></li><li class='xr-var-item'><div class='xr-var-name'><span>a1</span></div><div class='xr-var-dims'>(variant)</div><div class='xr-var-dtype'>object</div><div class='xr-var-preview xr-preview'>&#x27;A&#x27; &#x27;T&#x27; &#x27;T&#x27; &#x27;G&#x27; ... &#x27;T&#x27; &#x27;C&#x27; &#x27;C&#x27; &#x27;C&#x27;</div><input id='attrs-52ef4b50-d181-407b-9be6-74ed087d8580' class='xr-var-attrs-in' type='checkbox' disabled><label for='attrs-52ef4b50-d181-407b-9be6-74ed087d8580' title='Show/Hide attributes'><svg class='icon xr-icon-file-text2'><use xlink:href='#icon-file-text2'></use></svg></label><input id='data-84dd2a44-00f5-441a-810c-f7e5b7f01255' class='xr-var-data-in' type='checkbox'><label for='data-84dd2a44-00f5-441a-810c-f7e5b7f01255' title='Show/Hide data repr'><svg class='icon xr-icon-database'><use xlink:href='#icon-database'></use></svg></label><div class='xr-var-attrs'><dl class='xr-attrs'></dl></div><div class='xr-var-data'><pre>array([&#x27;A&#x27;, &#x27;T&#x27;, &#x27;T&#x27;, ..., &#x27;C&#x27;, &#x27;C&#x27;, &#x27;C&#x27;], dtype=object)</pre></div></li></ul></div></li><li class='xr-section-item'><input id='section-ffeff350-ed72-403f-95ba-977f8c96e708' class='xr-section-summary-in' type='checkbox' disabled ><label for='section-ffeff350-ed72-403f-95ba-977f8c96e708' class='xr-section-summary'  title='Expand/collapse section'>Attributes: <span>(0)</span></label><div class='xr-section-inline-details'></div><div class='xr-section-details'><dl class='xr-attrs'></dl></div></li></ul></div></div>"
      ],
      "text/plain": [
       "<xarray.DataArray 'genotype' (sample: 2504, variant: 2576)>\n",
       "dask.array<transpose, shape=(2504, 2576), dtype=float32, chunksize=(1024, 1024), chunktype=numpy.ndarray>\n",
       "Coordinates:\n",
       "  * sample   (sample) object 'HG00096' 'HG00097' ... 'NA21143' 'NA21144'\n",
       "  * variant  (variant) <U11 'variant0' 'variant1' ... 'variant2575'\n",
       "    fid      (sample) object 'HG00096' 'HG00097' ... 'NA21143' 'NA21144'\n",
       "    iid      (sample) object 'HG00096' 'HG00097' ... 'NA21143' 'NA21144'\n",
       "    father   (sample) object '0' '0' '0' '0' '0' '0' ... '0' '0' '0' '0' '0' '0'\n",
       "    mother   (sample) object '0' '0' '0' '0' '0' '0' ... '0' '0' '0' '0' '0' '0'\n",
       "    gender   (sample) object '0' '0' '0' '0' '0' '0' ... '0' '0' '0' '0' '0' '0'\n",
       "    trait    (sample) object '-9' '-9' '-9' '-9' '-9' ... '-9' '-9' '-9' '-9'\n",
       "    chrom    (variant) object '22' '22' '22' '22' '22' ... '22' '22' '22' '22'\n",
       "    snp      (variant) object 'rs201574129' 'rs2078654' ... 'rs28852528'\n",
       "    cm       (variant) float64 0.0 0.0 0.0 0.0 0.0 0.0 ... 0.0 0.0 0.0 0.0 0.0\n",
       "    pos      (variant) int32 16591627 16636637 16673521 ... 50789720 50791182\n",
       "    a0       (variant) object 'T' 'C' 'C' 'A' 'G' 'G' ... 'G' 'C' 'T' 'T' 'A'\n",
       "    a1       (variant) object 'A' 'T' 'T' 'G' 'A' 'T' ... 'C' 'T' 'C' 'C' 'C'"
      ]
     },
     "execution_count": 9,
     "metadata": {},
     "output_type": "execute_result"
    }
   ],
   "source": [
    "# sub_G = G.where(G.chrom == chr_selected, drop=True)\n",
    "# sub_G\n",
    "G"
   ]
  },
  {
   "cell_type": "code",
   "execution_count": 10,
   "metadata": {},
   "outputs": [
    {
     "name": "stdout",
     "output_type": "stream",
     "text": [
      "(2504, 2576)\n"
     ]
    }
   ],
   "source": [
    "X = G.values\n",
    "\n",
    "print(X.shape)\n",
    "N, p = X.shape"
   ]
  },
  {
   "cell_type": "markdown",
   "metadata": {},
   "source": [
    "### Subsample Genotype"
   ]
  },
  {
   "cell_type": "code",
   "execution_count": 11,
   "metadata": {},
   "outputs": [],
   "source": [
    "# p = 3000\n",
    "# nSNPs= p\n",
    "\n",
    "# subset_X = X[:, :p]\n",
    "# subset_mask = mask[:p, :]\n",
    "# subset_mask = subset_mask[:, subset_mask.any(0)]"
   ]
  },
  {
   "cell_type": "markdown",
   "metadata": {},
   "source": [
    "### Simulate Phenotypes"
   ]
  },
  {
   "cell_type": "code",
   "execution_count": 12,
   "metadata": {},
   "outputs": [
    {
     "name": "stdout",
     "output_type": "stream",
     "text": [
      "Shape of the phenotype array: (378, 1)\n"
     ]
    }
   ],
   "source": [
    "# ############### SIMULATING PHENOTYPES #################\n",
    "# Defining the parameters of the phenotype simulations:\n",
    "\n",
    "H2 = 0.6 #Broad-sense heritability, meaning 60% of phenotypic variation is explained by genotypic variation.\n",
    "rho= 1 #All of the heritability comes from additive effects\n",
    "causal_indices=np.arange(0,np.int32(0.01*p)) #Pick the first 1% of all SNPs to have non-zero effect sizes\n",
    "ncausal=len(causal_indices)\n",
    "\n",
    "# Simulate phenotype data based on additive effects:\n",
    "\n",
    "Xadditive=X[:, causal_indices] # Get the causal SNP values\n",
    "betaAdd= np.repeat(1, ncausal)# Initialize all effect sizes for these SNPs as \"1\"\n",
    "#Initialize the value of the portion of phenotypic variation explained by the additive effects as XB:\n",
    "y_additive=np.dot(Xadditive, betaAdd)\n",
    "# Re-scale additive effect sizes based on H^2*rho:\n",
    "betaAdd= betaAdd * np.sqrt(H2*rho/np.var(y_additive))\n",
    "# Update y_additive based on effect sizes:\n",
    "y_additive=np.dot(Xadditive, betaAdd) \n",
    "\n",
    "\n",
    "Xepi=[]\n",
    "for i in causal_indices:\n",
    "    for j in range(i+1, causal_indices[-1]+1):\n",
    "        Xepi.append(np.multiply(X[:, i], X[:, j]))\n",
    "Xepi=np.column_stack(Xepi) #Matrix that holds the values for \n",
    "# pairwise interactions between all causal SNPs.\n",
    "\n",
    "betaEpi= (np.array([1]*Xepi.shape[1])).reshape(-1,1) #Similar to the additive effects,\n",
    "# epistatic effect sizes are initialized as 1 and will be corrected below.\n",
    "y_epi= np.dot(Xepi, betaEpi)\n",
    "betaEpi= betaEpi* np.sqrt(H2*(1-rho)/np.var(y_epi))\n",
    "y_epi= np.dot(Xepi, betaEpi) # Final value for the portion of phenotypes explained by\n",
    "#the epistatic effects\n",
    "\n",
    "\n",
    "\n",
    "# Simulate random noise (drawn from standard normal distribution) for the rest of phenotypic variation (40%):\n",
    "y_noise = np.random.normal(size=N)\n",
    "y_noise = y_noise * np.sqrt((1 - H2) / np.var(y_noise))\n",
    "\n",
    "# Add y_additive and y_noise to get the final simulated phenotypes:\n",
    "y = np.add(y_additive.reshape(N, 1), y_noise.reshape(N, 1)) \n",
    "# y = np.add(y_additive.reshape(N, 1),y_epi.reshape(N, 1), y_noise.reshape(N, 1)) \n",
    "print(\"Shape of the phenotype array:\", y.shape)"
   ]
  },
  {
   "cell_type": "code",
   "execution_count": 60,
   "metadata": {},
   "outputs": [
    {
     "name": "stdout",
     "output_type": "stream",
     "text": [
      "> Reading BED file...\n",
      "> Generating polygenic scores...\n"
     ]
    }
   ],
   "source": [
    "# g_sim = mgp.GWASimulator(bed, pi=[0.9, 0.1], h2=0.6)\n",
    "# g_sim.simulate()"
   ]
  },
  {
   "cell_type": "code",
   "execution_count": 61,
   "metadata": {},
   "outputs": [],
   "source": [
    "# causal_indices = np.where(g_sim.get_causal_status()[22] == True)[0]\n",
    "# y = g_sim.to_phenotype_table()['phenotype'].values"
   ]
  },
  {
   "cell_type": "code",
   "execution_count": 13,
   "metadata": {},
   "outputs": [],
   "source": [
    "# np.savetxt(\"X.txt\", subset_X, delimiter=\" \")\n",
    "np.savetxt(\"y_linear.txt\", y, delimiter=\" \")"
   ]
  },
  {
   "cell_type": "code",
   "execution_count": 120,
   "metadata": {
    "collapsed": true
   },
   "outputs": [
    {
     "data": {
      "text/plain": [
       "(2504, 1)"
      ]
     },
     "execution_count": 120,
     "metadata": {},
     "output_type": "execute_result"
    }
   ],
   "source": [
    "# %%capture\n",
    "# !pip uninstall --y tensorflow\n",
    "# !pip install tensorflow"
   ]
  },
  {
   "cell_type": "code",
   "execution_count": null,
   "metadata": {},
   "outputs": [],
   "source": []
  },
  {
   "cell_type": "markdown",
   "metadata": {},
   "source": [
    "### Run BANNs (original version)"
   ]
  },
  {
   "cell_type": "code",
   "execution_count": 62,
   "metadata": {},
   "outputs": [],
   "source": [
    "# X = np.loadtxt(\"X.txt\")\n",
    "# y = np.loadtxt(\"y.txt\")\n",
    "mask = np.loadtxt(data_folder+f\"chr{chr_selected}_Mask.txt\")\n",
    "\n",
    "# p = 3000\n",
    "# subset_mask = mask[:p, :]\n",
    "# subset_mask = subset_mask[:, subset_mask.any(0)]"
   ]
  },
  {
   "cell_type": "code",
   "execution_count": 63,
   "metadata": {},
   "outputs": [
    {
     "name": "stdout",
     "output_type": "stream",
     "text": [
      "Welcome to BANNs. Please make sure SNPs in the SNP List you provide are in the same order as in the genotype matrix. Results we return will be in the order of SNP annotations and SNP-set annotations.\n",
      "(2504,)\n",
      "20/20 [==============================] - 437s 22s/step\n",
      "20/20 [==============================] - 437s 22s/step\n",
      "(2504, 20)\n",
      "(2504,)\n",
      "20/20 [==============================] - 2s 89ms/step\n",
      "20/20 [==============================] - 2s 93ms/step\n",
      "PVE\n",
      "0.39440537478090504\n",
      "0.35758068248033686\n"
     ]
    },
    {
     "data": {
      "image/png": "[encoded data removed]",
      "text/plain": [
       "<Figure size 432x288 with 1 Axes>"
      ]
     },
     "metadata": {
      "needs_background": "light"
     },
     "output_type": "display_data"
    },
    {
     "data": {
      "image/png": "[encoded data removed]",
      "text/plain": [
       "<Figure size 432x288 with 1 Axes>"
      ]
     },
     "metadata": {
      "needs_background": "light"
     },
     "output_type": "display_data"
    }
   ],
   "source": [
    "bann=BANNs(X,y, mask, nModelsSNP=20, nModelsSET=20)\n",
    "[SNP_layer, SET_layer]=bann.run(nonlinear_flag=False)\n",
    "print(\"PVE\")\n",
    "print(SNP_layer.pve)\n",
    "print(SET_layer.pve)\n",
    "\n",
    "SNPpips=SNP_layer.pip\n",
    "SETpips=SET_layer.pip\n",
    "\n",
    "plt.scatter(np.arange(len(SNPpips)), SNPpips)\n",
    "plt.show()\n",
    "\n",
    "plt.scatter(np.arange(len(SETpips)), SETpips)\n",
    "plt.show()"
   ]
  },
  {
   "cell_type": "code",
   "execution_count": 64,
   "metadata": {},
   "outputs": [
    {
     "data": {
      "text/plain": [
       "array([[1, 0],\n",
       "       [0, 1],\n",
       "       [1, 0],\n",
       "       ...,\n",
       "       [1, 0],\n",
       "       [1, 0],\n",
       "       [1, 0]])"
      ]
     },
     "execution_count": 64,
     "metadata": {},
     "output_type": "execute_result"
    }
   ],
   "source": [
    "num_snps = X.shape[1]\n",
    "\n",
    "y_true = np.zeros(num_snps, dtype=int)\n",
    "y_true[causal_indices] = 1\n",
    "y_true_one_hot = np.zeros((num_snps, 2), dtype=int)\n",
    "y_true_one_hot[np.arange(num_snps), y_true] = 1\n",
    "y_true_one_hot"
   ]
  },
  {
   "cell_type": "code",
   "execution_count": 78,
   "metadata": {},
   "outputs": [
    {
     "data": {
      "text/plain": [
       "array([[1, 0],\n",
       "       [1, 0],\n",
       "       [1, 0],\n",
       "       ...,\n",
       "       [1, 0],\n",
       "       [1, 0],\n",
       "       [1, 0]])"
      ]
     },
     "execution_count": 78,
     "metadata": {},
     "output_type": "execute_result"
    }
   ],
   "source": [
    "pip_threshold = 0.5\n",
    "y_bann = np.zeros(num_snps, dtype=int)\n",
    "y_bann[np.where(SNPpips >= pip_threshold)[0]] = 1\n",
    "\n",
    "y_bann_one_hot = np.zeros((num_snps, 2), dtype=int)\n",
    "y_bann_one_hot[np.arange(num_snps), y_bann] = 1\n",
    "y_bann_one_hot"
   ]
  },
  {
   "cell_type": "code",
   "execution_count": 89,
   "metadata": {},
   "outputs": [
    {
     "data": {
      "image/png": "[encoded data removed]",
      "text/plain": [
       "<Figure size 432x432 with 1 Axes>"
      ]
     },
     "metadata": {
      "needs_background": "light"
     },
     "output_type": "display_data"
    }
   ],
   "source": [
    "draw_roc_curve(y_true_one_hot, {\"BANN\": y_bann_one_hot})"
   ]
  },
  {
   "cell_type": "markdown",
   "metadata": {},
   "source": [
    "### Comparison with other methods"
   ]
  },
  {
   "cell_type": "markdown",
   "metadata": {},
   "source": [
    "#### Linear Regression"
   ]
  },
  {
   "cell_type": "code",
   "execution_count": 71,
   "metadata": {},
   "outputs": [
    {
     "name": "stdout",
     "output_type": "stream",
     "text": [
      "> Performing GWAS...\n"
     ]
    }
   ],
   "source": [
    "g_sim.perform_gwas()\n",
    "gwas_table = g_sim.to_summary_statistics_table()"
   ]
  },
  {
   "cell_type": "code",
   "execution_count": 75,
   "metadata": {},
   "outputs": [
    {
     "data": {
      "image/png": "[encoded data removed]",
      "text/plain": [
       "<Figure size 432x288 with 1 Axes>"
      ]
     },
     "metadata": {
      "needs_background": "light"
     },
     "output_type": "display_data"
    }
   ],
   "source": [
    "gwas_pval = gwas_table['PVAL'].values\n",
    "plt.scatter(np.arange(len(gwas_pval)), -np.log10(gwas_pval))\n",
    "plt.show()"
   ]
  },
  {
   "cell_type": "code",
   "execution_count": 97,
   "metadata": {},
   "outputs": [
    {
     "data": {
      "text/plain": [
       "array([[1, 0],\n",
       "       [1, 0],\n",
       "       [1, 0],\n",
       "       ...,\n",
       "       [0, 1],\n",
       "       [1, 0],\n",
       "       [0, 1]])"
      ]
     },
     "execution_count": 97,
     "metadata": {},
     "output_type": "execute_result"
    }
   ],
   "source": [
    "pval_threshold = 0.05/len(gwas_pval)\n",
    "\n",
    "y_gwas = np.zeros(num_snps, dtype=int)\n",
    "y_gwas[np.where(gwas_pval <= pval_threshold)[0]] = 1\n",
    "\n",
    "y_gwas_one_hot = np.zeros((num_snps, 2), dtype=int)\n",
    "y_gwas_one_hot[np.arange(num_snps), y_gwas] = 1\n",
    "y_gwas_one_hot"
   ]
  },
  {
   "cell_type": "code",
   "execution_count": 93,
   "metadata": {},
   "outputs": [
    {
     "data": {
      "image/png": "[encoded data removed]",
      "text/plain": [
       "<Figure size 432x432 with 1 Axes>"
      ]
     },
     "metadata": {
      "needs_background": "light"
     },
     "output_type": "display_data"
    }
   ],
   "source": [
    "draw_roc_curve(y_true_one_hot, {\"GWAS\": y_gwas_one_hot, \"BANN\": y_bann_one_hot})"
   ]
  },
  {
   "cell_type": "markdown",
   "metadata": {},
   "source": [
    "#### VIPRS"
   ]
  },
  {
   "cell_type": "code",
   "execution_count": 106,
   "metadata": {},
   "outputs": [
    {
     "data": {
      "text/plain": [
       "2504"
      ]
     },
     "execution_count": 106,
     "metadata": {},
     "output_type": "execute_result"
    }
   ],
   "source": [
    "g_sim.sample_size"
   ]
  },
  {
   "cell_type": "code",
   "execution_count": 149,
   "metadata": {},
   "outputs": [
    {
     "name": "stdout",
     "output_type": "stream",
     "text": [
      "> Computing LD matrix...\n",
      "Warning: Attribute 'cM' is not set!\n"
     ]
    }
   ],
   "source": [
    "g_sim.compute_ld('windowed',\n",
    "                        output_dir='temp',\n",
    "                         window_size=10)\n",
    "v = vp.VIPRS(g_sim)"
   ]
  },
  {
   "cell_type": "code",
   "execution_count": 150,
   "metadata": {},
   "outputs": [
    {
     "name": "stdout",
     "output_type": "stream",
     "text": [
      "> Initializing model parameters\n",
      "> Loading LD matrices into memory...\n",
      "> Performing model fit...\n",
      "> Using up to 1 threads.\n"
     ]
    },
    {
     "name": "stderr",
     "output_type": "stream",
     "text": [
      "  0% 1/1000 [00:00<00:27, 36.61it/s]\n"
     ]
    },
    {
     "ename": "OptimizationDivergence",
     "evalue": "Stopping at iteration 2: The optimization algorithm is not converging!\nPrevious ELBO: 1469029996875057.750000 | Current ELBO: 3239410264823669.000000",
     "output_type": "error",
     "traceback": [
      "\u001b[0;31m---------------------------------------------------------------------------\u001b[0m",
      "\u001b[0;31mOptimizationDivergence\u001b[0m                    Traceback (most recent call last)",
      "\u001b[0;32m/tmp/ipykernel_58457/2937400109.py\u001b[0m in \u001b[0;36m<module>\u001b[0;34m\u001b[0m\n\u001b[0;32m----> 1\u001b[0;31m \u001b[0mv\u001b[0m\u001b[0;34m.\u001b[0m\u001b[0mfit\u001b[0m\u001b[0;34m(\u001b[0m\u001b[0;34m)\u001b[0m\u001b[0;34m\u001b[0m\u001b[0;34m\u001b[0m\u001b[0m\n\u001b[0m",
      "\u001b[0;32mviprs/model/VIPRS.pyx\u001b[0m in \u001b[0;36mviprs.model.VIPRS.VIPRS.fit\u001b[0;34m()\u001b[0m\n",
      "\u001b[0;32mviprs/model/VIPRS.pyx\u001b[0m in \u001b[0;36mviprs.model.VIPRS.VIPRS.fit\u001b[0;34m()\u001b[0m\n",
      "\u001b[0;31mOptimizationDivergence\u001b[0m: Stopping at iteration 2: The optimization algorithm is not converging!\nPrevious ELBO: 1469029996875057.750000 | Current ELBO: 3239410264823669.000000"
     ]
    }
   ],
   "source": []
  },
  {
   "cell_type": "code",
   "execution_count": 136,
   "metadata": {},
   "outputs": [],
   "source": [
    "v.update_theta_history()"
   ]
  },
  {
   "cell_type": "code",
   "execution_count": 143,
   "metadata": {},
   "outputs": [
    {
     "data": {
      "text/plain": [
       "{22: array([2504., 2504., 2504., ..., 2504., 2504., 2504.])}"
      ]
     },
     "execution_count": 143,
     "metadata": {},
     "output_type": "execute_result"
    }
   ],
   "source": [
    "v.Nj"
   ]
  },
  {
   "cell_type": "markdown",
   "metadata": {},
   "source": [
    "### Run Kernel-BANNs"
   ]
  },
  {
   "cell_type": "code",
   "execution_count": 6,
   "metadata": {},
   "outputs": [
    {
     "name": "stdout",
     "output_type": "stream",
     "text": [
      "Welcome to BANNs. Please make sure SNPs in the SNP List you provide are in the same order as in the genotype matrix. Results we return will be in the order of SNP annotations and SNP-set annotations.\n",
      "(2504,)\n",
      "20/20 [==============================] - 209s 10s/step\n",
      "20/20 [==============================] - 208s 10s/step\n",
      "(2504, 43)\n",
      "(2504,)\n",
      "20/20 [==============================] - 2s 94ms/step\n",
      "20/20 [==============================] - 2s 113ms/step\n",
      "constructing kernelized features...\n",
      "43/43 [==============================] - 1s 28ms/step\n",
      "start optional layer: SET_nonlinear_layer...\n",
      "(2504,)\n",
      "20/20 [==============================] - 100s 5s/step\n",
      "20/20 [==============================] - 100s 5s/step\n",
      "PVE\n",
      "0.442262265269501\n",
      "0.38298571152736566\n",
      "0.02673606374195663\n"
     ]
    },
    {
     "data": {
      "image/png": "[encoded data removed]",
      "text/plain": [
       "<Figure size 432x288 with 1 Axes>"
      ]
     },
     "metadata": {
      "needs_background": "light"
     },
     "output_type": "display_data"
    },
    {
     "data": {
      "image/png": "[encoded data removed]",
      "text/plain": [
       "<Figure size 432x288 with 1 Axes>"
      ]
     },
     "metadata": {
      "needs_background": "light"
     },
     "output_type": "display_data"
    },
    {
     "data": {
      "image/png": "[encoded data removed]",
      "text/plain": [
       "<Figure size 432x288 with 1 Axes>"
      ]
     },
     "metadata": {
      "needs_background": "light"
     },
     "output_type": "display_data"
    }
   ],
   "source": [
    "bann=BANNs(X,y, subset_mask, nModelsSNP=20, nModelsSET=20, nModelsSET_nonlinear=20, epi_p = 0.1)\n",
    "[SNP_layer, SET_layer, SET_layer_nonlinear]=bann.run(nonlinear_flag=True)\n",
    "print(\"PVE\")\n",
    "print(SNP_layer.pve)\n",
    "print(SET_layer.pve)\n",
    "print(SET_layer_nonlinear.pve)\n",
    "\n",
    "SNPpips=SNP_layer.pip\n",
    "SETpips=SET_layer.pip\n",
    "SET_nonlinear_pips=SET_layer_nonlinear.pip\n",
    "\n",
    "plt.scatter(np.arange(len(SNPpips)), SNPpips)\n",
    "plt.show()\n",
    "\n",
    "plt.scatter(np.arange(len(SETpips)), SETpips)\n",
    "plt.show()\n",
    "\n",
    "plt.scatter(np.arange(len(SET_nonlinear_pips)), SET_nonlinear_pips)\n",
    "plt.show()"
   ]
  },
  {
   "cell_type": "markdown",
   "metadata": {},
   "source": [
    "### archive code"
   ]
  },
  {
   "cell_type": "code",
   "execution_count": 149,
   "metadata": {},
   "outputs": [
    {
     "name": "stdout",
     "output_type": "stream",
     "text": [
      "[ 0  1 16 19 33 41 59 73 77]\n",
      "[ 0  7 38 47]\n",
      "[ 0  1  7 16 19 33 38 41 47 59 73 77]\n"
     ]
    }
   ],
   "source": [
    "# snp_clustering = DBSCAN(eps=0.1, min_samples=2).fit(SNPpips.reshape(-1, 1))\n",
    "# dict_labels_snp = Counter(snp_clustering.labels_)\n",
    "# del dict_labels_snp[-1]\n",
    "# snp_level_indices = np.where(snp_clustering.labels_ == min(dict_labels_snp, key=dict_labels_snp.get))[0]\n",
    "# set_clustering = DBSCAN(eps=0.1, min_samples=2).fit(SETpips.reshape(-1, 1))\n",
    "# dict_labels_set = Counter(set_clustering.labels_)\n",
    "# del dict_labels_set[-1]\n",
    "# set_level_indices = np.where(set_clustering.labels_ == min(dict_labels_set, key=dict_labels_set.get))[0]\n",
    "# potential_indices = np.sort(np.array(list(set(set_level_indices).union(snp_level_indices))))\n",
    "# print(snp_level_indices)\n",
    "# print(set_level_indices)\n",
    "# print(potential_indices)"
   ]
  },
  {
   "cell_type": "code",
   "execution_count": 150,
   "metadata": {},
   "outputs": [
    {
     "data": {
      "text/plain": [
       "array([1., 0., 0., 0., 0., 0., 0., 0., 0., 0., 0., 0., 0., 0., 0., 0., 0.,\n",
       "       0., 0., 0., 0., 0., 0., 0., 0., 0., 0., 0., 0., 0., 0., 0., 0., 0.,\n",
       "       0., 0., 0., 0., 0., 0., 0., 0., 0., 0., 0., 0., 0., 0., 0., 0., 0.,\n",
       "       0., 0., 0., 0., 0., 0., 0., 0., 0., 0., 0., 0., 0., 0., 0., 0., 0.,\n",
       "       0., 0., 0., 0., 0., 0., 0., 0., 0., 0., 0., 0., 0., 0., 0., 0., 0.,\n",
       "       0., 0., 0., 0., 0., 0., 0., 0., 0., 0., 0., 0., 0., 0., 0., 0., 0.,\n",
       "       0.])"
      ]
     },
     "execution_count": 150,
     "metadata": {},
     "output_type": "execute_result"
    }
   ],
   "source": [
    "# subset_mask[77]"
   ]
  },
  {
   "cell_type": "code",
   "execution_count": 152,
   "metadata": {},
   "outputs": [
    {
     "name": "stdout",
     "output_type": "stream",
     "text": [
      "[0]\n"
     ]
    }
   ],
   "source": [
    "# nSets_selected = list(set(np.hstack(list(map(lambda x: np.where(x == 1)[0], subset_mask[potential_indices, :])))))\n",
    "# if len(nSets_selected) <= 0:\n",
    "#     print(\"no SNP Sets selected\")\n",
    "# elif len(nSets_selected) == 1:\n",
    "#     potential_sets = np.array([nSets_selected[0]-1, nSets_selected[0]+1])\n",
    "#     potential_sets = potential_sets[potential_sets >= 0]\n",
    "#     potential_sets = potential_sets[potential_sets < selected_mask.shape[1]]\n",
    "    \n",
    "#     nSets_selected.extend(potential_sets)\n",
    "    \n",
    "# print(nSets_selected)"
   ]
  },
  {
   "cell_type": "code",
   "execution_count": 153,
   "metadata": {},
   "outputs": [
    {
     "name": "stdout",
     "output_type": "stream",
     "text": [
      "467\n"
     ]
    }
   ],
   "source": [
    "# potential_indices = np.concatenate([np.where(subset_mask[:, i] == 1)[0] for i in nSets_selected])\n",
    "# print(len(potential_indices))"
   ]
  },
  {
   "cell_type": "code",
   "execution_count": 154,
   "metadata": {},
   "outputs": [
    {
     "name": "stdout",
     "output_type": "stream",
     "text": [
      "(934, 1)\n",
      "(2504, 934)\n"
     ]
    }
   ],
   "source": [
    "# X_selected = subset_X[:, potential_indices]\n",
    "# mask_selected = subset_mask[potential_indices, :]\n",
    "# mask_selected = mask_selected[:, mask_selected.any(0)]\n",
    "# nSets_selected = mask_selected.shape[1]\n",
    "\n",
    "# for i in range(0, nSets_selected):\n",
    "#     indices = np.where(mask_selected[:, i] == 1)[0]\n",
    "#     if len(indices) <= 1:\n",
    "#         X_selected = np.delete(X_selected, indices, axis=1)\n",
    "#         mask_selected = np.delete(mask_selected, indices, axis=0)\n",
    "        \n",
    "        \n",
    "# mask_selected = mask_selected[:, mask_selected.any(0)]\n",
    "# nSets_selected = mask_selected.shape[1]\n",
    "\n",
    "# X_epi = []\n",
    "# num_feature_in_sets = []\n",
    "# for i in range(0, nSets_selected):\n",
    "#     indices = np.where(mask_selected[:, i] == 1)[0]\n",
    "#     current_X = X_selected[:, indices]\n",
    "    \n",
    "# #     Z = []\n",
    "# #     for i in range(len(indices)):\n",
    "# #         for j in range(i+1, len(indices)):\n",
    "# #             Z.append(np.multiply(current_X[:, i], current_X[:, j]))\n",
    "# #     Z  = np.column_stack(Z)\n",
    "    \n",
    "#     rff_kernel = RFF_gpytorch(gamma=0.1, n_components=4*len(indices),seed=111)\n",
    "#     Z = rff_kernel.fit_transform(X_selected[:, indices])\n",
    "    \n",
    "#     X_epi.append(Z)\n",
    "#     num_feature_in_sets.append(Z.shape[1])\n",
    "    \n",
    "# X_epi=np.column_stack(X_epi)\n",
    "# dim_set = X_epi.shape[1]//nSets_selected ## number of features per SNP set\n",
    "\n",
    "# mask_epi=np.zeros(shape=(sum(num_feature_in_sets),nSets_selected))\n",
    "\n",
    "# start_idx = 0\n",
    "# for i in range(0, nSets_selected):\n",
    "#     num_features = num_feature_in_sets[i]\n",
    "#     for j in range(start_idx, start_idx+num_features):\n",
    "#         mask_epi[j] = np.zeros(nSets_selected)\n",
    "#         mask_epi[j][i] = 1\n",
    "#     start_idx += num_features\n",
    "        \n",
    "\n",
    "# print(mask_epi.shape)\n",
    "# print(X_epi.shape)\n",
    "# np.savetxt(\"X_epi_test2.txt\", X_epi, delimiter=\" \")\n",
    "# np.savetxt(\"mask_epi_test2.txt\",mask_epi, delimiter=\" \")"
   ]
  },
  {
   "cell_type": "code",
   "execution_count": 155,
   "metadata": {},
   "outputs": [
    {
     "name": "stdout",
     "output_type": "stream",
     "text": [
      "Welcome to BANNs. Please make sure SNPs in the SNP List you provide are in the same order as in the genotype matrix. Results we return will be in the order of SNP annotations and SNP-set annotations.\n",
      "(2504,)\n",
      "20/20 [==============================] - 128s 6s/step\n",
      "20/20 [==============================] - 127s 6s/step\n",
      "(2504, 1)\n",
      "(2504,)\n",
      "20/20 [==============================] - 0s 3ms/step\n",
      "20/20 [==============================] - 0s 3ms/step\n",
      "PVE\n",
      "0.005557624197178862\n",
      "0.015542739651286542\n"
     ]
    }
   ],
   "source": [
    "# X_epi = np.loadtxt(\"X_epi_test2.txt\")\n",
    "# y = np.loadtxt(\"ytest2.txt\")\n",
    "# mask_epi = np.loadtxt(\"mask_epi_test2.txt\")\n",
    "\n",
    "# bann_epi=BANNs(X_epi,y, mask_epi, nModelsSNP=20, nModelsSET=20)\n",
    "# [SNP_layer_epi, SET_layer_epi]=bann_epi.run()\n",
    "# print(\"PVE\")\n",
    "# print(SNP_layer_epi.pve)\n",
    "# print(SET_layer_epi.pve)\n",
    "\n",
    "\n",
    "# SNPpips_epi=SNP_layer_epi.pip\n",
    "# SETpips_epi=SET_layer_epi.pip"
   ]
  },
  {
   "cell_type": "code",
   "execution_count": 157,
   "metadata": {},
   "outputs": [
    {
     "data": {
      "image/png": "[encoded data removed]",
      "text/plain": [
       "<Figure size 432x288 with 1 Axes>"
      ]
     },
     "metadata": {
      "needs_background": "light"
     },
     "output_type": "display_data"
    },
    {
     "data": {
      "image/png": "[encoded data removed]",
      "text/plain": [
       "<Figure size 432x288 with 1 Axes>"
      ]
     },
     "metadata": {
      "needs_background": "light"
     },
     "output_type": "display_data"
    },
    {
     "name": "stdout",
     "output_type": "stream",
     "text": [
      "Adjusted PVE\n",
      "0.5932162591480519\n",
      "0.3961474568432824\n"
     ]
    }
   ],
   "source": [
    "# plt.scatter(np.arange(len(SNPpips_epi)), SNPpips_epi)\n",
    "# plt.show()\n",
    "\n",
    "# plt.scatter(np.arange(len(SETpips_epi)), SETpips_epi)\n",
    "# plt.show()\n",
    "\n",
    "# print(\"Adjusted PVE\")\n",
    "# print(SNP_layer.pve+SNP_layer_epi.pve)\n",
    "# print(SET_layer.pve+SET_layer_epi.pve)\n",
    "\n",
    "# SNPpips_epi=SNP_layer_epi.pip\n",
    "# SETpips_epi=SET_layer_epi.pip\n",
    "\n",
    "# clustering = DBSCAN(eps=0.1, min_samples=2).fit(SNPpips_epi.reshape(-1, 1))\n",
    "# dict_labels_snp = Counter(clustering.labels_)\n",
    "# del dict_labels_snp[-1]\n",
    "# snp_level_indices = np.where(clustering.labels_ == min(dict_labels_snp, key=dict_labels_snp.get))[0]\n",
    "# snp_level_indices"
   ]
  },
  {
   "cell_type": "markdown",
   "metadata": {},
   "source": [
    "### Computational Power\n",
    "ROC curves"
   ]
  },
  {
   "cell_type": "code",
   "execution_count": null,
   "metadata": {
    "collapsed": true
   },
   "outputs": [],
   "source": []
  }
 ],
 "metadata": {
  "kernelspec": {
   "display_name": "Python 3 (ipykernel)",
   "language": "python",
   "name": "python3"
  },
  "language_info": {
   "codemirror_mode": {
    "name": "ipython",
    "version": 3
   },
   "file_extension": ".py",
   "mimetype": "text/x-python",
   "name": "python",
   "nbconvert_exporter": "python",
   "pygments_lexer": "ipython3",
   "version": "3.9.6"
  }
 },
 "nbformat": 4,
 "nbformat_minor": 4
}

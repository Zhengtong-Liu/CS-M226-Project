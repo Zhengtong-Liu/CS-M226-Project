{
 "cells": [
  {
   "cell_type": "markdown",
   "metadata": {},
   "source": [
    "### Preparation (Import Packages)"
   ]
  },
  {
   "cell_type": "code",
   "execution_count": 1,
   "metadata": {},
   "outputs": [
    {
     "name": "stderr",
     "output_type": "stream",
     "text": [
      "2022-11-26 21:38:33.979819: I tensorflow/core/platform/cpu_feature_guard.cc:193] This TensorFlow binary is optimized with oneAPI Deep Neural Network Library (oneDNN) to use the following CPU instructions in performance-critical operations:  AVX2 AVX512F FMA\n",
      "To enable them in other operations, rebuild TensorFlow with the appropriate compiler flags.\n",
      "2022-11-26 21:38:34.152300: W tensorflow/stream_executor/platform/default/dso_loader.cc:64] Could not load dynamic library 'libcudart.so.11.0'; dlerror: libcudart.so.11.0: cannot open shared object file: No such file or directory; LD_LIBRARY_PATH: /u/local/apps/python/3.9.6/gcc-4.8.5/lib:/u/local/compilers/intel/2020.4/compilers_and_libraries_2020.4.304/linux/compiler/lib/intel64_lin:/u/local/compilers/intel/2020.4/compilers_and_libraries_2020.4.304/linux/daal/../tbb/lib/intel64_lin/gcc4.4:/u/local/compilers/intel/2020.4/compilers_and_libraries_2020.4.304/linux/daal/../tbb/lib/intel64_lin/gcc4.8:/u/local/compilers/intel/2020.4/compilers_and_libraries_2020.4.304/linux/daal/lib/intel64_lin:/u/local/compilers/intel/2020.4/compilers_and_libraries_2020.4.304/linux/ipp/../tbb/lib/intel64/gcc4.8:/u/local/compilers/intel/2020.4/compilers_and_libraries_2020.4.304/linux/ipp/lib/intel64:/u/local/compilers/intel/2020.4/compilers_and_libraries_2020.4.304/linux/mkl/lib/intel64_lin:/u/local/compilers/intel/2020.4/compilers_and_libraries_2020.4.304/linux/mpi/intel64/lib:/u/local/compilers/intel/2020.4/compilers_and_libraries_2020.4.304/linux/mpi/intel64/lib/release:/u/local/compilers/intel/2020.4/compilers_and_libraries_2020.4.304/linux/mpi/intel64/libfabric/lib:/u/local/compilers/intel/2020.4/compilers_and_libraries_2020.4.304/linux/tbb/lib/intel64/gcc4.8:/u/local/compilers/intel/2020.4/debugger_2020/libipt/intel64/lib:/u/local/compilers/intel/2020.4/debugger_2020/python/intel64/lib\n",
      "2022-11-26 21:38:34.152332: I tensorflow/stream_executor/cuda/cudart_stub.cc:29] Ignore above cudart dlerror if you do not have a GPU set up on your machine.\n",
      "2022-11-26 21:38:34.187592: E tensorflow/stream_executor/cuda/cuda_blas.cc:2981] Unable to register cuBLAS factory: Attempting to register factory for plugin cuBLAS when one has already been registered\n",
      "2022-11-26 21:38:35.793119: W tensorflow/stream_executor/platform/default/dso_loader.cc:64] Could not load dynamic library 'libnvinfer.so.7'; dlerror: libnvinfer.so.7: cannot open shared object file: No such file or directory; LD_LIBRARY_PATH: /u/local/apps/python/3.9.6/gcc-4.8.5/lib:/u/local/compilers/intel/2020.4/compilers_and_libraries_2020.4.304/linux/compiler/lib/intel64_lin:/u/local/compilers/intel/2020.4/compilers_and_libraries_2020.4.304/linux/daal/../tbb/lib/intel64_lin/gcc4.4:/u/local/compilers/intel/2020.4/compilers_and_libraries_2020.4.304/linux/daal/../tbb/lib/intel64_lin/gcc4.8:/u/local/compilers/intel/2020.4/compilers_and_libraries_2020.4.304/linux/daal/lib/intel64_lin:/u/local/compilers/intel/2020.4/compilers_and_libraries_2020.4.304/linux/ipp/../tbb/lib/intel64/gcc4.8:/u/local/compilers/intel/2020.4/compilers_and_libraries_2020.4.304/linux/ipp/lib/intel64:/u/local/compilers/intel/2020.4/compilers_and_libraries_2020.4.304/linux/mkl/lib/intel64_lin:/u/local/compilers/intel/2020.4/compilers_and_libraries_2020.4.304/linux/mpi/intel64/lib:/u/local/compilers/intel/2020.4/compilers_and_libraries_2020.4.304/linux/mpi/intel64/lib/release:/u/local/compilers/intel/2020.4/compilers_and_libraries_2020.4.304/linux/mpi/intel64/libfabric/lib:/u/local/compilers/intel/2020.4/compilers_and_libraries_2020.4.304/linux/tbb/lib/intel64/gcc4.8:/u/local/compilers/intel/2020.4/debugger_2020/libipt/intel64/lib:/u/local/compilers/intel/2020.4/debugger_2020/python/intel64/lib\n",
      "2022-11-26 21:38:35.793288: W tensorflow/stream_executor/platform/default/dso_loader.cc:64] Could not load dynamic library 'libnvinfer_plugin.so.7'; dlerror: libnvinfer_plugin.so.7: cannot open shared object file: No such file or directory; LD_LIBRARY_PATH: /u/local/apps/python/3.9.6/gcc-4.8.5/lib:/u/local/compilers/intel/2020.4/compilers_and_libraries_2020.4.304/linux/compiler/lib/intel64_lin:/u/local/compilers/intel/2020.4/compilers_and_libraries_2020.4.304/linux/daal/../tbb/lib/intel64_lin/gcc4.4:/u/local/compilers/intel/2020.4/compilers_and_libraries_2020.4.304/linux/daal/../tbb/lib/intel64_lin/gcc4.8:/u/local/compilers/intel/2020.4/compilers_and_libraries_2020.4.304/linux/daal/lib/intel64_lin:/u/local/compilers/intel/2020.4/compilers_and_libraries_2020.4.304/linux/ipp/../tbb/lib/intel64/gcc4.8:/u/local/compilers/intel/2020.4/compilers_and_libraries_2020.4.304/linux/ipp/lib/intel64:/u/local/compilers/intel/2020.4/compilers_and_libraries_2020.4.304/linux/mkl/lib/intel64_lin:/u/local/compilers/intel/2020.4/compilers_and_libraries_2020.4.304/linux/mpi/intel64/lib:/u/local/compilers/intel/2020.4/compilers_and_libraries_2020.4.304/linux/mpi/intel64/lib/release:/u/local/compilers/intel/2020.4/compilers_and_libraries_2020.4.304/linux/mpi/intel64/libfabric/lib:/u/local/compilers/intel/2020.4/compilers_and_libraries_2020.4.304/linux/tbb/lib/intel64/gcc4.8:/u/local/compilers/intel/2020.4/debugger_2020/libipt/intel64/lib:/u/local/compilers/intel/2020.4/debugger_2020/python/intel64/lib\n",
      "2022-11-26 21:38:35.793304: W tensorflow/compiler/tf2tensorrt/utils/py_utils.cc:38] TF-TRT Warning: Cannot dlopen some TensorRT libraries. If you would like to use Nvidia GPU with TensorRT, please make sure the missing libraries mentioned above are installed properly.\n"
     ]
    }
   ],
   "source": [
    "import numpy as np\n",
    "import pandas as pd\n",
    "import matplotlib.pyplot as plt\n",
    "from pandas_plink import read_plink1_bin\n",
    "from sklearn.kernel_approximation import RBFSampler\n",
    "from sklearn.metrics.pairwise import rbf_kernel\n",
    "from sklearn.cluster import DBSCAN\n",
    "from sklearn.preprocessing import StandardScaler\n",
    "from collections import Counter\n",
    "\n",
    "import sys, ast\n",
    "sys.path.insert(0, '../src/')\n",
    "from annotation import *\n",
    "from BANN import * # Import annotation code\n",
    "\n",
    "sys.path.insert(0, '../examples_docs/')\n",
    "\n",
    "import magenpy as mgp\n",
    "import viprs as vp"
   ]
  },
  {
   "cell_type": "code",
   "execution_count": 2,
   "metadata": {},
   "outputs": [],
   "source": [
    "class RFF_gpytorch:\n",
    "\n",
    "    def __init__(self, gamma, n_components,seed=None):\n",
    "        assert n_components%2 ==0\n",
    "        self.gamma = gamma\n",
    "        self.n_components = n_components\n",
    "        self.seed = seed\n",
    "\n",
    "    def fit(self,X):\n",
    "        seed = self.seed\n",
    "        D = self.n_components\n",
    "        M = X.shape[1]\n",
    "        self.X = X\n",
    "        self.M = M\n",
    "        if seed is not None:\n",
    "            np.random.seed(seed)\n",
    "        W = np.random.standard_normal((M,D//2))\n",
    "        self.W = W\n",
    "        self.seed = seed\n",
    "    \n",
    "    def transform(self, X, active_dims=None):\n",
    "        if active_dims is None:\n",
    "\n",
    "            active_dims = np.array([True for i in range(X.shape[1])])\n",
    "        \n",
    "        W = self.W[active_dims,0:int(self.n_components//2 * np.mean(active_dims))]\n",
    "        X = X[:,active_dims]\n",
    "        D = int(self.n_components*np.mean(active_dims))\n",
    "        gamma = self.gamma\n",
    "        W = np.sqrt(2*gamma)*W\n",
    "        projection = X@W\n",
    "        sin = np.sin(projection)\n",
    "        cos = np.cos(projection)\n",
    "        Combine = np.empty((sin.shape[0],2*sin.shape[1]), dtype=float)\n",
    "        Combine[:,0::2] = sin\n",
    "        Combine[:,1::2] = cos\n",
    "        Combine *= np.sqrt(2.)/np.sqrt(D)\n",
    "\n",
    "        return np.float32(Combine)\n",
    "        \n",
    "    def fit_transform(self,X,active_dims=None):\n",
    "        if active_dims is None:\n",
    "            active_dims = np.array([True for i in range(X.shape[1])])\n",
    "        \n",
    "\n",
    "        seed = self.seed\n",
    "        X = X[:,active_dims]\n",
    "        self.X = X\n",
    "        gamma = self.gamma\n",
    "        D = int(self.n_components//2*np.mean(active_dims))\n",
    "        if seed is not None:\n",
    "            np.random.seed(seed)\n",
    "        M = X.shape[1]\n",
    "        W = np.random.standard_normal((M,D//2))*np.sqrt(2*gamma)\n",
    "        self.W = W\n",
    "        projection = X@W\n",
    "        sin = np.sin(projection)\n",
    "        cos = np.cos(projection)\n",
    "        Combine = np.empty((sin.shape[0],2*sin.shape[1]), dtype=float)\n",
    "        Combine[:,0::2] = sin\n",
    "        Combine[:,1::2] = cos\n",
    "        Combine *= np.sqrt(2.)/np.sqrt(D)\n",
    "        return np.float32(Combine)"
   ]
  },
  {
   "cell_type": "markdown",
   "metadata": {},
   "source": [
    "### Gene Annotation"
   ]
  },
  {
   "cell_type": "code",
   "execution_count": 3,
   "metadata": {},
   "outputs": [],
   "source": [
    "chr_selected = \"22\"\n",
    "\n",
    "data_folder = \"/u/home/z/zhengton/project-sriram/CS-M226-Project/data/\"\n",
    "\n",
    "genotype_prefix = \"chr22_filtered/combined_final_no_dup_chr22\"\n",
    "# data_folder = \"/u/home/z/zhengton/project-sriram/CS-M226-Project/data/\"\n",
    "\n",
    "# genotype_prefix = \"sample_data/1000G_eur_chr22\"\n",
    "\n",
    "path_to_SNPList = data_folder+genotype_prefix+\".map\"\n",
    "path_to_geneList = data_folder+\"gene_list.txt\"\n",
    "path_to_selected_geneList = data_folder+f\"gene_list_chr{chr_selected}.txt\"\n",
    "file_to_annotationDF=data_folder+f\"AnnotationDF_chr{chr_selected}.txt\""
   ]
  },
  {
   "cell_type": "code",
   "execution_count": 4,
   "metadata": {},
   "outputs": [],
   "source": [
    "# geneList_DF = pd.read_csv(path_to_geneList, sep='\\t', header=None)\n",
    "# geneList_DF.columns = [\"Chromosome\", \"Start\", \"End\", \"GeneID\"]\n",
    "# selected_geneList_DF = geneList_DF[geneList_DF.Chromosome == chr_selected]\n",
    "\n",
    "selected_geneList_DF = pd.read_csv(path_to_selected_geneList, sep='\\t', header=None)\n",
    "selected_geneList_DF.columns = [\"Chromosome\", \"Start\", \"End\", \"GeneID\"]"
   ]
  },
  {
   "cell_type": "code",
   "execution_count": 5,
   "metadata": {},
   "outputs": [
    {
     "data": {
      "text/html": [
       "<div>\n",
       "<style scoped>\n",
       "    .dataframe tbody tr th:only-of-type {\n",
       "        vertical-align: middle;\n",
       "    }\n",
       "\n",
       "    .dataframe tbody tr th {\n",
       "        vertical-align: top;\n",
       "    }\n",
       "\n",
       "    .dataframe thead th {\n",
       "        text-align: right;\n",
       "    }\n",
       "</style>\n",
       "<table border=\"1\" class=\"dataframe\">\n",
       "  <thead>\n",
       "    <tr style=\"text-align: right;\">\n",
       "      <th></th>\n",
       "      <th>Chromosome</th>\n",
       "      <th>Start</th>\n",
       "      <th>End</th>\n",
       "      <th>GeneID</th>\n",
       "    </tr>\n",
       "  </thead>\n",
       "  <tbody>\n",
       "    <tr>\n",
       "      <th>0</th>\n",
       "      <td>22</td>\n",
       "      <td>42692120</td>\n",
       "      <td>42720870</td>\n",
       "      <td>A4GALT</td>\n",
       "    </tr>\n",
       "    <tr>\n",
       "      <th>1</th>\n",
       "      <td>22</td>\n",
       "      <td>41469124</td>\n",
       "      <td>41528989</td>\n",
       "      <td>ACO2</td>\n",
       "    </tr>\n",
       "    <tr>\n",
       "      <th>2</th>\n",
       "      <td>22</td>\n",
       "      <td>50738223</td>\n",
       "      <td>50745299</td>\n",
       "      <td>ACR</td>\n",
       "    </tr>\n",
       "    <tr>\n",
       "      <th>3</th>\n",
       "      <td>22</td>\n",
       "      <td>50481555</td>\n",
       "      <td>50486437</td>\n",
       "      <td>ADM2</td>\n",
       "    </tr>\n",
       "    <tr>\n",
       "      <th>4</th>\n",
       "      <td>22</td>\n",
       "      <td>24423596</td>\n",
       "      <td>24442361</td>\n",
       "      <td>ADORA2A</td>\n",
       "    </tr>\n",
       "    <tr>\n",
       "      <th>...</th>\n",
       "      <td>...</td>\n",
       "      <td>...</td>\n",
       "      <td>...</td>\n",
       "      <td>...</td>\n",
       "    </tr>\n",
       "    <tr>\n",
       "      <th>589</th>\n",
       "      <td>22</td>\n",
       "      <td>20394114</td>\n",
       "      <td>20408463</td>\n",
       "      <td>ZNF74</td>\n",
       "    </tr>\n",
       "    <tr>\n",
       "      <th>590</th>\n",
       "      <td>22</td>\n",
       "      <td>22513735</td>\n",
       "      <td>22520281</td>\n",
       "      <td>ZNF280A</td>\n",
       "    </tr>\n",
       "    <tr>\n",
       "      <th>591</th>\n",
       "      <td>22</td>\n",
       "      <td>22484425</td>\n",
       "      <td>22509187</td>\n",
       "      <td>ZNF280B</td>\n",
       "    </tr>\n",
       "    <tr>\n",
       "      <th>592</th>\n",
       "      <td>22</td>\n",
       "      <td>28883766</td>\n",
       "      <td>29057488</td>\n",
       "      <td>ZNRF3</td>\n",
       "    </tr>\n",
       "    <tr>\n",
       "      <th>593</th>\n",
       "      <td>22</td>\n",
       "      <td>29024998</td>\n",
       "      <td>29031476</td>\n",
       "      <td>ZNRF3-AS1</td>\n",
       "    </tr>\n",
       "  </tbody>\n",
       "</table>\n",
       "<p>594 rows × 4 columns</p>\n",
       "</div>"
      ],
      "text/plain": [
       "     Chromosome     Start       End     GeneID\n",
       "0            22  42692120  42720870     A4GALT\n",
       "1            22  41469124  41528989       ACO2\n",
       "2            22  50738223  50745299        ACR\n",
       "3            22  50481555  50486437       ADM2\n",
       "4            22  24423596  24442361    ADORA2A\n",
       "..          ...       ...       ...        ...\n",
       "589          22  20394114  20408463      ZNF74\n",
       "590          22  22513735  22520281    ZNF280A\n",
       "591          22  22484425  22509187    ZNF280B\n",
       "592          22  28883766  29057488      ZNRF3\n",
       "593          22  29024998  29031476  ZNRF3-AS1\n",
       "\n",
       "[594 rows x 4 columns]"
      ]
     },
     "execution_count": 5,
     "metadata": {},
     "output_type": "execute_result"
    }
   ],
   "source": [
    "selected_geneList_DF"
   ]
  },
  {
   "cell_type": "code",
   "execution_count": 6,
   "metadata": {},
   "outputs": [],
   "source": [
    "# path_to_filtered_geneList = data_folder+\"/filtered_gene_list.txt\"\n",
    "# filtered_geneList_DF = selected_geneList_DF.iloc[:20, :]\n",
    "# filtered_geneList_DF\n",
    "# filtered_geneList_DF.to_csv(path_to_filtered_geneList, header=None, index=False, sep='\\t')"
   ]
  },
  {
   "cell_type": "code",
   "execution_count": 6,
   "metadata": {},
   "outputs": [
    {
     "name": "stdout",
     "output_type": "stream",
     "text": [
      "You have chosen to annotate SNP-sets without intergenic regions and with a buffer of 500bp\n",
      "Annotating SNP-sets with the corresponding SNPs\n"
     ]
    },
    {
     "name": "stderr",
     "output_type": "stream",
     "text": [
      "100% 2576/2576 [00:01<00:00, 1374.48it/s]\n"
     ]
    },
    {
     "name": "stdout",
     "output_type": "stream",
     "text": [
      "Dropping SNP-sets that are singletons (containing only one SNP) and re-annotating SNPs without them\n",
      "Annotating SNP-sets with the corresponding SNPs\n"
     ]
    },
    {
     "name": "stderr",
     "output_type": "stream",
     "text": [
      "100% 2576/2576 [00:01<00:00, 1400.88it/s]"
     ]
    },
    {
     "name": "stdout",
     "output_type": "stream",
     "text": [
      "Saving annotation results to file /u/home/z/zhengton/project-sriram/CS-M226-Project/data/AnnotationDF_chr22.txt\n",
      "                GeneID Chromosome       Start         End  \\\n",
      "0               CCT8L2         22  16590757.0  16592810.0   \n",
      "1               TPTEP1         22  16601910.0  16648830.0   \n",
      "2    ANKRD62P1-PARP4P3         22  16653708.0  16675540.0   \n",
      "3                 GAB4         22  16961935.0  17008222.0   \n",
      "4                CECR7         22  17036569.0  17058792.0   \n",
      "..                 ...        ...         ...         ...   \n",
      "406               ARSA         22  50622753.0  50628173.0   \n",
      "407             SHANK3         22  50674641.0  50733212.0   \n",
      "408                ACR         22  50738223.0  50745299.0   \n",
      "409          RPL23AP82         22  50757085.0  50799637.0   \n",
      "410             RABL2B         22  50767491.0  50783659.0   \n",
      "\n",
      "                                              SNPindex  \\\n",
      "0                                                  [0]   \n",
      "1                                                  [1]   \n",
      "2                                                  [2]   \n",
      "3                                   [3, 4, 5, 6, 7, 8]   \n",
      "4                                              [9, 10]   \n",
      "..                                                 ...   \n",
      "406                                             [2558]   \n",
      "407  [2559, 2560, 2561, 2562, 2563, 2564, 2565, 256...   \n",
      "408                                 [2568, 2569, 2570]   \n",
      "409                     [2571, 2572, 2573, 2574, 2575]   \n",
      "410                                             [2571]   \n",
      "\n",
      "                                             VariantID  \n",
      "0                                        [rs201574129]  \n",
      "1                                          [rs2078654]  \n",
      "2                                        [rs201328411]  \n",
      "3    [rs5746425, rs190147045, rs537561555, rs200099...  \n",
      "4                             [rs139936342, rs5747939]  \n",
      "..                                                 ...  \n",
      "406                                        [rs4838860]  \n",
      "407  [rs5771282, rs1076649, rs2272855, rs13053868, ...  \n",
      "408               [rs28533833, rs73891214, rs28645770]  \n",
      "409  [rs141476490, rs62241245, rs368487204, rs74509...  \n",
      "410                                      [rs141476490]  \n",
      "\n",
      "[411 rows x 6 columns]\n"
     ]
    },
    {
     "name": "stderr",
     "output_type": "stream",
     "text": [
      "\n"
     ]
    }
   ],
   "source": [
    "annotationDF=annotate(path_to_SNPList, path_to_selected_geneList, outputFile=file_to_annotationDF, \n",
    "                      intergenic=False, buffer=500, dropSingletons=True)\n",
    "\n",
    "print(annotationDF)"
   ]
  },
  {
   "cell_type": "code",
   "execution_count": null,
   "metadata": {
    "collapsed": true
   },
   "outputs": [],
   "source": [
    "# annotationDF = pd.read_csv(file_to_annotationDF, index_col=0, sep='\\t')\n",
    "# selected_annotationDF = annotationDF[annotationDF.Chromosome == int(chr_selected)]\n",
    "# selected_annotationDF.SNPindex = selected_annotationDF.SNPindex.apply(lambda x: np.array(ast.literal_eval(x)) - selected_SNPList_DF.index[0])\n",
    "# selected_annotationDF.VariantID = selected_annotationDF.VariantID.apply(lambda x: ast.literal_eval(x))\n",
    "# selected_annotationDF = selected_annotationDF.reset_index().drop(columns=['index'])\n",
    "\n",
    "# selected_SNPList_DF = selected_SNPList_DF.reset_index().drop(columns=['index'])"
   ]
  },
  {
   "cell_type": "code",
   "execution_count": 7,
   "metadata": {},
   "outputs": [
    {
     "name": "stdout",
     "output_type": "stream",
     "text": [
      "creating mask\n"
     ]
    },
    {
     "name": "stderr",
     "output_type": "stream",
     "text": [
      "100% 411/411 [00:00<00:00, 7749.91it/s]\n"
     ]
    },
    {
     "name": "stdout",
     "output_type": "stream",
     "text": [
      "Saving annotation mask to file /u/home/z/zhengton/project-sriram/CS-M226-Project/data/chr22_Mask.txt in tab-delimited format\n",
      "[[1. 0. 0. ... 0. 0. 0.]\n",
      " [0. 1. 0. ... 0. 0. 0.]\n",
      " [0. 0. 1. ... 0. 0. 0.]\n",
      " ...\n",
      " [0. 0. 0. ... 0. 1. 0.]\n",
      " [0. 0. 0. ... 0. 1. 0.]\n",
      " [0. 0. 0. ... 0. 1. 0.]]\n"
     ]
    }
   ],
   "source": [
    "mask_outputFile=data_folder+f\"chr{chr_selected}_Mask.txt\"\n",
    "mask = getMaskMatrix(path_to_SNPList, annotationDF, mask_outputFile)\n",
    "print(mask)"
   ]
  },
  {
   "cell_type": "code",
   "execution_count": 8,
   "metadata": {},
   "outputs": [
    {
     "data": {
      "text/plain": [
       "array([[1., 0., 0., ..., 0., 0., 0.],\n",
       "       [0., 1., 0., ..., 0., 0., 0.],\n",
       "       [0., 0., 1., ..., 0., 0., 0.],\n",
       "       ...,\n",
       "       [0., 0., 0., ..., 0., 1., 0.],\n",
       "       [0., 0., 0., ..., 0., 1., 0.],\n",
       "       [0., 0., 0., ..., 0., 1., 0.]])"
      ]
     },
     "execution_count": 8,
     "metadata": {},
     "output_type": "execute_result"
    }
   ],
   "source": [
    "mask_outputFile=data_folder+f\"chr{chr_selected}_Mask.txt\"\n",
    "mask = np.loadtxt(mask_outputFile)\n",
    "mask"
   ]
  },
  {
   "cell_type": "markdown",
   "metadata": {},
   "source": [
    "### Load Genotype"
   ]
  },
  {
   "cell_type": "code",
   "execution_count": 9,
   "metadata": {},
   "outputs": [
    {
     "name": "stderr",
     "output_type": "stream",
     "text": [
      "Mapping files: 100% 3/3 [00:00<00:00, 71.94it/s]\n"
     ]
    }
   ],
   "source": [
    "bfile=data_folder+genotype_prefix\n",
    "\n",
    "bed = bfile+'.bed'\n",
    "fam = bfile+'.fam'\n",
    "bim = bfile+'.bim'\n",
    "\n",
    "G = read_plink1_bin(bed, bim, fam, verbose=True)"
   ]
  },
  {
   "cell_type": "code",
   "execution_count": 10,
   "metadata": {},
   "outputs": [
    {
     "data": {
      "text/html": [
       "<div><svg style=\"position: absolute; width: 0; height: 0; overflow: hidden\">\n",
       "<defs>\n",
       "<symbol id=\"icon-database\" viewBox=\"0 0 32 32\">\n",
       "<path d=\"M16 0c-8.837 0-16 2.239-16 5v4c0 2.761 7.163 5 16 5s16-2.239 16-5v-4c0-2.761-7.163-5-16-5z\"></path>\n",
       "<path d=\"M16 17c-8.837 0-16-2.239-16-5v6c0 2.761 7.163 5 16 5s16-2.239 16-5v-6c0 2.761-7.163 5-16 5z\"></path>\n",
       "<path d=\"M16 26c-8.837 0-16-2.239-16-5v6c0 2.761 7.163 5 16 5s16-2.239 16-5v-6c0 2.761-7.163 5-16 5z\"></path>\n",
       "</symbol>\n",
       "<symbol id=\"icon-file-text2\" viewBox=\"0 0 32 32\">\n",
       "<path d=\"M28.681 7.159c-0.694-0.947-1.662-2.053-2.724-3.116s-2.169-2.030-3.116-2.724c-1.612-1.182-2.393-1.319-2.841-1.319h-15.5c-1.378 0-2.5 1.121-2.5 2.5v27c0 1.378 1.122 2.5 2.5 2.5h23c1.378 0 2.5-1.122 2.5-2.5v-19.5c0-0.448-0.137-1.23-1.319-2.841zM24.543 5.457c0.959 0.959 1.712 1.825 2.268 2.543h-4.811v-4.811c0.718 0.556 1.584 1.309 2.543 2.268zM28 29.5c0 0.271-0.229 0.5-0.5 0.5h-23c-0.271 0-0.5-0.229-0.5-0.5v-27c0-0.271 0.229-0.5 0.5-0.5 0 0 15.499-0 15.5 0v7c0 0.552 0.448 1 1 1h7v19.5z\"></path>\n",
       "<path d=\"M23 26h-14c-0.552 0-1-0.448-1-1s0.448-1 1-1h14c0.552 0 1 0.448 1 1s-0.448 1-1 1z\"></path>\n",
       "<path d=\"M23 22h-14c-0.552 0-1-0.448-1-1s0.448-1 1-1h14c0.552 0 1 0.448 1 1s-0.448 1-1 1z\"></path>\n",
       "<path d=\"M23 18h-14c-0.552 0-1-0.448-1-1s0.448-1 1-1h14c0.552 0 1 0.448 1 1s-0.448 1-1 1z\"></path>\n",
       "</symbol>\n",
       "</defs>\n",
       "</svg>\n",
       "<style>/* CSS stylesheet for displaying xarray objects in jupyterlab.\n",
       " *\n",
       " */\n",
       "\n",
       ":root {\n",
       "  --xr-font-color0: var(--jp-content-font-color0, rgba(0, 0, 0, 1));\n",
       "  --xr-font-color2: var(--jp-content-font-color2, rgba(0, 0, 0, 0.54));\n",
       "  --xr-font-color3: var(--jp-content-font-color3, rgba(0, 0, 0, 0.38));\n",
       "  --xr-border-color: var(--jp-border-color2, #e0e0e0);\n",
       "  --xr-disabled-color: var(--jp-layout-color3, #bdbdbd);\n",
       "  --xr-background-color: var(--jp-layout-color0, white);\n",
       "  --xr-background-color-row-even: var(--jp-layout-color1, white);\n",
       "  --xr-background-color-row-odd: var(--jp-layout-color2, #eeeeee);\n",
       "}\n",
       "\n",
       "html[theme=dark],\n",
       "body.vscode-dark {\n",
       "  --xr-font-color0: rgba(255, 255, 255, 1);\n",
       "  --xr-font-color2: rgba(255, 255, 255, 0.54);\n",
       "  --xr-font-color3: rgba(255, 255, 255, 0.38);\n",
       "  --xr-border-color: #1F1F1F;\n",
       "  --xr-disabled-color: #515151;\n",
       "  --xr-background-color: #111111;\n",
       "  --xr-background-color-row-even: #111111;\n",
       "  --xr-background-color-row-odd: #313131;\n",
       "}\n",
       "\n",
       ".xr-wrap {\n",
       "  display: block;\n",
       "  min-width: 300px;\n",
       "  max-width: 700px;\n",
       "}\n",
       "\n",
       ".xr-text-repr-fallback {\n",
       "  /* fallback to plain text repr when CSS is not injected (untrusted notebook) */\n",
       "  display: none;\n",
       "}\n",
       "\n",
       ".xr-header {\n",
       "  padding-top: 6px;\n",
       "  padding-bottom: 6px;\n",
       "  margin-bottom: 4px;\n",
       "  border-bottom: solid 1px var(--xr-border-color);\n",
       "}\n",
       "\n",
       ".xr-header > div,\n",
       ".xr-header > ul {\n",
       "  display: inline;\n",
       "  margin-top: 0;\n",
       "  margin-bottom: 0;\n",
       "}\n",
       "\n",
       ".xr-obj-type,\n",
       ".xr-array-name {\n",
       "  margin-left: 2px;\n",
       "  margin-right: 10px;\n",
       "}\n",
       "\n",
       ".xr-obj-type {\n",
       "  color: var(--xr-font-color2);\n",
       "}\n",
       "\n",
       ".xr-sections {\n",
       "  padding-left: 0 !important;\n",
       "  display: grid;\n",
       "  grid-template-columns: 150px auto auto 1fr 20px 20px;\n",
       "}\n",
       "\n",
       ".xr-section-item {\n",
       "  display: contents;\n",
       "}\n",
       "\n",
       ".xr-section-item input {\n",
       "  display: none;\n",
       "}\n",
       "\n",
       ".xr-section-item input + label {\n",
       "  color: var(--xr-disabled-color);\n",
       "}\n",
       "\n",
       ".xr-section-item input:enabled + label {\n",
       "  cursor: pointer;\n",
       "  color: var(--xr-font-color2);\n",
       "}\n",
       "\n",
       ".xr-section-item input:enabled + label:hover {\n",
       "  color: var(--xr-font-color0);\n",
       "}\n",
       "\n",
       ".xr-section-summary {\n",
       "  grid-column: 1;\n",
       "  color: var(--xr-font-color2);\n",
       "  font-weight: 500;\n",
       "}\n",
       "\n",
       ".xr-section-summary > span {\n",
       "  display: inline-block;\n",
       "  padding-left: 0.5em;\n",
       "}\n",
       "\n",
       ".xr-section-summary-in:disabled + label {\n",
       "  color: var(--xr-font-color2);\n",
       "}\n",
       "\n",
       ".xr-section-summary-in + label:before {\n",
       "  display: inline-block;\n",
       "  content: '►';\n",
       "  font-size: 11px;\n",
       "  width: 15px;\n",
       "  text-align: center;\n",
       "}\n",
       "\n",
       ".xr-section-summary-in:disabled + label:before {\n",
       "  color: var(--xr-disabled-color);\n",
       "}\n",
       "\n",
       ".xr-section-summary-in:checked + label:before {\n",
       "  content: '▼';\n",
       "}\n",
       "\n",
       ".xr-section-summary-in:checked + label > span {\n",
       "  display: none;\n",
       "}\n",
       "\n",
       ".xr-section-summary,\n",
       ".xr-section-inline-details {\n",
       "  padding-top: 4px;\n",
       "  padding-bottom: 4px;\n",
       "}\n",
       "\n",
       ".xr-section-inline-details {\n",
       "  grid-column: 2 / -1;\n",
       "}\n",
       "\n",
       ".xr-section-details {\n",
       "  display: none;\n",
       "  grid-column: 1 / -1;\n",
       "  margin-bottom: 5px;\n",
       "}\n",
       "\n",
       ".xr-section-summary-in:checked ~ .xr-section-details {\n",
       "  display: contents;\n",
       "}\n",
       "\n",
       ".xr-array-wrap {\n",
       "  grid-column: 1 / -1;\n",
       "  display: grid;\n",
       "  grid-template-columns: 20px auto;\n",
       "}\n",
       "\n",
       ".xr-array-wrap > label {\n",
       "  grid-column: 1;\n",
       "  vertical-align: top;\n",
       "}\n",
       "\n",
       ".xr-preview {\n",
       "  color: var(--xr-font-color3);\n",
       "}\n",
       "\n",
       ".xr-array-preview,\n",
       ".xr-array-data {\n",
       "  padding: 0 5px !important;\n",
       "  grid-column: 2;\n",
       "}\n",
       "\n",
       ".xr-array-data,\n",
       ".xr-array-in:checked ~ .xr-array-preview {\n",
       "  display: none;\n",
       "}\n",
       "\n",
       ".xr-array-in:checked ~ .xr-array-data,\n",
       ".xr-array-preview {\n",
       "  display: inline-block;\n",
       "}\n",
       "\n",
       ".xr-dim-list {\n",
       "  display: inline-block !important;\n",
       "  list-style: none;\n",
       "  padding: 0 !important;\n",
       "  margin: 0;\n",
       "}\n",
       "\n",
       ".xr-dim-list li {\n",
       "  display: inline-block;\n",
       "  padding: 0;\n",
       "  margin: 0;\n",
       "}\n",
       "\n",
       ".xr-dim-list:before {\n",
       "  content: '(';\n",
       "}\n",
       "\n",
       ".xr-dim-list:after {\n",
       "  content: ')';\n",
       "}\n",
       "\n",
       ".xr-dim-list li:not(:last-child):after {\n",
       "  content: ',';\n",
       "  padding-right: 5px;\n",
       "}\n",
       "\n",
       ".xr-has-index {\n",
       "  font-weight: bold;\n",
       "}\n",
       "\n",
       ".xr-var-list,\n",
       ".xr-var-item {\n",
       "  display: contents;\n",
       "}\n",
       "\n",
       ".xr-var-item > div,\n",
       ".xr-var-item label,\n",
       ".xr-var-item > .xr-var-name span {\n",
       "  background-color: var(--xr-background-color-row-even);\n",
       "  margin-bottom: 0;\n",
       "}\n",
       "\n",
       ".xr-var-item > .xr-var-name:hover span {\n",
       "  padding-right: 5px;\n",
       "}\n",
       "\n",
       ".xr-var-list > li:nth-child(odd) > div,\n",
       ".xr-var-list > li:nth-child(odd) > label,\n",
       ".xr-var-list > li:nth-child(odd) > .xr-var-name span {\n",
       "  background-color: var(--xr-background-color-row-odd);\n",
       "}\n",
       "\n",
       ".xr-var-name {\n",
       "  grid-column: 1;\n",
       "}\n",
       "\n",
       ".xr-var-dims {\n",
       "  grid-column: 2;\n",
       "}\n",
       "\n",
       ".xr-var-dtype {\n",
       "  grid-column: 3;\n",
       "  text-align: right;\n",
       "  color: var(--xr-font-color2);\n",
       "}\n",
       "\n",
       ".xr-var-preview {\n",
       "  grid-column: 4;\n",
       "}\n",
       "\n",
       ".xr-var-name,\n",
       ".xr-var-dims,\n",
       ".xr-var-dtype,\n",
       ".xr-preview,\n",
       ".xr-attrs dt {\n",
       "  white-space: nowrap;\n",
       "  overflow: hidden;\n",
       "  text-overflow: ellipsis;\n",
       "  padding-right: 10px;\n",
       "}\n",
       "\n",
       ".xr-var-name:hover,\n",
       ".xr-var-dims:hover,\n",
       ".xr-var-dtype:hover,\n",
       ".xr-attrs dt:hover {\n",
       "  overflow: visible;\n",
       "  width: auto;\n",
       "  z-index: 1;\n",
       "}\n",
       "\n",
       ".xr-var-attrs,\n",
       ".xr-var-data {\n",
       "  display: none;\n",
       "  background-color: var(--xr-background-color) !important;\n",
       "  padding-bottom: 5px !important;\n",
       "}\n",
       "\n",
       ".xr-var-attrs-in:checked ~ .xr-var-attrs,\n",
       ".xr-var-data-in:checked ~ .xr-var-data {\n",
       "  display: block;\n",
       "}\n",
       "\n",
       ".xr-var-data > table {\n",
       "  float: right;\n",
       "}\n",
       "\n",
       ".xr-var-name span,\n",
       ".xr-var-data,\n",
       ".xr-attrs {\n",
       "  padding-left: 25px !important;\n",
       "}\n",
       "\n",
       ".xr-attrs,\n",
       ".xr-var-attrs,\n",
       ".xr-var-data {\n",
       "  grid-column: 1 / -1;\n",
       "}\n",
       "\n",
       "dl.xr-attrs {\n",
       "  padding: 0;\n",
       "  margin: 0;\n",
       "  display: grid;\n",
       "  grid-template-columns: 125px auto;\n",
       "}\n",
       "\n",
       ".xr-attrs dt,\n",
       ".xr-attrs dd {\n",
       "  padding: 0;\n",
       "  margin: 0;\n",
       "  float: left;\n",
       "  padding-right: 10px;\n",
       "  width: auto;\n",
       "}\n",
       "\n",
       ".xr-attrs dt {\n",
       "  font-weight: normal;\n",
       "  grid-column: 1;\n",
       "}\n",
       "\n",
       ".xr-attrs dt:hover span {\n",
       "  display: inline-block;\n",
       "  background: var(--xr-background-color);\n",
       "  padding-right: 10px;\n",
       "}\n",
       "\n",
       ".xr-attrs dd {\n",
       "  grid-column: 2;\n",
       "  white-space: pre-wrap;\n",
       "  word-break: break-all;\n",
       "}\n",
       "\n",
       ".xr-icon-database,\n",
       ".xr-icon-file-text2 {\n",
       "  display: inline-block;\n",
       "  vertical-align: middle;\n",
       "  width: 1em;\n",
       "  height: 1.5em !important;\n",
       "  stroke-width: 0;\n",
       "  stroke: currentColor;\n",
       "  fill: currentColor;\n",
       "}\n",
       "</style><pre class='xr-text-repr-fallback'>&lt;xarray.DataArray &#x27;genotype&#x27; (sample: 2504, variant: 2576)&gt;\n",
       "dask.array&lt;transpose, shape=(2504, 2576), dtype=float32, chunksize=(1024, 1024), chunktype=numpy.ndarray&gt;\n",
       "Coordinates:\n",
       "  * sample   (sample) object &#x27;HG00096&#x27; &#x27;HG00097&#x27; ... &#x27;NA21143&#x27; &#x27;NA21144&#x27;\n",
       "  * variant  (variant) &lt;U11 &#x27;variant0&#x27; &#x27;variant1&#x27; ... &#x27;variant2575&#x27;\n",
       "    fid      (sample) object &#x27;HG00096&#x27; &#x27;HG00097&#x27; ... &#x27;NA21143&#x27; &#x27;NA21144&#x27;\n",
       "    iid      (sample) object &#x27;HG00096&#x27; &#x27;HG00097&#x27; ... &#x27;NA21143&#x27; &#x27;NA21144&#x27;\n",
       "    father   (sample) object &#x27;0&#x27; &#x27;0&#x27; &#x27;0&#x27; &#x27;0&#x27; &#x27;0&#x27; &#x27;0&#x27; ... &#x27;0&#x27; &#x27;0&#x27; &#x27;0&#x27; &#x27;0&#x27; &#x27;0&#x27; &#x27;0&#x27;\n",
       "    mother   (sample) object &#x27;0&#x27; &#x27;0&#x27; &#x27;0&#x27; &#x27;0&#x27; &#x27;0&#x27; &#x27;0&#x27; ... &#x27;0&#x27; &#x27;0&#x27; &#x27;0&#x27; &#x27;0&#x27; &#x27;0&#x27; &#x27;0&#x27;\n",
       "    gender   (sample) object &#x27;0&#x27; &#x27;0&#x27; &#x27;0&#x27; &#x27;0&#x27; &#x27;0&#x27; &#x27;0&#x27; ... &#x27;0&#x27; &#x27;0&#x27; &#x27;0&#x27; &#x27;0&#x27; &#x27;0&#x27; &#x27;0&#x27;\n",
       "    trait    (sample) object &#x27;-9&#x27; &#x27;-9&#x27; &#x27;-9&#x27; &#x27;-9&#x27; &#x27;-9&#x27; ... &#x27;-9&#x27; &#x27;-9&#x27; &#x27;-9&#x27; &#x27;-9&#x27;\n",
       "    chrom    (variant) object &#x27;22&#x27; &#x27;22&#x27; &#x27;22&#x27; &#x27;22&#x27; &#x27;22&#x27; ... &#x27;22&#x27; &#x27;22&#x27; &#x27;22&#x27; &#x27;22&#x27;\n",
       "    snp      (variant) object &#x27;rs201574129&#x27; &#x27;rs2078654&#x27; ... &#x27;rs28852528&#x27;\n",
       "    cm       (variant) float64 0.0 0.0 0.0 0.0 0.0 0.0 ... 0.0 0.0 0.0 0.0 0.0\n",
       "    pos      (variant) int32 16591627 16636637 16673521 ... 50789720 50791182\n",
       "    a0       (variant) object &#x27;T&#x27; &#x27;C&#x27; &#x27;C&#x27; &#x27;A&#x27; &#x27;G&#x27; &#x27;G&#x27; ... &#x27;G&#x27; &#x27;C&#x27; &#x27;T&#x27; &#x27;T&#x27; &#x27;A&#x27;\n",
       "    a1       (variant) object &#x27;A&#x27; &#x27;T&#x27; &#x27;T&#x27; &#x27;G&#x27; &#x27;A&#x27; &#x27;T&#x27; ... &#x27;C&#x27; &#x27;T&#x27; &#x27;C&#x27; &#x27;C&#x27; &#x27;C&#x27;</pre><div class='xr-wrap' hidden><div class='xr-header'><div class='xr-obj-type'>xarray.DataArray</div><div class='xr-array-name'>'genotype'</div><ul class='xr-dim-list'><li><span class='xr-has-index'>sample</span>: 2504</li><li><span class='xr-has-index'>variant</span>: 2576</li></ul></div><ul class='xr-sections'><li class='xr-section-item'><div class='xr-array-wrap'><input id='section-8b1cb7f0-4882-4ccc-b139-ec06d53a4e87' class='xr-array-in' type='checkbox' checked><label for='section-8b1cb7f0-4882-4ccc-b139-ec06d53a4e87' title='Show/hide data repr'><svg class='icon xr-icon-database'><use xlink:href='#icon-database'></use></svg></label><div class='xr-array-preview xr-preview'><span>dask.array&lt;chunksize=(1024, 1024), meta=np.ndarray&gt;</span></div><div class='xr-array-data'><table>\n",
       "    <tr>\n",
       "        <td>\n",
       "            <table>\n",
       "                <thead>\n",
       "                    <tr>\n",
       "                        <td> </td>\n",
       "                        <th> Array </th>\n",
       "                        <th> Chunk </th>\n",
       "                    </tr>\n",
       "                </thead>\n",
       "                <tbody>\n",
       "                    \n",
       "                    <tr>\n",
       "                        <th> Bytes </th>\n",
       "                        <td> 24.61 MiB </td>\n",
       "                        <td> 4.00 MiB </td>\n",
       "                    </tr>\n",
       "                    \n",
       "                    <tr>\n",
       "                        <th> Shape </th>\n",
       "                        <td> (2504, 2576) </td>\n",
       "                        <td> (1024, 1024) </td>\n",
       "                    </tr>\n",
       "                    <tr>\n",
       "                        <th> Count </th>\n",
       "                        <td> 45 Tasks </td>\n",
       "                        <td> 9 Chunks </td>\n",
       "                    </tr>\n",
       "                    <tr>\n",
       "                    <th> Type </th>\n",
       "                    <td> float32 </td>\n",
       "                    <td> numpy.ndarray </td>\n",
       "                    </tr>\n",
       "                </tbody>\n",
       "            </table>\n",
       "        </td>\n",
       "        <td>\n",
       "        <svg width=\"170\" height=\"166\" style=\"stroke:rgb(0,0,0);stroke-width:1\" >\n",
       "\n",
       "  <!-- Horizontal lines -->\n",
       "  <line x1=\"0\" y1=\"0\" x2=\"120\" y2=\"0\" style=\"stroke-width:2\" />\n",
       "  <line x1=\"0\" y1=\"47\" x2=\"120\" y2=\"47\" />\n",
       "  <line x1=\"0\" y1=\"95\" x2=\"120\" y2=\"95\" />\n",
       "  <line x1=\"0\" y1=\"116\" x2=\"120\" y2=\"116\" style=\"stroke-width:2\" />\n",
       "\n",
       "  <!-- Vertical lines -->\n",
       "  <line x1=\"0\" y1=\"0\" x2=\"0\" y2=\"116\" style=\"stroke-width:2\" />\n",
       "  <line x1=\"47\" y1=\"0\" x2=\"47\" y2=\"116\" />\n",
       "  <line x1=\"95\" y1=\"0\" x2=\"95\" y2=\"116\" />\n",
       "  <line x1=\"120\" y1=\"0\" x2=\"120\" y2=\"116\" style=\"stroke-width:2\" />\n",
       "\n",
       "  <!-- Colored Rectangle -->\n",
       "  <polygon points=\"0.0,0.0 120.0,0.0 120.0,116.64596273291926 0.0,116.64596273291926\" style=\"fill:#ECB172A0;stroke-width:0\"/>\n",
       "\n",
       "  <!-- Text -->\n",
       "  <text x=\"60.000000\" y=\"136.645963\" font-size=\"1.0rem\" font-weight=\"100\" text-anchor=\"middle\" >2576</text>\n",
       "  <text x=\"140.000000\" y=\"58.322981\" font-size=\"1.0rem\" font-weight=\"100\" text-anchor=\"middle\" transform=\"rotate(-90,140.000000,58.322981)\">2504</text>\n",
       "</svg>\n",
       "        </td>\n",
       "    </tr>\n",
       "</table></div></div></li><li class='xr-section-item'><input id='section-e9e529b6-7303-42a7-9a58-907f1afb00c7' class='xr-section-summary-in' type='checkbox'  checked><label for='section-e9e529b6-7303-42a7-9a58-907f1afb00c7' class='xr-section-summary' >Coordinates: <span>(14)</span></label><div class='xr-section-inline-details'></div><div class='xr-section-details'><ul class='xr-var-list'><li class='xr-var-item'><div class='xr-var-name'><span class='xr-has-index'>sample</span></div><div class='xr-var-dims'>(sample)</div><div class='xr-var-dtype'>object</div><div class='xr-var-preview xr-preview'>&#x27;HG00096&#x27; &#x27;HG00097&#x27; ... &#x27;NA21144&#x27;</div><input id='attrs-e9185566-9bdd-4e6d-9287-154dec53d314' class='xr-var-attrs-in' type='checkbox' disabled><label for='attrs-e9185566-9bdd-4e6d-9287-154dec53d314' title='Show/Hide attributes'><svg class='icon xr-icon-file-text2'><use xlink:href='#icon-file-text2'></use></svg></label><input id='data-8a6f68ac-2962-440d-8f82-717ed76e9c70' class='xr-var-data-in' type='checkbox'><label for='data-8a6f68ac-2962-440d-8f82-717ed76e9c70' title='Show/Hide data repr'><svg class='icon xr-icon-database'><use xlink:href='#icon-database'></use></svg></label><div class='xr-var-attrs'><dl class='xr-attrs'></dl></div><div class='xr-var-data'><pre>array([&#x27;HG00096&#x27;, &#x27;HG00097&#x27;, &#x27;HG00099&#x27;, ..., &#x27;NA21142&#x27;, &#x27;NA21143&#x27;, &#x27;NA21144&#x27;],\n",
       "      dtype=object)</pre></div></li><li class='xr-var-item'><div class='xr-var-name'><span class='xr-has-index'>variant</span></div><div class='xr-var-dims'>(variant)</div><div class='xr-var-dtype'>&lt;U11</div><div class='xr-var-preview xr-preview'>&#x27;variant0&#x27; ... &#x27;variant2575&#x27;</div><input id='attrs-af8e72c4-9558-4548-9464-8bc16ccbf5bc' class='xr-var-attrs-in' type='checkbox' disabled><label for='attrs-af8e72c4-9558-4548-9464-8bc16ccbf5bc' title='Show/Hide attributes'><svg class='icon xr-icon-file-text2'><use xlink:href='#icon-file-text2'></use></svg></label><input id='data-fa1bc042-c3ca-4f34-b2fc-befac9007ba8' class='xr-var-data-in' type='checkbox'><label for='data-fa1bc042-c3ca-4f34-b2fc-befac9007ba8' title='Show/Hide data repr'><svg class='icon xr-icon-database'><use xlink:href='#icon-database'></use></svg></label><div class='xr-var-attrs'><dl class='xr-attrs'></dl></div><div class='xr-var-data'><pre>array([&#x27;variant0&#x27;, &#x27;variant1&#x27;, &#x27;variant2&#x27;, ..., &#x27;variant2573&#x27;, &#x27;variant2574&#x27;,\n",
       "       &#x27;variant2575&#x27;], dtype=&#x27;&lt;U11&#x27;)</pre></div></li><li class='xr-var-item'><div class='xr-var-name'><span>fid</span></div><div class='xr-var-dims'>(sample)</div><div class='xr-var-dtype'>object</div><div class='xr-var-preview xr-preview'>&#x27;HG00096&#x27; &#x27;HG00097&#x27; ... &#x27;NA21144&#x27;</div><input id='attrs-8e39843b-4744-4f5c-86b3-3f6a4a38d670' class='xr-var-attrs-in' type='checkbox' disabled><label for='attrs-8e39843b-4744-4f5c-86b3-3f6a4a38d670' title='Show/Hide attributes'><svg class='icon xr-icon-file-text2'><use xlink:href='#icon-file-text2'></use></svg></label><input id='data-eb2871b5-7d7b-40f5-bab3-ec80bd150467' class='xr-var-data-in' type='checkbox'><label for='data-eb2871b5-7d7b-40f5-bab3-ec80bd150467' title='Show/Hide data repr'><svg class='icon xr-icon-database'><use xlink:href='#icon-database'></use></svg></label><div class='xr-var-attrs'><dl class='xr-attrs'></dl></div><div class='xr-var-data'><pre>array([&#x27;HG00096&#x27;, &#x27;HG00097&#x27;, &#x27;HG00099&#x27;, ..., &#x27;NA21142&#x27;, &#x27;NA21143&#x27;,\n",
       "       &#x27;NA21144&#x27;], dtype=object)</pre></div></li><li class='xr-var-item'><div class='xr-var-name'><span>iid</span></div><div class='xr-var-dims'>(sample)</div><div class='xr-var-dtype'>object</div><div class='xr-var-preview xr-preview'>&#x27;HG00096&#x27; &#x27;HG00097&#x27; ... &#x27;NA21144&#x27;</div><input id='attrs-ff0ccda5-d0e7-46d1-bbfb-c4595616faae' class='xr-var-attrs-in' type='checkbox' disabled><label for='attrs-ff0ccda5-d0e7-46d1-bbfb-c4595616faae' title='Show/Hide attributes'><svg class='icon xr-icon-file-text2'><use xlink:href='#icon-file-text2'></use></svg></label><input id='data-9d1e7682-751a-4291-ac10-32e9af2e1c0f' class='xr-var-data-in' type='checkbox'><label for='data-9d1e7682-751a-4291-ac10-32e9af2e1c0f' title='Show/Hide data repr'><svg class='icon xr-icon-database'><use xlink:href='#icon-database'></use></svg></label><div class='xr-var-attrs'><dl class='xr-attrs'></dl></div><div class='xr-var-data'><pre>array([&#x27;HG00096&#x27;, &#x27;HG00097&#x27;, &#x27;HG00099&#x27;, ..., &#x27;NA21142&#x27;, &#x27;NA21143&#x27;,\n",
       "       &#x27;NA21144&#x27;], dtype=object)</pre></div></li><li class='xr-var-item'><div class='xr-var-name'><span>father</span></div><div class='xr-var-dims'>(sample)</div><div class='xr-var-dtype'>object</div><div class='xr-var-preview xr-preview'>&#x27;0&#x27; &#x27;0&#x27; &#x27;0&#x27; &#x27;0&#x27; ... &#x27;0&#x27; &#x27;0&#x27; &#x27;0&#x27; &#x27;0&#x27;</div><input id='attrs-4aca4b1a-d26e-4b63-91b9-cae2e086a6e4' class='xr-var-attrs-in' type='checkbox' disabled><label for='attrs-4aca4b1a-d26e-4b63-91b9-cae2e086a6e4' title='Show/Hide attributes'><svg class='icon xr-icon-file-text2'><use xlink:href='#icon-file-text2'></use></svg></label><input id='data-900d7931-585e-4adf-8697-76b797f7d41d' class='xr-var-data-in' type='checkbox'><label for='data-900d7931-585e-4adf-8697-76b797f7d41d' title='Show/Hide data repr'><svg class='icon xr-icon-database'><use xlink:href='#icon-database'></use></svg></label><div class='xr-var-attrs'><dl class='xr-attrs'></dl></div><div class='xr-var-data'><pre>array([&#x27;0&#x27;, &#x27;0&#x27;, &#x27;0&#x27;, ..., &#x27;0&#x27;, &#x27;0&#x27;, &#x27;0&#x27;], dtype=object)</pre></div></li><li class='xr-var-item'><div class='xr-var-name'><span>mother</span></div><div class='xr-var-dims'>(sample)</div><div class='xr-var-dtype'>object</div><div class='xr-var-preview xr-preview'>&#x27;0&#x27; &#x27;0&#x27; &#x27;0&#x27; &#x27;0&#x27; ... &#x27;0&#x27; &#x27;0&#x27; &#x27;0&#x27; &#x27;0&#x27;</div><input id='attrs-e842307f-3ce6-4baa-9ddf-fda9cc3982e5' class='xr-var-attrs-in' type='checkbox' disabled><label for='attrs-e842307f-3ce6-4baa-9ddf-fda9cc3982e5' title='Show/Hide attributes'><svg class='icon xr-icon-file-text2'><use xlink:href='#icon-file-text2'></use></svg></label><input id='data-f0a2db95-b917-44f6-a4ef-89df031ddfca' class='xr-var-data-in' type='checkbox'><label for='data-f0a2db95-b917-44f6-a4ef-89df031ddfca' title='Show/Hide data repr'><svg class='icon xr-icon-database'><use xlink:href='#icon-database'></use></svg></label><div class='xr-var-attrs'><dl class='xr-attrs'></dl></div><div class='xr-var-data'><pre>array([&#x27;0&#x27;, &#x27;0&#x27;, &#x27;0&#x27;, ..., &#x27;0&#x27;, &#x27;0&#x27;, &#x27;0&#x27;], dtype=object)</pre></div></li><li class='xr-var-item'><div class='xr-var-name'><span>gender</span></div><div class='xr-var-dims'>(sample)</div><div class='xr-var-dtype'>object</div><div class='xr-var-preview xr-preview'>&#x27;0&#x27; &#x27;0&#x27; &#x27;0&#x27; &#x27;0&#x27; ... &#x27;0&#x27; &#x27;0&#x27; &#x27;0&#x27; &#x27;0&#x27;</div><input id='attrs-3aeae2a2-68fb-4b08-9b2f-c291f4ea423f' class='xr-var-attrs-in' type='checkbox' disabled><label for='attrs-3aeae2a2-68fb-4b08-9b2f-c291f4ea423f' title='Show/Hide attributes'><svg class='icon xr-icon-file-text2'><use xlink:href='#icon-file-text2'></use></svg></label><input id='data-6dd6c930-d72c-466a-b0ea-ed5747ac13fd' class='xr-var-data-in' type='checkbox'><label for='data-6dd6c930-d72c-466a-b0ea-ed5747ac13fd' title='Show/Hide data repr'><svg class='icon xr-icon-database'><use xlink:href='#icon-database'></use></svg></label><div class='xr-var-attrs'><dl class='xr-attrs'></dl></div><div class='xr-var-data'><pre>array([&#x27;0&#x27;, &#x27;0&#x27;, &#x27;0&#x27;, ..., &#x27;0&#x27;, &#x27;0&#x27;, &#x27;0&#x27;], dtype=object)</pre></div></li><li class='xr-var-item'><div class='xr-var-name'><span>trait</span></div><div class='xr-var-dims'>(sample)</div><div class='xr-var-dtype'>object</div><div class='xr-var-preview xr-preview'>&#x27;-9&#x27; &#x27;-9&#x27; &#x27;-9&#x27; ... &#x27;-9&#x27; &#x27;-9&#x27; &#x27;-9&#x27;</div><input id='attrs-7a4320d8-b598-42b8-82e6-6785c05ba35e' class='xr-var-attrs-in' type='checkbox' disabled><label for='attrs-7a4320d8-b598-42b8-82e6-6785c05ba35e' title='Show/Hide attributes'><svg class='icon xr-icon-file-text2'><use xlink:href='#icon-file-text2'></use></svg></label><input id='data-41783380-c86f-40e2-bb98-d0e72d946bdd' class='xr-var-data-in' type='checkbox'><label for='data-41783380-c86f-40e2-bb98-d0e72d946bdd' title='Show/Hide data repr'><svg class='icon xr-icon-database'><use xlink:href='#icon-database'></use></svg></label><div class='xr-var-attrs'><dl class='xr-attrs'></dl></div><div class='xr-var-data'><pre>array([&#x27;-9&#x27;, &#x27;-9&#x27;, &#x27;-9&#x27;, ..., &#x27;-9&#x27;, &#x27;-9&#x27;, &#x27;-9&#x27;], dtype=object)</pre></div></li><li class='xr-var-item'><div class='xr-var-name'><span>chrom</span></div><div class='xr-var-dims'>(variant)</div><div class='xr-var-dtype'>object</div><div class='xr-var-preview xr-preview'>&#x27;22&#x27; &#x27;22&#x27; &#x27;22&#x27; ... &#x27;22&#x27; &#x27;22&#x27; &#x27;22&#x27;</div><input id='attrs-15ea4b32-7955-4540-adaf-852900d39ac1' class='xr-var-attrs-in' type='checkbox' disabled><label for='attrs-15ea4b32-7955-4540-adaf-852900d39ac1' title='Show/Hide attributes'><svg class='icon xr-icon-file-text2'><use xlink:href='#icon-file-text2'></use></svg></label><input id='data-0fecb53e-f28e-4fe8-8d2f-35557377bb32' class='xr-var-data-in' type='checkbox'><label for='data-0fecb53e-f28e-4fe8-8d2f-35557377bb32' title='Show/Hide data repr'><svg class='icon xr-icon-database'><use xlink:href='#icon-database'></use></svg></label><div class='xr-var-attrs'><dl class='xr-attrs'></dl></div><div class='xr-var-data'><pre>array([&#x27;22&#x27;, &#x27;22&#x27;, &#x27;22&#x27;, ..., &#x27;22&#x27;, &#x27;22&#x27;, &#x27;22&#x27;], dtype=object)</pre></div></li><li class='xr-var-item'><div class='xr-var-name'><span>snp</span></div><div class='xr-var-dims'>(variant)</div><div class='xr-var-dtype'>object</div><div class='xr-var-preview xr-preview'>&#x27;rs201574129&#x27; ... &#x27;rs28852528&#x27;</div><input id='attrs-76970f56-084c-4e25-a309-e0ab43f85974' class='xr-var-attrs-in' type='checkbox' disabled><label for='attrs-76970f56-084c-4e25-a309-e0ab43f85974' title='Show/Hide attributes'><svg class='icon xr-icon-file-text2'><use xlink:href='#icon-file-text2'></use></svg></label><input id='data-d275f920-969b-482f-86f0-65b22c87416b' class='xr-var-data-in' type='checkbox'><label for='data-d275f920-969b-482f-86f0-65b22c87416b' title='Show/Hide data repr'><svg class='icon xr-icon-database'><use xlink:href='#icon-database'></use></svg></label><div class='xr-var-attrs'><dl class='xr-attrs'></dl></div><div class='xr-var-data'><pre>array([&#x27;rs201574129&#x27;, &#x27;rs2078654&#x27;, &#x27;rs201328411&#x27;, ..., &#x27;rs368487204&#x27;,\n",
       "       &#x27;rs74509399&#x27;, &#x27;rs28852528&#x27;], dtype=object)</pre></div></li><li class='xr-var-item'><div class='xr-var-name'><span>cm</span></div><div class='xr-var-dims'>(variant)</div><div class='xr-var-dtype'>float64</div><div class='xr-var-preview xr-preview'>0.0 0.0 0.0 0.0 ... 0.0 0.0 0.0 0.0</div><input id='attrs-972f85c2-5669-4a13-b936-4842b1df5251' class='xr-var-attrs-in' type='checkbox' disabled><label for='attrs-972f85c2-5669-4a13-b936-4842b1df5251' title='Show/Hide attributes'><svg class='icon xr-icon-file-text2'><use xlink:href='#icon-file-text2'></use></svg></label><input id='data-911f0fd8-f001-49d8-9cd6-14a6ea91caa8' class='xr-var-data-in' type='checkbox'><label for='data-911f0fd8-f001-49d8-9cd6-14a6ea91caa8' title='Show/Hide data repr'><svg class='icon xr-icon-database'><use xlink:href='#icon-database'></use></svg></label><div class='xr-var-attrs'><dl class='xr-attrs'></dl></div><div class='xr-var-data'><pre>array([0., 0., 0., ..., 0., 0., 0.])</pre></div></li><li class='xr-var-item'><div class='xr-var-name'><span>pos</span></div><div class='xr-var-dims'>(variant)</div><div class='xr-var-dtype'>int32</div><div class='xr-var-preview xr-preview'>16591627 16636637 ... 50791182</div><input id='attrs-1297a7f9-a631-44fe-8eb7-6b61b54a7d08' class='xr-var-attrs-in' type='checkbox' disabled><label for='attrs-1297a7f9-a631-44fe-8eb7-6b61b54a7d08' title='Show/Hide attributes'><svg class='icon xr-icon-file-text2'><use xlink:href='#icon-file-text2'></use></svg></label><input id='data-ba297d00-69c1-4d3f-8869-e8ffb41691ce' class='xr-var-data-in' type='checkbox'><label for='data-ba297d00-69c1-4d3f-8869-e8ffb41691ce' title='Show/Hide data repr'><svg class='icon xr-icon-database'><use xlink:href='#icon-database'></use></svg></label><div class='xr-var-attrs'><dl class='xr-attrs'></dl></div><div class='xr-var-data'><pre>array([16591627, 16636637, 16673521, ..., 50789491, 50789720, 50791182],\n",
       "      dtype=int32)</pre></div></li><li class='xr-var-item'><div class='xr-var-name'><span>a0</span></div><div class='xr-var-dims'>(variant)</div><div class='xr-var-dtype'>object</div><div class='xr-var-preview xr-preview'>&#x27;T&#x27; &#x27;C&#x27; &#x27;C&#x27; &#x27;A&#x27; ... &#x27;C&#x27; &#x27;T&#x27; &#x27;T&#x27; &#x27;A&#x27;</div><input id='attrs-00069a33-b635-4ca3-9833-5d1ae1aaf6de' class='xr-var-attrs-in' type='checkbox' disabled><label for='attrs-00069a33-b635-4ca3-9833-5d1ae1aaf6de' title='Show/Hide attributes'><svg class='icon xr-icon-file-text2'><use xlink:href='#icon-file-text2'></use></svg></label><input id='data-f3243c09-3877-4495-82ed-a33d37439abb' class='xr-var-data-in' type='checkbox'><label for='data-f3243c09-3877-4495-82ed-a33d37439abb' title='Show/Hide data repr'><svg class='icon xr-icon-database'><use xlink:href='#icon-database'></use></svg></label><div class='xr-var-attrs'><dl class='xr-attrs'></dl></div><div class='xr-var-data'><pre>array([&#x27;T&#x27;, &#x27;C&#x27;, &#x27;C&#x27;, ..., &#x27;T&#x27;, &#x27;T&#x27;, &#x27;A&#x27;], dtype=object)</pre></div></li><li class='xr-var-item'><div class='xr-var-name'><span>a1</span></div><div class='xr-var-dims'>(variant)</div><div class='xr-var-dtype'>object</div><div class='xr-var-preview xr-preview'>&#x27;A&#x27; &#x27;T&#x27; &#x27;T&#x27; &#x27;G&#x27; ... &#x27;T&#x27; &#x27;C&#x27; &#x27;C&#x27; &#x27;C&#x27;</div><input id='attrs-5a3b54d6-92ec-43c1-ab07-4395fb63a1bb' class='xr-var-attrs-in' type='checkbox' disabled><label for='attrs-5a3b54d6-92ec-43c1-ab07-4395fb63a1bb' title='Show/Hide attributes'><svg class='icon xr-icon-file-text2'><use xlink:href='#icon-file-text2'></use></svg></label><input id='data-04b267b3-c16f-4ac0-adbb-49edcf30b13e' class='xr-var-data-in' type='checkbox'><label for='data-04b267b3-c16f-4ac0-adbb-49edcf30b13e' title='Show/Hide data repr'><svg class='icon xr-icon-database'><use xlink:href='#icon-database'></use></svg></label><div class='xr-var-attrs'><dl class='xr-attrs'></dl></div><div class='xr-var-data'><pre>array([&#x27;A&#x27;, &#x27;T&#x27;, &#x27;T&#x27;, ..., &#x27;C&#x27;, &#x27;C&#x27;, &#x27;C&#x27;], dtype=object)</pre></div></li></ul></div></li><li class='xr-section-item'><input id='section-e79261e5-c25d-4b52-b3d2-b91a72259903' class='xr-section-summary-in' type='checkbox' disabled ><label for='section-e79261e5-c25d-4b52-b3d2-b91a72259903' class='xr-section-summary'  title='Expand/collapse section'>Attributes: <span>(0)</span></label><div class='xr-section-inline-details'></div><div class='xr-section-details'><dl class='xr-attrs'></dl></div></li></ul></div></div>"
      ],
      "text/plain": [
       "<xarray.DataArray 'genotype' (sample: 2504, variant: 2576)>\n",
       "dask.array<transpose, shape=(2504, 2576), dtype=float32, chunksize=(1024, 1024), chunktype=numpy.ndarray>\n",
       "Coordinates:\n",
       "  * sample   (sample) object 'HG00096' 'HG00097' ... 'NA21143' 'NA21144'\n",
       "  * variant  (variant) <U11 'variant0' 'variant1' ... 'variant2575'\n",
       "    fid      (sample) object 'HG00096' 'HG00097' ... 'NA21143' 'NA21144'\n",
       "    iid      (sample) object 'HG00096' 'HG00097' ... 'NA21143' 'NA21144'\n",
       "    father   (sample) object '0' '0' '0' '0' '0' '0' ... '0' '0' '0' '0' '0' '0'\n",
       "    mother   (sample) object '0' '0' '0' '0' '0' '0' ... '0' '0' '0' '0' '0' '0'\n",
       "    gender   (sample) object '0' '0' '0' '0' '0' '0' ... '0' '0' '0' '0' '0' '0'\n",
       "    trait    (sample) object '-9' '-9' '-9' '-9' '-9' ... '-9' '-9' '-9' '-9'\n",
       "    chrom    (variant) object '22' '22' '22' '22' '22' ... '22' '22' '22' '22'\n",
       "    snp      (variant) object 'rs201574129' 'rs2078654' ... 'rs28852528'\n",
       "    cm       (variant) float64 0.0 0.0 0.0 0.0 0.0 0.0 ... 0.0 0.0 0.0 0.0 0.0\n",
       "    pos      (variant) int32 16591627 16636637 16673521 ... 50789720 50791182\n",
       "    a0       (variant) object 'T' 'C' 'C' 'A' 'G' 'G' ... 'G' 'C' 'T' 'T' 'A'\n",
       "    a1       (variant) object 'A' 'T' 'T' 'G' 'A' 'T' ... 'C' 'T' 'C' 'C' 'C'"
      ]
     },
     "execution_count": 10,
     "metadata": {},
     "output_type": "execute_result"
    }
   ],
   "source": [
    "# sub_G = G.where(G.chrom == chr_selected, drop=True)\n",
    "# sub_G\n",
    "G"
   ]
  },
  {
   "cell_type": "code",
   "execution_count": 11,
   "metadata": {},
   "outputs": [
    {
     "name": "stdout",
     "output_type": "stream",
     "text": [
      "(2504, 2576)\n"
     ]
    }
   ],
   "source": [
    "X = G.values\n",
    "\n",
    "print(X.shape)\n",
    "N, p = X.shape"
   ]
  },
  {
   "cell_type": "markdown",
   "metadata": {},
   "source": [
    "### Subsample Genotype"
   ]
  },
  {
   "cell_type": "code",
   "execution_count": 9,
   "metadata": {},
   "outputs": [],
   "source": [
    "p = 5000\n",
    "nSNPs= p\n",
    "\n",
    "subset_X = X[:, :p]\n",
    "subset_mask = mask[:p, :]\n",
    "subset_mask = subset_mask[:, subset_mask.any(0)]"
   ]
  },
  {
   "cell_type": "markdown",
   "metadata": {},
   "source": [
    "### Simulate Phenotypes"
   ]
  },
  {
   "cell_type": "code",
   "execution_count": 12,
   "metadata": {},
   "outputs": [
    {
     "name": "stdout",
     "output_type": "stream",
     "text": [
      "Shape of the phenotype array: (2504, 1)\n"
     ]
    }
   ],
   "source": [
    "############### SIMULATING PHENOTYPES #################\n",
    "# Defining the parameters of the phenotype simulations:\n",
    "\n",
    "H2 = 0.6 #Broad-sense heritability, meaning 60% of phenotypic variation is explained by genotypic variation.\n",
    "rho= 0.5 #All of the heritability comes from additive effects\n",
    "causal_indices=np.arange(0,np.int32(0.01*p)) #Pick the first 10 of 1000 SNPs to have non-zero effect sizes\n",
    "ncausal=len(causal_indices)\n",
    "\n",
    "# Simulate phenotype data based on additive effects:\n",
    "\n",
    "Xadditive=X[:, causal_indices] # Get the causal SNP values\n",
    "betaAdd= np.repeat(1, ncausal)# Initialize all effect sizes for these SNPs as \"1\"\n",
    "#Initialize the value of the portion of phenotypic variation explained by the additive effects as XB:\n",
    "y_additive=np.dot(Xadditive, betaAdd)\n",
    "# Re-scale additive effect sizes based on H^2*rho:\n",
    "betaAdd= betaAdd * np.sqrt(H2*rho/np.var(y_additive))\n",
    "# Update y_additive based on effect sizes:\n",
    "y_additive=np.dot(Xadditive, betaAdd) \n",
    "\n",
    "\n",
    "Xepi=[]\n",
    "for i in causal_indices:\n",
    "    for j in range(i+1, causal_indices[-1]+1):\n",
    "        Xepi.append(np.multiply(X[:, i], X[:, j]))\n",
    "Xepi=np.column_stack(Xepi) #Matrix that holds the values for \n",
    "# pairwise interactions between all causal SNPs.\n",
    "\n",
    "betaEpi= (np.array([1]*Xepi.shape[1])).reshape(-1,1) #Similar to the additive effects,\n",
    "# epistatic effect sizes are initialized as 1 and will be corrected below.\n",
    "y_epi= np.dot(Xepi, betaEpi)\n",
    "betaEpi= betaEpi* np.sqrt(H2*(1-rho)/np.var(y_epi))\n",
    "y_epi= np.dot(Xepi, betaEpi) # Final value for the portion of phenotypes explained by\n",
    "#the epistatic effects\n",
    "\n",
    "\n",
    "\n",
    "# Simulate random noise (drawn from standard normal distribution) for the rest of phenotypic variation (40%):\n",
    "y_noise = np.random.normal(size=N)\n",
    "y_noise = y_noise * np.sqrt((1 - H2) / np.var(y_noise))\n",
    "\n",
    "# Add y_additive and y_noise to get the final simulated phenotypes:\n",
    "# y = np.add(y_additive.reshape(N, 1), y_noise.reshape(N, 1)) \n",
    "y = np.add(y_additive.reshape(N, 1),y_epi.reshape(N, 1), y_noise.reshape(N, 1)) \n",
    "print(\"Shape of the phenotype array:\", y.shape)"
   ]
  },
  {
   "cell_type": "code",
   "execution_count": 13,
   "metadata": {},
   "outputs": [],
   "source": [
    "# np.savetxt(\"X.txt\", subset_X, delimiter=\" \")\n",
    "np.savetxt(\"y_pairwise.txt\", y, delimiter=\" \")"
   ]
  },
  {
   "cell_type": "code",
   "execution_count": 120,
   "metadata": {},
   "outputs": [
    {
     "data": {
      "text/plain": [
       "(2504, 1)"
      ]
     },
     "execution_count": 120,
     "metadata": {},
     "output_type": "execute_result"
    }
   ],
   "source": [
    "# %%capture\n",
    "# !pip uninstall --y tensorflow\n",
    "# !pip install tensorflow"
   ]
  },
  {
   "cell_type": "code",
   "execution_count": null,
   "metadata": {},
   "outputs": [
    {
     "name": "stdout",
     "output_type": "stream",
     "text": [
      "Welcome to BANNs. Please make sure SNPs in the SNP List you provide are in the same order as in the genotype matrix. Results we return will be in the order of SNP annotations and SNP-set annotations.\n",
      "(2504,)\n",
      "20/20 [==============================] - 357s 18s/step\n",
      "20/20 [==============================] - 354s 18s/step\n",
      "(2504, 411)\n",
      "(2504,)\n",
      "20/20 [==============================] - 13s 626ms/step\n",
      "20/20 [==============================] - 13s 629ms/step\n",
      "constructing kernelized features...\n",
      "411/411 [==============================] - 0s 350us/step\n",
      "start optional layer: SET_nonlinear_layer...\n",
      "(2504,)\n",
      "20/20 [==============================] - 370s 19s/step\n",
      "18/20 [==========================>...] - ETA: 36s"
     ]
    }
   ],
   "source": [
    "# X = np.loadtxt(\"X.txt\")\n",
    "y = np.loadtxt(\"y_pairwise.txt\")\n",
    "mask = np.loadtxt(data_folder+f\"chr{chr_selected}_Mask.txt\")\n",
    "\n",
    "bann=BANNs(X,y, mask, nModelsSNP=20, nModelsSET=20, nModelsSET_nonlinear=20, epi_p = 0.1)\n",
    "[SNP_layer, SET_layer, SET_layer_nonlinear]=bann.run(nonlinear_flag=True)\n",
    "print(\"PVE\")\n",
    "print(SNP_layer.pve)\n",
    "print(SET_layer.pve)\n",
    "print(SET_layer_nonlinear.pve)\n",
    "\n",
    "SNPpips=SNP_layer.pip\n",
    "SETpips=SET_layer.pip\n",
    "SET_nonlinear_pips=SET_layer_nonlinear.pip\n",
    "\n",
    "plt.scatter(np.arange(len(SNPpips)), SNPpips)\n",
    "plt.show()\n",
    "\n",
    "plt.scatter(np.arange(len(SETpips)), SETpips)\n",
    "plt.show()\n",
    "\n",
    "plt.scatter(np.arange(len(SET_nonlinear_pips)), SET_nonlinear_pips)\n",
    "plt.show()"
   ]
  },
  {
   "cell_type": "code",
   "execution_count": 22,
   "metadata": {},
   "outputs": [
    {
     "data": {
      "text/plain": [
       "array([ 0,  1,  2,  3,  4,  5,  6,  7,  8,  9, 10, 11, 12, 13, 14, 15, 16,\n",
       "       17, 18, 19, 20, 21, 22, 23, 24, 25, 26, 27, 28, 29, 30, 31, 32, 33,\n",
       "       34, 35, 36, 37, 38, 39, 40, 41, 42, 43, 44, 45, 46, 47, 48, 49, 50,\n",
       "       51, 52, 53, 54, 55, 56, 57, 58, 59, 60, 61, 62, 63, 64, 65, 66, 67,\n",
       "       68, 69, 70, 71, 72, 73, 74, 75, 76, 77, 78, 79, 80, 81, 82, 83, 84,\n",
       "       85, 86, 87, 88, 89, 90, 91, 92, 93, 94, 95, 96, 97, 98, 99])"
      ]
     },
     "execution_count": 22,
     "metadata": {},
     "output_type": "execute_result"
    }
   ],
   "source": [
    "causal_indices"
   ]
  },
  {
   "cell_type": "code",
   "execution_count": 23,
   "metadata": {},
   "outputs": [
    {
     "name": "stdout",
     "output_type": "stream",
     "text": [
      "[   0    1    3    5    6   10   12   13   15   16   18   19   25   26\n",
      "   29   30   31   34   35   37   39   41   42   44   46   49   51   52\n",
      "   54   55   56   58   59   60   62   63   64   65   66   67   68   69\n",
      "   71   73   74   75   76   77   80   81   83   84   86   87   88   89\n",
      "   90   91   92   94  102  619 1895]\n",
      "[ 0  7 21]\n",
      "[   0    1    3    5    6    7   10   12   13   15   16   18   19   21\n",
      "   25   26   29   30   31   34   35   37   39   41   42   44   46   49\n",
      "   51   52   54   55   56   58   59   60   62   63   64   65   66   67\n",
      "   68   69   71   73   74   75   76   77   80   81   83   84   86   87\n",
      "   88   89   90   91   92   94  102  619 1895]\n"
     ]
    }
   ],
   "source": [
    "snp_clustering = DBSCAN(eps=0.1, min_samples=2).fit(SNPpips.reshape(-1, 1))\n",
    "dict_labels_snp = Counter(snp_clustering.labels_)\n",
    "del dict_labels_snp[-1]\n",
    "snp_level_indices = np.where(snp_clustering.labels_ == min(dict_labels_snp, key=dict_labels_snp.get))[0]\n",
    "set_clustering = DBSCAN(eps=0.1, min_samples=2).fit(SETpips.reshape(-1, 1))\n",
    "dict_labels_set = Counter(set_clustering.labels_)\n",
    "del dict_labels_set[-1]\n",
    "set_level_indices = np.where(set_clustering.labels_ == min(dict_labels_set, key=dict_labels_set.get))[0]\n",
    "potential_indices = np.sort(np.array(list(set(set_level_indices).union(snp_level_indices))))\n",
    "print(snp_level_indices)\n",
    "print(set_level_indices)\n",
    "print(potential_indices)"
   ]
  },
  {
   "cell_type": "code",
   "execution_count": 25,
   "metadata": {},
   "outputs": [
    {
     "name": "stdout",
     "output_type": "stream",
     "text": [
      "[ 0  7 21]\n"
     ]
    }
   ],
   "source": [
    "nSets_selected = list(set(np.hstack(list(map(lambda x: np.where(x == 1)[0], subset_mask[potential_indices, :])))))\n",
    "if len(nSets_selected) <= 0:\n",
    "    print(\"no SNP Sets selected\")\n",
    "# elif len(nSets_selected) == 1:\n",
    "#     potential_sets = np.array([nSets_selected[0]-1, nSets_selected[0]+1])\n",
    "#     potential_sets = potential_sets[potential_sets >= 0]\n",
    "#     potential_sets = potential_sets[potential_sets < selected_mask.shape[1]]\n",
    "    \n",
    "#     nSets_selected.extend(potential_sets)\n",
    "nSets_selected = np.sort(nSets_selected) \n",
    "print(nSets_selected)"
   ]
  },
  {
   "cell_type": "code",
   "execution_count": 26,
   "metadata": {},
   "outputs": [
    {
     "name": "stdout",
     "output_type": "stream",
     "text": [
      "1260\n"
     ]
    }
   ],
   "source": [
    "potential_indices = np.concatenate([np.where(subset_mask[:, i] == 1)[0] for i in nSets_selected])\n",
    "print(len(potential_indices))"
   ]
  },
  {
   "cell_type": "code",
   "execution_count": 27,
   "metadata": {},
   "outputs": [
    {
     "name": "stdout",
     "output_type": "stream",
     "text": [
      "(2520, 3)\n",
      "(2504, 2520)\n"
     ]
    }
   ],
   "source": [
    "X_selected = subset_X[:, potential_indices]\n",
    "mask_selected = subset_mask[potential_indices, :]\n",
    "mask_selected = mask_selected[:, mask_selected.any(0)]\n",
    "nSets_selected = mask_selected.shape[1]\n",
    "\n",
    "for i in range(0, nSets_selected):\n",
    "    indices = np.where(mask_selected[:, i] == 1)[0]\n",
    "    if len(indices) <= 1:\n",
    "        X_selected = np.delete(X_selected, indices, axis=1)\n",
    "        mask_selected = np.delete(mask_selected, indices, axis=0)\n",
    "        \n",
    "        \n",
    "mask_selected = mask_selected[:, mask_selected.any(0)]\n",
    "nSets_selected = mask_selected.shape[1]\n",
    "\n",
    "X_epi = []\n",
    "num_feature_in_sets = []\n",
    "for i in range(0, nSets_selected):\n",
    "    indices = np.where(mask_selected[:, i] == 1)[0]\n",
    "    current_X = X_selected[:, indices]\n",
    "    \n",
    "#     Z = []\n",
    "#     for i in range(len(indices)):\n",
    "#         for j in range(i+1, len(indices)):\n",
    "#             Z.append(np.multiply(current_X[:, i], current_X[:, j]))\n",
    "#     Z  = np.column_stack(Z)\n",
    "    \n",
    "    rff_kernel = RFF_gpytorch(gamma=0.1, n_components=4*len(indices),seed=111)\n",
    "    Z = rff_kernel.fit_transform(X_selected[:, indices])\n",
    "    \n",
    "    X_epi.append(Z)\n",
    "    num_feature_in_sets.append(Z.shape[1])\n",
    "    \n",
    "X_epi=np.column_stack(X_epi)\n",
    "dim_set = X_epi.shape[1]//nSets_selected ## number of features per SNP set\n",
    "\n",
    "mask_epi=np.zeros(shape=(sum(num_feature_in_sets),nSets_selected))\n",
    "\n",
    "start_idx = 0\n",
    "for i in range(0, nSets_selected):\n",
    "    num_features = num_feature_in_sets[i]\n",
    "    for j in range(start_idx, start_idx+num_features):\n",
    "        mask_epi[j] = np.zeros(nSets_selected)\n",
    "        mask_epi[j][i] = 1\n",
    "    start_idx += num_features\n",
    "        \n",
    "\n",
    "print(mask_epi.shape)\n",
    "print(X_epi.shape)\n",
    "# np.savetxt(\"X_epi_test2.txt\", X_epi, delimiter=\" \")\n",
    "# np.savetxt(\"mask_epi_test2.txt\",mask_epi, delimiter=\" \")"
   ]
  },
  {
   "cell_type": "code",
   "execution_count": 28,
   "metadata": {},
   "outputs": [
    {
     "name": "stdout",
     "output_type": "stream",
     "text": [
      "Welcome to BANNs. Please make sure SNPs in the SNP List you provide are in the same order as in the genotype matrix. Results we return will be in the order of SNP annotations and SNP-set annotations.\n",
      "(2504,)\n",
      "20/20 [==============================] - 319s 16s/step\n",
      "20/20 [==============================] - 321s 16s/step\n",
      "(2504, 3)\n",
      "(2504,)\n",
      "20/20 [==============================] - 0s 5ms/step\n",
      "20/20 [==============================] - 0s 5ms/step\n",
      "PVE\n",
      "0.12700891191334318\n",
      "0.1973736533443662\n"
     ]
    }
   ],
   "source": [
    "# X_epi = np.loadtxt(\"X_epi_test2.txt\")\n",
    "# y = np.loadtxt(\"ytest2.txt\")\n",
    "# mask_epi = np.loadtxt(\"mask_epi_test2.txt\")\n",
    "\n",
    "bann_epi=BANNs(X_epi,y, mask_epi, nModelsSNP=20, nModelsSET=20)\n",
    "[SNP_layer_epi, SET_layer_epi]=bann_epi.run()\n",
    "print(\"PVE\")\n",
    "print(SNP_layer_epi.pve)\n",
    "print(SET_layer_epi.pve)\n",
    "\n",
    "\n",
    "SNPpips_epi=SNP_layer_epi.pip\n",
    "SETpips_epi=SET_layer_epi.pip\n"
   ]
  },
  {
   "cell_type": "code",
   "execution_count": 29,
   "metadata": {},
   "outputs": [
    {
     "data": {
      "image/png": "[encoded data removed]",
      "text/plain": [
       "<Figure size 432x288 with 1 Axes>"
      ]
     },
     "metadata": {
      "needs_background": "light"
     },
     "output_type": "display_data"
    },
    {
     "data": {
      "image/png": "[encoded data removed]",
      "text/plain": [
       "<Figure size 432x288 with 1 Axes>"
      ]
     },
     "metadata": {
      "needs_background": "light"
     },
     "output_type": "display_data"
    }
   ],
   "source": [
    "plt.scatter(np.arange(len(SNPpips_epi)), SNPpips_epi)\n",
    "plt.show()\n",
    "\n",
    "plt.scatter(np.arange(len(SETpips_epi)), SETpips_epi)\n",
    "plt.show()\n",
    "\n",
    "# print(SNP_layer.pve+SNP_layer_epi.pve)\n",
    "# print(SET_layer.pve+SET_layer_epi.pve)\n",
    "# SNPpips_epi=SNP_layer_epi.pip\n",
    "# SETpips_epi=SET_layer_epi.pip\n",
    "\n",
    "# clustering = DBSCAN(eps=0.1, min_samples=2).fit(SNPpips_epi.reshape(-1, 1))\n",
    "# dict_labels_snp = Counter(clustering.labels_)\n",
    "# del dict_labels_snp[-1]\n",
    "# snp_level_indices = np.where(clustering.labels_ == min(dict_labels_snp, key=dict_labels_snp.get))[0]\n",
    "# snp_level_indices"
   ]
  },
  {
   "cell_type": "markdown",
   "metadata": {},
   "source": [
    "### Computational Power\n",
    "ROC curves"
   ]
  },
  {
   "cell_type": "code",
   "execution_count": null,
   "metadata": {
    "collapsed": true
   },
   "outputs": [],
   "source": []
  }
 ],
 "metadata": {
  "kernelspec": {
   "display_name": "Python 3 (ipykernel)",
   "language": "python",
   "name": "python3"
  },
  "language_info": {
   "codemirror_mode": {
    "name": "ipython",
    "version": 3
   },
   "file_extension": ".py",
   "mimetype": "text/x-python",
   "name": "python",
   "nbconvert_exporter": "python",
   "pygments_lexer": "ipython3",
   "version": "3.9.6"
  },
  "vscode": {
   "interpreter": {
    "hash": "31f2aee4e71d21fbe5cf8b01ff0e069b9275f58929596ceb00d14d90e3e16cd6"
   }
  }
 },
 "nbformat": 4,
 "nbformat_minor": 4
}

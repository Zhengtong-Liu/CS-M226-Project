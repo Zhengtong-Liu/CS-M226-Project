{
 "cells": [
  {
   "cell_type": "markdown",
   "metadata": {},
   "source": [
    "### Preparation (Import Packages)"
   ]
  },
  {
   "cell_type": "code",
   "execution_count": 1,
   "metadata": {},
   "outputs": [
    {
     "name": "stderr",
     "output_type": "stream",
     "text": [
      "2022-11-30 21:26:43.947759: W tensorflow/stream_executor/platform/default/dso_loader.cc:64] Could not load dynamic library 'libcudart.so.11.0'; dlerror: libcudart.so.11.0: cannot open shared object file: No such file or directory; LD_LIBRARY_PATH: /u/local/apps/python/3.9.6/gcc-4.8.5/lib:/u/local/compilers/intel/2020.4/compilers_and_libraries_2020.4.304/linux/compiler/lib/intel64_lin:/u/local/compilers/intel/2020.4/compilers_and_libraries_2020.4.304/linux/daal/../tbb/lib/intel64_lin/gcc4.4:/u/local/compilers/intel/2020.4/compilers_and_libraries_2020.4.304/linux/daal/../tbb/lib/intel64_lin/gcc4.8:/u/local/compilers/intel/2020.4/compilers_and_libraries_2020.4.304/linux/daal/lib/intel64_lin:/u/local/compilers/intel/2020.4/compilers_and_libraries_2020.4.304/linux/ipp/../tbb/lib/intel64/gcc4.8:/u/local/compilers/intel/2020.4/compilers_and_libraries_2020.4.304/linux/ipp/lib/intel64:/u/local/compilers/intel/2020.4/compilers_and_libraries_2020.4.304/linux/mkl/lib/intel64_lin:/u/local/compilers/intel/2020.4/compilers_and_libraries_2020.4.304/linux/mpi/intel64/lib:/u/local/compilers/intel/2020.4/compilers_and_libraries_2020.4.304/linux/mpi/intel64/lib/release:/u/local/compilers/intel/2020.4/compilers_and_libraries_2020.4.304/linux/mpi/intel64/libfabric/lib:/u/local/compilers/intel/2020.4/compilers_and_libraries_2020.4.304/linux/tbb/lib/intel64/gcc4.8:/u/local/compilers/intel/2020.4/debugger_2020/libipt/intel64/lib:/u/local/compilers/intel/2020.4/debugger_2020/python/intel64/lib\n",
      "2022-11-30 21:26:43.947808: I tensorflow/stream_executor/cuda/cudart_stub.cc:29] Ignore above cudart dlerror if you do not have a GPU set up on your machine.\n",
      "2022-11-30 21:26:43.996754: E tensorflow/stream_executor/cuda/cuda_blas.cc:2981] Unable to register cuBLAS factory: Attempting to register factory for plugin cuBLAS when one has already been registered\n",
      "2022-11-30 21:26:46.113666: W tensorflow/stream_executor/platform/default/dso_loader.cc:64] Could not load dynamic library 'libnvinfer.so.7'; dlerror: libnvinfer.so.7: cannot open shared object file: No such file or directory; LD_LIBRARY_PATH: /u/local/apps/python/3.9.6/gcc-4.8.5/lib:/u/local/compilers/intel/2020.4/compilers_and_libraries_2020.4.304/linux/compiler/lib/intel64_lin:/u/local/compilers/intel/2020.4/compilers_and_libraries_2020.4.304/linux/daal/../tbb/lib/intel64_lin/gcc4.4:/u/local/compilers/intel/2020.4/compilers_and_libraries_2020.4.304/linux/daal/../tbb/lib/intel64_lin/gcc4.8:/u/local/compilers/intel/2020.4/compilers_and_libraries_2020.4.304/linux/daal/lib/intel64_lin:/u/local/compilers/intel/2020.4/compilers_and_libraries_2020.4.304/linux/ipp/../tbb/lib/intel64/gcc4.8:/u/local/compilers/intel/2020.4/compilers_and_libraries_2020.4.304/linux/ipp/lib/intel64:/u/local/compilers/intel/2020.4/compilers_and_libraries_2020.4.304/linux/mkl/lib/intel64_lin:/u/local/compilers/intel/2020.4/compilers_and_libraries_2020.4.304/linux/mpi/intel64/lib:/u/local/compilers/intel/2020.4/compilers_and_libraries_2020.4.304/linux/mpi/intel64/lib/release:/u/local/compilers/intel/2020.4/compilers_and_libraries_2020.4.304/linux/mpi/intel64/libfabric/lib:/u/local/compilers/intel/2020.4/compilers_and_libraries_2020.4.304/linux/tbb/lib/intel64/gcc4.8:/u/local/compilers/intel/2020.4/debugger_2020/libipt/intel64/lib:/u/local/compilers/intel/2020.4/debugger_2020/python/intel64/lib\n",
      "2022-11-30 21:26:46.113849: W tensorflow/stream_executor/platform/default/dso_loader.cc:64] Could not load dynamic library 'libnvinfer_plugin.so.7'; dlerror: libnvinfer_plugin.so.7: cannot open shared object file: No such file or directory; LD_LIBRARY_PATH: /u/local/apps/python/3.9.6/gcc-4.8.5/lib:/u/local/compilers/intel/2020.4/compilers_and_libraries_2020.4.304/linux/compiler/lib/intel64_lin:/u/local/compilers/intel/2020.4/compilers_and_libraries_2020.4.304/linux/daal/../tbb/lib/intel64_lin/gcc4.4:/u/local/compilers/intel/2020.4/compilers_and_libraries_2020.4.304/linux/daal/../tbb/lib/intel64_lin/gcc4.8:/u/local/compilers/intel/2020.4/compilers_and_libraries_2020.4.304/linux/daal/lib/intel64_lin:/u/local/compilers/intel/2020.4/compilers_and_libraries_2020.4.304/linux/ipp/../tbb/lib/intel64/gcc4.8:/u/local/compilers/intel/2020.4/compilers_and_libraries_2020.4.304/linux/ipp/lib/intel64:/u/local/compilers/intel/2020.4/compilers_and_libraries_2020.4.304/linux/mkl/lib/intel64_lin:/u/local/compilers/intel/2020.4/compilers_and_libraries_2020.4.304/linux/mpi/intel64/lib:/u/local/compilers/intel/2020.4/compilers_and_libraries_2020.4.304/linux/mpi/intel64/lib/release:/u/local/compilers/intel/2020.4/compilers_and_libraries_2020.4.304/linux/mpi/intel64/libfabric/lib:/u/local/compilers/intel/2020.4/compilers_and_libraries_2020.4.304/linux/tbb/lib/intel64/gcc4.8:/u/local/compilers/intel/2020.4/debugger_2020/libipt/intel64/lib:/u/local/compilers/intel/2020.4/debugger_2020/python/intel64/lib\n",
      "2022-11-30 21:26:46.113867: W tensorflow/compiler/tf2tensorrt/utils/py_utils.cc:38] TF-TRT Warning: Cannot dlopen some TensorRT libraries. If you would like to use Nvidia GPU with TensorRT, please make sure the missing libraries mentioned above are installed properly.\n"
     ]
    }
   ],
   "source": [
    "import numpy as np\n",
    "import pandas as pd\n",
    "import matplotlib.pyplot as plt\n",
    "from pandas_plink import read_plink1_bin\n",
    "from sklearn.kernel_approximation import RBFSampler\n",
    "from sklearn.metrics.pairwise import rbf_kernel\n",
    "from sklearn.cluster import DBSCAN\n",
    "from sklearn.decomposition import PCA\n",
    "from sklearn.preprocessing import StandardScaler\n",
    "from sklearn.metrics import roc_curve, auc\n",
    "from collections import Counter\n",
    "import seaborn as sns\n",
    "\n",
    "import sys, ast\n",
    "sys.path.insert(0, '../src/')\n",
    "from annotation import *\n",
    "from BANN import * # Import annotation code\n",
    "\n",
    "sys.path.insert(0, '../examples_docs/')\n",
    "\n",
    "import magenpy as mgp\n",
    "import viprs as vp"
   ]
  },
  {
   "cell_type": "code",
   "execution_count": 2,
   "metadata": {},
   "outputs": [],
   "source": [
    "class RFF_gpytorch:\n",
    "\n",
    "    def __init__(self, gamma, n_components,seed=None):\n",
    "        assert n_components%2 ==0\n",
    "        self.gamma = gamma\n",
    "        self.n_components = n_components\n",
    "        self.seed = seed\n",
    "\n",
    "    def fit(self,X):\n",
    "        seed = self.seed\n",
    "        D = self.n_components\n",
    "        M = X.shape[1]\n",
    "        self.X = X\n",
    "        self.M = M\n",
    "        if seed is not None:\n",
    "            np.random.seed(seed)\n",
    "        W = np.random.standard_normal((M,D//2))\n",
    "        self.W = W\n",
    "        self.seed = seed\n",
    "    \n",
    "    def transform(self, X, active_dims=None):\n",
    "        if active_dims is None:\n",
    "\n",
    "            active_dims = np.array([True for i in range(X.shape[1])])\n",
    "        \n",
    "        W = self.W[active_dims,0:int(self.n_components//2 * np.mean(active_dims))]\n",
    "        X = X[:,active_dims]\n",
    "        D = int(self.n_components*np.mean(active_dims))\n",
    "        gamma = self.gamma\n",
    "        W = np.sqrt(2*gamma)*W\n",
    "        projection = X@W\n",
    "        sin = np.sin(projection)\n",
    "        cos = np.cos(projection)\n",
    "        Combine = np.empty((sin.shape[0],2*sin.shape[1]), dtype=float)\n",
    "        Combine[:,0::2] = sin\n",
    "        Combine[:,1::2] = cos\n",
    "        Combine *= np.sqrt(2.)/np.sqrt(D)\n",
    "\n",
    "        return np.float32(Combine)\n",
    "        \n",
    "    def fit_transform(self,X,active_dims=None):\n",
    "        if active_dims is None:\n",
    "            active_dims = np.array([True for i in range(X.shape[1])])\n",
    "        \n",
    "\n",
    "        seed = self.seed\n",
    "        X = X[:,active_dims]\n",
    "        self.X = X\n",
    "        gamma = self.gamma\n",
    "        D = int(self.n_components//2*np.mean(active_dims))\n",
    "        if seed is not None:\n",
    "            np.random.seed(seed)\n",
    "        M = X.shape[1]\n",
    "        W = np.random.standard_normal((M,D//2))*np.sqrt(2*gamma)\n",
    "        self.W = W\n",
    "        projection = X@W\n",
    "        sin = np.sin(projection)\n",
    "        cos = np.cos(projection)\n",
    "        Combine = np.empty((sin.shape[0],2*sin.shape[1]), dtype=float)\n",
    "        Combine[:,0::2] = sin\n",
    "        Combine[:,1::2] = cos\n",
    "        Combine *= np.sqrt(2.)/np.sqrt(D)\n",
    "        return np.float32(Combine)"
   ]
  },
  {
   "cell_type": "markdown",
   "metadata": {},
   "source": [
    "### Gene Annotation"
   ]
  },
  {
   "cell_type": "code",
   "execution_count": 3,
   "metadata": {},
   "outputs": [],
   "source": [
    "chr_selected = \"22\"\n",
    "\n",
    "data_folder = \"/u/home/z/zhengton/project-sriram/CS-M226-Project/data/\"\n",
    "\n",
    "genotype_prefix = \"chr22_filtered/1000G_eur_chr22\"\n",
    "# data_folder = \"/u/home/z/zhengton/project-sriram/CS-M226-Project/data/\"\n",
    "\n",
    "# genotype_prefix = \"sample_data/1000G_eur_chr22\"\n",
    "\n",
    "path_to_SNPList = data_folder+genotype_prefix+\".map\"\n",
    "path_to_geneList = data_folder+\"gene_list.txt\"\n",
    "path_to_selected_geneList = data_folder+f\"gene_list_chr{chr_selected}.txt\"\n",
    "file_to_annotationDF=data_folder+f\"AnnotationDF_chr{chr_selected}.txt\""
   ]
  },
  {
   "cell_type": "code",
   "execution_count": 4,
   "metadata": {},
   "outputs": [],
   "source": [
    "# geneList_DF = pd.read_csv(path_to_geneList, sep='\\t', header=None)\n",
    "# geneList_DF.columns = [\"Chromosome\", \"Start\", \"End\", \"GeneID\"]\n",
    "# selected_geneList_DF = geneList_DF[geneList_DF.Chromosome == chr_selected]\n",
    "\n",
    "selected_geneList_DF = pd.read_csv(path_to_selected_geneList, sep='\\t', header=None)\n",
    "selected_geneList_DF.columns = [\"Chromosome\", \"Start\", \"End\", \"GeneID\"]"
   ]
  },
  {
   "cell_type": "code",
   "execution_count": 5,
   "metadata": {},
   "outputs": [
    {
     "data": {
      "text/html": [
       "<div>\n",
       "<style scoped>\n",
       "    .dataframe tbody tr th:only-of-type {\n",
       "        vertical-align: middle;\n",
       "    }\n",
       "\n",
       "    .dataframe tbody tr th {\n",
       "        vertical-align: top;\n",
       "    }\n",
       "\n",
       "    .dataframe thead th {\n",
       "        text-align: right;\n",
       "    }\n",
       "</style>\n",
       "<table border=\"1\" class=\"dataframe\">\n",
       "  <thead>\n",
       "    <tr style=\"text-align: right;\">\n",
       "      <th></th>\n",
       "      <th>Chromosome</th>\n",
       "      <th>Start</th>\n",
       "      <th>End</th>\n",
       "      <th>GeneID</th>\n",
       "    </tr>\n",
       "  </thead>\n",
       "  <tbody>\n",
       "    <tr>\n",
       "      <th>0</th>\n",
       "      <td>22</td>\n",
       "      <td>42692120</td>\n",
       "      <td>42720870</td>\n",
       "      <td>A4GALT</td>\n",
       "    </tr>\n",
       "    <tr>\n",
       "      <th>1</th>\n",
       "      <td>22</td>\n",
       "      <td>41469124</td>\n",
       "      <td>41528989</td>\n",
       "      <td>ACO2</td>\n",
       "    </tr>\n",
       "    <tr>\n",
       "      <th>2</th>\n",
       "      <td>22</td>\n",
       "      <td>50738223</td>\n",
       "      <td>50745299</td>\n",
       "      <td>ACR</td>\n",
       "    </tr>\n",
       "    <tr>\n",
       "      <th>3</th>\n",
       "      <td>22</td>\n",
       "      <td>50481555</td>\n",
       "      <td>50486437</td>\n",
       "      <td>ADM2</td>\n",
       "    </tr>\n",
       "    <tr>\n",
       "      <th>4</th>\n",
       "      <td>22</td>\n",
       "      <td>24423596</td>\n",
       "      <td>24442361</td>\n",
       "      <td>ADORA2A</td>\n",
       "    </tr>\n",
       "    <tr>\n",
       "      <th>...</th>\n",
       "      <td>...</td>\n",
       "      <td>...</td>\n",
       "      <td>...</td>\n",
       "      <td>...</td>\n",
       "    </tr>\n",
       "    <tr>\n",
       "      <th>589</th>\n",
       "      <td>22</td>\n",
       "      <td>20394114</td>\n",
       "      <td>20408463</td>\n",
       "      <td>ZNF74</td>\n",
       "    </tr>\n",
       "    <tr>\n",
       "      <th>590</th>\n",
       "      <td>22</td>\n",
       "      <td>22513735</td>\n",
       "      <td>22520281</td>\n",
       "      <td>ZNF280A</td>\n",
       "    </tr>\n",
       "    <tr>\n",
       "      <th>591</th>\n",
       "      <td>22</td>\n",
       "      <td>22484425</td>\n",
       "      <td>22509187</td>\n",
       "      <td>ZNF280B</td>\n",
       "    </tr>\n",
       "    <tr>\n",
       "      <th>592</th>\n",
       "      <td>22</td>\n",
       "      <td>28883766</td>\n",
       "      <td>29057488</td>\n",
       "      <td>ZNRF3</td>\n",
       "    </tr>\n",
       "    <tr>\n",
       "      <th>593</th>\n",
       "      <td>22</td>\n",
       "      <td>29024998</td>\n",
       "      <td>29031476</td>\n",
       "      <td>ZNRF3-AS1</td>\n",
       "    </tr>\n",
       "  </tbody>\n",
       "</table>\n",
       "<p>594 rows × 4 columns</p>\n",
       "</div>"
      ],
      "text/plain": [
       "     Chromosome     Start       End     GeneID\n",
       "0            22  42692120  42720870     A4GALT\n",
       "1            22  41469124  41528989       ACO2\n",
       "2            22  50738223  50745299        ACR\n",
       "3            22  50481555  50486437       ADM2\n",
       "4            22  24423596  24442361    ADORA2A\n",
       "..          ...       ...       ...        ...\n",
       "589          22  20394114  20408463      ZNF74\n",
       "590          22  22513735  22520281    ZNF280A\n",
       "591          22  22484425  22509187    ZNF280B\n",
       "592          22  28883766  29057488      ZNRF3\n",
       "593          22  29024998  29031476  ZNRF3-AS1\n",
       "\n",
       "[594 rows x 4 columns]"
      ]
     },
     "execution_count": 5,
     "metadata": {},
     "output_type": "execute_result"
    }
   ],
   "source": [
    "selected_geneList_DF"
   ]
  },
  {
   "cell_type": "code",
   "execution_count": 6,
   "metadata": {},
   "outputs": [],
   "source": [
    "path_to_filtered_geneList = data_folder+\"/filtered_gene_list.txt\"\n",
    "filtered_geneList_DF = selected_geneList_DF\n",
    "filtered_geneList_DF\n",
    "filtered_geneList_DF.to_csv(path_to_filtered_geneList, header=None, index=False, sep='\\t')"
   ]
  },
  {
   "cell_type": "code",
   "execution_count": 7,
   "metadata": {},
   "outputs": [
    {
     "name": "stdout",
     "output_type": "stream",
     "text": [
      "You have chosen to annotate SNP-sets without intergenic regions and with a buffer of 500bp\n",
      "Annotating SNP-sets with the corresponding SNPs\n"
     ]
    },
    {
     "name": "stderr",
     "output_type": "stream",
     "text": [
      "100% 926/926 [00:01<00:00, 724.51it/s]\n"
     ]
    },
    {
     "name": "stdout",
     "output_type": "stream",
     "text": [
      "Dropping SNP-sets that are singletons (containing only one SNP) and re-annotating SNPs without them\n",
      "Annotating SNP-sets with the corresponding SNPs\n"
     ]
    },
    {
     "name": "stderr",
     "output_type": "stream",
     "text": [
      "100% 926/926 [00:01<00:00, 776.71it/s]"
     ]
    },
    {
     "name": "stdout",
     "output_type": "stream",
     "text": [
      "Saving annotation results to file /u/home/z/zhengton/project-sriram/CS-M226-Project/data/AnnotationDF_chr22.txt\n",
      "        GeneID Chromosome       Start         End  \\\n",
      "0        CECR7         22  17036569.0  17058792.0   \n",
      "1       IL17RA         22  17084958.0  17115694.0   \n",
      "2        CECR5         22  17137519.0  17165287.0   \n",
      "3        CECR1         22  17178789.0  17221854.0   \n",
      "4        CECR2         22  17359948.0  17558155.0   \n",
      "..         ...        ...         ...         ...   \n",
      "299      SYCE3         22  50551111.0  50562899.0   \n",
      "300   MAPK8IP2         22  50600684.0  50611551.0   \n",
      "301       ARSA         22  50622753.0  50628173.0   \n",
      "302     SHANK3         22  50674641.0  50733212.0   \n",
      "303  RPL23AP82         22  50757085.0  50799637.0   \n",
      "\n",
      "                                           SNPindex  \\\n",
      "0                                         [0, 1, 2]   \n",
      "1                                            [3, 4]   \n",
      "2                                               [5]   \n",
      "3                                            [6, 7]   \n",
      "4    [8, 9, 10, 11, 12, 13, 14, 15, 16, 17, 18, 19]   \n",
      "..                                              ...   \n",
      "299                                           [919]   \n",
      "300                                           [920]   \n",
      "301                                           [921]   \n",
      "302                                 [922, 923, 924]   \n",
      "303                                           [925]   \n",
      "\n",
      "                                             VariantID  \n",
      "0                   [rs9605903, rs5746647, rs16980739]  \n",
      "1                              [rs11089263, rs2096537]  \n",
      "2                                          [rs4819849]  \n",
      "3                              [rs17432784, rs1807512]  \n",
      "4    [rs17444804, rs1860945, rs759081, rs5748744, r...  \n",
      "..                                                 ...  \n",
      "299                                         [rs138228]  \n",
      "300                                        [rs4838857]  \n",
      "301                                        [rs5771217]  \n",
      "302                  [rs5771109, rs742186, rs28366595]  \n",
      "303                                       [rs28642259]  \n",
      "\n",
      "[304 rows x 6 columns]\n"
     ]
    },
    {
     "name": "stderr",
     "output_type": "stream",
     "text": [
      "\n"
     ]
    }
   ],
   "source": [
    "annotationDF=annotate(path_to_SNPList, path_to_filtered_geneList, outputFile=file_to_annotationDF, \n",
    "                      intergenic=False, buffer=500, dropSingletons=True)\n",
    "\n",
    "print(annotationDF)"
   ]
  },
  {
   "cell_type": "code",
   "execution_count": null,
   "metadata": {
    "collapsed": true
   },
   "outputs": [],
   "source": [
    "# annotationDF = pd.read_csv(file_to_annotationDF, index_col=0, sep='\\t')\n",
    "# selected_annotationDF = annotationDF[annotationDF.Chromosome == int(chr_selected)]\n",
    "# selected_annotationDF.SNPindex = selected_annotationDF.SNPindex.apply(lambda x: np.array(ast.literal_eval(x)) - selected_SNPList_DF.index[0])\n",
    "# selected_annotationDF.VariantID = selected_annotationDF.VariantID.apply(lambda x: ast.literal_eval(x))\n",
    "# selected_annotationDF = selected_annotationDF.reset_index().drop(columns=['index'])\n",
    "\n",
    "# selected_SNPList_DF = selected_SNPList_DF.reset_index().drop(columns=['index'])"
   ]
  },
  {
   "cell_type": "code",
   "execution_count": 8,
   "metadata": {},
   "outputs": [
    {
     "name": "stdout",
     "output_type": "stream",
     "text": [
      "creating mask\n"
     ]
    },
    {
     "name": "stderr",
     "output_type": "stream",
     "text": [
      "100% 304/304 [00:00<00:00, 10118.95it/s]\n"
     ]
    },
    {
     "name": "stdout",
     "output_type": "stream",
     "text": [
      "Saving annotation mask to file /u/home/z/zhengton/project-sriram/CS-M226-Project/data/chr22_Mask.txt in tab-delimited format\n",
      "[[1. 0. 0. ... 0. 0. 0.]\n",
      " [1. 0. 0. ... 0. 0. 0.]\n",
      " [1. 0. 0. ... 0. 0. 0.]\n",
      " ...\n",
      " [0. 0. 0. ... 0. 1. 0.]\n",
      " [0. 0. 0. ... 0. 1. 0.]\n",
      " [0. 0. 0. ... 0. 0. 1.]]\n"
     ]
    }
   ],
   "source": [
    "mask_outputFile=data_folder+f\"chr{chr_selected}_Mask.txt\"\n",
    "mask = getMaskMatrix(path_to_SNPList, annotationDF, mask_outputFile)\n",
    "print(mask)"
   ]
  },
  {
   "cell_type": "code",
   "execution_count": 9,
   "metadata": {},
   "outputs": [
    {
     "data": {
      "text/plain": [
       "array([[1., 0., 0., ..., 0., 0., 0.],\n",
       "       [1., 0., 0., ..., 0., 0., 0.],\n",
       "       [1., 0., 0., ..., 0., 0., 0.],\n",
       "       ...,\n",
       "       [0., 0., 0., ..., 0., 1., 0.],\n",
       "       [0., 0., 0., ..., 0., 1., 0.],\n",
       "       [0., 0., 0., ..., 0., 0., 1.]])"
      ]
     },
     "execution_count": 9,
     "metadata": {},
     "output_type": "execute_result"
    }
   ],
   "source": [
    "mask_outputFile=data_folder+f\"chr{chr_selected}_Mask.txt\"\n",
    "mask = np.loadtxt(mask_outputFile)\n",
    "mask"
   ]
  },
  {
   "cell_type": "markdown",
   "metadata": {},
   "source": [
    "### Load Genotype"
   ]
  },
  {
   "cell_type": "code",
   "execution_count": 11,
   "metadata": {},
   "outputs": [
    {
     "name": "stderr",
     "output_type": "stream",
     "text": [
      "Mapping files: 100% 3/3 [00:00<00:00, 112.75it/s]\n"
     ]
    }
   ],
   "source": [
    "bfile=data_folder+genotype_prefix\n",
    "\n",
    "bed = bfile+'.bed'\n",
    "fam = bfile+'.fam'\n",
    "bim = bfile+'.bim'\n",
    "\n",
    "G = read_plink1_bin(bed, bim, fam, verbose=True)"
   ]
  },
  {
   "cell_type": "code",
   "execution_count": 12,
   "metadata": {},
   "outputs": [
    {
     "data": {
      "text/html": [
       "<div><svg style=\"position: absolute; width: 0; height: 0; overflow: hidden\">\n",
       "<defs>\n",
       "<symbol id=\"icon-database\" viewBox=\"0 0 32 32\">\n",
       "<path d=\"M16 0c-8.837 0-16 2.239-16 5v4c0 2.761 7.163 5 16 5s16-2.239 16-5v-4c0-2.761-7.163-5-16-5z\"></path>\n",
       "<path d=\"M16 17c-8.837 0-16-2.239-16-5v6c0 2.761 7.163 5 16 5s16-2.239 16-5v-6c0 2.761-7.163 5-16 5z\"></path>\n",
       "<path d=\"M16 26c-8.837 0-16-2.239-16-5v6c0 2.761 7.163 5 16 5s16-2.239 16-5v-6c0 2.761-7.163 5-16 5z\"></path>\n",
       "</symbol>\n",
       "<symbol id=\"icon-file-text2\" viewBox=\"0 0 32 32\">\n",
       "<path d=\"M28.681 7.159c-0.694-0.947-1.662-2.053-2.724-3.116s-2.169-2.030-3.116-2.724c-1.612-1.182-2.393-1.319-2.841-1.319h-15.5c-1.378 0-2.5 1.121-2.5 2.5v27c0 1.378 1.122 2.5 2.5 2.5h23c1.378 0 2.5-1.122 2.5-2.5v-19.5c0-0.448-0.137-1.23-1.319-2.841zM24.543 5.457c0.959 0.959 1.712 1.825 2.268 2.543h-4.811v-4.811c0.718 0.556 1.584 1.309 2.543 2.268zM28 29.5c0 0.271-0.229 0.5-0.5 0.5h-23c-0.271 0-0.5-0.229-0.5-0.5v-27c0-0.271 0.229-0.5 0.5-0.5 0 0 15.499-0 15.5 0v7c0 0.552 0.448 1 1 1h7v19.5z\"></path>\n",
       "<path d=\"M23 26h-14c-0.552 0-1-0.448-1-1s0.448-1 1-1h14c0.552 0 1 0.448 1 1s-0.448 1-1 1z\"></path>\n",
       "<path d=\"M23 22h-14c-0.552 0-1-0.448-1-1s0.448-1 1-1h14c0.552 0 1 0.448 1 1s-0.448 1-1 1z\"></path>\n",
       "<path d=\"M23 18h-14c-0.552 0-1-0.448-1-1s0.448-1 1-1h14c0.552 0 1 0.448 1 1s-0.448 1-1 1z\"></path>\n",
       "</symbol>\n",
       "</defs>\n",
       "</svg>\n",
       "<style>/* CSS stylesheet for displaying xarray objects in jupyterlab.\n",
       " *\n",
       " */\n",
       "\n",
       ":root {\n",
       "  --xr-font-color0: var(--jp-content-font-color0, rgba(0, 0, 0, 1));\n",
       "  --xr-font-color2: var(--jp-content-font-color2, rgba(0, 0, 0, 0.54));\n",
       "  --xr-font-color3: var(--jp-content-font-color3, rgba(0, 0, 0, 0.38));\n",
       "  --xr-border-color: var(--jp-border-color2, #e0e0e0);\n",
       "  --xr-disabled-color: var(--jp-layout-color3, #bdbdbd);\n",
       "  --xr-background-color: var(--jp-layout-color0, white);\n",
       "  --xr-background-color-row-even: var(--jp-layout-color1, white);\n",
       "  --xr-background-color-row-odd: var(--jp-layout-color2, #eeeeee);\n",
       "}\n",
       "\n",
       "html[theme=dark],\n",
       "body.vscode-dark {\n",
       "  --xr-font-color0: rgba(255, 255, 255, 1);\n",
       "  --xr-font-color2: rgba(255, 255, 255, 0.54);\n",
       "  --xr-font-color3: rgba(255, 255, 255, 0.38);\n",
       "  --xr-border-color: #1F1F1F;\n",
       "  --xr-disabled-color: #515151;\n",
       "  --xr-background-color: #111111;\n",
       "  --xr-background-color-row-even: #111111;\n",
       "  --xr-background-color-row-odd: #313131;\n",
       "}\n",
       "\n",
       ".xr-wrap {\n",
       "  display: block;\n",
       "  min-width: 300px;\n",
       "  max-width: 700px;\n",
       "}\n",
       "\n",
       ".xr-text-repr-fallback {\n",
       "  /* fallback to plain text repr when CSS is not injected (untrusted notebook) */\n",
       "  display: none;\n",
       "}\n",
       "\n",
       ".xr-header {\n",
       "  padding-top: 6px;\n",
       "  padding-bottom: 6px;\n",
       "  margin-bottom: 4px;\n",
       "  border-bottom: solid 1px var(--xr-border-color);\n",
       "}\n",
       "\n",
       ".xr-header > div,\n",
       ".xr-header > ul {\n",
       "  display: inline;\n",
       "  margin-top: 0;\n",
       "  margin-bottom: 0;\n",
       "}\n",
       "\n",
       ".xr-obj-type,\n",
       ".xr-array-name {\n",
       "  margin-left: 2px;\n",
       "  margin-right: 10px;\n",
       "}\n",
       "\n",
       ".xr-obj-type {\n",
       "  color: var(--xr-font-color2);\n",
       "}\n",
       "\n",
       ".xr-sections {\n",
       "  padding-left: 0 !important;\n",
       "  display: grid;\n",
       "  grid-template-columns: 150px auto auto 1fr 20px 20px;\n",
       "}\n",
       "\n",
       ".xr-section-item {\n",
       "  display: contents;\n",
       "}\n",
       "\n",
       ".xr-section-item input {\n",
       "  display: none;\n",
       "}\n",
       "\n",
       ".xr-section-item input + label {\n",
       "  color: var(--xr-disabled-color);\n",
       "}\n",
       "\n",
       ".xr-section-item input:enabled + label {\n",
       "  cursor: pointer;\n",
       "  color: var(--xr-font-color2);\n",
       "}\n",
       "\n",
       ".xr-section-item input:enabled + label:hover {\n",
       "  color: var(--xr-font-color0);\n",
       "}\n",
       "\n",
       ".xr-section-summary {\n",
       "  grid-column: 1;\n",
       "  color: var(--xr-font-color2);\n",
       "  font-weight: 500;\n",
       "}\n",
       "\n",
       ".xr-section-summary > span {\n",
       "  display: inline-block;\n",
       "  padding-left: 0.5em;\n",
       "}\n",
       "\n",
       ".xr-section-summary-in:disabled + label {\n",
       "  color: var(--xr-font-color2);\n",
       "}\n",
       "\n",
       ".xr-section-summary-in + label:before {\n",
       "  display: inline-block;\n",
       "  content: '►';\n",
       "  font-size: 11px;\n",
       "  width: 15px;\n",
       "  text-align: center;\n",
       "}\n",
       "\n",
       ".xr-section-summary-in:disabled + label:before {\n",
       "  color: var(--xr-disabled-color);\n",
       "}\n",
       "\n",
       ".xr-section-summary-in:checked + label:before {\n",
       "  content: '▼';\n",
       "}\n",
       "\n",
       ".xr-section-summary-in:checked + label > span {\n",
       "  display: none;\n",
       "}\n",
       "\n",
       ".xr-section-summary,\n",
       ".xr-section-inline-details {\n",
       "  padding-top: 4px;\n",
       "  padding-bottom: 4px;\n",
       "}\n",
       "\n",
       ".xr-section-inline-details {\n",
       "  grid-column: 2 / -1;\n",
       "}\n",
       "\n",
       ".xr-section-details {\n",
       "  display: none;\n",
       "  grid-column: 1 / -1;\n",
       "  margin-bottom: 5px;\n",
       "}\n",
       "\n",
       ".xr-section-summary-in:checked ~ .xr-section-details {\n",
       "  display: contents;\n",
       "}\n",
       "\n",
       ".xr-array-wrap {\n",
       "  grid-column: 1 / -1;\n",
       "  display: grid;\n",
       "  grid-template-columns: 20px auto;\n",
       "}\n",
       "\n",
       ".xr-array-wrap > label {\n",
       "  grid-column: 1;\n",
       "  vertical-align: top;\n",
       "}\n",
       "\n",
       ".xr-preview {\n",
       "  color: var(--xr-font-color3);\n",
       "}\n",
       "\n",
       ".xr-array-preview,\n",
       ".xr-array-data {\n",
       "  padding: 0 5px !important;\n",
       "  grid-column: 2;\n",
       "}\n",
       "\n",
       ".xr-array-data,\n",
       ".xr-array-in:checked ~ .xr-array-preview {\n",
       "  display: none;\n",
       "}\n",
       "\n",
       ".xr-array-in:checked ~ .xr-array-data,\n",
       ".xr-array-preview {\n",
       "  display: inline-block;\n",
       "}\n",
       "\n",
       ".xr-dim-list {\n",
       "  display: inline-block !important;\n",
       "  list-style: none;\n",
       "  padding: 0 !important;\n",
       "  margin: 0;\n",
       "}\n",
       "\n",
       ".xr-dim-list li {\n",
       "  display: inline-block;\n",
       "  padding: 0;\n",
       "  margin: 0;\n",
       "}\n",
       "\n",
       ".xr-dim-list:before {\n",
       "  content: '(';\n",
       "}\n",
       "\n",
       ".xr-dim-list:after {\n",
       "  content: ')';\n",
       "}\n",
       "\n",
       ".xr-dim-list li:not(:last-child):after {\n",
       "  content: ',';\n",
       "  padding-right: 5px;\n",
       "}\n",
       "\n",
       ".xr-has-index {\n",
       "  font-weight: bold;\n",
       "}\n",
       "\n",
       ".xr-var-list,\n",
       ".xr-var-item {\n",
       "  display: contents;\n",
       "}\n",
       "\n",
       ".xr-var-item > div,\n",
       ".xr-var-item label,\n",
       ".xr-var-item > .xr-var-name span {\n",
       "  background-color: var(--xr-background-color-row-even);\n",
       "  margin-bottom: 0;\n",
       "}\n",
       "\n",
       ".xr-var-item > .xr-var-name:hover span {\n",
       "  padding-right: 5px;\n",
       "}\n",
       "\n",
       ".xr-var-list > li:nth-child(odd) > div,\n",
       ".xr-var-list > li:nth-child(odd) > label,\n",
       ".xr-var-list > li:nth-child(odd) > .xr-var-name span {\n",
       "  background-color: var(--xr-background-color-row-odd);\n",
       "}\n",
       "\n",
       ".xr-var-name {\n",
       "  grid-column: 1;\n",
       "}\n",
       "\n",
       ".xr-var-dims {\n",
       "  grid-column: 2;\n",
       "}\n",
       "\n",
       ".xr-var-dtype {\n",
       "  grid-column: 3;\n",
       "  text-align: right;\n",
       "  color: var(--xr-font-color2);\n",
       "}\n",
       "\n",
       ".xr-var-preview {\n",
       "  grid-column: 4;\n",
       "}\n",
       "\n",
       ".xr-var-name,\n",
       ".xr-var-dims,\n",
       ".xr-var-dtype,\n",
       ".xr-preview,\n",
       ".xr-attrs dt {\n",
       "  white-space: nowrap;\n",
       "  overflow: hidden;\n",
       "  text-overflow: ellipsis;\n",
       "  padding-right: 10px;\n",
       "}\n",
       "\n",
       ".xr-var-name:hover,\n",
       ".xr-var-dims:hover,\n",
       ".xr-var-dtype:hover,\n",
       ".xr-attrs dt:hover {\n",
       "  overflow: visible;\n",
       "  width: auto;\n",
       "  z-index: 1;\n",
       "}\n",
       "\n",
       ".xr-var-attrs,\n",
       ".xr-var-data {\n",
       "  display: none;\n",
       "  background-color: var(--xr-background-color) !important;\n",
       "  padding-bottom: 5px !important;\n",
       "}\n",
       "\n",
       ".xr-var-attrs-in:checked ~ .xr-var-attrs,\n",
       ".xr-var-data-in:checked ~ .xr-var-data {\n",
       "  display: block;\n",
       "}\n",
       "\n",
       ".xr-var-data > table {\n",
       "  float: right;\n",
       "}\n",
       "\n",
       ".xr-var-name span,\n",
       ".xr-var-data,\n",
       ".xr-attrs {\n",
       "  padding-left: 25px !important;\n",
       "}\n",
       "\n",
       ".xr-attrs,\n",
       ".xr-var-attrs,\n",
       ".xr-var-data {\n",
       "  grid-column: 1 / -1;\n",
       "}\n",
       "\n",
       "dl.xr-attrs {\n",
       "  padding: 0;\n",
       "  margin: 0;\n",
       "  display: grid;\n",
       "  grid-template-columns: 125px auto;\n",
       "}\n",
       "\n",
       ".xr-attrs dt,\n",
       ".xr-attrs dd {\n",
       "  padding: 0;\n",
       "  margin: 0;\n",
       "  float: left;\n",
       "  padding-right: 10px;\n",
       "  width: auto;\n",
       "}\n",
       "\n",
       ".xr-attrs dt {\n",
       "  font-weight: normal;\n",
       "  grid-column: 1;\n",
       "}\n",
       "\n",
       ".xr-attrs dt:hover span {\n",
       "  display: inline-block;\n",
       "  background: var(--xr-background-color);\n",
       "  padding-right: 10px;\n",
       "}\n",
       "\n",
       ".xr-attrs dd {\n",
       "  grid-column: 2;\n",
       "  white-space: pre-wrap;\n",
       "  word-break: break-all;\n",
       "}\n",
       "\n",
       ".xr-icon-database,\n",
       ".xr-icon-file-text2 {\n",
       "  display: inline-block;\n",
       "  vertical-align: middle;\n",
       "  width: 1em;\n",
       "  height: 1.5em !important;\n",
       "  stroke-width: 0;\n",
       "  stroke: currentColor;\n",
       "  fill: currentColor;\n",
       "}\n",
       "</style><pre class='xr-text-repr-fallback'>&lt;xarray.DataArray &#x27;genotype&#x27; (sample: 378, variant: 926)&gt;\n",
       "dask.array&lt;transpose, shape=(378, 926), dtype=float32, chunksize=(378, 926), chunktype=numpy.ndarray&gt;\n",
       "Coordinates:\n",
       "  * sample   (sample) object &#x27;HG00096&#x27; &#x27;HG00097&#x27; ... &#x27;NA20826&#x27; &#x27;NA20828&#x27;\n",
       "  * variant  (variant) &lt;U10 &#x27;variant0&#x27; &#x27;variant1&#x27; ... &#x27;variant924&#x27; &#x27;variant925&#x27;\n",
       "    fid      (sample) object &#x27;HG00096&#x27; &#x27;HG00097&#x27; ... &#x27;NA20826&#x27; &#x27;NA20828&#x27;\n",
       "    iid      (sample) object &#x27;HG00096&#x27; &#x27;HG00097&#x27; ... &#x27;NA20826&#x27; &#x27;NA20828&#x27;\n",
       "    father   (sample) object &#x27;0&#x27; &#x27;0&#x27; &#x27;0&#x27; &#x27;0&#x27; &#x27;0&#x27; &#x27;0&#x27; ... &#x27;0&#x27; &#x27;0&#x27; &#x27;0&#x27; &#x27;0&#x27; &#x27;0&#x27; &#x27;0&#x27;\n",
       "    mother   (sample) object &#x27;0&#x27; &#x27;0&#x27; &#x27;0&#x27; &#x27;0&#x27; &#x27;0&#x27; &#x27;0&#x27; ... &#x27;0&#x27; &#x27;0&#x27; &#x27;0&#x27; &#x27;0&#x27; &#x27;0&#x27; &#x27;0&#x27;\n",
       "    gender   (sample) object &#x27;0&#x27; &#x27;0&#x27; &#x27;0&#x27; &#x27;0&#x27; &#x27;0&#x27; &#x27;0&#x27; ... &#x27;0&#x27; &#x27;0&#x27; &#x27;0&#x27; &#x27;0&#x27; &#x27;0&#x27; &#x27;0&#x27;\n",
       "    trait    (sample) object &#x27;-9&#x27; &#x27;-9&#x27; &#x27;-9&#x27; &#x27;-9&#x27; &#x27;-9&#x27; ... &#x27;-9&#x27; &#x27;-9&#x27; &#x27;-9&#x27; &#x27;-9&#x27;\n",
       "    chrom    (variant) object &#x27;22&#x27; &#x27;22&#x27; &#x27;22&#x27; &#x27;22&#x27; &#x27;22&#x27; ... &#x27;22&#x27; &#x27;22&#x27; &#x27;22&#x27; &#x27;22&#x27;\n",
       "    snp      (variant) object &#x27;rs9605903&#x27; &#x27;rs5746647&#x27; ... &#x27;rs28642259&#x27;\n",
       "    cm       (variant) float64 2.336 2.34 2.344 2.441 ... 74.26 74.28 74.37\n",
       "    pos      (variant) int32 17054720 17057138 17058616 ... 50725301 50785718\n",
       "    a0       (variant) object &#x27;C&#x27; &#x27;G&#x27; &#x27;T&#x27; &#x27;C&#x27; &#x27;A&#x27; &#x27;G&#x27; ... &#x27;T&#x27; &#x27;C&#x27; &#x27;A&#x27; &#x27;A&#x27; &#x27;T&#x27;\n",
       "    a1       (variant) object &#x27;T&#x27; &#x27;T&#x27; &#x27;C&#x27; &#x27;A&#x27; &#x27;C&#x27; &#x27;A&#x27; ... &#x27;G&#x27; &#x27;T&#x27; &#x27;G&#x27; &#x27;G&#x27; &#x27;C&#x27;</pre><div class='xr-wrap' hidden><div class='xr-header'><div class='xr-obj-type'>xarray.DataArray</div><div class='xr-array-name'>'genotype'</div><ul class='xr-dim-list'><li><span class='xr-has-index'>sample</span>: 378</li><li><span class='xr-has-index'>variant</span>: 926</li></ul></div><ul class='xr-sections'><li class='xr-section-item'><div class='xr-array-wrap'><input id='section-750f2cb2-0ad2-4f03-abd5-c1d84501a28e' class='xr-array-in' type='checkbox' checked><label for='section-750f2cb2-0ad2-4f03-abd5-c1d84501a28e' title='Show/hide data repr'><svg class='icon xr-icon-database'><use xlink:href='#icon-database'></use></svg></label><div class='xr-array-preview xr-preview'><span>dask.array&lt;chunksize=(378, 926), meta=np.ndarray&gt;</span></div><div class='xr-array-data'><table>\n",
       "    <tr>\n",
       "        <td>\n",
       "            <table>\n",
       "                <thead>\n",
       "                    <tr>\n",
       "                        <td> </td>\n",
       "                        <th> Array </th>\n",
       "                        <th> Chunk </th>\n",
       "                    </tr>\n",
       "                </thead>\n",
       "                <tbody>\n",
       "                    \n",
       "                    <tr>\n",
       "                        <th> Bytes </th>\n",
       "                        <td> 1.34 MiB </td>\n",
       "                        <td> 1.34 MiB </td>\n",
       "                    </tr>\n",
       "                    \n",
       "                    <tr>\n",
       "                        <th> Shape </th>\n",
       "                        <td> (378, 926) </td>\n",
       "                        <td> (378, 926) </td>\n",
       "                    </tr>\n",
       "                    <tr>\n",
       "                        <th> Count </th>\n",
       "                        <td> 3 Tasks </td>\n",
       "                        <td> 1 Chunks </td>\n",
       "                    </tr>\n",
       "                    <tr>\n",
       "                    <th> Type </th>\n",
       "                    <td> float32 </td>\n",
       "                    <td> numpy.ndarray </td>\n",
       "                    </tr>\n",
       "                </tbody>\n",
       "            </table>\n",
       "        </td>\n",
       "        <td>\n",
       "        <svg width=\"170\" height=\"98\" style=\"stroke:rgb(0,0,0);stroke-width:1\" >\n",
       "\n",
       "  <!-- Horizontal lines -->\n",
       "  <line x1=\"0\" y1=\"0\" x2=\"120\" y2=\"0\" style=\"stroke-width:2\" />\n",
       "  <line x1=\"0\" y1=\"48\" x2=\"120\" y2=\"48\" style=\"stroke-width:2\" />\n",
       "\n",
       "  <!-- Vertical lines -->\n",
       "  <line x1=\"0\" y1=\"0\" x2=\"0\" y2=\"48\" style=\"stroke-width:2\" />\n",
       "  <line x1=\"120\" y1=\"0\" x2=\"120\" y2=\"48\" style=\"stroke-width:2\" />\n",
       "\n",
       "  <!-- Colored Rectangle -->\n",
       "  <polygon points=\"0.0,0.0 120.0,0.0 120.0,48.984881209503236 0.0,48.984881209503236\" style=\"fill:#ECB172A0;stroke-width:0\"/>\n",
       "\n",
       "  <!-- Text -->\n",
       "  <text x=\"60.000000\" y=\"68.984881\" font-size=\"1.0rem\" font-weight=\"100\" text-anchor=\"middle\" >926</text>\n",
       "  <text x=\"140.000000\" y=\"24.492441\" font-size=\"1.0rem\" font-weight=\"100\" text-anchor=\"middle\" transform=\"rotate(-90,140.000000,24.492441)\">378</text>\n",
       "</svg>\n",
       "        </td>\n",
       "    </tr>\n",
       "</table></div></div></li><li class='xr-section-item'><input id='section-69a6b277-9b41-473a-85d8-0fc56d2ba91d' class='xr-section-summary-in' type='checkbox'  checked><label for='section-69a6b277-9b41-473a-85d8-0fc56d2ba91d' class='xr-section-summary' >Coordinates: <span>(14)</span></label><div class='xr-section-inline-details'></div><div class='xr-section-details'><ul class='xr-var-list'><li class='xr-var-item'><div class='xr-var-name'><span class='xr-has-index'>sample</span></div><div class='xr-var-dims'>(sample)</div><div class='xr-var-dtype'>object</div><div class='xr-var-preview xr-preview'>&#x27;HG00096&#x27; &#x27;HG00097&#x27; ... &#x27;NA20828&#x27;</div><input id='attrs-df2300d4-9697-40c5-84ba-8b595d5a77f9' class='xr-var-attrs-in' type='checkbox' disabled><label for='attrs-df2300d4-9697-40c5-84ba-8b595d5a77f9' title='Show/Hide attributes'><svg class='icon xr-icon-file-text2'><use xlink:href='#icon-file-text2'></use></svg></label><input id='data-7dc34ee5-b076-44a9-b4af-b3f03944095e' class='xr-var-data-in' type='checkbox'><label for='data-7dc34ee5-b076-44a9-b4af-b3f03944095e' title='Show/Hide data repr'><svg class='icon xr-icon-database'><use xlink:href='#icon-database'></use></svg></label><div class='xr-var-attrs'><dl class='xr-attrs'></dl></div><div class='xr-var-data'><pre>array([&#x27;HG00096&#x27;, &#x27;HG00097&#x27;, &#x27;HG00099&#x27;, ..., &#x27;NA20819&#x27;, &#x27;NA20826&#x27;, &#x27;NA20828&#x27;],\n",
       "      dtype=object)</pre></div></li><li class='xr-var-item'><div class='xr-var-name'><span class='xr-has-index'>variant</span></div><div class='xr-var-dims'>(variant)</div><div class='xr-var-dtype'>&lt;U10</div><div class='xr-var-preview xr-preview'>&#x27;variant0&#x27; ... &#x27;variant925&#x27;</div><input id='attrs-aa583671-e0f7-4c28-9ac5-ce91aab0bb25' class='xr-var-attrs-in' type='checkbox' disabled><label for='attrs-aa583671-e0f7-4c28-9ac5-ce91aab0bb25' title='Show/Hide attributes'><svg class='icon xr-icon-file-text2'><use xlink:href='#icon-file-text2'></use></svg></label><input id='data-21b86fc7-4a75-42b2-b783-24118f3a9f86' class='xr-var-data-in' type='checkbox'><label for='data-21b86fc7-4a75-42b2-b783-24118f3a9f86' title='Show/Hide data repr'><svg class='icon xr-icon-database'><use xlink:href='#icon-database'></use></svg></label><div class='xr-var-attrs'><dl class='xr-attrs'></dl></div><div class='xr-var-data'><pre>array([&#x27;variant0&#x27;, &#x27;variant1&#x27;, &#x27;variant2&#x27;, ..., &#x27;variant923&#x27;, &#x27;variant924&#x27;,\n",
       "       &#x27;variant925&#x27;], dtype=&#x27;&lt;U10&#x27;)</pre></div></li><li class='xr-var-item'><div class='xr-var-name'><span>fid</span></div><div class='xr-var-dims'>(sample)</div><div class='xr-var-dtype'>object</div><div class='xr-var-preview xr-preview'>&#x27;HG00096&#x27; &#x27;HG00097&#x27; ... &#x27;NA20828&#x27;</div><input id='attrs-753e85a8-b3a7-4c5c-957b-af341249e917' class='xr-var-attrs-in' type='checkbox' disabled><label for='attrs-753e85a8-b3a7-4c5c-957b-af341249e917' title='Show/Hide attributes'><svg class='icon xr-icon-file-text2'><use xlink:href='#icon-file-text2'></use></svg></label><input id='data-c851dbe8-7691-426e-8aab-1e99f1c84ac1' class='xr-var-data-in' type='checkbox'><label for='data-c851dbe8-7691-426e-8aab-1e99f1c84ac1' title='Show/Hide data repr'><svg class='icon xr-icon-database'><use xlink:href='#icon-database'></use></svg></label><div class='xr-var-attrs'><dl class='xr-attrs'></dl></div><div class='xr-var-data'><pre>array([&#x27;HG00096&#x27;, &#x27;HG00097&#x27;, &#x27;HG00099&#x27;, &#x27;HG00100&#x27;, &#x27;HG00101&#x27;, &#x27;HG00102&#x27;,\n",
       "       &#x27;HG00103&#x27;, &#x27;HG00105&#x27;, &#x27;HG00106&#x27;, &#x27;HG00107&#x27;, &#x27;HG00108&#x27;, &#x27;HG00109&#x27;,\n",
       "       &#x27;HG00110&#x27;, &#x27;HG00111&#x27;, &#x27;HG00112&#x27;, &#x27;HG00113&#x27;, &#x27;HG00114&#x27;, &#x27;HG00115&#x27;,\n",
       "       &#x27;HG00116&#x27;, &#x27;HG00117&#x27;, &#x27;HG00118&#x27;, &#x27;HG00119&#x27;, &#x27;HG00120&#x27;, &#x27;HG00121&#x27;,\n",
       "       &#x27;HG00122&#x27;, &#x27;HG00123&#x27;, &#x27;HG00125&#x27;, &#x27;HG00126&#x27;, &#x27;HG00127&#x27;, &#x27;HG00128&#x27;,\n",
       "       &#x27;HG00129&#x27;, &#x27;HG00130&#x27;, &#x27;HG00131&#x27;, &#x27;HG00132&#x27;, &#x27;HG00133&#x27;, &#x27;HG00136&#x27;,\n",
       "       &#x27;HG00137&#x27;, &#x27;HG00138&#x27;, &#x27;HG00139&#x27;, &#x27;HG00140&#x27;, &#x27;HG00141&#x27;, &#x27;HG00142&#x27;,\n",
       "       &#x27;HG00143&#x27;, &#x27;HG00145&#x27;, &#x27;HG00146&#x27;, &#x27;HG00148&#x27;, &#x27;HG00149&#x27;, &#x27;HG00150&#x27;,\n",
       "       &#x27;HG00151&#x27;, &#x27;HG00154&#x27;, &#x27;HG00155&#x27;, &#x27;HG00157&#x27;, &#x27;HG00158&#x27;, &#x27;HG00159&#x27;,\n",
       "       &#x27;HG00160&#x27;, &#x27;HG00171&#x27;, &#x27;HG00173&#x27;, &#x27;HG00174&#x27;, &#x27;HG00176&#x27;, &#x27;HG00177&#x27;,\n",
       "       &#x27;HG00178&#x27;, &#x27;HG00179&#x27;, &#x27;HG00180&#x27;, &#x27;HG00181&#x27;, &#x27;HG00182&#x27;, &#x27;HG00183&#x27;,\n",
       "       &#x27;HG00185&#x27;, &#x27;HG00186&#x27;, &#x27;HG00187&#x27;, &#x27;HG00188&#x27;, &#x27;HG00189&#x27;, &#x27;HG00190&#x27;,\n",
       "       &#x27;HG00231&#x27;, &#x27;HG00232&#x27;, &#x27;HG00233&#x27;, &#x27;HG00234&#x27;, &#x27;HG00235&#x27;, &#x27;HG00236&#x27;,\n",
       "       &#x27;HG00237&#x27;, &#x27;HG00238&#x27;, &#x27;HG00239&#x27;, &#x27;HG00240&#x27;, &#x27;HG00242&#x27;, &#x27;HG00243&#x27;,\n",
       "       &#x27;HG00244&#x27;, &#x27;HG00245&#x27;, &#x27;HG00246&#x27;, &#x27;HG00250&#x27;, &#x27;HG00251&#x27;, &#x27;HG00252&#x27;,\n",
       "       &#x27;HG00253&#x27;, &#x27;HG00254&#x27;, &#x27;HG00255&#x27;, &#x27;HG00256&#x27;, &#x27;HG00257&#x27;, &#x27;HG00258&#x27;,\n",
       "       &#x27;HG00259&#x27;, &#x27;HG00260&#x27;, &#x27;HG00261&#x27;, &#x27;HG00262&#x27;, &#x27;HG00263&#x27;, &#x27;HG00264&#x27;,\n",
       "       &#x27;HG00265&#x27;, &#x27;HG00266&#x27;, &#x27;HG00267&#x27;, &#x27;HG00268&#x27;, &#x27;HG00269&#x27;, &#x27;HG00271&#x27;,\n",
       "       &#x27;HG00272&#x27;, &#x27;HG00273&#x27;, &#x27;HG00274&#x27;, &#x27;HG00275&#x27;, &#x27;HG00276&#x27;, &#x27;HG00277&#x27;,\n",
       "       &#x27;HG00278&#x27;, &#x27;HG00280&#x27;, &#x27;HG00281&#x27;, &#x27;HG00282&#x27;, &#x27;HG00284&#x27;, &#x27;HG00285&#x27;,\n",
       "...\n",
       "       &#x27;NA12778&#x27;, &#x27;NA12812&#x27;, &#x27;NA12813&#x27;, &#x27;NA12814&#x27;, &#x27;NA12815&#x27;, &#x27;NA12827&#x27;,\n",
       "       &#x27;NA12828&#x27;, &#x27;NA12829&#x27;, &#x27;NA12830&#x27;, &#x27;NA12842&#x27;, &#x27;NA12843&#x27;, &#x27;NA12872&#x27;,\n",
       "       &#x27;NA12873&#x27;, &#x27;NA12874&#x27;, &#x27;NA12878&#x27;, &#x27;NA12889&#x27;, &#x27;NA12890&#x27;, &#x27;NA20502&#x27;,\n",
       "       &#x27;NA20503&#x27;, &#x27;NA20504&#x27;, &#x27;NA20505&#x27;, &#x27;NA20506&#x27;, &#x27;NA20507&#x27;, &#x27;NA20508&#x27;,\n",
       "       &#x27;NA20509&#x27;, &#x27;NA20510&#x27;, &#x27;NA20512&#x27;, &#x27;NA20513&#x27;, &#x27;NA20514&#x27;, &#x27;NA20515&#x27;,\n",
       "       &#x27;NA20516&#x27;, &#x27;NA20517&#x27;, &#x27;NA20518&#x27;, &#x27;NA20519&#x27;, &#x27;NA20520&#x27;, &#x27;NA20521&#x27;,\n",
       "       &#x27;NA20522&#x27;, &#x27;NA20524&#x27;, &#x27;NA20525&#x27;, &#x27;NA20527&#x27;, &#x27;NA20528&#x27;, &#x27;NA20529&#x27;,\n",
       "       &#x27;NA20530&#x27;, &#x27;NA20531&#x27;, &#x27;NA20532&#x27;, &#x27;NA20533&#x27;, &#x27;NA20534&#x27;, &#x27;NA20535&#x27;,\n",
       "       &#x27;NA20536&#x27;, &#x27;NA20538&#x27;, &#x27;NA20539&#x27;, &#x27;NA20540&#x27;, &#x27;NA20541&#x27;, &#x27;NA20542&#x27;,\n",
       "       &#x27;NA20543&#x27;, &#x27;NA20544&#x27;, &#x27;NA20581&#x27;, &#x27;NA20582&#x27;, &#x27;NA20585&#x27;, &#x27;NA20586&#x27;,\n",
       "       &#x27;NA20588&#x27;, &#x27;NA20589&#x27;, &#x27;NA20752&#x27;, &#x27;NA20753&#x27;, &#x27;NA20754&#x27;, &#x27;NA20755&#x27;,\n",
       "       &#x27;NA20756&#x27;, &#x27;NA20757&#x27;, &#x27;NA20758&#x27;, &#x27;NA20759&#x27;, &#x27;NA20760&#x27;, &#x27;NA20761&#x27;,\n",
       "       &#x27;NA20765&#x27;, &#x27;NA20766&#x27;, &#x27;NA20768&#x27;, &#x27;NA20769&#x27;, &#x27;NA20770&#x27;, &#x27;NA20771&#x27;,\n",
       "       &#x27;NA20772&#x27;, &#x27;NA20773&#x27;, &#x27;NA20774&#x27;, &#x27;NA20775&#x27;, &#x27;NA20778&#x27;, &#x27;NA20783&#x27;,\n",
       "       &#x27;NA20785&#x27;, &#x27;NA20786&#x27;, &#x27;NA20787&#x27;, &#x27;NA20790&#x27;, &#x27;NA20792&#x27;, &#x27;NA20795&#x27;,\n",
       "       &#x27;NA20796&#x27;, &#x27;NA20797&#x27;, &#x27;NA20798&#x27;, &#x27;NA20799&#x27;, &#x27;NA20800&#x27;, &#x27;NA20801&#x27;,\n",
       "       &#x27;NA20802&#x27;, &#x27;NA20803&#x27;, &#x27;NA20804&#x27;, &#x27;NA20805&#x27;, &#x27;NA20806&#x27;, &#x27;NA20807&#x27;,\n",
       "       &#x27;NA20808&#x27;, &#x27;NA20809&#x27;, &#x27;NA20810&#x27;, &#x27;NA20811&#x27;, &#x27;NA20812&#x27;, &#x27;NA20813&#x27;,\n",
       "       &#x27;NA20814&#x27;, &#x27;NA20815&#x27;, &#x27;NA20818&#x27;, &#x27;NA20819&#x27;, &#x27;NA20826&#x27;, &#x27;NA20828&#x27;],\n",
       "      dtype=object)</pre></div></li><li class='xr-var-item'><div class='xr-var-name'><span>iid</span></div><div class='xr-var-dims'>(sample)</div><div class='xr-var-dtype'>object</div><div class='xr-var-preview xr-preview'>&#x27;HG00096&#x27; &#x27;HG00097&#x27; ... &#x27;NA20828&#x27;</div><input id='attrs-01a83784-0cdb-4ab1-adc7-838fabb1b352' class='xr-var-attrs-in' type='checkbox' disabled><label for='attrs-01a83784-0cdb-4ab1-adc7-838fabb1b352' title='Show/Hide attributes'><svg class='icon xr-icon-file-text2'><use xlink:href='#icon-file-text2'></use></svg></label><input id='data-84989817-67fb-4b19-9067-d324840e35cc' class='xr-var-data-in' type='checkbox'><label for='data-84989817-67fb-4b19-9067-d324840e35cc' title='Show/Hide data repr'><svg class='icon xr-icon-database'><use xlink:href='#icon-database'></use></svg></label><div class='xr-var-attrs'><dl class='xr-attrs'></dl></div><div class='xr-var-data'><pre>array([&#x27;HG00096&#x27;, &#x27;HG00097&#x27;, &#x27;HG00099&#x27;, &#x27;HG00100&#x27;, &#x27;HG00101&#x27;, &#x27;HG00102&#x27;,\n",
       "       &#x27;HG00103&#x27;, &#x27;HG00105&#x27;, &#x27;HG00106&#x27;, &#x27;HG00107&#x27;, &#x27;HG00108&#x27;, &#x27;HG00109&#x27;,\n",
       "       &#x27;HG00110&#x27;, &#x27;HG00111&#x27;, &#x27;HG00112&#x27;, &#x27;HG00113&#x27;, &#x27;HG00114&#x27;, &#x27;HG00115&#x27;,\n",
       "       &#x27;HG00116&#x27;, &#x27;HG00117&#x27;, &#x27;HG00118&#x27;, &#x27;HG00119&#x27;, &#x27;HG00120&#x27;, &#x27;HG00121&#x27;,\n",
       "       &#x27;HG00122&#x27;, &#x27;HG00123&#x27;, &#x27;HG00125&#x27;, &#x27;HG00126&#x27;, &#x27;HG00127&#x27;, &#x27;HG00128&#x27;,\n",
       "       &#x27;HG00129&#x27;, &#x27;HG00130&#x27;, &#x27;HG00131&#x27;, &#x27;HG00132&#x27;, &#x27;HG00133&#x27;, &#x27;HG00136&#x27;,\n",
       "       &#x27;HG00137&#x27;, &#x27;HG00138&#x27;, &#x27;HG00139&#x27;, &#x27;HG00140&#x27;, &#x27;HG00141&#x27;, &#x27;HG00142&#x27;,\n",
       "       &#x27;HG00143&#x27;, &#x27;HG00145&#x27;, &#x27;HG00146&#x27;, &#x27;HG00148&#x27;, &#x27;HG00149&#x27;, &#x27;HG00150&#x27;,\n",
       "       &#x27;HG00151&#x27;, &#x27;HG00154&#x27;, &#x27;HG00155&#x27;, &#x27;HG00157&#x27;, &#x27;HG00158&#x27;, &#x27;HG00159&#x27;,\n",
       "       &#x27;HG00160&#x27;, &#x27;HG00171&#x27;, &#x27;HG00173&#x27;, &#x27;HG00174&#x27;, &#x27;HG00176&#x27;, &#x27;HG00177&#x27;,\n",
       "       &#x27;HG00178&#x27;, &#x27;HG00179&#x27;, &#x27;HG00180&#x27;, &#x27;HG00181&#x27;, &#x27;HG00182&#x27;, &#x27;HG00183&#x27;,\n",
       "       &#x27;HG00185&#x27;, &#x27;HG00186&#x27;, &#x27;HG00187&#x27;, &#x27;HG00188&#x27;, &#x27;HG00189&#x27;, &#x27;HG00190&#x27;,\n",
       "       &#x27;HG00231&#x27;, &#x27;HG00232&#x27;, &#x27;HG00233&#x27;, &#x27;HG00234&#x27;, &#x27;HG00235&#x27;, &#x27;HG00236&#x27;,\n",
       "       &#x27;HG00237&#x27;, &#x27;HG00238&#x27;, &#x27;HG00239&#x27;, &#x27;HG00240&#x27;, &#x27;HG00242&#x27;, &#x27;HG00243&#x27;,\n",
       "       &#x27;HG00244&#x27;, &#x27;HG00245&#x27;, &#x27;HG00246&#x27;, &#x27;HG00250&#x27;, &#x27;HG00251&#x27;, &#x27;HG00252&#x27;,\n",
       "       &#x27;HG00253&#x27;, &#x27;HG00254&#x27;, &#x27;HG00255&#x27;, &#x27;HG00256&#x27;, &#x27;HG00257&#x27;, &#x27;HG00258&#x27;,\n",
       "       &#x27;HG00259&#x27;, &#x27;HG00260&#x27;, &#x27;HG00261&#x27;, &#x27;HG00262&#x27;, &#x27;HG00263&#x27;, &#x27;HG00264&#x27;,\n",
       "       &#x27;HG00265&#x27;, &#x27;HG00266&#x27;, &#x27;HG00267&#x27;, &#x27;HG00268&#x27;, &#x27;HG00269&#x27;, &#x27;HG00271&#x27;,\n",
       "       &#x27;HG00272&#x27;, &#x27;HG00273&#x27;, &#x27;HG00274&#x27;, &#x27;HG00275&#x27;, &#x27;HG00276&#x27;, &#x27;HG00277&#x27;,\n",
       "       &#x27;HG00278&#x27;, &#x27;HG00280&#x27;, &#x27;HG00281&#x27;, &#x27;HG00282&#x27;, &#x27;HG00284&#x27;, &#x27;HG00285&#x27;,\n",
       "...\n",
       "       &#x27;NA12778&#x27;, &#x27;NA12812&#x27;, &#x27;NA12813&#x27;, &#x27;NA12814&#x27;, &#x27;NA12815&#x27;, &#x27;NA12827&#x27;,\n",
       "       &#x27;NA12828&#x27;, &#x27;NA12829&#x27;, &#x27;NA12830&#x27;, &#x27;NA12842&#x27;, &#x27;NA12843&#x27;, &#x27;NA12872&#x27;,\n",
       "       &#x27;NA12873&#x27;, &#x27;NA12874&#x27;, &#x27;NA12878&#x27;, &#x27;NA12889&#x27;, &#x27;NA12890&#x27;, &#x27;NA20502&#x27;,\n",
       "       &#x27;NA20503&#x27;, &#x27;NA20504&#x27;, &#x27;NA20505&#x27;, &#x27;NA20506&#x27;, &#x27;NA20507&#x27;, &#x27;NA20508&#x27;,\n",
       "       &#x27;NA20509&#x27;, &#x27;NA20510&#x27;, &#x27;NA20512&#x27;, &#x27;NA20513&#x27;, &#x27;NA20514&#x27;, &#x27;NA20515&#x27;,\n",
       "       &#x27;NA20516&#x27;, &#x27;NA20517&#x27;, &#x27;NA20518&#x27;, &#x27;NA20519&#x27;, &#x27;NA20520&#x27;, &#x27;NA20521&#x27;,\n",
       "       &#x27;NA20522&#x27;, &#x27;NA20524&#x27;, &#x27;NA20525&#x27;, &#x27;NA20527&#x27;, &#x27;NA20528&#x27;, &#x27;NA20529&#x27;,\n",
       "       &#x27;NA20530&#x27;, &#x27;NA20531&#x27;, &#x27;NA20532&#x27;, &#x27;NA20533&#x27;, &#x27;NA20534&#x27;, &#x27;NA20535&#x27;,\n",
       "       &#x27;NA20536&#x27;, &#x27;NA20538&#x27;, &#x27;NA20539&#x27;, &#x27;NA20540&#x27;, &#x27;NA20541&#x27;, &#x27;NA20542&#x27;,\n",
       "       &#x27;NA20543&#x27;, &#x27;NA20544&#x27;, &#x27;NA20581&#x27;, &#x27;NA20582&#x27;, &#x27;NA20585&#x27;, &#x27;NA20586&#x27;,\n",
       "       &#x27;NA20588&#x27;, &#x27;NA20589&#x27;, &#x27;NA20752&#x27;, &#x27;NA20753&#x27;, &#x27;NA20754&#x27;, &#x27;NA20755&#x27;,\n",
       "       &#x27;NA20756&#x27;, &#x27;NA20757&#x27;, &#x27;NA20758&#x27;, &#x27;NA20759&#x27;, &#x27;NA20760&#x27;, &#x27;NA20761&#x27;,\n",
       "       &#x27;NA20765&#x27;, &#x27;NA20766&#x27;, &#x27;NA20768&#x27;, &#x27;NA20769&#x27;, &#x27;NA20770&#x27;, &#x27;NA20771&#x27;,\n",
       "       &#x27;NA20772&#x27;, &#x27;NA20773&#x27;, &#x27;NA20774&#x27;, &#x27;NA20775&#x27;, &#x27;NA20778&#x27;, &#x27;NA20783&#x27;,\n",
       "       &#x27;NA20785&#x27;, &#x27;NA20786&#x27;, &#x27;NA20787&#x27;, &#x27;NA20790&#x27;, &#x27;NA20792&#x27;, &#x27;NA20795&#x27;,\n",
       "       &#x27;NA20796&#x27;, &#x27;NA20797&#x27;, &#x27;NA20798&#x27;, &#x27;NA20799&#x27;, &#x27;NA20800&#x27;, &#x27;NA20801&#x27;,\n",
       "       &#x27;NA20802&#x27;, &#x27;NA20803&#x27;, &#x27;NA20804&#x27;, &#x27;NA20805&#x27;, &#x27;NA20806&#x27;, &#x27;NA20807&#x27;,\n",
       "       &#x27;NA20808&#x27;, &#x27;NA20809&#x27;, &#x27;NA20810&#x27;, &#x27;NA20811&#x27;, &#x27;NA20812&#x27;, &#x27;NA20813&#x27;,\n",
       "       &#x27;NA20814&#x27;, &#x27;NA20815&#x27;, &#x27;NA20818&#x27;, &#x27;NA20819&#x27;, &#x27;NA20826&#x27;, &#x27;NA20828&#x27;],\n",
       "      dtype=object)</pre></div></li><li class='xr-var-item'><div class='xr-var-name'><span>father</span></div><div class='xr-var-dims'>(sample)</div><div class='xr-var-dtype'>object</div><div class='xr-var-preview xr-preview'>&#x27;0&#x27; &#x27;0&#x27; &#x27;0&#x27; &#x27;0&#x27; ... &#x27;0&#x27; &#x27;0&#x27; &#x27;0&#x27; &#x27;0&#x27;</div><input id='attrs-461b7f26-9ee7-4ef2-9e43-a9054e1dafb8' class='xr-var-attrs-in' type='checkbox' disabled><label for='attrs-461b7f26-9ee7-4ef2-9e43-a9054e1dafb8' title='Show/Hide attributes'><svg class='icon xr-icon-file-text2'><use xlink:href='#icon-file-text2'></use></svg></label><input id='data-be660493-8d24-4bb6-b3ca-ba73796f78bc' class='xr-var-data-in' type='checkbox'><label for='data-be660493-8d24-4bb6-b3ca-ba73796f78bc' title='Show/Hide data repr'><svg class='icon xr-icon-database'><use xlink:href='#icon-database'></use></svg></label><div class='xr-var-attrs'><dl class='xr-attrs'></dl></div><div class='xr-var-data'><pre>array([&#x27;0&#x27;, &#x27;0&#x27;, &#x27;0&#x27;, &#x27;0&#x27;, &#x27;0&#x27;, &#x27;0&#x27;, &#x27;0&#x27;, &#x27;0&#x27;, &#x27;0&#x27;, &#x27;0&#x27;, &#x27;0&#x27;, &#x27;0&#x27;, &#x27;0&#x27;,\n",
       "       &#x27;0&#x27;, &#x27;0&#x27;, &#x27;0&#x27;, &#x27;0&#x27;, &#x27;0&#x27;, &#x27;0&#x27;, &#x27;0&#x27;, &#x27;0&#x27;, &#x27;0&#x27;, &#x27;0&#x27;, &#x27;0&#x27;, &#x27;0&#x27;, &#x27;0&#x27;,\n",
       "       &#x27;0&#x27;, &#x27;0&#x27;, &#x27;0&#x27;, &#x27;0&#x27;, &#x27;0&#x27;, &#x27;0&#x27;, &#x27;0&#x27;, &#x27;0&#x27;, &#x27;0&#x27;, &#x27;0&#x27;, &#x27;0&#x27;, &#x27;0&#x27;, &#x27;0&#x27;,\n",
       "       &#x27;0&#x27;, &#x27;0&#x27;, &#x27;0&#x27;, &#x27;0&#x27;, &#x27;0&#x27;, &#x27;0&#x27;, &#x27;0&#x27;, &#x27;0&#x27;, &#x27;0&#x27;, &#x27;0&#x27;, &#x27;0&#x27;, &#x27;0&#x27;, &#x27;0&#x27;,\n",
       "       &#x27;0&#x27;, &#x27;0&#x27;, &#x27;0&#x27;, &#x27;0&#x27;, &#x27;0&#x27;, &#x27;0&#x27;, &#x27;0&#x27;, &#x27;0&#x27;, &#x27;0&#x27;, &#x27;0&#x27;, &#x27;0&#x27;, &#x27;0&#x27;, &#x27;0&#x27;,\n",
       "       &#x27;0&#x27;, &#x27;0&#x27;, &#x27;0&#x27;, &#x27;0&#x27;, &#x27;0&#x27;, &#x27;0&#x27;, &#x27;0&#x27;, &#x27;0&#x27;, &#x27;0&#x27;, &#x27;0&#x27;, &#x27;0&#x27;, &#x27;0&#x27;, &#x27;0&#x27;,\n",
       "       &#x27;0&#x27;, &#x27;0&#x27;, &#x27;0&#x27;, &#x27;0&#x27;, &#x27;0&#x27;, &#x27;0&#x27;, &#x27;0&#x27;, &#x27;0&#x27;, &#x27;0&#x27;, &#x27;0&#x27;, &#x27;0&#x27;, &#x27;0&#x27;, &#x27;0&#x27;,\n",
       "       &#x27;0&#x27;, &#x27;0&#x27;, &#x27;0&#x27;, &#x27;0&#x27;, &#x27;0&#x27;, &#x27;0&#x27;, &#x27;0&#x27;, &#x27;0&#x27;, &#x27;0&#x27;, &#x27;0&#x27;, &#x27;0&#x27;, &#x27;0&#x27;, &#x27;0&#x27;,\n",
       "       &#x27;0&#x27;, &#x27;0&#x27;, &#x27;0&#x27;, &#x27;0&#x27;, &#x27;0&#x27;, &#x27;0&#x27;, &#x27;0&#x27;, &#x27;0&#x27;, &#x27;0&#x27;, &#x27;0&#x27;, &#x27;0&#x27;, &#x27;0&#x27;, &#x27;0&#x27;,\n",
       "       &#x27;0&#x27;, &#x27;0&#x27;, &#x27;0&#x27;, &#x27;0&#x27;, &#x27;0&#x27;, &#x27;0&#x27;, &#x27;0&#x27;, &#x27;0&#x27;, &#x27;0&#x27;, &#x27;0&#x27;, &#x27;0&#x27;, &#x27;0&#x27;, &#x27;0&#x27;,\n",
       "       &#x27;0&#x27;, &#x27;0&#x27;, &#x27;0&#x27;, &#x27;0&#x27;, &#x27;0&#x27;, &#x27;0&#x27;, &#x27;0&#x27;, &#x27;0&#x27;, &#x27;0&#x27;, &#x27;0&#x27;, &#x27;0&#x27;, &#x27;0&#x27;, &#x27;0&#x27;,\n",
       "       &#x27;0&#x27;, &#x27;0&#x27;, &#x27;0&#x27;, &#x27;0&#x27;, &#x27;0&#x27;, &#x27;0&#x27;, &#x27;0&#x27;, &#x27;0&#x27;, &#x27;0&#x27;, &#x27;0&#x27;, &#x27;0&#x27;, &#x27;0&#x27;, &#x27;0&#x27;,\n",
       "       &#x27;0&#x27;, &#x27;0&#x27;, &#x27;0&#x27;, &#x27;0&#x27;, &#x27;0&#x27;, &#x27;0&#x27;, &#x27;0&#x27;, &#x27;0&#x27;, &#x27;0&#x27;, &#x27;0&#x27;, &#x27;0&#x27;, &#x27;0&#x27;, &#x27;0&#x27;,\n",
       "       &#x27;0&#x27;, &#x27;0&#x27;, &#x27;0&#x27;, &#x27;0&#x27;, &#x27;0&#x27;, &#x27;0&#x27;, &#x27;0&#x27;, &#x27;0&#x27;, &#x27;0&#x27;, &#x27;0&#x27;, &#x27;0&#x27;, &#x27;0&#x27;, &#x27;0&#x27;,\n",
       "       &#x27;0&#x27;, &#x27;0&#x27;, &#x27;0&#x27;, &#x27;0&#x27;, &#x27;0&#x27;, &#x27;0&#x27;, &#x27;0&#x27;, &#x27;0&#x27;, &#x27;0&#x27;, &#x27;0&#x27;, &#x27;0&#x27;, &#x27;0&#x27;, &#x27;0&#x27;,\n",
       "       &#x27;0&#x27;, &#x27;0&#x27;, &#x27;0&#x27;, &#x27;0&#x27;, &#x27;0&#x27;, &#x27;0&#x27;, &#x27;0&#x27;, &#x27;0&#x27;, &#x27;0&#x27;, &#x27;0&#x27;, &#x27;0&#x27;, &#x27;0&#x27;, &#x27;0&#x27;,\n",
       "       &#x27;0&#x27;, &#x27;0&#x27;, &#x27;0&#x27;, &#x27;0&#x27;, &#x27;0&#x27;, &#x27;0&#x27;, &#x27;0&#x27;, &#x27;0&#x27;, &#x27;0&#x27;, &#x27;0&#x27;, &#x27;0&#x27;, &#x27;0&#x27;, &#x27;0&#x27;,\n",
       "       &#x27;0&#x27;, &#x27;0&#x27;, &#x27;0&#x27;, &#x27;0&#x27;, &#x27;0&#x27;, &#x27;0&#x27;, &#x27;0&#x27;, &#x27;0&#x27;, &#x27;0&#x27;, &#x27;0&#x27;, &#x27;0&#x27;, &#x27;0&#x27;, &#x27;0&#x27;,\n",
       "       &#x27;0&#x27;, &#x27;0&#x27;, &#x27;0&#x27;, &#x27;0&#x27;, &#x27;0&#x27;, &#x27;0&#x27;, &#x27;0&#x27;, &#x27;0&#x27;, &#x27;0&#x27;, &#x27;0&#x27;, &#x27;0&#x27;, &#x27;0&#x27;, &#x27;0&#x27;,\n",
       "       &#x27;0&#x27;, &#x27;0&#x27;, &#x27;0&#x27;, &#x27;0&#x27;, &#x27;0&#x27;, &#x27;0&#x27;, &#x27;0&#x27;, &#x27;0&#x27;, &#x27;0&#x27;, &#x27;0&#x27;, &#x27;0&#x27;, &#x27;0&#x27;, &#x27;0&#x27;,\n",
       "       &#x27;0&#x27;, &#x27;0&#x27;, &#x27;0&#x27;, &#x27;0&#x27;, &#x27;0&#x27;, &#x27;0&#x27;, &#x27;0&#x27;, &#x27;0&#x27;, &#x27;0&#x27;, &#x27;0&#x27;, &#x27;0&#x27;, &#x27;0&#x27;, &#x27;0&#x27;,\n",
       "       &#x27;0&#x27;, &#x27;0&#x27;, &#x27;0&#x27;, &#x27;0&#x27;, &#x27;0&#x27;, &#x27;0&#x27;, &#x27;0&#x27;, &#x27;0&#x27;, &#x27;0&#x27;, &#x27;0&#x27;, &#x27;0&#x27;, &#x27;0&#x27;, &#x27;0&#x27;,\n",
       "       &#x27;0&#x27;, &#x27;0&#x27;, &#x27;0&#x27;, &#x27;0&#x27;, &#x27;0&#x27;, &#x27;0&#x27;, &#x27;0&#x27;, &#x27;0&#x27;, &#x27;0&#x27;, &#x27;0&#x27;, &#x27;0&#x27;, &#x27;0&#x27;, &#x27;0&#x27;,\n",
       "       &#x27;0&#x27;, &#x27;0&#x27;, &#x27;0&#x27;, &#x27;0&#x27;, &#x27;0&#x27;, &#x27;0&#x27;, &#x27;0&#x27;, &#x27;0&#x27;, &#x27;0&#x27;, &#x27;0&#x27;, &#x27;0&#x27;, &#x27;0&#x27;, &#x27;0&#x27;,\n",
       "       &#x27;0&#x27;, &#x27;0&#x27;, &#x27;0&#x27;, &#x27;0&#x27;, &#x27;0&#x27;, &#x27;0&#x27;, &#x27;0&#x27;, &#x27;0&#x27;, &#x27;0&#x27;, &#x27;0&#x27;, &#x27;0&#x27;, &#x27;0&#x27;, &#x27;0&#x27;,\n",
       "       &#x27;0&#x27;, &#x27;0&#x27;, &#x27;0&#x27;, &#x27;0&#x27;, &#x27;0&#x27;, &#x27;0&#x27;, &#x27;0&#x27;, &#x27;0&#x27;, &#x27;0&#x27;, &#x27;0&#x27;, &#x27;0&#x27;, &#x27;0&#x27;, &#x27;0&#x27;,\n",
       "       &#x27;0&#x27;, &#x27;0&#x27;, &#x27;0&#x27;, &#x27;0&#x27;, &#x27;0&#x27;, &#x27;0&#x27;, &#x27;0&#x27;, &#x27;0&#x27;, &#x27;0&#x27;, &#x27;0&#x27;, &#x27;0&#x27;, &#x27;0&#x27;, &#x27;0&#x27;,\n",
       "       &#x27;0&#x27;, &#x27;0&#x27;, &#x27;0&#x27;, &#x27;0&#x27;, &#x27;0&#x27;, &#x27;0&#x27;, &#x27;0&#x27;, &#x27;0&#x27;, &#x27;0&#x27;, &#x27;0&#x27;, &#x27;0&#x27;, &#x27;0&#x27;, &#x27;0&#x27;,\n",
       "       &#x27;0&#x27;, &#x27;0&#x27;, &#x27;0&#x27;, &#x27;0&#x27;, &#x27;0&#x27;, &#x27;0&#x27;, &#x27;0&#x27;, &#x27;0&#x27;, &#x27;0&#x27;, &#x27;0&#x27;, &#x27;0&#x27;, &#x27;0&#x27;, &#x27;0&#x27;,\n",
       "       &#x27;0&#x27;], dtype=object)</pre></div></li><li class='xr-var-item'><div class='xr-var-name'><span>mother</span></div><div class='xr-var-dims'>(sample)</div><div class='xr-var-dtype'>object</div><div class='xr-var-preview xr-preview'>&#x27;0&#x27; &#x27;0&#x27; &#x27;0&#x27; &#x27;0&#x27; ... &#x27;0&#x27; &#x27;0&#x27; &#x27;0&#x27; &#x27;0&#x27;</div><input id='attrs-eef41fb6-03d1-4f66-b503-ec6f8faa1708' class='xr-var-attrs-in' type='checkbox' disabled><label for='attrs-eef41fb6-03d1-4f66-b503-ec6f8faa1708' title='Show/Hide attributes'><svg class='icon xr-icon-file-text2'><use xlink:href='#icon-file-text2'></use></svg></label><input id='data-849f4c35-7d26-4919-9c87-4e86fc290445' class='xr-var-data-in' type='checkbox'><label for='data-849f4c35-7d26-4919-9c87-4e86fc290445' title='Show/Hide data repr'><svg class='icon xr-icon-database'><use xlink:href='#icon-database'></use></svg></label><div class='xr-var-attrs'><dl class='xr-attrs'></dl></div><div class='xr-var-data'><pre>array([&#x27;0&#x27;, &#x27;0&#x27;, &#x27;0&#x27;, &#x27;0&#x27;, &#x27;0&#x27;, &#x27;0&#x27;, &#x27;0&#x27;, &#x27;0&#x27;, &#x27;0&#x27;, &#x27;0&#x27;, &#x27;0&#x27;, &#x27;0&#x27;, &#x27;0&#x27;,\n",
       "       &#x27;0&#x27;, &#x27;0&#x27;, &#x27;0&#x27;, &#x27;0&#x27;, &#x27;0&#x27;, &#x27;0&#x27;, &#x27;0&#x27;, &#x27;0&#x27;, &#x27;0&#x27;, &#x27;0&#x27;, &#x27;0&#x27;, &#x27;0&#x27;, &#x27;0&#x27;,\n",
       "       &#x27;0&#x27;, &#x27;0&#x27;, &#x27;0&#x27;, &#x27;0&#x27;, &#x27;0&#x27;, &#x27;0&#x27;, &#x27;0&#x27;, &#x27;0&#x27;, &#x27;0&#x27;, &#x27;0&#x27;, &#x27;0&#x27;, &#x27;0&#x27;, &#x27;0&#x27;,\n",
       "       &#x27;0&#x27;, &#x27;0&#x27;, &#x27;0&#x27;, &#x27;0&#x27;, &#x27;0&#x27;, &#x27;0&#x27;, &#x27;0&#x27;, &#x27;0&#x27;, &#x27;0&#x27;, &#x27;0&#x27;, &#x27;0&#x27;, &#x27;0&#x27;, &#x27;0&#x27;,\n",
       "       &#x27;0&#x27;, &#x27;0&#x27;, &#x27;0&#x27;, &#x27;0&#x27;, &#x27;0&#x27;, &#x27;0&#x27;, &#x27;0&#x27;, &#x27;0&#x27;, &#x27;0&#x27;, &#x27;0&#x27;, &#x27;0&#x27;, &#x27;0&#x27;, &#x27;0&#x27;,\n",
       "       &#x27;0&#x27;, &#x27;0&#x27;, &#x27;0&#x27;, &#x27;0&#x27;, &#x27;0&#x27;, &#x27;0&#x27;, &#x27;0&#x27;, &#x27;0&#x27;, &#x27;0&#x27;, &#x27;0&#x27;, &#x27;0&#x27;, &#x27;0&#x27;, &#x27;0&#x27;,\n",
       "       &#x27;0&#x27;, &#x27;0&#x27;, &#x27;0&#x27;, &#x27;0&#x27;, &#x27;0&#x27;, &#x27;0&#x27;, &#x27;0&#x27;, &#x27;0&#x27;, &#x27;0&#x27;, &#x27;0&#x27;, &#x27;0&#x27;, &#x27;0&#x27;, &#x27;0&#x27;,\n",
       "       &#x27;0&#x27;, &#x27;0&#x27;, &#x27;0&#x27;, &#x27;0&#x27;, &#x27;0&#x27;, &#x27;0&#x27;, &#x27;0&#x27;, &#x27;0&#x27;, &#x27;0&#x27;, &#x27;0&#x27;, &#x27;0&#x27;, &#x27;0&#x27;, &#x27;0&#x27;,\n",
       "       &#x27;0&#x27;, &#x27;0&#x27;, &#x27;0&#x27;, &#x27;0&#x27;, &#x27;0&#x27;, &#x27;0&#x27;, &#x27;0&#x27;, &#x27;0&#x27;, &#x27;0&#x27;, &#x27;0&#x27;, &#x27;0&#x27;, &#x27;0&#x27;, &#x27;0&#x27;,\n",
       "       &#x27;0&#x27;, &#x27;0&#x27;, &#x27;0&#x27;, &#x27;0&#x27;, &#x27;0&#x27;, &#x27;0&#x27;, &#x27;0&#x27;, &#x27;0&#x27;, &#x27;0&#x27;, &#x27;0&#x27;, &#x27;0&#x27;, &#x27;0&#x27;, &#x27;0&#x27;,\n",
       "       &#x27;0&#x27;, &#x27;0&#x27;, &#x27;0&#x27;, &#x27;0&#x27;, &#x27;0&#x27;, &#x27;0&#x27;, &#x27;0&#x27;, &#x27;0&#x27;, &#x27;0&#x27;, &#x27;0&#x27;, &#x27;0&#x27;, &#x27;0&#x27;, &#x27;0&#x27;,\n",
       "       &#x27;0&#x27;, &#x27;0&#x27;, &#x27;0&#x27;, &#x27;0&#x27;, &#x27;0&#x27;, &#x27;0&#x27;, &#x27;0&#x27;, &#x27;0&#x27;, &#x27;0&#x27;, &#x27;0&#x27;, &#x27;0&#x27;, &#x27;0&#x27;, &#x27;0&#x27;,\n",
       "       &#x27;0&#x27;, &#x27;0&#x27;, &#x27;0&#x27;, &#x27;0&#x27;, &#x27;0&#x27;, &#x27;0&#x27;, &#x27;0&#x27;, &#x27;0&#x27;, &#x27;0&#x27;, &#x27;0&#x27;, &#x27;0&#x27;, &#x27;0&#x27;, &#x27;0&#x27;,\n",
       "       &#x27;0&#x27;, &#x27;0&#x27;, &#x27;0&#x27;, &#x27;0&#x27;, &#x27;0&#x27;, &#x27;0&#x27;, &#x27;0&#x27;, &#x27;0&#x27;, &#x27;0&#x27;, &#x27;0&#x27;, &#x27;0&#x27;, &#x27;0&#x27;, &#x27;0&#x27;,\n",
       "       &#x27;0&#x27;, &#x27;0&#x27;, &#x27;0&#x27;, &#x27;0&#x27;, &#x27;0&#x27;, &#x27;0&#x27;, &#x27;0&#x27;, &#x27;0&#x27;, &#x27;0&#x27;, &#x27;0&#x27;, &#x27;0&#x27;, &#x27;0&#x27;, &#x27;0&#x27;,\n",
       "       &#x27;0&#x27;, &#x27;0&#x27;, &#x27;0&#x27;, &#x27;0&#x27;, &#x27;0&#x27;, &#x27;0&#x27;, &#x27;0&#x27;, &#x27;0&#x27;, &#x27;0&#x27;, &#x27;0&#x27;, &#x27;0&#x27;, &#x27;0&#x27;, &#x27;0&#x27;,\n",
       "       &#x27;0&#x27;, &#x27;0&#x27;, &#x27;0&#x27;, &#x27;0&#x27;, &#x27;0&#x27;, &#x27;0&#x27;, &#x27;0&#x27;, &#x27;0&#x27;, &#x27;0&#x27;, &#x27;0&#x27;, &#x27;0&#x27;, &#x27;0&#x27;, &#x27;0&#x27;,\n",
       "       &#x27;0&#x27;, &#x27;0&#x27;, &#x27;0&#x27;, &#x27;0&#x27;, &#x27;0&#x27;, &#x27;0&#x27;, &#x27;0&#x27;, &#x27;0&#x27;, &#x27;0&#x27;, &#x27;0&#x27;, &#x27;0&#x27;, &#x27;0&#x27;, &#x27;0&#x27;,\n",
       "       &#x27;0&#x27;, &#x27;0&#x27;, &#x27;0&#x27;, &#x27;0&#x27;, &#x27;0&#x27;, &#x27;0&#x27;, &#x27;0&#x27;, &#x27;0&#x27;, &#x27;0&#x27;, &#x27;0&#x27;, &#x27;0&#x27;, &#x27;0&#x27;, &#x27;0&#x27;,\n",
       "       &#x27;0&#x27;, &#x27;0&#x27;, &#x27;0&#x27;, &#x27;0&#x27;, &#x27;0&#x27;, &#x27;0&#x27;, &#x27;0&#x27;, &#x27;0&#x27;, &#x27;0&#x27;, &#x27;0&#x27;, &#x27;0&#x27;, &#x27;0&#x27;, &#x27;0&#x27;,\n",
       "       &#x27;0&#x27;, &#x27;0&#x27;, &#x27;0&#x27;, &#x27;0&#x27;, &#x27;0&#x27;, &#x27;0&#x27;, &#x27;0&#x27;, &#x27;0&#x27;, &#x27;0&#x27;, &#x27;0&#x27;, &#x27;0&#x27;, &#x27;0&#x27;, &#x27;0&#x27;,\n",
       "       &#x27;0&#x27;, &#x27;0&#x27;, &#x27;0&#x27;, &#x27;0&#x27;, &#x27;0&#x27;, &#x27;0&#x27;, &#x27;0&#x27;, &#x27;0&#x27;, &#x27;0&#x27;, &#x27;0&#x27;, &#x27;0&#x27;, &#x27;0&#x27;, &#x27;0&#x27;,\n",
       "       &#x27;0&#x27;, &#x27;0&#x27;, &#x27;0&#x27;, &#x27;0&#x27;, &#x27;0&#x27;, &#x27;0&#x27;, &#x27;0&#x27;, &#x27;0&#x27;, &#x27;0&#x27;, &#x27;0&#x27;, &#x27;0&#x27;, &#x27;0&#x27;, &#x27;0&#x27;,\n",
       "       &#x27;0&#x27;, &#x27;0&#x27;, &#x27;0&#x27;, &#x27;0&#x27;, &#x27;0&#x27;, &#x27;0&#x27;, &#x27;0&#x27;, &#x27;0&#x27;, &#x27;0&#x27;, &#x27;0&#x27;, &#x27;0&#x27;, &#x27;0&#x27;, &#x27;0&#x27;,\n",
       "       &#x27;0&#x27;, &#x27;0&#x27;, &#x27;0&#x27;, &#x27;0&#x27;, &#x27;0&#x27;, &#x27;0&#x27;, &#x27;0&#x27;, &#x27;0&#x27;, &#x27;0&#x27;, &#x27;0&#x27;, &#x27;0&#x27;, &#x27;0&#x27;, &#x27;0&#x27;,\n",
       "       &#x27;0&#x27;, &#x27;0&#x27;, &#x27;0&#x27;, &#x27;0&#x27;, &#x27;0&#x27;, &#x27;0&#x27;, &#x27;0&#x27;, &#x27;0&#x27;, &#x27;0&#x27;, &#x27;0&#x27;, &#x27;0&#x27;, &#x27;0&#x27;, &#x27;0&#x27;,\n",
       "       &#x27;0&#x27;, &#x27;0&#x27;, &#x27;0&#x27;, &#x27;0&#x27;, &#x27;0&#x27;, &#x27;0&#x27;, &#x27;0&#x27;, &#x27;0&#x27;, &#x27;0&#x27;, &#x27;0&#x27;, &#x27;0&#x27;, &#x27;0&#x27;, &#x27;0&#x27;,\n",
       "       &#x27;0&#x27;, &#x27;0&#x27;, &#x27;0&#x27;, &#x27;0&#x27;, &#x27;0&#x27;, &#x27;0&#x27;, &#x27;0&#x27;, &#x27;0&#x27;, &#x27;0&#x27;, &#x27;0&#x27;, &#x27;0&#x27;, &#x27;0&#x27;, &#x27;0&#x27;,\n",
       "       &#x27;0&#x27;, &#x27;0&#x27;, &#x27;0&#x27;, &#x27;0&#x27;, &#x27;0&#x27;, &#x27;0&#x27;, &#x27;0&#x27;, &#x27;0&#x27;, &#x27;0&#x27;, &#x27;0&#x27;, &#x27;0&#x27;, &#x27;0&#x27;, &#x27;0&#x27;,\n",
       "       &#x27;0&#x27;], dtype=object)</pre></div></li><li class='xr-var-item'><div class='xr-var-name'><span>gender</span></div><div class='xr-var-dims'>(sample)</div><div class='xr-var-dtype'>object</div><div class='xr-var-preview xr-preview'>&#x27;0&#x27; &#x27;0&#x27; &#x27;0&#x27; &#x27;0&#x27; ... &#x27;0&#x27; &#x27;0&#x27; &#x27;0&#x27; &#x27;0&#x27;</div><input id='attrs-9618d4ff-827c-4e24-b64d-fadb7e172403' class='xr-var-attrs-in' type='checkbox' disabled><label for='attrs-9618d4ff-827c-4e24-b64d-fadb7e172403' title='Show/Hide attributes'><svg class='icon xr-icon-file-text2'><use xlink:href='#icon-file-text2'></use></svg></label><input id='data-1dbf3318-ca81-4a56-88d6-492ea664b5fb' class='xr-var-data-in' type='checkbox'><label for='data-1dbf3318-ca81-4a56-88d6-492ea664b5fb' title='Show/Hide data repr'><svg class='icon xr-icon-database'><use xlink:href='#icon-database'></use></svg></label><div class='xr-var-attrs'><dl class='xr-attrs'></dl></div><div class='xr-var-data'><pre>array([&#x27;0&#x27;, &#x27;0&#x27;, &#x27;0&#x27;, &#x27;0&#x27;, &#x27;0&#x27;, &#x27;0&#x27;, &#x27;0&#x27;, &#x27;0&#x27;, &#x27;0&#x27;, &#x27;0&#x27;, &#x27;0&#x27;, &#x27;0&#x27;, &#x27;0&#x27;,\n",
       "       &#x27;0&#x27;, &#x27;0&#x27;, &#x27;0&#x27;, &#x27;0&#x27;, &#x27;0&#x27;, &#x27;0&#x27;, &#x27;0&#x27;, &#x27;0&#x27;, &#x27;0&#x27;, &#x27;0&#x27;, &#x27;0&#x27;, &#x27;0&#x27;, &#x27;0&#x27;,\n",
       "       &#x27;0&#x27;, &#x27;0&#x27;, &#x27;0&#x27;, &#x27;0&#x27;, &#x27;0&#x27;, &#x27;0&#x27;, &#x27;0&#x27;, &#x27;0&#x27;, &#x27;0&#x27;, &#x27;0&#x27;, &#x27;0&#x27;, &#x27;0&#x27;, &#x27;0&#x27;,\n",
       "       &#x27;0&#x27;, &#x27;0&#x27;, &#x27;0&#x27;, &#x27;0&#x27;, &#x27;0&#x27;, &#x27;0&#x27;, &#x27;0&#x27;, &#x27;0&#x27;, &#x27;0&#x27;, &#x27;0&#x27;, &#x27;0&#x27;, &#x27;0&#x27;, &#x27;0&#x27;,\n",
       "       &#x27;0&#x27;, &#x27;0&#x27;, &#x27;0&#x27;, &#x27;0&#x27;, &#x27;0&#x27;, &#x27;0&#x27;, &#x27;0&#x27;, &#x27;0&#x27;, &#x27;0&#x27;, &#x27;0&#x27;, &#x27;0&#x27;, &#x27;0&#x27;, &#x27;0&#x27;,\n",
       "       &#x27;0&#x27;, &#x27;0&#x27;, &#x27;0&#x27;, &#x27;0&#x27;, &#x27;0&#x27;, &#x27;0&#x27;, &#x27;0&#x27;, &#x27;0&#x27;, &#x27;0&#x27;, &#x27;0&#x27;, &#x27;0&#x27;, &#x27;0&#x27;, &#x27;0&#x27;,\n",
       "       &#x27;0&#x27;, &#x27;0&#x27;, &#x27;0&#x27;, &#x27;0&#x27;, &#x27;0&#x27;, &#x27;0&#x27;, &#x27;0&#x27;, &#x27;0&#x27;, &#x27;0&#x27;, &#x27;0&#x27;, &#x27;0&#x27;, &#x27;0&#x27;, &#x27;0&#x27;,\n",
       "       &#x27;0&#x27;, &#x27;0&#x27;, &#x27;0&#x27;, &#x27;0&#x27;, &#x27;0&#x27;, &#x27;0&#x27;, &#x27;0&#x27;, &#x27;0&#x27;, &#x27;0&#x27;, &#x27;0&#x27;, &#x27;0&#x27;, &#x27;0&#x27;, &#x27;0&#x27;,\n",
       "       &#x27;0&#x27;, &#x27;0&#x27;, &#x27;0&#x27;, &#x27;0&#x27;, &#x27;0&#x27;, &#x27;0&#x27;, &#x27;0&#x27;, &#x27;0&#x27;, &#x27;0&#x27;, &#x27;0&#x27;, &#x27;0&#x27;, &#x27;0&#x27;, &#x27;0&#x27;,\n",
       "       &#x27;0&#x27;, &#x27;0&#x27;, &#x27;0&#x27;, &#x27;0&#x27;, &#x27;0&#x27;, &#x27;0&#x27;, &#x27;0&#x27;, &#x27;0&#x27;, &#x27;0&#x27;, &#x27;0&#x27;, &#x27;0&#x27;, &#x27;0&#x27;, &#x27;0&#x27;,\n",
       "       &#x27;0&#x27;, &#x27;0&#x27;, &#x27;0&#x27;, &#x27;0&#x27;, &#x27;0&#x27;, &#x27;0&#x27;, &#x27;0&#x27;, &#x27;0&#x27;, &#x27;0&#x27;, &#x27;0&#x27;, &#x27;0&#x27;, &#x27;0&#x27;, &#x27;0&#x27;,\n",
       "       &#x27;0&#x27;, &#x27;0&#x27;, &#x27;0&#x27;, &#x27;0&#x27;, &#x27;0&#x27;, &#x27;0&#x27;, &#x27;0&#x27;, &#x27;0&#x27;, &#x27;0&#x27;, &#x27;0&#x27;, &#x27;0&#x27;, &#x27;0&#x27;, &#x27;0&#x27;,\n",
       "       &#x27;0&#x27;, &#x27;0&#x27;, &#x27;0&#x27;, &#x27;0&#x27;, &#x27;0&#x27;, &#x27;0&#x27;, &#x27;0&#x27;, &#x27;0&#x27;, &#x27;0&#x27;, &#x27;0&#x27;, &#x27;0&#x27;, &#x27;0&#x27;, &#x27;0&#x27;,\n",
       "       &#x27;0&#x27;, &#x27;0&#x27;, &#x27;0&#x27;, &#x27;0&#x27;, &#x27;0&#x27;, &#x27;0&#x27;, &#x27;0&#x27;, &#x27;0&#x27;, &#x27;0&#x27;, &#x27;0&#x27;, &#x27;0&#x27;, &#x27;0&#x27;, &#x27;0&#x27;,\n",
       "       &#x27;0&#x27;, &#x27;0&#x27;, &#x27;0&#x27;, &#x27;0&#x27;, &#x27;0&#x27;, &#x27;0&#x27;, &#x27;0&#x27;, &#x27;0&#x27;, &#x27;0&#x27;, &#x27;0&#x27;, &#x27;0&#x27;, &#x27;0&#x27;, &#x27;0&#x27;,\n",
       "       &#x27;0&#x27;, &#x27;0&#x27;, &#x27;0&#x27;, &#x27;0&#x27;, &#x27;0&#x27;, &#x27;0&#x27;, &#x27;0&#x27;, &#x27;0&#x27;, &#x27;0&#x27;, &#x27;0&#x27;, &#x27;0&#x27;, &#x27;0&#x27;, &#x27;0&#x27;,\n",
       "       &#x27;0&#x27;, &#x27;0&#x27;, &#x27;0&#x27;, &#x27;0&#x27;, &#x27;0&#x27;, &#x27;0&#x27;, &#x27;0&#x27;, &#x27;0&#x27;, &#x27;0&#x27;, &#x27;0&#x27;, &#x27;0&#x27;, &#x27;0&#x27;, &#x27;0&#x27;,\n",
       "       &#x27;0&#x27;, &#x27;0&#x27;, &#x27;0&#x27;, &#x27;0&#x27;, &#x27;0&#x27;, &#x27;0&#x27;, &#x27;0&#x27;, &#x27;0&#x27;, &#x27;0&#x27;, &#x27;0&#x27;, &#x27;0&#x27;, &#x27;0&#x27;, &#x27;0&#x27;,\n",
       "       &#x27;0&#x27;, &#x27;0&#x27;, &#x27;0&#x27;, &#x27;0&#x27;, &#x27;0&#x27;, &#x27;0&#x27;, &#x27;0&#x27;, &#x27;0&#x27;, &#x27;0&#x27;, &#x27;0&#x27;, &#x27;0&#x27;, &#x27;0&#x27;, &#x27;0&#x27;,\n",
       "       &#x27;0&#x27;, &#x27;0&#x27;, &#x27;0&#x27;, &#x27;0&#x27;, &#x27;0&#x27;, &#x27;0&#x27;, &#x27;0&#x27;, &#x27;0&#x27;, &#x27;0&#x27;, &#x27;0&#x27;, &#x27;0&#x27;, &#x27;0&#x27;, &#x27;0&#x27;,\n",
       "       &#x27;0&#x27;, &#x27;0&#x27;, &#x27;0&#x27;, &#x27;0&#x27;, &#x27;0&#x27;, &#x27;0&#x27;, &#x27;0&#x27;, &#x27;0&#x27;, &#x27;0&#x27;, &#x27;0&#x27;, &#x27;0&#x27;, &#x27;0&#x27;, &#x27;0&#x27;,\n",
       "       &#x27;0&#x27;, &#x27;0&#x27;, &#x27;0&#x27;, &#x27;0&#x27;, &#x27;0&#x27;, &#x27;0&#x27;, &#x27;0&#x27;, &#x27;0&#x27;, &#x27;0&#x27;, &#x27;0&#x27;, &#x27;0&#x27;, &#x27;0&#x27;, &#x27;0&#x27;,\n",
       "       &#x27;0&#x27;, &#x27;0&#x27;, &#x27;0&#x27;, &#x27;0&#x27;, &#x27;0&#x27;, &#x27;0&#x27;, &#x27;0&#x27;, &#x27;0&#x27;, &#x27;0&#x27;, &#x27;0&#x27;, &#x27;0&#x27;, &#x27;0&#x27;, &#x27;0&#x27;,\n",
       "       &#x27;0&#x27;, &#x27;0&#x27;, &#x27;0&#x27;, &#x27;0&#x27;, &#x27;0&#x27;, &#x27;0&#x27;, &#x27;0&#x27;, &#x27;0&#x27;, &#x27;0&#x27;, &#x27;0&#x27;, &#x27;0&#x27;, &#x27;0&#x27;, &#x27;0&#x27;,\n",
       "       &#x27;0&#x27;, &#x27;0&#x27;, &#x27;0&#x27;, &#x27;0&#x27;, &#x27;0&#x27;, &#x27;0&#x27;, &#x27;0&#x27;, &#x27;0&#x27;, &#x27;0&#x27;, &#x27;0&#x27;, &#x27;0&#x27;, &#x27;0&#x27;, &#x27;0&#x27;,\n",
       "       &#x27;0&#x27;, &#x27;0&#x27;, &#x27;0&#x27;, &#x27;0&#x27;, &#x27;0&#x27;, &#x27;0&#x27;, &#x27;0&#x27;, &#x27;0&#x27;, &#x27;0&#x27;, &#x27;0&#x27;, &#x27;0&#x27;, &#x27;0&#x27;, &#x27;0&#x27;,\n",
       "       &#x27;0&#x27;, &#x27;0&#x27;, &#x27;0&#x27;, &#x27;0&#x27;, &#x27;0&#x27;, &#x27;0&#x27;, &#x27;0&#x27;, &#x27;0&#x27;, &#x27;0&#x27;, &#x27;0&#x27;, &#x27;0&#x27;, &#x27;0&#x27;, &#x27;0&#x27;,\n",
       "       &#x27;0&#x27;, &#x27;0&#x27;, &#x27;0&#x27;, &#x27;0&#x27;, &#x27;0&#x27;, &#x27;0&#x27;, &#x27;0&#x27;, &#x27;0&#x27;, &#x27;0&#x27;, &#x27;0&#x27;, &#x27;0&#x27;, &#x27;0&#x27;, &#x27;0&#x27;,\n",
       "       &#x27;0&#x27;, &#x27;0&#x27;, &#x27;0&#x27;, &#x27;0&#x27;, &#x27;0&#x27;, &#x27;0&#x27;, &#x27;0&#x27;, &#x27;0&#x27;, &#x27;0&#x27;, &#x27;0&#x27;, &#x27;0&#x27;, &#x27;0&#x27;, &#x27;0&#x27;,\n",
       "       &#x27;0&#x27;], dtype=object)</pre></div></li><li class='xr-var-item'><div class='xr-var-name'><span>trait</span></div><div class='xr-var-dims'>(sample)</div><div class='xr-var-dtype'>object</div><div class='xr-var-preview xr-preview'>&#x27;-9&#x27; &#x27;-9&#x27; &#x27;-9&#x27; ... &#x27;-9&#x27; &#x27;-9&#x27; &#x27;-9&#x27;</div><input id='attrs-b3ff60c6-4191-4bbd-9638-3282b0d1109c' class='xr-var-attrs-in' type='checkbox' disabled><label for='attrs-b3ff60c6-4191-4bbd-9638-3282b0d1109c' title='Show/Hide attributes'><svg class='icon xr-icon-file-text2'><use xlink:href='#icon-file-text2'></use></svg></label><input id='data-385b2e89-e208-4013-9fdb-50645f9721de' class='xr-var-data-in' type='checkbox'><label for='data-385b2e89-e208-4013-9fdb-50645f9721de' title='Show/Hide data repr'><svg class='icon xr-icon-database'><use xlink:href='#icon-database'></use></svg></label><div class='xr-var-attrs'><dl class='xr-attrs'></dl></div><div class='xr-var-data'><pre>array([&#x27;-9&#x27;, &#x27;-9&#x27;, &#x27;-9&#x27;, &#x27;-9&#x27;, &#x27;-9&#x27;, &#x27;-9&#x27;, &#x27;-9&#x27;, &#x27;-9&#x27;, &#x27;-9&#x27;, &#x27;-9&#x27;, &#x27;-9&#x27;,\n",
       "       &#x27;-9&#x27;, &#x27;-9&#x27;, &#x27;-9&#x27;, &#x27;-9&#x27;, &#x27;-9&#x27;, &#x27;-9&#x27;, &#x27;-9&#x27;, &#x27;-9&#x27;, &#x27;-9&#x27;, &#x27;-9&#x27;, &#x27;-9&#x27;,\n",
       "       &#x27;-9&#x27;, &#x27;-9&#x27;, &#x27;-9&#x27;, &#x27;-9&#x27;, &#x27;-9&#x27;, &#x27;-9&#x27;, &#x27;-9&#x27;, &#x27;-9&#x27;, &#x27;-9&#x27;, &#x27;-9&#x27;, &#x27;-9&#x27;,\n",
       "       &#x27;-9&#x27;, &#x27;-9&#x27;, &#x27;-9&#x27;, &#x27;-9&#x27;, &#x27;-9&#x27;, &#x27;-9&#x27;, &#x27;-9&#x27;, &#x27;-9&#x27;, &#x27;-9&#x27;, &#x27;-9&#x27;, &#x27;-9&#x27;,\n",
       "       &#x27;-9&#x27;, &#x27;-9&#x27;, &#x27;-9&#x27;, &#x27;-9&#x27;, &#x27;-9&#x27;, &#x27;-9&#x27;, &#x27;-9&#x27;, &#x27;-9&#x27;, &#x27;-9&#x27;, &#x27;-9&#x27;, &#x27;-9&#x27;,\n",
       "       &#x27;-9&#x27;, &#x27;-9&#x27;, &#x27;-9&#x27;, &#x27;-9&#x27;, &#x27;-9&#x27;, &#x27;-9&#x27;, &#x27;-9&#x27;, &#x27;-9&#x27;, &#x27;-9&#x27;, &#x27;-9&#x27;, &#x27;-9&#x27;,\n",
       "       &#x27;-9&#x27;, &#x27;-9&#x27;, &#x27;-9&#x27;, &#x27;-9&#x27;, &#x27;-9&#x27;, &#x27;-9&#x27;, &#x27;-9&#x27;, &#x27;-9&#x27;, &#x27;-9&#x27;, &#x27;-9&#x27;, &#x27;-9&#x27;,\n",
       "       &#x27;-9&#x27;, &#x27;-9&#x27;, &#x27;-9&#x27;, &#x27;-9&#x27;, &#x27;-9&#x27;, &#x27;-9&#x27;, &#x27;-9&#x27;, &#x27;-9&#x27;, &#x27;-9&#x27;, &#x27;-9&#x27;, &#x27;-9&#x27;,\n",
       "       &#x27;-9&#x27;, &#x27;-9&#x27;, &#x27;-9&#x27;, &#x27;-9&#x27;, &#x27;-9&#x27;, &#x27;-9&#x27;, &#x27;-9&#x27;, &#x27;-9&#x27;, &#x27;-9&#x27;, &#x27;-9&#x27;, &#x27;-9&#x27;,\n",
       "       &#x27;-9&#x27;, &#x27;-9&#x27;, &#x27;-9&#x27;, &#x27;-9&#x27;, &#x27;-9&#x27;, &#x27;-9&#x27;, &#x27;-9&#x27;, &#x27;-9&#x27;, &#x27;-9&#x27;, &#x27;-9&#x27;, &#x27;-9&#x27;,\n",
       "       &#x27;-9&#x27;, &#x27;-9&#x27;, &#x27;-9&#x27;, &#x27;-9&#x27;, &#x27;-9&#x27;, &#x27;-9&#x27;, &#x27;-9&#x27;, &#x27;-9&#x27;, &#x27;-9&#x27;, &#x27;-9&#x27;, &#x27;-9&#x27;,\n",
       "       &#x27;-9&#x27;, &#x27;-9&#x27;, &#x27;-9&#x27;, &#x27;-9&#x27;, &#x27;-9&#x27;, &#x27;-9&#x27;, &#x27;-9&#x27;, &#x27;-9&#x27;, &#x27;-9&#x27;, &#x27;-9&#x27;, &#x27;-9&#x27;,\n",
       "       &#x27;-9&#x27;, &#x27;-9&#x27;, &#x27;-9&#x27;, &#x27;-9&#x27;, &#x27;-9&#x27;, &#x27;-9&#x27;, &#x27;-9&#x27;, &#x27;-9&#x27;, &#x27;-9&#x27;, &#x27;-9&#x27;, &#x27;-9&#x27;,\n",
       "       &#x27;-9&#x27;, &#x27;-9&#x27;, &#x27;-9&#x27;, &#x27;-9&#x27;, &#x27;-9&#x27;, &#x27;-9&#x27;, &#x27;-9&#x27;, &#x27;-9&#x27;, &#x27;-9&#x27;, &#x27;-9&#x27;, &#x27;-9&#x27;,\n",
       "       &#x27;-9&#x27;, &#x27;-9&#x27;, &#x27;-9&#x27;, &#x27;-9&#x27;, &#x27;-9&#x27;, &#x27;-9&#x27;, &#x27;-9&#x27;, &#x27;-9&#x27;, &#x27;-9&#x27;, &#x27;-9&#x27;, &#x27;-9&#x27;,\n",
       "       &#x27;-9&#x27;, &#x27;-9&#x27;, &#x27;-9&#x27;, &#x27;-9&#x27;, &#x27;-9&#x27;, &#x27;-9&#x27;, &#x27;-9&#x27;, &#x27;-9&#x27;, &#x27;-9&#x27;, &#x27;-9&#x27;, &#x27;-9&#x27;,\n",
       "       &#x27;-9&#x27;, &#x27;-9&#x27;, &#x27;-9&#x27;, &#x27;-9&#x27;, &#x27;-9&#x27;, &#x27;-9&#x27;, &#x27;-9&#x27;, &#x27;-9&#x27;, &#x27;-9&#x27;, &#x27;-9&#x27;, &#x27;-9&#x27;,\n",
       "       &#x27;-9&#x27;, &#x27;-9&#x27;, &#x27;-9&#x27;, &#x27;-9&#x27;, &#x27;-9&#x27;, &#x27;-9&#x27;, &#x27;-9&#x27;, &#x27;-9&#x27;, &#x27;-9&#x27;, &#x27;-9&#x27;, &#x27;-9&#x27;,\n",
       "       &#x27;-9&#x27;, &#x27;-9&#x27;, &#x27;-9&#x27;, &#x27;-9&#x27;, &#x27;-9&#x27;, &#x27;-9&#x27;, &#x27;-9&#x27;, &#x27;-9&#x27;, &#x27;-9&#x27;, &#x27;-9&#x27;, &#x27;-9&#x27;,\n",
       "       &#x27;-9&#x27;, &#x27;-9&#x27;, &#x27;-9&#x27;, &#x27;-9&#x27;, &#x27;-9&#x27;, &#x27;-9&#x27;, &#x27;-9&#x27;, &#x27;-9&#x27;, &#x27;-9&#x27;, &#x27;-9&#x27;, &#x27;-9&#x27;,\n",
       "       &#x27;-9&#x27;, &#x27;-9&#x27;, &#x27;-9&#x27;, &#x27;-9&#x27;, &#x27;-9&#x27;, &#x27;-9&#x27;, &#x27;-9&#x27;, &#x27;-9&#x27;, &#x27;-9&#x27;, &#x27;-9&#x27;, &#x27;-9&#x27;,\n",
       "       &#x27;-9&#x27;, &#x27;-9&#x27;, &#x27;-9&#x27;, &#x27;-9&#x27;, &#x27;-9&#x27;, &#x27;-9&#x27;, &#x27;-9&#x27;, &#x27;-9&#x27;, &#x27;-9&#x27;, &#x27;-9&#x27;, &#x27;-9&#x27;,\n",
       "       &#x27;-9&#x27;, &#x27;-9&#x27;, &#x27;-9&#x27;, &#x27;-9&#x27;, &#x27;-9&#x27;, &#x27;-9&#x27;, &#x27;-9&#x27;, &#x27;-9&#x27;, &#x27;-9&#x27;, &#x27;-9&#x27;, &#x27;-9&#x27;,\n",
       "       &#x27;-9&#x27;, &#x27;-9&#x27;, &#x27;-9&#x27;, &#x27;-9&#x27;, &#x27;-9&#x27;, &#x27;-9&#x27;, &#x27;-9&#x27;, &#x27;-9&#x27;, &#x27;-9&#x27;, &#x27;-9&#x27;, &#x27;-9&#x27;,\n",
       "       &#x27;-9&#x27;, &#x27;-9&#x27;, &#x27;-9&#x27;, &#x27;-9&#x27;, &#x27;-9&#x27;, &#x27;-9&#x27;, &#x27;-9&#x27;, &#x27;-9&#x27;, &#x27;-9&#x27;, &#x27;-9&#x27;, &#x27;-9&#x27;,\n",
       "       &#x27;-9&#x27;, &#x27;-9&#x27;, &#x27;-9&#x27;, &#x27;-9&#x27;, &#x27;-9&#x27;, &#x27;-9&#x27;, &#x27;-9&#x27;, &#x27;-9&#x27;, &#x27;-9&#x27;, &#x27;-9&#x27;, &#x27;-9&#x27;,\n",
       "       &#x27;-9&#x27;, &#x27;-9&#x27;, &#x27;-9&#x27;, &#x27;-9&#x27;, &#x27;-9&#x27;, &#x27;-9&#x27;, &#x27;-9&#x27;, &#x27;-9&#x27;, &#x27;-9&#x27;, &#x27;-9&#x27;, &#x27;-9&#x27;,\n",
       "       &#x27;-9&#x27;, &#x27;-9&#x27;, &#x27;-9&#x27;, &#x27;-9&#x27;, &#x27;-9&#x27;, &#x27;-9&#x27;, &#x27;-9&#x27;, &#x27;-9&#x27;, &#x27;-9&#x27;, &#x27;-9&#x27;, &#x27;-9&#x27;,\n",
       "       &#x27;-9&#x27;, &#x27;-9&#x27;, &#x27;-9&#x27;, &#x27;-9&#x27;, &#x27;-9&#x27;, &#x27;-9&#x27;, &#x27;-9&#x27;, &#x27;-9&#x27;, &#x27;-9&#x27;, &#x27;-9&#x27;, &#x27;-9&#x27;,\n",
       "       &#x27;-9&#x27;, &#x27;-9&#x27;, &#x27;-9&#x27;, &#x27;-9&#x27;, &#x27;-9&#x27;, &#x27;-9&#x27;, &#x27;-9&#x27;, &#x27;-9&#x27;, &#x27;-9&#x27;, &#x27;-9&#x27;, &#x27;-9&#x27;,\n",
       "       &#x27;-9&#x27;, &#x27;-9&#x27;, &#x27;-9&#x27;, &#x27;-9&#x27;, &#x27;-9&#x27;, &#x27;-9&#x27;, &#x27;-9&#x27;, &#x27;-9&#x27;, &#x27;-9&#x27;, &#x27;-9&#x27;, &#x27;-9&#x27;,\n",
       "       &#x27;-9&#x27;, &#x27;-9&#x27;, &#x27;-9&#x27;, &#x27;-9&#x27;, &#x27;-9&#x27;, &#x27;-9&#x27;, &#x27;-9&#x27;, &#x27;-9&#x27;, &#x27;-9&#x27;, &#x27;-9&#x27;, &#x27;-9&#x27;,\n",
       "       &#x27;-9&#x27;, &#x27;-9&#x27;, &#x27;-9&#x27;, &#x27;-9&#x27;, &#x27;-9&#x27;, &#x27;-9&#x27;, &#x27;-9&#x27;, &#x27;-9&#x27;, &#x27;-9&#x27;, &#x27;-9&#x27;, &#x27;-9&#x27;,\n",
       "       &#x27;-9&#x27;, &#x27;-9&#x27;, &#x27;-9&#x27;, &#x27;-9&#x27;, &#x27;-9&#x27;, &#x27;-9&#x27;, &#x27;-9&#x27;, &#x27;-9&#x27;, &#x27;-9&#x27;, &#x27;-9&#x27;, &#x27;-9&#x27;,\n",
       "       &#x27;-9&#x27;, &#x27;-9&#x27;, &#x27;-9&#x27;, &#x27;-9&#x27;], dtype=object)</pre></div></li><li class='xr-var-item'><div class='xr-var-name'><span>chrom</span></div><div class='xr-var-dims'>(variant)</div><div class='xr-var-dtype'>object</div><div class='xr-var-preview xr-preview'>&#x27;22&#x27; &#x27;22&#x27; &#x27;22&#x27; ... &#x27;22&#x27; &#x27;22&#x27; &#x27;22&#x27;</div><input id='attrs-b9781620-a3a8-46d8-be94-8dd94481abf6' class='xr-var-attrs-in' type='checkbox' disabled><label for='attrs-b9781620-a3a8-46d8-be94-8dd94481abf6' title='Show/Hide attributes'><svg class='icon xr-icon-file-text2'><use xlink:href='#icon-file-text2'></use></svg></label><input id='data-ce946b6d-9d30-44f0-9af0-c24985d98dd6' class='xr-var-data-in' type='checkbox'><label for='data-ce946b6d-9d30-44f0-9af0-c24985d98dd6' title='Show/Hide data repr'><svg class='icon xr-icon-database'><use xlink:href='#icon-database'></use></svg></label><div class='xr-var-attrs'><dl class='xr-attrs'></dl></div><div class='xr-var-data'><pre>array([&#x27;22&#x27;, &#x27;22&#x27;, &#x27;22&#x27;, &#x27;22&#x27;, &#x27;22&#x27;, &#x27;22&#x27;, &#x27;22&#x27;, &#x27;22&#x27;, &#x27;22&#x27;, &#x27;22&#x27;, &#x27;22&#x27;,\n",
       "       &#x27;22&#x27;, &#x27;22&#x27;, &#x27;22&#x27;, &#x27;22&#x27;, &#x27;22&#x27;, &#x27;22&#x27;, &#x27;22&#x27;, &#x27;22&#x27;, &#x27;22&#x27;, &#x27;22&#x27;, &#x27;22&#x27;,\n",
       "       &#x27;22&#x27;, &#x27;22&#x27;, &#x27;22&#x27;, &#x27;22&#x27;, &#x27;22&#x27;, &#x27;22&#x27;, &#x27;22&#x27;, &#x27;22&#x27;, &#x27;22&#x27;, &#x27;22&#x27;, &#x27;22&#x27;,\n",
       "       &#x27;22&#x27;, &#x27;22&#x27;, &#x27;22&#x27;, &#x27;22&#x27;, &#x27;22&#x27;, &#x27;22&#x27;, &#x27;22&#x27;, &#x27;22&#x27;, &#x27;22&#x27;, &#x27;22&#x27;, &#x27;22&#x27;,\n",
       "       &#x27;22&#x27;, &#x27;22&#x27;, &#x27;22&#x27;, &#x27;22&#x27;, &#x27;22&#x27;, &#x27;22&#x27;, &#x27;22&#x27;, &#x27;22&#x27;, &#x27;22&#x27;, &#x27;22&#x27;, &#x27;22&#x27;,\n",
       "       &#x27;22&#x27;, &#x27;22&#x27;, &#x27;22&#x27;, &#x27;22&#x27;, &#x27;22&#x27;, &#x27;22&#x27;, &#x27;22&#x27;, &#x27;22&#x27;, &#x27;22&#x27;, &#x27;22&#x27;, &#x27;22&#x27;,\n",
       "       &#x27;22&#x27;, &#x27;22&#x27;, &#x27;22&#x27;, &#x27;22&#x27;, &#x27;22&#x27;, &#x27;22&#x27;, &#x27;22&#x27;, &#x27;22&#x27;, &#x27;22&#x27;, &#x27;22&#x27;, &#x27;22&#x27;,\n",
       "       &#x27;22&#x27;, &#x27;22&#x27;, &#x27;22&#x27;, &#x27;22&#x27;, &#x27;22&#x27;, &#x27;22&#x27;, &#x27;22&#x27;, &#x27;22&#x27;, &#x27;22&#x27;, &#x27;22&#x27;, &#x27;22&#x27;,\n",
       "       &#x27;22&#x27;, &#x27;22&#x27;, &#x27;22&#x27;, &#x27;22&#x27;, &#x27;22&#x27;, &#x27;22&#x27;, &#x27;22&#x27;, &#x27;22&#x27;, &#x27;22&#x27;, &#x27;22&#x27;, &#x27;22&#x27;,\n",
       "       &#x27;22&#x27;, &#x27;22&#x27;, &#x27;22&#x27;, &#x27;22&#x27;, &#x27;22&#x27;, &#x27;22&#x27;, &#x27;22&#x27;, &#x27;22&#x27;, &#x27;22&#x27;, &#x27;22&#x27;, &#x27;22&#x27;,\n",
       "       &#x27;22&#x27;, &#x27;22&#x27;, &#x27;22&#x27;, &#x27;22&#x27;, &#x27;22&#x27;, &#x27;22&#x27;, &#x27;22&#x27;, &#x27;22&#x27;, &#x27;22&#x27;, &#x27;22&#x27;, &#x27;22&#x27;,\n",
       "       &#x27;22&#x27;, &#x27;22&#x27;, &#x27;22&#x27;, &#x27;22&#x27;, &#x27;22&#x27;, &#x27;22&#x27;, &#x27;22&#x27;, &#x27;22&#x27;, &#x27;22&#x27;, &#x27;22&#x27;, &#x27;22&#x27;,\n",
       "       &#x27;22&#x27;, &#x27;22&#x27;, &#x27;22&#x27;, &#x27;22&#x27;, &#x27;22&#x27;, &#x27;22&#x27;, &#x27;22&#x27;, &#x27;22&#x27;, &#x27;22&#x27;, &#x27;22&#x27;, &#x27;22&#x27;,\n",
       "       &#x27;22&#x27;, &#x27;22&#x27;, &#x27;22&#x27;, &#x27;22&#x27;, &#x27;22&#x27;, &#x27;22&#x27;, &#x27;22&#x27;, &#x27;22&#x27;, &#x27;22&#x27;, &#x27;22&#x27;, &#x27;22&#x27;,\n",
       "       &#x27;22&#x27;, &#x27;22&#x27;, &#x27;22&#x27;, &#x27;22&#x27;, &#x27;22&#x27;, &#x27;22&#x27;, &#x27;22&#x27;, &#x27;22&#x27;, &#x27;22&#x27;, &#x27;22&#x27;, &#x27;22&#x27;,\n",
       "       &#x27;22&#x27;, &#x27;22&#x27;, &#x27;22&#x27;, &#x27;22&#x27;, &#x27;22&#x27;, &#x27;22&#x27;, &#x27;22&#x27;, &#x27;22&#x27;, &#x27;22&#x27;, &#x27;22&#x27;, &#x27;22&#x27;,\n",
       "       &#x27;22&#x27;, &#x27;22&#x27;, &#x27;22&#x27;, &#x27;22&#x27;, &#x27;22&#x27;, &#x27;22&#x27;, &#x27;22&#x27;, &#x27;22&#x27;, &#x27;22&#x27;, &#x27;22&#x27;, &#x27;22&#x27;,\n",
       "       &#x27;22&#x27;, &#x27;22&#x27;, &#x27;22&#x27;, &#x27;22&#x27;, &#x27;22&#x27;, &#x27;22&#x27;, &#x27;22&#x27;, &#x27;22&#x27;, &#x27;22&#x27;, &#x27;22&#x27;, &#x27;22&#x27;,\n",
       "       &#x27;22&#x27;, &#x27;22&#x27;, &#x27;22&#x27;, &#x27;22&#x27;, &#x27;22&#x27;, &#x27;22&#x27;, &#x27;22&#x27;, &#x27;22&#x27;, &#x27;22&#x27;, &#x27;22&#x27;, &#x27;22&#x27;,\n",
       "       &#x27;22&#x27;, &#x27;22&#x27;, &#x27;22&#x27;, &#x27;22&#x27;, &#x27;22&#x27;, &#x27;22&#x27;, &#x27;22&#x27;, &#x27;22&#x27;, &#x27;22&#x27;, &#x27;22&#x27;, &#x27;22&#x27;,\n",
       "...\n",
       "       &#x27;22&#x27;, &#x27;22&#x27;, &#x27;22&#x27;, &#x27;22&#x27;, &#x27;22&#x27;, &#x27;22&#x27;, &#x27;22&#x27;, &#x27;22&#x27;, &#x27;22&#x27;, &#x27;22&#x27;, &#x27;22&#x27;,\n",
       "       &#x27;22&#x27;, &#x27;22&#x27;, &#x27;22&#x27;, &#x27;22&#x27;, &#x27;22&#x27;, &#x27;22&#x27;, &#x27;22&#x27;, &#x27;22&#x27;, &#x27;22&#x27;, &#x27;22&#x27;, &#x27;22&#x27;,\n",
       "       &#x27;22&#x27;, &#x27;22&#x27;, &#x27;22&#x27;, &#x27;22&#x27;, &#x27;22&#x27;, &#x27;22&#x27;, &#x27;22&#x27;, &#x27;22&#x27;, &#x27;22&#x27;, &#x27;22&#x27;, &#x27;22&#x27;,\n",
       "       &#x27;22&#x27;, &#x27;22&#x27;, &#x27;22&#x27;, &#x27;22&#x27;, &#x27;22&#x27;, &#x27;22&#x27;, &#x27;22&#x27;, &#x27;22&#x27;, &#x27;22&#x27;, &#x27;22&#x27;, &#x27;22&#x27;,\n",
       "       &#x27;22&#x27;, &#x27;22&#x27;, &#x27;22&#x27;, &#x27;22&#x27;, &#x27;22&#x27;, &#x27;22&#x27;, &#x27;22&#x27;, &#x27;22&#x27;, &#x27;22&#x27;, &#x27;22&#x27;, &#x27;22&#x27;,\n",
       "       &#x27;22&#x27;, &#x27;22&#x27;, &#x27;22&#x27;, &#x27;22&#x27;, &#x27;22&#x27;, &#x27;22&#x27;, &#x27;22&#x27;, &#x27;22&#x27;, &#x27;22&#x27;, &#x27;22&#x27;, &#x27;22&#x27;,\n",
       "       &#x27;22&#x27;, &#x27;22&#x27;, &#x27;22&#x27;, &#x27;22&#x27;, &#x27;22&#x27;, &#x27;22&#x27;, &#x27;22&#x27;, &#x27;22&#x27;, &#x27;22&#x27;, &#x27;22&#x27;, &#x27;22&#x27;,\n",
       "       &#x27;22&#x27;, &#x27;22&#x27;, &#x27;22&#x27;, &#x27;22&#x27;, &#x27;22&#x27;, &#x27;22&#x27;, &#x27;22&#x27;, &#x27;22&#x27;, &#x27;22&#x27;, &#x27;22&#x27;, &#x27;22&#x27;,\n",
       "       &#x27;22&#x27;, &#x27;22&#x27;, &#x27;22&#x27;, &#x27;22&#x27;, &#x27;22&#x27;, &#x27;22&#x27;, &#x27;22&#x27;, &#x27;22&#x27;, &#x27;22&#x27;, &#x27;22&#x27;, &#x27;22&#x27;,\n",
       "       &#x27;22&#x27;, &#x27;22&#x27;, &#x27;22&#x27;, &#x27;22&#x27;, &#x27;22&#x27;, &#x27;22&#x27;, &#x27;22&#x27;, &#x27;22&#x27;, &#x27;22&#x27;, &#x27;22&#x27;, &#x27;22&#x27;,\n",
       "       &#x27;22&#x27;, &#x27;22&#x27;, &#x27;22&#x27;, &#x27;22&#x27;, &#x27;22&#x27;, &#x27;22&#x27;, &#x27;22&#x27;, &#x27;22&#x27;, &#x27;22&#x27;, &#x27;22&#x27;, &#x27;22&#x27;,\n",
       "       &#x27;22&#x27;, &#x27;22&#x27;, &#x27;22&#x27;, &#x27;22&#x27;, &#x27;22&#x27;, &#x27;22&#x27;, &#x27;22&#x27;, &#x27;22&#x27;, &#x27;22&#x27;, &#x27;22&#x27;, &#x27;22&#x27;,\n",
       "       &#x27;22&#x27;, &#x27;22&#x27;, &#x27;22&#x27;, &#x27;22&#x27;, &#x27;22&#x27;, &#x27;22&#x27;, &#x27;22&#x27;, &#x27;22&#x27;, &#x27;22&#x27;, &#x27;22&#x27;, &#x27;22&#x27;,\n",
       "       &#x27;22&#x27;, &#x27;22&#x27;, &#x27;22&#x27;, &#x27;22&#x27;, &#x27;22&#x27;, &#x27;22&#x27;, &#x27;22&#x27;, &#x27;22&#x27;, &#x27;22&#x27;, &#x27;22&#x27;, &#x27;22&#x27;,\n",
       "       &#x27;22&#x27;, &#x27;22&#x27;, &#x27;22&#x27;, &#x27;22&#x27;, &#x27;22&#x27;, &#x27;22&#x27;, &#x27;22&#x27;, &#x27;22&#x27;, &#x27;22&#x27;, &#x27;22&#x27;, &#x27;22&#x27;,\n",
       "       &#x27;22&#x27;, &#x27;22&#x27;, &#x27;22&#x27;, &#x27;22&#x27;, &#x27;22&#x27;, &#x27;22&#x27;, &#x27;22&#x27;, &#x27;22&#x27;, &#x27;22&#x27;, &#x27;22&#x27;, &#x27;22&#x27;,\n",
       "       &#x27;22&#x27;, &#x27;22&#x27;, &#x27;22&#x27;, &#x27;22&#x27;, &#x27;22&#x27;, &#x27;22&#x27;, &#x27;22&#x27;, &#x27;22&#x27;, &#x27;22&#x27;, &#x27;22&#x27;, &#x27;22&#x27;,\n",
       "       &#x27;22&#x27;, &#x27;22&#x27;, &#x27;22&#x27;, &#x27;22&#x27;, &#x27;22&#x27;, &#x27;22&#x27;, &#x27;22&#x27;, &#x27;22&#x27;, &#x27;22&#x27;, &#x27;22&#x27;, &#x27;22&#x27;,\n",
       "       &#x27;22&#x27;, &#x27;22&#x27;, &#x27;22&#x27;, &#x27;22&#x27;, &#x27;22&#x27;, &#x27;22&#x27;, &#x27;22&#x27;, &#x27;22&#x27;, &#x27;22&#x27;, &#x27;22&#x27;, &#x27;22&#x27;,\n",
       "       &#x27;22&#x27;, &#x27;22&#x27;], dtype=object)</pre></div></li><li class='xr-var-item'><div class='xr-var-name'><span>snp</span></div><div class='xr-var-dims'>(variant)</div><div class='xr-var-dtype'>object</div><div class='xr-var-preview xr-preview'>&#x27;rs9605903&#x27; ... &#x27;rs28642259&#x27;</div><input id='attrs-97148334-88b1-48a1-be31-da6357706b8c' class='xr-var-attrs-in' type='checkbox' disabled><label for='attrs-97148334-88b1-48a1-be31-da6357706b8c' title='Show/Hide attributes'><svg class='icon xr-icon-file-text2'><use xlink:href='#icon-file-text2'></use></svg></label><input id='data-036990ae-10df-4847-a638-1bf8c9719921' class='xr-var-data-in' type='checkbox'><label for='data-036990ae-10df-4847-a638-1bf8c9719921' title='Show/Hide data repr'><svg class='icon xr-icon-database'><use xlink:href='#icon-database'></use></svg></label><div class='xr-var-attrs'><dl class='xr-attrs'></dl></div><div class='xr-var-data'><pre>array([&#x27;rs9605903&#x27;, &#x27;rs5746647&#x27;, &#x27;rs16980739&#x27;, &#x27;rs11089263&#x27;, &#x27;rs2096537&#x27;,\n",
       "       &#x27;rs4819849&#x27;, &#x27;rs17432784&#x27;, &#x27;rs1807512&#x27;, &#x27;rs17444804&#x27;, &#x27;rs1860945&#x27;,\n",
       "       &#x27;rs759081&#x27;, &#x27;rs5748744&#x27;, &#x27;rs2385786&#x27;, &#x27;rs5994110&#x27;, &#x27;rs11089387&#x27;,\n",
       "       &#x27;rs11913227&#x27;, &#x27;rs5994129&#x27;, &#x27;rs5748829&#x27;, &#x27;rs10483090&#x27;, &#x27;rs9606592&#x27;,\n",
       "       &#x27;rs9606615&#x27;, &#x27;rs2302519&#x27;, &#x27;rs974396&#x27;, &#x27;rs5994165&#x27;, &#x27;rs5748871&#x27;,\n",
       "       &#x27;rs2401071&#x27;, &#x27;rs1076102&#x27;, &#x27;rs1079554&#x27;, &#x27;rs2231495&#x27;, &#x27;rs1076105&#x27;,\n",
       "       &#x27;rs2240617&#x27;, &#x27;rs5992641&#x27;, &#x27;rs737967&#x27;, &#x27;rs9606661&#x27;, &#x27;rs5748972&#x27;,\n",
       "       &#x27;rs5747035&#x27;, &#x27;rs4266110&#x27;, &#x27;rs2058119&#x27;, &#x27;rs8141904&#x27;, &#x27;rs5994231&#x27;,\n",
       "       &#x27;rs5749001&#x27;, &#x27;rs5749006&#x27;, &#x27;rs5749011&#x27;, &#x27;rs9606682&#x27;, &#x27;rs5994253&#x27;,\n",
       "       &#x27;rs9605258&#x27;, &#x27;rs5994271&#x27;, &#x27;rs4820001&#x27;, &#x27;rs2401081&#x27;, &#x27;rs2040692&#x27;,\n",
       "       &#x27;rs9606695&#x27;, &#x27;rs6518680&#x27;, &#x27;rs7285871&#x27;, &#x27;rs9604740&#x27;, &#x27;rs1981533&#x27;,\n",
       "       &#x27;rs2157720&#x27;, &#x27;rs5746406&#x27;, &#x27;rs13053651&#x27;, &#x27;rs5746419&#x27;, &#x27;rs174289&#x27;,\n",
       "       &#x27;rs1296757&#x27;, &#x27;rs13053400&#x27;, &#x27;rs174330&#x27;, &#x27;rs113837&#x27;, &#x27;rs174345&#x27;,\n",
       "       &#x27;rs174348&#x27;, &#x27;rs5747297&#x27;, &#x27;rs5747306&#x27;, &#x27;rs2535690&#x27;, &#x27;rs1978967&#x27;,\n",
       "       &#x27;rs458480&#x27;, &#x27;rs7289593&#x27;, &#x27;rs12171267&#x27;, &#x27;rs9618203&#x27;, &#x27;rs2234329&#x27;,\n",
       "       &#x27;rs9618419&#x27;, &#x27;rs3788287&#x27;, &#x27;rs2518805&#x27;, &#x27;rs2913&#x27;, &#x27;rs2238754&#x27;,\n",
       "       &#x27;rs2800960&#x27;, &#x27;rs807758&#x27;, &#x27;rs737923&#x27;, &#x27;rs4819782&#x27;, &#x27;rs9605957&#x27;,\n",
       "       &#x27;rs5993665&#x27;, &#x27;rs9604969&#x27;, &#x27;rs13056098&#x27;, &#x27;rs4819841&#x27;, &#x27;rs9618678&#x27;,\n",
       "       &#x27;rs2238777&#x27;, &#x27;rs11704083&#x27;, &#x27;rs3788314&#x27;, &#x27;rs1005873&#x27;, &#x27;rs1978058&#x27;,\n",
       "       &#x27;rs8141691&#x27;, &#x27;rs1012157&#x27;, &#x27;rs5993883&#x27;, &#x27;rs4680&#x27;, &#x27;rs9306235&#x27;,\n",
       "...\n",
       "       &#x27;rs85598&#x27;, &#x27;rs6008957&#x27;, &#x27;rs5769109&#x27;, &#x27;rs5769126&#x27;, &#x27;rs16995672&#x27;,\n",
       "       &#x27;rs4823572&#x27;, &#x27;rs5769136&#x27;, &#x27;rs801628&#x27;, &#x27;rs6009119&#x27;, &#x27;rs8140251&#x27;,\n",
       "       &#x27;rs17681212&#x27;, &#x27;rs738979&#x27;, &#x27;rs12172194&#x27;, &#x27;rs6008558&#x27;, &#x27;rs9627251&#x27;,\n",
       "       &#x27;rs131147&#x27;, &#x27;rs135618&#x27;, &#x27;rs80281&#x27;, &#x27;rs133530&#x27;, &#x27;rs5768450&#x27;,\n",
       "       &#x27;rs5767076&#x27;, &#x27;rs742025&#x27;, &#x27;rs1004689&#x27;, &#x27;rs4391&#x27;, &#x27;rs4500&#x27;,\n",
       "       &#x27;rs133592&#x27;, &#x27;rs133609&#x27;, &#x27;rs11702956&#x27;, &#x27;rs11704590&#x27;, &#x27;rs9615864&#x27;,\n",
       "       &#x27;rs133651&#x27;, &#x27;rs6008629&#x27;, &#x27;rs6519991&#x27;, &#x27;rs133666&#x27;, &#x27;rs4407&#x27;,\n",
       "       &#x27;rs10427669&#x27;, &#x27;rs4823749&#x27;, &#x27;rs6008659&#x27;, &#x27;rs1883131&#x27;, &#x27;rs4823525&#x27;,\n",
       "       &#x27;rs9615329&#x27;, &#x27;rs5768657&#x27;, &#x27;rs1034435&#x27;, &#x27;rs5769840&#x27;, &#x27;rs17178683&#x27;,\n",
       "       &#x27;rs6009142&#x27;, &#x27;rs738617&#x27;, &#x27;rs5769889&#x27;, &#x27;rs75993&#x27;, &#x27;rs17179187&#x27;,\n",
       "       &#x27;rs1981477&#x27;, &#x27;rs135248&#x27;, &#x27;rs9616446&#x27;, &#x27;rs6009180&#x27;, &#x27;rs929029&#x27;,\n",
       "       &#x27;rs5769446&#x27;, &#x27;rs6520082&#x27;, &#x27;rs11090936&#x27;, &#x27;rs713871&#x27;, &#x27;rs9616264&#x27;,\n",
       "       &#x27;rs6520090&#x27;, &#x27;rs2688143&#x27;, &#x27;rs767219&#x27;, &#x27;rs5770142&#x27;, &#x27;rs9616300&#x27;,\n",
       "       &#x27;rs8140231&#x27;, &#x27;rs5770406&#x27;, &#x27;rs4823934&#x27;, &#x27;rs9628003&#x27;, &#x27;rs5770421&#x27;,\n",
       "       &#x27;rs4605480&#x27;, &#x27;rs9616660&#x27;, &#x27;rs8141008&#x27;, &#x27;rs134474&#x27;, &#x27;rs10854872&#x27;,\n",
       "       &#x27;rs134447&#x27;, &#x27;rs5769698&#x27;, &#x27;rs4824083&#x27;, &#x27;rs6009309&#x27;, &#x27;rs12171156&#x27;,\n",
       "       &#x27;rs6009845&#x27;, &#x27;rs4823954&#x27;, &#x27;rs9616730&#x27;, &#x27;rs11703411&#x27;, &#x27;rs28372448&#x27;,\n",
       "       &#x27;rs137879&#x27;, &#x27;rs137888&#x27;, &#x27;rs1079653&#x27;, &#x27;rs137906&#x27;, &#x27;rs6010168&#x27;,\n",
       "       &#x27;rs138228&#x27;, &#x27;rs4838857&#x27;, &#x27;rs5771217&#x27;, &#x27;rs5771109&#x27;, &#x27;rs742186&#x27;,\n",
       "       &#x27;rs28366595&#x27;, &#x27;rs28642259&#x27;], dtype=object)</pre></div></li><li class='xr-var-item'><div class='xr-var-name'><span>cm</span></div><div class='xr-var-dims'>(variant)</div><div class='xr-var-dtype'>float64</div><div class='xr-var-preview xr-preview'>2.336 2.34 2.344 ... 74.28 74.37</div><input id='attrs-a83792b7-e9ca-4aea-93ab-d034ac289356' class='xr-var-attrs-in' type='checkbox' disabled><label for='attrs-a83792b7-e9ca-4aea-93ab-d034ac289356' title='Show/Hide attributes'><svg class='icon xr-icon-file-text2'><use xlink:href='#icon-file-text2'></use></svg></label><input id='data-5ca05200-43ee-4d8a-b714-18bc929f53dc' class='xr-var-data-in' type='checkbox'><label for='data-5ca05200-43ee-4d8a-b714-18bc929f53dc' title='Show/Hide data repr'><svg class='icon xr-icon-database'><use xlink:href='#icon-database'></use></svg></label><div class='xr-var-attrs'><dl class='xr-attrs'></dl></div><div class='xr-var-data'><pre>array([ 2.3360723,  2.3404978,  2.3443792,  2.441026 ,  2.4709922,\n",
       "        2.4808324,  2.5959829,  2.6017521,  3.0053324,  3.0070236,\n",
       "        3.0261706,  3.0317104,  3.1303783,  3.132812 ,  3.135014 ,\n",
       "        3.2011229,  3.2120329,  3.2979527,  3.3016785,  3.3023161,\n",
       "        3.7594162,  3.7793126,  3.8086754,  3.8126628,  3.8154892,\n",
       "        3.8655616,  3.8696367,  3.8780003,  3.9052575,  3.9833685,\n",
       "        3.9867867,  3.9890438,  4.0902703,  4.1078112,  4.2419124,\n",
       "        4.3212936,  4.3859518,  4.393226 ,  4.5450872,  4.8545044,\n",
       "        4.8588758,  4.8886546,  4.9164192,  5.0646361,  5.0952221,\n",
       "        5.155452 ,  5.2056618,  5.2926937,  5.3475461,  5.384839 ,\n",
       "        5.3905887,  5.4135065,  5.5051338,  5.5629709,  5.655217 ,\n",
       "        5.6756661,  5.6770833,  5.7717742,  5.7900354,  5.7913375,\n",
       "        5.9248583,  6.0193329,  6.0235584,  6.0437146,  6.0515796,\n",
       "        6.063975 ,  6.2544751,  6.2624364,  6.2634285,  6.2636511,\n",
       "        7.2644922,  7.3647649,  7.3671776,  7.6378152,  7.6401583,\n",
       "        9.2132608,  9.2370111,  9.3473007,  9.3530054,  9.4516548,\n",
       "        9.4516816,  9.4593619,  9.5190068,  9.7638045,  9.802438 ,\n",
       "        9.8741173,  9.8762184,  9.9119475, 10.640079 , 10.648201 ,\n",
       "       10.796645 , 10.919844 , 11.025028 , 11.029728 , 11.055523 ,\n",
       "       11.067882 , 11.073525 , 11.110735 , 11.164777 , 11.182611 ,\n",
       "...\n",
       "       61.330282 , 61.335433 , 61.414136 , 61.435125 , 61.435377 ,\n",
       "       61.442907 , 61.467501 , 61.862342 , 62.446928 , 64.052608 ,\n",
       "       64.690097 , 64.69349  , 64.75079  , 64.754211 , 64.878071 ,\n",
       "       64.882698 , 64.883885 , 64.938193 , 64.951827 , 64.986778 ,\n",
       "       65.012141 , 65.084826 , 65.161911 , 65.176388 , 65.214794 ,\n",
       "       65.288907 , 65.326218 , 65.33211  , 65.517782 , 65.578169 ,\n",
       "       65.580196 , 65.623509 , 65.63236  , 65.847402 , 65.86189  ,\n",
       "       65.879689 , 65.948522 , 65.995529 , 65.996829 , 66.426323 ,\n",
       "       66.435937 , 66.445733 , 69.848208 , 69.866914 , 69.938987 ,\n",
       "       69.943247 , 70.008123 , 70.077764 , 70.080864 , 70.211033 ,\n",
       "       70.273077 , 70.300774 , 70.311568 , 70.619138 , 70.649947 ,\n",
       "       70.658302 , 70.660439 , 70.664793 , 70.668467 , 70.794932 ,\n",
       "       70.834761 , 70.844569 , 70.85678  , 71.792977 , 71.958353 ,\n",
       "       71.988872 , 71.998261 , 72.027697 , 72.165452 , 72.720873 ,\n",
       "       72.773432 , 72.856437 , 72.921608 , 72.956001 , 73.0162   ,\n",
       "       73.146863 , 73.280205 , 73.281908 , 73.386602 , 73.405955 ,\n",
       "       73.430606 , 73.434503 , 73.533698 , 73.67877  , 74.005713 ,\n",
       "       74.018544 , 74.032169 , 74.044453 , 74.163625 , 74.165227 ,\n",
       "       74.18155  , 74.207555 , 74.235554 , 74.257701 , 74.279518 ,\n",
       "       74.367434 ])</pre></div></li><li class='xr-var-item'><div class='xr-var-name'><span>pos</span></div><div class='xr-var-dims'>(variant)</div><div class='xr-var-dtype'>int32</div><div class='xr-var-preview xr-preview'>17054720 17057138 ... 50785718</div><input id='attrs-86ad197d-2b2b-49ab-977b-a0b8013fa9e2' class='xr-var-attrs-in' type='checkbox' disabled><label for='attrs-86ad197d-2b2b-49ab-977b-a0b8013fa9e2' title='Show/Hide attributes'><svg class='icon xr-icon-file-text2'><use xlink:href='#icon-file-text2'></use></svg></label><input id='data-2b255c27-4de1-4b97-ba0f-38b3cf5caaad' class='xr-var-data-in' type='checkbox'><label for='data-2b255c27-4de1-4b97-ba0f-38b3cf5caaad' title='Show/Hide data repr'><svg class='icon xr-icon-database'><use xlink:href='#icon-database'></use></svg></label><div class='xr-var-attrs'><dl class='xr-attrs'></dl></div><div class='xr-var-data'><pre>array([17054720, 17057138, 17058616, 17087656, 17094749, 17152611,\n",
       "       17196300, 17221495, 17393876, 17394989, 17405173, 17410373,\n",
       "       17436846, 17441524, 17442739, 17489890, 17492203, 17519579,\n",
       "       17539678, 17544834, 17580813, 17585441, 17599170, 17600977,\n",
       "       17603477, 17655388, 17658341, 17665413, 17669306, 17682165,\n",
       "       17688402, 17691795, 17702778, 17710860, 17715771, 17718606,\n",
       "       17721595, 17722024, 17729044, 17744553, 17746528, 17760350,\n",
       "       17766115, 17791564, 17793012, 17799368, 17814811, 17827684,\n",
       "       17829955, 17831813, 17834898, 17846951, 17862268, 17873099,\n",
       "       17910586, 17932686, 17937630, 17961525, 17971883, 17973664,\n",
       "       17989378, 18002160, 18009909, 18031544, 18033199, 18036431,\n",
       "       18115392, 18128960, 18153009, 18161979, 18539370, 18544342,\n",
       "       18545387, 18607872, 18609065, 18907405, 18921917, 18975587,\n",
       "       18982097, 19058146, 19077049, 19113477, 19132325, 19149580,\n",
       "       19187375, 19509729, 19514013, 19524902, 19721988, 19724613,\n",
       "       19758228, 19840413, 19889423, 19900075, 19908219, 19909426,\n",
       "       19909977, 19937638, 19951271, 19955157, 19961955, 19990789,\n",
       "       20019768, 20059763, 20081852, 20098544, 20102090, 20146533,\n",
       "       20200513, 20201954, 20207825, 20248391, 20267705, 20751136,\n",
       "       20764994, 20789074, 20881385, 20929782, 20938180, 20950328,\n",
       "...\n",
       "       46821362, 46843918, 46851714, 46856806, 46888884, 46899015,\n",
       "       46909355, 46911296, 46916280, 46922134, 46923038, 46951439,\n",
       "       46978776, 46980242, 46993817, 46995841, 47002838, 47080026,\n",
       "       47090243, 47102907, 47108669, 47114521, 47135205, 47146222,\n",
       "       47146375, 47156703, 47171456, 47464861, 47631491, 48274397,\n",
       "       48490299, 48492545, 48516695, 48525782, 48552163, 48561393,\n",
       "       48565928, 48591444, 48619973, 48637319, 48649830, 48651997,\n",
       "       48653779, 48655892, 48668760, 48683821, 48687076, 48690448,\n",
       "       48708954, 48717026, 48717791, 48725535, 48727259, 48741798,\n",
       "       48742097, 48744611, 48747097, 48749424, 48750056, 48867417,\n",
       "       48873919, 48888255, 49436004, 49443666, 49448591, 49450131,\n",
       "       49487320, 49514275, 49517224, 49524428, 49527783, 49534988,\n",
       "       49541239, 49565494, 49579141, 49580648, 49582574, 49585934,\n",
       "       49589114, 49603667, 49637741, 49642470, 49653029, 49774599,\n",
       "       49787514, 49795779, 49798011, 49800082, 49818119, 49876931,\n",
       "       49888959, 49908368, 49911222, 49912406, 49927332, 49997706,\n",
       "       50099650, 50105000, 50113185, 50117191, 50119885, 50120255,\n",
       "       50258751, 50350971, 50457041, 50464496, 50474857, 50485793,\n",
       "       50531204, 50557120, 50601063, 50627704, 50678571, 50706691,\n",
       "       50725301, 50785718], dtype=int32)</pre></div></li><li class='xr-var-item'><div class='xr-var-name'><span>a0</span></div><div class='xr-var-dims'>(variant)</div><div class='xr-var-dtype'>object</div><div class='xr-var-preview xr-preview'>&#x27;C&#x27; &#x27;G&#x27; &#x27;T&#x27; &#x27;C&#x27; ... &#x27;C&#x27; &#x27;A&#x27; &#x27;A&#x27; &#x27;T&#x27;</div><input id='attrs-c42a1abc-4964-483a-8b3e-9b651d6873e3' class='xr-var-attrs-in' type='checkbox' disabled><label for='attrs-c42a1abc-4964-483a-8b3e-9b651d6873e3' title='Show/Hide attributes'><svg class='icon xr-icon-file-text2'><use xlink:href='#icon-file-text2'></use></svg></label><input id='data-64baee8b-49a5-47a6-9c4e-bed34d1bc9ed' class='xr-var-data-in' type='checkbox'><label for='data-64baee8b-49a5-47a6-9c4e-bed34d1bc9ed' title='Show/Hide data repr'><svg class='icon xr-icon-database'><use xlink:href='#icon-database'></use></svg></label><div class='xr-var-attrs'><dl class='xr-attrs'></dl></div><div class='xr-var-data'><pre>array([&#x27;C&#x27;, &#x27;G&#x27;, &#x27;T&#x27;, &#x27;C&#x27;, &#x27;A&#x27;, &#x27;G&#x27;, &#x27;T&#x27;, &#x27;C&#x27;, &#x27;T&#x27;, &#x27;C&#x27;, &#x27;T&#x27;, &#x27;G&#x27;, &#x27;A&#x27;,\n",
       "       &#x27;G&#x27;, &#x27;C&#x27;, &#x27;C&#x27;, &#x27;G&#x27;, &#x27;G&#x27;, &#x27;C&#x27;, &#x27;T&#x27;, &#x27;C&#x27;, &#x27;T&#x27;, &#x27;G&#x27;, &#x27;A&#x27;, &#x27;G&#x27;, &#x27;G&#x27;,\n",
       "       &#x27;G&#x27;, &#x27;T&#x27;, &#x27;C&#x27;, &#x27;A&#x27;, &#x27;A&#x27;, &#x27;T&#x27;, &#x27;C&#x27;, &#x27;T&#x27;, &#x27;A&#x27;, &#x27;C&#x27;, &#x27;C&#x27;, &#x27;A&#x27;, &#x27;G&#x27;,\n",
       "       &#x27;C&#x27;, &#x27;C&#x27;, &#x27;A&#x27;, &#x27;C&#x27;, &#x27;T&#x27;, &#x27;A&#x27;, &#x27;G&#x27;, &#x27;A&#x27;, &#x27;G&#x27;, &#x27;C&#x27;, &#x27;C&#x27;, &#x27;A&#x27;, &#x27;A&#x27;,\n",
       "       &#x27;C&#x27;, &#x27;A&#x27;, &#x27;G&#x27;, &#x27;T&#x27;, &#x27;A&#x27;, &#x27;A&#x27;, &#x27;C&#x27;, &#x27;A&#x27;, &#x27;C&#x27;, &#x27;A&#x27;, &#x27;T&#x27;, &#x27;A&#x27;, &#x27;A&#x27;,\n",
       "       &#x27;G&#x27;, &#x27;G&#x27;, &#x27;G&#x27;, &#x27;G&#x27;, &#x27;A&#x27;, &#x27;C&#x27;, &#x27;G&#x27;, &#x27;A&#x27;, &#x27;A&#x27;, &#x27;T&#x27;, &#x27;T&#x27;, &#x27;A&#x27;, &#x27;G&#x27;,\n",
       "       &#x27;G&#x27;, &#x27;T&#x27;, &#x27;C&#x27;, &#x27;C&#x27;, &#x27;G&#x27;, &#x27;G&#x27;, &#x27;G&#x27;, &#x27;G&#x27;, &#x27;G&#x27;, &#x27;C&#x27;, &#x27;A&#x27;, &#x27;G&#x27;, &#x27;G&#x27;,\n",
       "       &#x27;G&#x27;, &#x27;A&#x27;, &#x27;G&#x27;, &#x27;T&#x27;, &#x27;A&#x27;, &#x27;A&#x27;, &#x27;T&#x27;, &#x27;G&#x27;, &#x27;A&#x27;, &#x27;A&#x27;, &#x27;T&#x27;, &#x27;A&#x27;, &#x27;A&#x27;,\n",
       "       &#x27;T&#x27;, &#x27;A&#x27;, &#x27;C&#x27;, &#x27;A&#x27;, &#x27;G&#x27;, &#x27;T&#x27;, &#x27;C&#x27;, &#x27;A&#x27;, &#x27;C&#x27;, &#x27;A&#x27;, &#x27;T&#x27;, &#x27;C&#x27;, &#x27;G&#x27;,\n",
       "       &#x27;A&#x27;, &#x27;A&#x27;, &#x27;C&#x27;, &#x27;T&#x27;, &#x27;G&#x27;, &#x27;C&#x27;, &#x27;T&#x27;, &#x27;T&#x27;, &#x27;A&#x27;, &#x27;T&#x27;, &#x27;C&#x27;, &#x27;A&#x27;, &#x27;G&#x27;,\n",
       "       &#x27;A&#x27;, &#x27;G&#x27;, &#x27;A&#x27;, &#x27;G&#x27;, &#x27;A&#x27;, &#x27;T&#x27;, &#x27;A&#x27;, &#x27;T&#x27;, &#x27;A&#x27;, &#x27;G&#x27;, &#x27;C&#x27;, &#x27;C&#x27;, &#x27;C&#x27;,\n",
       "       &#x27;A&#x27;, &#x27;T&#x27;, &#x27;G&#x27;, &#x27;A&#x27;, &#x27;T&#x27;, &#x27;C&#x27;, &#x27;C&#x27;, &#x27;A&#x27;, &#x27;C&#x27;, &#x27;G&#x27;, &#x27;A&#x27;, &#x27;G&#x27;, &#x27;A&#x27;,\n",
       "       &#x27;G&#x27;, &#x27;A&#x27;, &#x27;A&#x27;, &#x27;G&#x27;, &#x27;G&#x27;, &#x27;T&#x27;, &#x27;T&#x27;, &#x27;A&#x27;, &#x27;T&#x27;, &#x27;G&#x27;, &#x27;A&#x27;, &#x27;A&#x27;, &#x27;A&#x27;,\n",
       "       &#x27;A&#x27;, &#x27;T&#x27;, &#x27;A&#x27;, &#x27;A&#x27;, &#x27;C&#x27;, &#x27;T&#x27;, &#x27;A&#x27;, &#x27;T&#x27;, &#x27;C&#x27;, &#x27;G&#x27;, &#x27;T&#x27;, &#x27;C&#x27;, &#x27;T&#x27;,\n",
       "       &#x27;A&#x27;, &#x27;G&#x27;, &#x27;T&#x27;, &#x27;C&#x27;, &#x27;G&#x27;, &#x27;C&#x27;, &#x27;G&#x27;, &#x27;C&#x27;, &#x27;G&#x27;, &#x27;C&#x27;, &#x27;A&#x27;, &#x27;T&#x27;, &#x27;C&#x27;,\n",
       "       &#x27;C&#x27;, &#x27;A&#x27;, &#x27;G&#x27;, &#x27;A&#x27;, &#x27;C&#x27;, &#x27;T&#x27;, &#x27;T&#x27;, &#x27;C&#x27;, &#x27;C&#x27;, &#x27;G&#x27;, &#x27;G&#x27;, &#x27;G&#x27;, &#x27;T&#x27;,\n",
       "       &#x27;C&#x27;, &#x27;A&#x27;, &#x27;A&#x27;, &#x27;G&#x27;, &#x27;T&#x27;, &#x27;A&#x27;, &#x27;G&#x27;, &#x27;C&#x27;, &#x27;A&#x27;, &#x27;A&#x27;, &#x27;C&#x27;, &#x27;C&#x27;, &#x27;A&#x27;,\n",
       "       &#x27;T&#x27;, &#x27;G&#x27;, &#x27;A&#x27;, &#x27;G&#x27;, &#x27;T&#x27;, &#x27;G&#x27;, &#x27;C&#x27;, &#x27;T&#x27;, &#x27;G&#x27;, &#x27;A&#x27;, &#x27;C&#x27;, &#x27;G&#x27;, &#x27;T&#x27;,\n",
       "       &#x27;A&#x27;, &#x27;T&#x27;, &#x27;C&#x27;, &#x27;G&#x27;, &#x27;G&#x27;, &#x27;C&#x27;, &#x27;C&#x27;, &#x27;G&#x27;, &#x27;T&#x27;, &#x27;G&#x27;, &#x27;G&#x27;, &#x27;T&#x27;, &#x27;A&#x27;,\n",
       "       &#x27;G&#x27;, &#x27;C&#x27;, &#x27;T&#x27;, &#x27;G&#x27;, &#x27;T&#x27;, &#x27;A&#x27;, &#x27;G&#x27;, &#x27;G&#x27;, &#x27;G&#x27;, &#x27;A&#x27;, &#x27;C&#x27;, &#x27;A&#x27;, &#x27;G&#x27;,\n",
       "...\n",
       "       &#x27;C&#x27;, &#x27;C&#x27;, &#x27;T&#x27;, &#x27;C&#x27;, &#x27;G&#x27;, &#x27;C&#x27;, &#x27;C&#x27;, &#x27;C&#x27;, &#x27;C&#x27;, &#x27;A&#x27;, &#x27;A&#x27;, &#x27;T&#x27;, &#x27;T&#x27;,\n",
       "       &#x27;C&#x27;, &#x27;C&#x27;, &#x27;A&#x27;, &#x27;T&#x27;, &#x27;A&#x27;, &#x27;A&#x27;, &#x27;G&#x27;, &#x27;A&#x27;, &#x27;C&#x27;, &#x27;C&#x27;, &#x27;A&#x27;, &#x27;C&#x27;, &#x27;G&#x27;,\n",
       "       &#x27;G&#x27;, &#x27;T&#x27;, &#x27;A&#x27;, &#x27;A&#x27;, &#x27;G&#x27;, &#x27;T&#x27;, &#x27;C&#x27;, &#x27;C&#x27;, &#x27;A&#x27;, &#x27;A&#x27;, &#x27;A&#x27;, &#x27;G&#x27;, &#x27;T&#x27;,\n",
       "       &#x27;A&#x27;, &#x27;G&#x27;, &#x27;T&#x27;, &#x27;C&#x27;, &#x27;C&#x27;, &#x27;A&#x27;, &#x27;C&#x27;, &#x27;C&#x27;, &#x27;G&#x27;, &#x27;A&#x27;, &#x27;T&#x27;, &#x27;A&#x27;, &#x27;A&#x27;,\n",
       "       &#x27;A&#x27;, &#x27;T&#x27;, &#x27;A&#x27;, &#x27;G&#x27;, &#x27;G&#x27;, &#x27;C&#x27;, &#x27;G&#x27;, &#x27;A&#x27;, &#x27;C&#x27;, &#x27;C&#x27;, &#x27;T&#x27;, &#x27;G&#x27;, &#x27;T&#x27;,\n",
       "       &#x27;C&#x27;, &#x27;A&#x27;, &#x27;G&#x27;, &#x27;A&#x27;, &#x27;G&#x27;, &#x27;C&#x27;, &#x27;A&#x27;, &#x27;T&#x27;, &#x27;T&#x27;, &#x27;T&#x27;, &#x27;C&#x27;, &#x27;C&#x27;, &#x27;G&#x27;,\n",
       "       &#x27;G&#x27;, &#x27;G&#x27;, &#x27;C&#x27;, &#x27;C&#x27;, &#x27;T&#x27;, &#x27;A&#x27;, &#x27;C&#x27;, &#x27;G&#x27;, &#x27;G&#x27;, &#x27;A&#x27;, &#x27;G&#x27;, &#x27;A&#x27;, &#x27;G&#x27;,\n",
       "       &#x27;A&#x27;, &#x27;C&#x27;, &#x27;G&#x27;, &#x27;A&#x27;, &#x27;G&#x27;, &#x27;T&#x27;, &#x27;C&#x27;, &#x27;A&#x27;, &#x27;G&#x27;, &#x27;T&#x27;, &#x27;G&#x27;, &#x27;A&#x27;, &#x27;A&#x27;,\n",
       "       &#x27;T&#x27;, &#x27;C&#x27;, &#x27;A&#x27;, &#x27;G&#x27;, &#x27;C&#x27;, &#x27;T&#x27;, &#x27;A&#x27;, &#x27;G&#x27;, &#x27;T&#x27;, &#x27;T&#x27;, &#x27;C&#x27;, &#x27;G&#x27;, &#x27;G&#x27;,\n",
       "       &#x27;G&#x27;, &#x27;G&#x27;, &#x27;C&#x27;, &#x27;A&#x27;, &#x27;T&#x27;, &#x27;A&#x27;, &#x27;G&#x27;, &#x27;G&#x27;, &#x27;T&#x27;, &#x27;C&#x27;, &#x27;T&#x27;, &#x27;G&#x27;, &#x27;G&#x27;,\n",
       "       &#x27;T&#x27;, &#x27;A&#x27;, &#x27;T&#x27;, &#x27;T&#x27;, &#x27;G&#x27;, &#x27;C&#x27;, &#x27;G&#x27;, &#x27;A&#x27;, &#x27;C&#x27;, &#x27;A&#x27;, &#x27;G&#x27;, &#x27;C&#x27;, &#x27;C&#x27;,\n",
       "       &#x27;A&#x27;, &#x27;G&#x27;, &#x27;C&#x27;, &#x27;G&#x27;, &#x27;T&#x27;, &#x27;T&#x27;, &#x27;G&#x27;, &#x27;C&#x27;, &#x27;A&#x27;, &#x27;G&#x27;, &#x27;A&#x27;, &#x27;G&#x27;, &#x27;C&#x27;,\n",
       "       &#x27;C&#x27;, &#x27;G&#x27;, &#x27;T&#x27;, &#x27;C&#x27;, &#x27;C&#x27;, &#x27;G&#x27;, &#x27;A&#x27;, &#x27;A&#x27;, &#x27;G&#x27;, &#x27;A&#x27;, &#x27;G&#x27;, &#x27;G&#x27;, &#x27;C&#x27;,\n",
       "       &#x27;G&#x27;, &#x27;A&#x27;, &#x27;A&#x27;, &#x27;A&#x27;, &#x27;C&#x27;, &#x27;C&#x27;, &#x27;G&#x27;, &#x27;A&#x27;, &#x27;C&#x27;, &#x27;C&#x27;, &#x27;A&#x27;, &#x27;T&#x27;, &#x27;A&#x27;,\n",
       "       &#x27;G&#x27;, &#x27;G&#x27;, &#x27;C&#x27;, &#x27;A&#x27;, &#x27;G&#x27;, &#x27;G&#x27;, &#x27;A&#x27;, &#x27;C&#x27;, &#x27;C&#x27;, &#x27;A&#x27;, &#x27;T&#x27;, &#x27;A&#x27;, &#x27;T&#x27;,\n",
       "       &#x27;A&#x27;, &#x27;C&#x27;, &#x27;T&#x27;, &#x27;G&#x27;, &#x27;C&#x27;, &#x27;A&#x27;, &#x27;C&#x27;, &#x27;C&#x27;, &#x27;A&#x27;, &#x27;A&#x27;, &#x27;C&#x27;, &#x27;A&#x27;, &#x27;G&#x27;,\n",
       "       &#x27;A&#x27;, &#x27;T&#x27;, &#x27;A&#x27;, &#x27;A&#x27;, &#x27;C&#x27;, &#x27;G&#x27;, &#x27;T&#x27;, &#x27;C&#x27;, &#x27;G&#x27;, &#x27;A&#x27;, &#x27;A&#x27;, &#x27;C&#x27;, &#x27;A&#x27;,\n",
       "       &#x27;T&#x27;, &#x27;G&#x27;, &#x27;C&#x27;, &#x27;C&#x27;, &#x27;T&#x27;, &#x27;T&#x27;, &#x27;G&#x27;, &#x27;C&#x27;, &#x27;A&#x27;, &#x27;G&#x27;, &#x27;G&#x27;, &#x27;G&#x27;, &#x27;G&#x27;,\n",
       "       &#x27;A&#x27;, &#x27;G&#x27;, &#x27;G&#x27;, &#x27;A&#x27;, &#x27;C&#x27;, &#x27;G&#x27;, &#x27;A&#x27;, &#x27;T&#x27;, &#x27;A&#x27;, &#x27;C&#x27;, &#x27;C&#x27;, &#x27;T&#x27;, &#x27;C&#x27;,\n",
       "       &#x27;A&#x27;, &#x27;A&#x27;, &#x27;T&#x27;], dtype=object)</pre></div></li><li class='xr-var-item'><div class='xr-var-name'><span>a1</span></div><div class='xr-var-dims'>(variant)</div><div class='xr-var-dtype'>object</div><div class='xr-var-preview xr-preview'>&#x27;T&#x27; &#x27;T&#x27; &#x27;C&#x27; &#x27;A&#x27; ... &#x27;T&#x27; &#x27;G&#x27; &#x27;G&#x27; &#x27;C&#x27;</div><input id='attrs-53920d0c-8806-4e02-8b7a-a4cb4c7de961' class='xr-var-attrs-in' type='checkbox' disabled><label for='attrs-53920d0c-8806-4e02-8b7a-a4cb4c7de961' title='Show/Hide attributes'><svg class='icon xr-icon-file-text2'><use xlink:href='#icon-file-text2'></use></svg></label><input id='data-1abdf4d7-7df4-47ac-9977-2e26bd90ced9' class='xr-var-data-in' type='checkbox'><label for='data-1abdf4d7-7df4-47ac-9977-2e26bd90ced9' title='Show/Hide data repr'><svg class='icon xr-icon-database'><use xlink:href='#icon-database'></use></svg></label><div class='xr-var-attrs'><dl class='xr-attrs'></dl></div><div class='xr-var-data'><pre>array([&#x27;T&#x27;, &#x27;T&#x27;, &#x27;C&#x27;, &#x27;A&#x27;, &#x27;C&#x27;, &#x27;A&#x27;, &#x27;C&#x27;, &#x27;T&#x27;, &#x27;C&#x27;, &#x27;T&#x27;, &#x27;C&#x27;, &#x27;A&#x27;, &#x27;G&#x27;,\n",
       "       &#x27;A&#x27;, &#x27;T&#x27;, &#x27;T&#x27;, &#x27;A&#x27;, &#x27;A&#x27;, &#x27;T&#x27;, &#x27;G&#x27;, &#x27;T&#x27;, &#x27;C&#x27;, &#x27;A&#x27;, &#x27;G&#x27;, &#x27;A&#x27;, &#x27;A&#x27;,\n",
       "       &#x27;A&#x27;, &#x27;C&#x27;, &#x27;T&#x27;, &#x27;G&#x27;, &#x27;G&#x27;, &#x27;A&#x27;, &#x27;T&#x27;, &#x27;C&#x27;, &#x27;G&#x27;, &#x27;T&#x27;, &#x27;T&#x27;, &#x27;G&#x27;, &#x27;T&#x27;,\n",
       "       &#x27;T&#x27;, &#x27;T&#x27;, &#x27;G&#x27;, &#x27;T&#x27;, &#x27;C&#x27;, &#x27;G&#x27;, &#x27;T&#x27;, &#x27;G&#x27;, &#x27;A&#x27;, &#x27;T&#x27;, &#x27;T&#x27;, &#x27;G&#x27;, &#x27;G&#x27;,\n",
       "       &#x27;T&#x27;, &#x27;G&#x27;, &#x27;T&#x27;, &#x27;C&#x27;, &#x27;G&#x27;, &#x27;G&#x27;, &#x27;T&#x27;, &#x27;C&#x27;, &#x27;T&#x27;, &#x27;G&#x27;, &#x27;C&#x27;, &#x27;G&#x27;, &#x27;G&#x27;,\n",
       "       &#x27;A&#x27;, &#x27;A&#x27;, &#x27;A&#x27;, &#x27;T&#x27;, &#x27;G&#x27;, &#x27;T&#x27;, &#x27;A&#x27;, &#x27;G&#x27;, &#x27;G&#x27;, &#x27;G&#x27;, &#x27;G&#x27;, &#x27;G&#x27;, &#x27;A&#x27;,\n",
       "       &#x27;A&#x27;, &#x27;C&#x27;, &#x27;T&#x27;, &#x27;T&#x27;, &#x27;A&#x27;, &#x27;A&#x27;, &#x27;A&#x27;, &#x27;A&#x27;, &#x27;A&#x27;, &#x27;T&#x27;, &#x27;G&#x27;, &#x27;A&#x27;, &#x27;A&#x27;,\n",
       "       &#x27;A&#x27;, &#x27;G&#x27;, &#x27;A&#x27;, &#x27;C&#x27;, &#x27;G&#x27;, &#x27;G&#x27;, &#x27;G&#x27;, &#x27;A&#x27;, &#x27;G&#x27;, &#x27;G&#x27;, &#x27;G&#x27;, &#x27;G&#x27;, &#x27;G&#x27;,\n",
       "       &#x27;C&#x27;, &#x27;G&#x27;, &#x27;T&#x27;, &#x27;G&#x27;, &#x27;T&#x27;, &#x27;C&#x27;, &#x27;T&#x27;, &#x27;G&#x27;, &#x27;T&#x27;, &#x27;G&#x27;, &#x27;C&#x27;, &#x27;T&#x27;, &#x27;T&#x27;,\n",
       "       &#x27;C&#x27;, &#x27;G&#x27;, &#x27;T&#x27;, &#x27;C&#x27;, &#x27;A&#x27;, &#x27;T&#x27;, &#x27;C&#x27;, &#x27;C&#x27;, &#x27;G&#x27;, &#x27;G&#x27;, &#x27;G&#x27;, &#x27;C&#x27;, &#x27;A&#x27;,\n",
       "       &#x27;G&#x27;, &#x27;A&#x27;, &#x27;G&#x27;, &#x27;A&#x27;, &#x27;G&#x27;, &#x27;C&#x27;, &#x27;G&#x27;, &#x27;C&#x27;, &#x27;G&#x27;, &#x27;C&#x27;, &#x27;T&#x27;, &#x27;T&#x27;, &#x27;A&#x27;,\n",
       "       &#x27;G&#x27;, &#x27;C&#x27;, &#x27;T&#x27;, &#x27;G&#x27;, &#x27;C&#x27;, &#x27;T&#x27;, &#x27;T&#x27;, &#x27;G&#x27;, &#x27;T&#x27;, &#x27;A&#x27;, &#x27;G&#x27;, &#x27;A&#x27;, &#x27;G&#x27;,\n",
       "       &#x27;A&#x27;, &#x27;G&#x27;, &#x27;T&#x27;, &#x27;A&#x27;, &#x27;A&#x27;, &#x27;C&#x27;, &#x27;C&#x27;, &#x27;G&#x27;, &#x27;C&#x27;, &#x27;A&#x27;, &#x27;G&#x27;, &#x27;C&#x27;, &#x27;G&#x27;,\n",
       "       &#x27;G&#x27;, &#x27;C&#x27;, &#x27;G&#x27;, &#x27;G&#x27;, &#x27;T&#x27;, &#x27;C&#x27;, &#x27;G&#x27;, &#x27;C&#x27;, &#x27;T&#x27;, &#x27;A&#x27;, &#x27;C&#x27;, &#x27;T&#x27;, &#x27;C&#x27;,\n",
       "       &#x27;T&#x27;, &#x27;A&#x27;, &#x27;C&#x27;, &#x27;T&#x27;, &#x27;A&#x27;, &#x27;T&#x27;, &#x27;A&#x27;, &#x27;A&#x27;, &#x27;A&#x27;, &#x27;T&#x27;, &#x27;C&#x27;, &#x27;C&#x27;, &#x27;A&#x27;,\n",
       "       &#x27;T&#x27;, &#x27;G&#x27;, &#x27;A&#x27;, &#x27;G&#x27;, &#x27;T&#x27;, &#x27;C&#x27;, &#x27;G&#x27;, &#x27;T&#x27;, &#x27;T&#x27;, &#x27;T&#x27;, &#x27;T&#x27;, &#x27;A&#x27;, &#x27;C&#x27;,\n",
       "       &#x27;T&#x27;, &#x27;C&#x27;, &#x27;G&#x27;, &#x27;A&#x27;, &#x27;A&#x27;, &#x27;G&#x27;, &#x27;T&#x27;, &#x27;T&#x27;, &#x27;G&#x27;, &#x27;G&#x27;, &#x27;T&#x27;, &#x27;A&#x27;, &#x27;G&#x27;,\n",
       "       &#x27;C&#x27;, &#x27;A&#x27;, &#x27;G&#x27;, &#x27;A&#x27;, &#x27;G&#x27;, &#x27;T&#x27;, &#x27;G&#x27;, &#x27;G&#x27;, &#x27;A&#x27;, &#x27;G&#x27;, &#x27;T&#x27;, &#x27;T&#x27;, &#x27;C&#x27;,\n",
       "       &#x27;G&#x27;, &#x27;C&#x27;, &#x27;T&#x27;, &#x27;A&#x27;, &#x27;A&#x27;, &#x27;T&#x27;, &#x27;A&#x27;, &#x27;A&#x27;, &#x27;C&#x27;, &#x27;A&#x27;, &#x27;A&#x27;, &#x27;G&#x27;, &#x27;G&#x27;,\n",
       "       &#x27;A&#x27;, &#x27;T&#x27;, &#x27;C&#x27;, &#x27;A&#x27;, &#x27;C&#x27;, &#x27;G&#x27;, &#x27;A&#x27;, &#x27;T&#x27;, &#x27;T&#x27;, &#x27;G&#x27;, &#x27;T&#x27;, &#x27;G&#x27;, &#x27;A&#x27;,\n",
       "...\n",
       "       &#x27;T&#x27;, &#x27;T&#x27;, &#x27;C&#x27;, &#x27;A&#x27;, &#x27;A&#x27;, &#x27;T&#x27;, &#x27;T&#x27;, &#x27;T&#x27;, &#x27;T&#x27;, &#x27;G&#x27;, &#x27;G&#x27;, &#x27;C&#x27;, &#x27;C&#x27;,\n",
       "       &#x27;T&#x27;, &#x27;G&#x27;, &#x27;G&#x27;, &#x27;C&#x27;, &#x27;G&#x27;, &#x27;G&#x27;, &#x27;A&#x27;, &#x27;T&#x27;, &#x27;T&#x27;, &#x27;T&#x27;, &#x27;G&#x27;, &#x27;T&#x27;, &#x27;A&#x27;,\n",
       "       &#x27;A&#x27;, &#x27;C&#x27;, &#x27;C&#x27;, &#x27;G&#x27;, &#x27;A&#x27;, &#x27;C&#x27;, &#x27;T&#x27;, &#x27;T&#x27;, &#x27;G&#x27;, &#x27;C&#x27;, &#x27;G&#x27;, &#x27;A&#x27;, &#x27;C&#x27;,\n",
       "       &#x27;G&#x27;, &#x27;A&#x27;, &#x27;C&#x27;, &#x27;G&#x27;, &#x27;T&#x27;, &#x27;G&#x27;, &#x27;A&#x27;, &#x27;A&#x27;, &#x27;A&#x27;, &#x27;C&#x27;, &#x27;C&#x27;, &#x27;G&#x27;, &#x27;G&#x27;,\n",
       "       &#x27;G&#x27;, &#x27;C&#x27;, &#x27;G&#x27;, &#x27;C&#x27;, &#x27;A&#x27;, &#x27;T&#x27;, &#x27;A&#x27;, &#x27;C&#x27;, &#x27;T&#x27;, &#x27;A&#x27;, &#x27;C&#x27;, &#x27;A&#x27;, &#x27;C&#x27;,\n",
       "       &#x27;A&#x27;, &#x27;G&#x27;, &#x27;C&#x27;, &#x27;G&#x27;, &#x27;A&#x27;, &#x27;T&#x27;, &#x27;G&#x27;, &#x27;C&#x27;, &#x27;C&#x27;, &#x27;C&#x27;, &#x27;T&#x27;, &#x27;T&#x27;, &#x27;A&#x27;,\n",
       "       &#x27;T&#x27;, &#x27;A&#x27;, &#x27;T&#x27;, &#x27;A&#x27;, &#x27;C&#x27;, &#x27;G&#x27;, &#x27;T&#x27;, &#x27;A&#x27;, &#x27;C&#x27;, &#x27;T&#x27;, &#x27;A&#x27;, &#x27;G&#x27;, &#x27;C&#x27;,\n",
       "       &#x27;G&#x27;, &#x27;A&#x27;, &#x27;A&#x27;, &#x27;G&#x27;, &#x27;A&#x27;, &#x27;G&#x27;, &#x27;T&#x27;, &#x27;G&#x27;, &#x27;A&#x27;, &#x27;C&#x27;, &#x27;T&#x27;, &#x27;G&#x27;, &#x27;C&#x27;,\n",
       "       &#x27;C&#x27;, &#x27;T&#x27;, &#x27;G&#x27;, &#x27;A&#x27;, &#x27;T&#x27;, &#x27;C&#x27;, &#x27;G&#x27;, &#x27;A&#x27;, &#x27;G&#x27;, &#x27;G&#x27;, &#x27;A&#x27;, &#x27;C&#x27;, &#x27;A&#x27;,\n",
       "       &#x27;A&#x27;, &#x27;T&#x27;, &#x27;T&#x27;, &#x27;G&#x27;, &#x27;C&#x27;, &#x27;G&#x27;, &#x27;A&#x27;, &#x27;T&#x27;, &#x27;C&#x27;, &#x27;T&#x27;, &#x27;A&#x27;, &#x27;A&#x27;, &#x27;A&#x27;,\n",
       "       &#x27;C&#x27;, &#x27;G&#x27;, &#x27;C&#x27;, &#x27;A&#x27;, &#x27;T&#x27;, &#x27;T&#x27;, &#x27;A&#x27;, &#x27;T&#x27;, &#x27;T&#x27;, &#x27;G&#x27;, &#x27;T&#x27;, &#x27;T&#x27;, &#x27;T&#x27;,\n",
       "       &#x27;C&#x27;, &#x27;A&#x27;, &#x27;T&#x27;, &#x27;A&#x27;, &#x27;C&#x27;, &#x27;C&#x27;, &#x27;A&#x27;, &#x27;T&#x27;, &#x27;G&#x27;, &#x27;C&#x27;, &#x27;G&#x27;, &#x27;A&#x27;, &#x27;T&#x27;,\n",
       "       &#x27;A&#x27;, &#x27;A&#x27;, &#x27;C&#x27;, &#x27;T&#x27;, &#x27;T&#x27;, &#x27;A&#x27;, &#x27;G&#x27;, &#x27;G&#x27;, &#x27;A&#x27;, &#x27;G&#x27;, &#x27;A&#x27;, &#x27;T&#x27;, &#x27;T&#x27;,\n",
       "       &#x27;A&#x27;, &#x27;G&#x27;, &#x27;G&#x27;, &#x27;G&#x27;, &#x27;T&#x27;, &#x27;T&#x27;, &#x27;T&#x27;, &#x27;C&#x27;, &#x27;G&#x27;, &#x27;T&#x27;, &#x27;G&#x27;, &#x27;C&#x27;, &#x27;C&#x27;,\n",
       "       &#x27;A&#x27;, &#x27;A&#x27;, &#x27;G&#x27;, &#x27;G&#x27;, &#x27;A&#x27;, &#x27;A&#x27;, &#x27;C&#x27;, &#x27;G&#x27;, &#x27;T&#x27;, &#x27;C&#x27;, &#x27;G&#x27;, &#x27;G&#x27;, &#x27;C&#x27;,\n",
       "       &#x27;G&#x27;, &#x27;T&#x27;, &#x27;C&#x27;, &#x27;A&#x27;, &#x27;T&#x27;, &#x27;G&#x27;, &#x27;T&#x27;, &#x27;T&#x27;, &#x27;G&#x27;, &#x27;G&#x27;, &#x27;A&#x27;, &#x27;C&#x27;, &#x27;T&#x27;,\n",
       "       &#x27;G&#x27;, &#x27;C&#x27;, &#x27;G&#x27;, &#x27;G&#x27;, &#x27;T&#x27;, &#x27;A&#x27;, &#x27;C&#x27;, &#x27;T&#x27;, &#x27;A&#x27;, &#x27;G&#x27;, &#x27;C&#x27;, &#x27;T&#x27;, &#x27;G&#x27;,\n",
       "       &#x27;C&#x27;, &#x27;A&#x27;, &#x27;T&#x27;, &#x27;G&#x27;, &#x27;C&#x27;, &#x27;G&#x27;, &#x27;A&#x27;, &#x27;T&#x27;, &#x27;G&#x27;, &#x27;T&#x27;, &#x27;A&#x27;, &#x27;A&#x27;, &#x27;A&#x27;,\n",
       "       &#x27;G&#x27;, &#x27;A&#x27;, &#x27;A&#x27;, &#x27;G&#x27;, &#x27;T&#x27;, &#x27;A&#x27;, &#x27;G&#x27;, &#x27;C&#x27;, &#x27;G&#x27;, &#x27;A&#x27;, &#x27;T&#x27;, &#x27;G&#x27;, &#x27;T&#x27;,\n",
       "       &#x27;G&#x27;, &#x27;G&#x27;, &#x27;C&#x27;], dtype=object)</pre></div></li></ul></div></li><li class='xr-section-item'><input id='section-dbc6fc7b-58b8-4a17-88c0-17232642ab65' class='xr-section-summary-in' type='checkbox' disabled ><label for='section-dbc6fc7b-58b8-4a17-88c0-17232642ab65' class='xr-section-summary'  title='Expand/collapse section'>Attributes: <span>(0)</span></label><div class='xr-section-inline-details'></div><div class='xr-section-details'><dl class='xr-attrs'></dl></div></li></ul></div></div>"
      ],
      "text/plain": [
       "<xarray.DataArray 'genotype' (sample: 378, variant: 926)>\n",
       "dask.array<transpose, shape=(378, 926), dtype=float32, chunksize=(378, 926), chunktype=numpy.ndarray>\n",
       "Coordinates:\n",
       "  * sample   (sample) object 'HG00096' 'HG00097' ... 'NA20826' 'NA20828'\n",
       "  * variant  (variant) <U10 'variant0' 'variant1' ... 'variant924' 'variant925'\n",
       "    fid      (sample) object 'HG00096' 'HG00097' ... 'NA20826' 'NA20828'\n",
       "    iid      (sample) object 'HG00096' 'HG00097' ... 'NA20826' 'NA20828'\n",
       "    father   (sample) object '0' '0' '0' '0' '0' '0' ... '0' '0' '0' '0' '0' '0'\n",
       "    mother   (sample) object '0' '0' '0' '0' '0' '0' ... '0' '0' '0' '0' '0' '0'\n",
       "    gender   (sample) object '0' '0' '0' '0' '0' '0' ... '0' '0' '0' '0' '0' '0'\n",
       "    trait    (sample) object '-9' '-9' '-9' '-9' '-9' ... '-9' '-9' '-9' '-9'\n",
       "    chrom    (variant) object '22' '22' '22' '22' '22' ... '22' '22' '22' '22'\n",
       "    snp      (variant) object 'rs9605903' 'rs5746647' ... 'rs28642259'\n",
       "    cm       (variant) float64 2.336 2.34 2.344 2.441 ... 74.26 74.28 74.37\n",
       "    pos      (variant) int32 17054720 17057138 17058616 ... 50725301 50785718\n",
       "    a0       (variant) object 'C' 'G' 'T' 'C' 'A' 'G' ... 'T' 'C' 'A' 'A' 'T'\n",
       "    a1       (variant) object 'T' 'T' 'C' 'A' 'C' 'A' ... 'G' 'T' 'G' 'G' 'C'"
      ]
     },
     "execution_count": 12,
     "metadata": {},
     "output_type": "execute_result"
    }
   ],
   "source": [
    "# sub_G = G.where(G.chrom == chr_selected, drop=True)\n",
    "# sub_G\n",
    "G"
   ]
  },
  {
   "cell_type": "code",
   "execution_count": 14,
   "metadata": {},
   "outputs": [
    {
     "name": "stdout",
     "output_type": "stream",
     "text": [
      "(378, 926)\n"
     ]
    }
   ],
   "source": [
    "X = G.values\n",
    "\n",
    "print(X.shape)\n",
    "N, p = X.shape"
   ]
  },
  {
   "cell_type": "code",
   "execution_count": 15,
   "metadata": {},
   "outputs": [],
   "source": [
    "corr_mat_pd = pd.DataFrame(X).corr()"
   ]
  },
  {
   "cell_type": "code",
   "execution_count": 16,
   "metadata": {},
   "outputs": [
    {
     "data": {
      "text/plain": [
       "<AxesSubplot:>"
      ]
     },
     "execution_count": 16,
     "metadata": {},
     "output_type": "execute_result"
    },
    {
     "data": {
      "image/png": "[encoded data removed]",
      "text/plain": [
       "<Figure size 432x288 with 2 Axes>"
      ]
     },
     "metadata": {
      "needs_background": "light"
     },
     "output_type": "display_data"
    }
   ],
   "source": [
    "sns.heatmap(corr_mat_pd)"
   ]
  },
  {
   "cell_type": "code",
   "execution_count": 17,
   "metadata": {},
   "outputs": [
    {
     "data": {
      "text/plain": [
       "<matplotlib.collections.PathCollection at 0x2afc8a2576a0>"
      ]
     },
     "execution_count": 17,
     "metadata": {},
     "output_type": "execute_result"
    },
    {
     "data": {
      "image/png": "[encoded data removed]",
      "text/plain": [
       "<Figure size 720x720 with 1 Axes>"
      ]
     },
     "metadata": {
      "needs_background": "light"
     },
     "output_type": "display_data"
    }
   ],
   "source": [
    "pca = PCA(n_components=2)\n",
    "geno_mat_transformed = pca.fit_transform(X)\n",
    "\n",
    "# population_labels = y\n",
    "\n",
    "plt.figure(figsize=(10, 10))\n",
    "\n",
    "plt.scatter(geno_mat_transformed[:, 0], geno_mat_transformed[:, 1])"
   ]
  },
  {
   "cell_type": "code",
   "execution_count": 18,
   "metadata": {},
   "outputs": [],
   "source": [
    "PCs = np.column_stack([geno_mat_transformed[:, 0], geno_mat_transformed[:, 1]])\n",
    "# X = X - PCs @ (np.linalg.inv(PCs.T @ PCs) @ (PCs.T @ X))"
   ]
  },
  {
   "cell_type": "markdown",
   "metadata": {},
   "source": [
    "### Subsample Genotype"
   ]
  },
  {
   "cell_type": "code",
   "execution_count": 9,
   "metadata": {},
   "outputs": [],
   "source": [
    "# p = 5000\n",
    "# nSNPs= p\n",
    "\n",
    "# subset_X = X[:, :p]\n",
    "# subset_mask = mask[:p, :]\n",
    "# subset_mask = subset_mask[:, subset_mask.any(0)]"
   ]
  },
  {
   "cell_type": "markdown",
   "metadata": {},
   "source": [
    "### Simulate Phenotypes"
   ]
  },
  {
   "cell_type": "code",
   "execution_count": 19,
   "metadata": {},
   "outputs": [
    {
     "name": "stdout",
     "output_type": "stream",
     "text": [
      "Shape of the phenotype array: (378, 1)\n"
     ]
    }
   ],
   "source": [
    "############### SIMULATING PHENOTYPES #################\n",
    "# Defining the parameters of the phenotype simulations:\n",
    "\n",
    "H2 = 0.6 #Broad-sense heritability, meaning 60% of phenotypic variation is explained by genotypic variation.\n",
    "rho= 0.5 #All of the heritability comes from additive effects\n",
    "causal_indices=np.arange(0,np.int32(0.1*p)) #Pick the first 10 of 1000 SNPs to have non-zero effect sizes\n",
    "ncausal=len(causal_indices)\n",
    "\n",
    "# Simulate phenotype data based on additive effects:\n",
    "\n",
    "Xadditive=X[:, causal_indices] # Get the causal SNP values\n",
    "betaAdd= np.repeat(1, ncausal)# Initialize all effect sizes for these SNPs as \"1\"\n",
    "#Initialize the value of the portion of phenotypic variation explained by the additive effects as XB:\n",
    "y_additive=np.dot(Xadditive, betaAdd)\n",
    "# Re-scale additive effect sizes based on H^2*rho:\n",
    "betaAdd= betaAdd * np.sqrt(H2*rho/np.var(y_additive))\n",
    "# Update y_additive based on effect sizes:\n",
    "y_additive=np.dot(Xadditive, betaAdd) \n",
    "\n",
    "\n",
    "Xepi=[]\n",
    "for i in causal_indices:\n",
    "    for j in range(i+1, causal_indices[-1]+1):\n",
    "        Xepi.append(np.multiply(X[:, i], X[:, j]))\n",
    "Xepi=np.column_stack(Xepi) #Matrix that holds the values for \n",
    "# pairwise interactions between all causal SNPs.\n",
    "\n",
    "betaEpi= (np.array([1]*Xepi.shape[1])).reshape(-1,1) #Similar to the additive effects,\n",
    "# epistatic effect sizes are initialized as 1 and will be corrected below.\n",
    "y_epi= np.dot(Xepi, betaEpi)\n",
    "betaEpi= betaEpi* np.sqrt(H2*(1-rho)/np.var(y_epi))\n",
    "y_epi= np.dot(Xepi, betaEpi) # Final value for the portion of phenotypes explained by\n",
    "#the epistatic effects\n",
    "\n",
    "\n",
    "\n",
    "# Simulate random noise (drawn from standard normal distribution) for the rest of phenotypic variation (40%):\n",
    "y_noise = np.random.normal(size=N)\n",
    "y_noise = y_noise * np.sqrt((1 - H2) / np.var(y_noise))\n",
    "\n",
    "# Add y_additive and y_noise to get the final simulated phenotypes:\n",
    "# y = np.add(y_additive.reshape(N, 1), y_noise.reshape(N, 1)) \n",
    "y = np.add(y_additive.reshape(N, 1),y_epi.reshape(N, 1), y_noise.reshape(N, 1)) \n",
    "print(\"Shape of the phenotype array:\", y.shape)"
   ]
  },
  {
   "cell_type": "code",
   "execution_count": 34,
   "metadata": {},
   "outputs": [],
   "source": [
    "causal_genes = np.unique(np.concatenate(list(map(lambda x: np.where(x == 1)[0], mask[causal_indices]))))"
   ]
  },
  {
   "cell_type": "code",
   "execution_count": 36,
   "metadata": {},
   "outputs": [
    {
     "data": {
      "text/plain": [
       "array([ 0,  1,  2,  3,  4,  5,  6,  7,  8,  9, 10, 11, 12, 13, 14, 15, 16,\n",
       "       17, 18, 19, 20, 21, 22, 23, 24, 25, 26, 27, 28, 29, 30])"
      ]
     },
     "execution_count": 36,
     "metadata": {},
     "output_type": "execute_result"
    }
   ],
   "source": [
    "causal_genes"
   ]
  },
  {
   "cell_type": "code",
   "execution_count": 35,
   "metadata": {},
   "outputs": [],
   "source": [
    "# np.savetxt(\"X.txt\", subset_X, delimiter=\" \")\n",
    "np.savetxt(\"y_pairwise.txt\", y, delimiter=\" \")"
   ]
  },
  {
   "cell_type": "code",
   "execution_count": 49,
   "metadata": {},
   "outputs": [],
   "source": [
    "# %%capture\n",
    "# !pip uninstall --y tensorflow\n",
    "# !pip install tensorflow"
   ]
  },
  {
   "cell_type": "code",
   "execution_count": 76,
   "metadata": {},
   "outputs": [],
   "source": [
    "# y_res = y - PCs @ (np.linalg.inv(PCs.T @ PCs) @ (PCs.T @ y))\n",
    "# X_res = X - PCs @ (np.linalg.inv(PCs.T @ PCs) @ (PCs.T @ X))\n",
    "# np.savetxt(\"y_res.txt\", y, delimiter=\" \")"
   ]
  },
  {
   "cell_type": "code",
   "execution_count": 37,
   "metadata": {},
   "outputs": [
    {
     "name": "stdout",
     "output_type": "stream",
     "text": [
      "Welcome to BANNs. Please make sure SNPs in the SNP List you provide are in the same order as in the genotype matrix. Results we return will be in the order of SNP annotations and SNP-set annotations.\n",
      "Invalid epi_p input, ignoring this parameter\n",
      "(378,)\n",
      "100/100 [==============================] - 208s 2s/step\n",
      "100/100 [==============================] - 209s 2s/step\n",
      "(378, 304)\n",
      "(378,)\n",
      "100/100 [==============================] - 15s 147ms/step\n",
      "100/100 [==============================] - 14s 140ms/step\n",
      "constructing kernelized features...\n",
      "304/304 [==============================] - 0s 67us/step\n",
      "start optional layer: SET_nonlinear_layer...\n",
      "(378,)\n",
      "100/100 [==============================] - 193s 2s/step\n",
      "100/100 [==============================] - 187s 2s/step\n",
      "PVE\n",
      "0.4326326467755528\n",
      "0.44188479358458965\n",
      "0.09375916751957396\n"
     ]
    },
    {
     "data": {
      "image/png": "[encoded data removed]",
      "text/plain": [
       "<Figure size 432x288 with 1 Axes>"
      ]
     },
     "metadata": {
      "needs_background": "light"
     },
     "output_type": "display_data"
    },
    {
     "data": {
      "image/png": "[encoded data removed]",
      "text/plain": [
       "<Figure size 432x288 with 1 Axes>"
      ]
     },
     "metadata": {
      "needs_background": "light"
     },
     "output_type": "display_data"
    },
    {
     "data": {
      "image/png": "[encoded data removed]",
      "text/plain": [
       "<Figure size 432x288 with 1 Axes>"
      ]
     },
     "metadata": {
      "needs_background": "light"
     },
     "output_type": "display_data"
    }
   ],
   "source": [
    "# X = np.loadtxt(\"X.txt\")\n",
    "y = np.loadtxt(\"y_pairwise.txt\")\n",
    "# y_res = np.loadtxt(\"y_res.txt\")\n",
    "mask = np.loadtxt(data_folder+f\"chr{chr_selected}_Mask.txt\")\n",
    "\n",
    "bann=BANNs(X,y, mask, nModelsSNP=100, nModelsSET=100, nModelsSET_nonlinear=100, epi_p = 1)\n",
    "[SNP_layer, SET_layer, SET_layer_nonlinear]=bann.run(nonlinear_flag=True)\n",
    "print(\"PVE\")\n",
    "print(SNP_layer.pve)\n",
    "print(SET_layer.pve)\n",
    "print(SET_layer_nonlinear.pve)\n",
    "\n",
    "SNPpips=SNP_layer.pip\n",
    "SETpips=SET_layer.pip\n",
    "SET_nonlinear_pips=SET_layer_nonlinear.pip\n",
    "\n",
    "plt.scatter(np.arange(len(SNPpips)), SNPpips)\n",
    "plt.show()\n",
    "\n",
    "plt.scatter(np.arange(len(SETpips)), SETpips)\n",
    "plt.show()\n",
    "\n",
    "plt.scatter(np.arange(len(SET_nonlinear_pips)), SET_nonlinear_pips)\n",
    "plt.show()"
   ]
  },
  {
   "cell_type": "code",
   "execution_count": 38,
   "metadata": {},
   "outputs": [
    {
     "data": {
      "image/png": "[encoded data removed]",
      "text/plain": [
       "<Figure size 432x288 with 1 Axes>"
      ]
     },
     "metadata": {
      "needs_background": "light"
     },
     "output_type": "display_data"
    },
    {
     "data": {
      "image/png": "[encoded data removed]",
      "text/plain": [
       "<Figure size 432x288 with 1 Axes>"
      ]
     },
     "metadata": {
      "needs_background": "light"
     },
     "output_type": "display_data"
    },
    {
     "data": {
      "image/png": "[encoded data removed]",
      "text/plain": [
       "<Figure size 432x288 with 1 Axes>"
      ]
     },
     "metadata": {
      "needs_background": "light"
     },
     "output_type": "display_data"
    }
   ],
   "source": [
    "plt.scatter(np.arange(len(SNPpips)), SNPpips)\n",
    "plt.xlabel(\"SNP Index\")\n",
    "plt.ylabel(\"PIP\")\n",
    "plt.title(\"SNP Layer\")\n",
    "plt.savefig(\"SNPpip_plot.png\", dpi=300)\n",
    "plt.show()\n",
    "\n",
    "plt.scatter(np.arange(len(SETpips)), SETpips)\n",
    "plt.xlabel(\"SNP-set Index\")\n",
    "plt.ylabel(\"PIP\")\n",
    "plt.title(\"SNP (linear) Layer\")\n",
    "plt.savefig(\"SETpip_plot.png\", dpi=300)\n",
    "plt.show()\n",
    "\n",
    "plt.scatter(np.arange(len(SET_nonlinear_pips)), SET_nonlinear_pips)\n",
    "plt.xlabel(\"SNP Index\")\n",
    "plt.ylabel(\"PIP\")\n",
    "plt.title(\"SET (nonlinear) Layer\")\n",
    "plt.savefig(\"SET_nonlinear_pip_plot.png\", dpi=300)\n",
    "plt.show()"
   ]
  },
  {
   "cell_type": "markdown",
   "metadata": {},
   "source": [
    "### GWAS (linear regression)"
   ]
  },
  {
   "cell_type": "code",
   "execution_count": 20,
   "metadata": {},
   "outputs": [
    {
     "name": "stdout",
     "output_type": "stream",
     "text": [
      "> Reading BED file...\n",
      "> Computing LD matrix...\n",
      "> Performing GWAS...\n"
     ]
    }
   ],
   "source": [
    "gdl = mgp.GWADataLoader(bed_files=bfile)\n",
    "gdl.set_phenotype(y)\n",
    "\n",
    "gdl.compute_ld('shrinkage', output_dir='output/ld/',\n",
    "               genetic_map_ne=11400, # effective population size (Ne)\n",
    "               genetic_map_sample_size=183, # Sample size\n",
    "               threshold=1e-3)\n",
    "\n",
    "gdl.perform_gwas()\n",
    "gdl.to_summary_statistics_table()\n",
    "\n",
    "summ_table = gdl.to_summary_statistics_table()"
   ]
  },
  {
   "cell_type": "code",
   "execution_count": 21,
   "metadata": {},
   "outputs": [
    {
     "data": {
      "image/png": "[encoded data removed]",
      "text/plain": [
       "<Figure size 432x288 with 1 Axes>"
      ]
     },
     "metadata": {
      "needs_background": "light"
     },
     "output_type": "display_data"
    }
   ],
   "source": [
    "plt.scatter(np.arange(len(summ_table.PVAL.values)), -np.log10(summ_table.PVAL.values))\n",
    "plt.xlabel(\"SNP Index\")\n",
    "plt.ylabel(\"-log10 P-value\")\n",
    "plt.title(\"GWAS (linear regression)\")\n",
    "plt.savefig(\"gwas_manhattan_plot.png\", dpi=300)"
   ]
  },
  {
   "cell_type": "markdown",
   "metadata": {},
   "source": [
    "### Computational Power\n",
    "ROC curves"
   ]
  },
  {
   "cell_type": "code",
   "execution_count": 39,
   "metadata": {},
   "outputs": [],
   "source": [
    "### ROC Curve\n",
    "def draw_roc_curve(y_true_pred_dict, title=None):\n",
    "    \n",
    "    plt.figure()\n",
    "    for method_name, (y_true, y_pred) in y_true_pred_dict.items():\n",
    "        \n",
    "        fpr, tpr, _ = roc_curve(y_true, y_pred)\n",
    "        roc_auc = auc(fpr, tpr)\n",
    "\n",
    "        # Compute micro-average ROC curve and ROC area\n",
    "        \n",
    "        lw = 2\n",
    "        plt.plot(\n",
    "            fpr,\n",
    "            tpr,\n",
    "            lw=lw,\n",
    "            label=f\"{method_name} (area = %0.2f)\" % roc_auc,\n",
    "        )\n",
    "        plt.plot([0, 1], [0, 1], color=\"navy\", lw=lw, linestyle=\"--\")\n",
    "        plt.xlim([-0.05, 1.0])\n",
    "        plt.ylim([-0.05, 1.05])\n",
    "    plt.xlabel(\"False Positive Rate\")\n",
    "    plt.ylabel(\"True Positive Rate\")\n",
    "    plt.legend(loc=\"lower right\")\n",
    "    if title is not None:\n",
    "        plt.title(title)\n",
    "    "
   ]
  },
  {
   "cell_type": "code",
   "execution_count": 46,
   "metadata": {},
   "outputs": [],
   "source": [
    "nSNPs = X.shape[1]\n",
    "nSets = bann.G.shape[1]"
   ]
  },
  {
   "cell_type": "code",
   "execution_count": 47,
   "metadata": {},
   "outputs": [],
   "source": [
    "y_true_snp = np.zeros(nSNPs, dtype=int)\n",
    "y_true_snp[causal_indices] = 1\n",
    "\n",
    "y_true_gene = np.zeros(nSets, dtype=int)\n",
    "y_true_gene[causal_genes] = 1\n",
    "\n",
    "y_true_gene_nonlinear = np.zeros(np.sum(bann.num_nonlinear_relations, dtype=int), dtype=int)\n",
    "\n",
    "for idx in causal_genes:\n",
    "    len_nonlinear = bann.num_nonlinear_relations[idx]\n",
    "    start_idx = np.sum(bann.num_nonlinear_relations[:idx], dtype=int)\n",
    "    y_true_gene_nonlinear[start_idx:(start_idx+len_nonlinear)] = 1"
   ]
  },
  {
   "cell_type": "code",
   "execution_count": 48,
   "metadata": {},
   "outputs": [
    {
     "data": {
      "image/png": "[encoded data removed]",
      "text/plain": [
       "<Figure size 432x288 with 1 Axes>"
      ]
     },
     "metadata": {
      "needs_background": "light"
     },
     "output_type": "display_data"
    }
   ],
   "source": [
    "draw_roc_curve({\"BANN (SNP)\": (y_true_snp, SNPpips), \"BANN (SET)\": (y_true_gene, SETpips), \"BANN (SET nonlinear)\": (y_true_gene_nonlinear, SET_nonlinear_pips)})\n",
    "plt.savefig(\"roc_curve.png\", dpi=300)"
   ]
  },
  {
   "cell_type": "code",
   "execution_count": null,
   "metadata": {},
   "outputs": [],
   "source": [
    "# for threshold in [0.1, 0.3, 0.5]:\n",
    "#     y_bann_one_hot = {}\n",
    "    \n",
    "#     for layer, pips in {\"BANN (SNP)\": SNPpips, \"BANN (SET)\": SETpips, \"BANN (SET_nonlinear)\": SET_nonlinear_pips}.items():\n",
    "#         pip_threshold = threshold\n",
    "#         y_bann = np.zeros(num_snps, dtype=int)\n",
    "#         if len(np.where(pips >= pip_threshold)[0]) > 1:\n",
    "#             y_bann[np.where(pips >= pip_threshold)[0]] = 1\n",
    "\n",
    "#             y_bann_one_hot[layer] = np.zeros((num_snps, 2), dtype=int)\n",
    "#             y_bann_one_hot[layer][np.arange(num_snps), y_bann] = 1\n",
    "#     y_bann_one_hot[\"GWAS\"] = y_gwas_one_hot\n",
    "#     draw_roc_curve(y_true_one_hot, y_bann_one_hot, f\"ROC curve with PIP threshold={threshold}\")\n",
    "#     plt.savefig(f\"roc_curve_pip_threshold={threshold}.png\", dpi=300)"
   ]
  },
  {
   "cell_type": "markdown",
   "metadata": {},
   "source": [
    "### archive code"
   ]
  },
  {
   "cell_type": "code",
   "execution_count": 23,
   "metadata": {},
   "outputs": [
    {
     "name": "stdout",
     "output_type": "stream",
     "text": [
      "[   0    1    3    5    6   10   12   13   15   16   18   19   25   26\n",
      "   29   30   31   34   35   37   39   41   42   44   46   49   51   52\n",
      "   54   55   56   58   59   60   62   63   64   65   66   67   68   69\n",
      "   71   73   74   75   76   77   80   81   83   84   86   87   88   89\n",
      "   90   91   92   94  102  619 1895]\n",
      "[ 0  7 21]\n",
      "[   0    1    3    5    6    7   10   12   13   15   16   18   19   21\n",
      "   25   26   29   30   31   34   35   37   39   41   42   44   46   49\n",
      "   51   52   54   55   56   58   59   60   62   63   64   65   66   67\n",
      "   68   69   71   73   74   75   76   77   80   81   83   84   86   87\n",
      "   88   89   90   91   92   94  102  619 1895]\n"
     ]
    }
   ],
   "source": [
    "# snp_clustering = DBSCAN(eps=0.1, min_samples=2).fit(SNPpips.reshape(-1, 1))\n",
    "# dict_labels_snp = Counter(snp_clustering.labels_)\n",
    "# del dict_labels_snp[-1]\n",
    "# snp_level_indices = np.where(snp_clustering.labels_ == min(dict_labels_snp, key=dict_labels_snp.get))[0]\n",
    "# set_clustering = DBSCAN(eps=0.1, min_samples=2).fit(SETpips.reshape(-1, 1))\n",
    "# dict_labels_set = Counter(set_clustering.labels_)\n",
    "# del dict_labels_set[-1]\n",
    "# set_level_indices = np.where(set_clustering.labels_ == min(dict_labels_set, key=dict_labels_set.get))[0]\n",
    "# potential_indices = np.sort(np.array(list(set(set_level_indices).union(snp_level_indices))))\n",
    "# print(snp_level_indices)\n",
    "# print(set_level_indices)\n",
    "# print(potential_indices)"
   ]
  },
  {
   "cell_type": "code",
   "execution_count": 25,
   "metadata": {},
   "outputs": [
    {
     "name": "stdout",
     "output_type": "stream",
     "text": [
      "[ 0  7 21]\n"
     ]
    }
   ],
   "source": [
    "# nSets_selected = list(set(np.hstack(list(map(lambda x: np.where(x == 1)[0], subset_mask[potential_indices, :])))))\n",
    "# if len(nSets_selected) <= 0:\n",
    "#     print(\"no SNP Sets selected\")\n",
    "# elif len(nSets_selected) == 1:\n",
    "#     potential_sets = np.array([nSets_selected[0]-1, nSets_selected[0]+1])\n",
    "#     potential_sets = potential_sets[potential_sets >= 0]\n",
    "#     potential_sets = potential_sets[potential_sets < selected_mask.shape[1]]\n",
    "    \n",
    "#     nSets_selected.extend(potential_sets)\n",
    "# nSets_selected = np.sort(nSets_selected) \n",
    "# print(nSets_selected)"
   ]
  },
  {
   "cell_type": "code",
   "execution_count": 26,
   "metadata": {},
   "outputs": [
    {
     "name": "stdout",
     "output_type": "stream",
     "text": [
      "1260\n"
     ]
    }
   ],
   "source": [
    "# potential_indices = np.concatenate([np.where(subset_mask[:, i] == 1)[0] for i in nSets_selected])\n",
    "# print(len(potential_indices))"
   ]
  },
  {
   "cell_type": "code",
   "execution_count": 27,
   "metadata": {},
   "outputs": [
    {
     "name": "stdout",
     "output_type": "stream",
     "text": [
      "(2520, 3)\n",
      "(2504, 2520)\n"
     ]
    }
   ],
   "source": [
    "# X_selected = subset_X[:, potential_indices]\n",
    "# mask_selected = subset_mask[potential_indices, :]\n",
    "# mask_selected = mask_selected[:, mask_selected.any(0)]\n",
    "# nSets_selected = mask_selected.shape[1]\n",
    "\n",
    "# for i in range(0, nSets_selected):\n",
    "#     indices = np.where(mask_selected[:, i] == 1)[0]\n",
    "#     if len(indices) <= 1:\n",
    "#         X_selected = np.delete(X_selected, indices, axis=1)\n",
    "#         mask_selected = np.delete(mask_selected, indices, axis=0)\n",
    "        \n",
    "        \n",
    "# mask_selected = mask_selected[:, mask_selected.any(0)]\n",
    "# nSets_selected = mask_selected.shape[1]\n",
    "\n",
    "# X_epi = []\n",
    "# num_feature_in_sets = []\n",
    "# for i in range(0, nSets_selected):\n",
    "#     indices = np.where(mask_selected[:, i] == 1)[0]\n",
    "#     current_X = X_selected[:, indices]\n",
    "    \n",
    "#     Z = []\n",
    "#     for i in range(len(indices)):\n",
    "#         for j in range(i+1, len(indices)):\n",
    "#             Z.append(np.multiply(current_X[:, i], current_X[:, j]))\n",
    "#     Z  = np.column_stack(Z)\n",
    "    \n",
    "#     rff_kernel = RFF_gpytorch(gamma=0.1, n_components=4*len(indices),seed=111)\n",
    "#     Z = rff_kernel.fit_transform(X_selected[:, indices])\n",
    "    \n",
    "#     X_epi.append(Z)\n",
    "#     num_feature_in_sets.append(Z.shape[1])\n",
    "    \n",
    "# X_epi=np.column_stack(X_epi)\n",
    "# dim_set = X_epi.shape[1]//nSets_selected ## number of features per SNP set\n",
    "\n",
    "# mask_epi=np.zeros(shape=(sum(num_feature_in_sets),nSets_selected))\n",
    "\n",
    "# start_idx = 0\n",
    "# for i in range(0, nSets_selected):\n",
    "#     num_features = num_feature_in_sets[i]\n",
    "#     for j in range(start_idx, start_idx+num_features):\n",
    "#         mask_epi[j] = np.zeros(nSets_selected)\n",
    "#         mask_epi[j][i] = 1\n",
    "#     start_idx += num_features\n",
    "        \n",
    "\n",
    "# print(mask_epi.shape)\n",
    "# print(X_epi.shape)\n",
    "# np.savetxt(\"X_epi_test2.txt\", X_epi, delimiter=\" \")\n",
    "# np.savetxt(\"mask_epi_test2.txt\",mask_epi, delimiter=\" \")"
   ]
  },
  {
   "cell_type": "code",
   "execution_count": 28,
   "metadata": {},
   "outputs": [
    {
     "name": "stdout",
     "output_type": "stream",
     "text": [
      "Welcome to BANNs. Please make sure SNPs in the SNP List you provide are in the same order as in the genotype matrix. Results we return will be in the order of SNP annotations and SNP-set annotations.\n",
      "(2504,)\n",
      "20/20 [==============================] - 319s 16s/step\n",
      "20/20 [==============================] - 321s 16s/step\n",
      "(2504, 3)\n",
      "(2504,)\n",
      "20/20 [==============================] - 0s 5ms/step\n",
      "20/20 [==============================] - 0s 5ms/step\n",
      "PVE\n",
      "0.12700891191334318\n",
      "0.1973736533443662\n"
     ]
    }
   ],
   "source": [
    "# X_epi = np.loadtxt(\"X_epi_test2.txt\")\n",
    "# y = np.loadtxt(\"ytest2.txt\")\n",
    "# mask_epi = np.loadtxt(\"mask_epi_test2.txt\")\n",
    "\n",
    "# bann_epi=BANNs(X_epi,y, mask_epi, nModelsSNP=20, nModelsSET=20)\n",
    "# [SNP_layer_epi, SET_layer_epi]=bann_epi.run()\n",
    "# print(\"PVE\")\n",
    "# print(SNP_layer_epi.pve)\n",
    "# print(SET_layer_epi.pve)\n",
    "\n",
    "\n",
    "# SNPpips_epi=SNP_layer_epi.pip\n",
    "# SETpips_epi=SET_layer_epi.pip\n"
   ]
  },
  {
   "cell_type": "code",
   "execution_count": 29,
   "metadata": {},
   "outputs": [
    {
     "data": {
      "image/png": "[encoded data removed]",
      "text/plain": [
       "<Figure size 432x288 with 1 Axes>"
      ]
     },
     "metadata": {
      "needs_background": "light"
     },
     "output_type": "display_data"
    },
    {
     "data": {
      "image/png": "[encoded data removed]",
      "text/plain": [
       "<Figure size 432x288 with 1 Axes>"
      ]
     },
     "metadata": {
      "needs_background": "light"
     },
     "output_type": "display_data"
    }
   ],
   "source": [
    "# plt.scatter(np.arange(len(SNPpips_epi)), SNPpips_epi)\n",
    "# plt.show()\n",
    "\n",
    "# plt.scatter(np.arange(len(SETpips_epi)), SETpips_epi)\n",
    "# plt.show()\n",
    "\n",
    "# print(SNP_layer.pve+SNP_layer_epi.pve)\n",
    "# print(SET_layer.pve+SET_layer_epi.pve)\n",
    "# SNPpips_epi=SNP_layer_epi.pip\n",
    "# SETpips_epi=SET_layer_epi.pip\n",
    "\n",
    "# clustering = DBSCAN(eps=0.1, min_samples=2).fit(SNPpips_epi.reshape(-1, 1))\n",
    "# dict_labels_snp = Counter(clustering.labels_)\n",
    "# del dict_labels_snp[-1]\n",
    "# snp_level_indices = np.where(clustering.labels_ == min(dict_labels_snp, key=dict_labels_snp.get))[0]\n",
    "# snp_level_indices"
   ]
  },
  {
   "cell_type": "code",
   "execution_count": null,
   "metadata": {},
   "outputs": [],
   "source": []
  }
 ],
 "metadata": {
  "kernelspec": {
   "display_name": "Python 3 (ipykernel)",
   "language": "python",
   "name": "python3"
  },
  "language_info": {
   "codemirror_mode": {
    "name": "ipython",
    "version": 3
   },
   "file_extension": ".py",
   "mimetype": "text/x-python",
   "name": "python",
   "nbconvert_exporter": "python",
   "pygments_lexer": "ipython3",
   "version": "3.9.6"
  },
  "vscode": {
   "interpreter": {
    "hash": "31f2aee4e71d21fbe5cf8b01ff0e069b9275f58929596ceb00d14d90e3e16cd6"
   }
  }
 },
 "nbformat": 4,
 "nbformat_minor": 4
}

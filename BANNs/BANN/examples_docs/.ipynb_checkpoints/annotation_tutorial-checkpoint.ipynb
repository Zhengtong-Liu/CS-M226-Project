{
 "cells": [
  {
   "cell_type": "markdown",
   "metadata": {},
   "source": [
    "## Example for creating biological annotations for BANNs\n",
    "\n",
    "BANNs framework requires constructing an annotation mask in order to guide the model structure based on biological annotations. We create SNP-sets based on the genomic annotations of SNPs used in the model. SNPs that fall into the neighborhood of the same gene are grouped together into a SNP-set that corresponds to this gene. If we consider intergenic regions (based on user input), SNPs that fall into unannotated regions of the genome are grouped together into intergenic regions. For example, two SNPs that fall into the intergenic region between _gene A_ and _gene b_ would be grouped together into a intergenic region called _Intergenic_gene A_gene B_.  \n",
    "\n",
    "In this example, we show how to carry out the annotation and create mask matrices (and annotation dataframes that store information on which SNPsets contain which SNPs) using the annotation.py script provided. \n",
    "\n",
    "We need two inputs for carrying out biological annotations:  \n",
    "**1)** A SNP list file of .map or .bim format  \n",
    "**2)** A gene range file  \n",
    "\n",
    "#### **SNP list file:** \n",
    "We expect .map formatted SNP lists to be tab-delimited files have four fields/columns (with no header): Chromosome, Variant ID, Morgans, Position(bp) . Our annotation script works with position information. If morgan information is missing, you can replace this column with 0s (zeros) or leave it empty. We expect a similar format from .bim files but with six fields/columns: Chromosome, Variant ID, Morgans, Position, Minor Allele, Major Allele. If the files contain a different number of columns, annotation will not carry out and you will receive a warning about the error.  \n",
    "To get more information on file formats, you can visit:  \n",
    "https://www.cog-genomics.org/plink2/formats#map  \n",
    "https://www.cog-genomics.org/plink2/formats#bim  \n",
    "\n",
    "**Important Note:** In order to obtain accurate results, please make sure the order of SNPs in the SNP List file correspond to the order of SNPs in the genotype matrix fed into the model because indices of variables matter for the model and annotations. This means if variant rs7412 is the first SNP in the genotype matrix (i.e. the first column of the genotype matrix corresponds to variant rs7412), then the first row of the SNP list should have information on rs7412.  \n",
    "\n",
    "\n",
    "#### **Gene range file:** \n",
    "We expect gene range file to be a tab-delimited file with four fields/columns (with no header): Chromosome, Start, End, GeneID. We expect that the Start and End coordinates will be in basepaires. To get more information on this file format, you can visit the \"Gene range lists\" section in :  \n",
    "https://www.cog-genomics.org/plink/1.9/resources  \n",
    "and download gene range files for human genome.\n",
    "\n",
    "#### **Example Files**  \n",
    "In this tutorial, we will work with the very small SNP list and gene range lists provided in /sampleData/TestSNPList.txt and /sampleData/TestGeneList.txt files for the sake of demonstration.  \n",
    "Here is what these files look like:"
   ]
  },
  {
   "cell_type": "code",
   "execution_count": 1,
   "metadata": {},
   "outputs": [
    {
     "name": "stdout",
     "output_type": "stream",
     "text": [
      "Printing SNP list file contents (.map formatted): \n",
      "\n",
      "2\trs2\t0\t11\n",
      "2\trs1\t0\t2\n",
      "18\trs3\t0\t13\n",
      "18\trs4\t0\t1021\n",
      "18\trs5\t0\t1800\n",
      "19\trs5\t0\t609\n",
      "19\trs6\t0\t5227\n",
      "19\trs7\t0\t10187\n",
      "19\trs8\t0\t12148\n",
      "X\trs9\t0\t1\n",
      "X\trs10\t0\t392\n",
      "X\trs11\t0\t1107\n",
      "X\trs12\t0\t4331\n",
      "\n",
      "\n",
      " Printing Gene range list file contents: \n",
      "\n",
      "18\t1023\t1803\tGene4\n",
      "7\t1267\t9569\tGene2\n",
      "19\t9532\t10187\tGene7\n",
      "X\t1\t501\tGene8\n",
      "19\t587\t791\tGene6\n",
      "18\t240\t391\tGene3\n",
      "X\t2675\t5092\tGene9\n",
      "X\t4061\t9582\tGene10\n",
      "18\t21200\t29080\tGene5\n",
      "7\t241\t905\tGene1\n"
     ]
    }
   ],
   "source": [
    "SNPList_file = open(\"sampleData/TestSNPList.txt\", \"r\")\n",
    "GeneList_file = open(\"sampleData/TestGeneList.txt\", \"r\")\n",
    "\n",
    "print(\"Printing SNP list file contents (.map formatted): \\n\")\n",
    "print(SNPList_file.read()) \n",
    "print(\"\\n\\n Printing Gene range list file contents: \\n\")\n",
    "print(GeneList_file.read()) "
   ]
  },
  {
   "cell_type": "markdown",
   "metadata": {},
   "source": [
    "### **Carrying out annotations**\n",
    "In this tutorial, we will create two files:  \n",
    "**1)** an annotation dataframe that contains information on which SNP-sets contain which SNPs and what the genomic coordinate of these SNP-sets are, saved in a tab-delimited .txt file.  \n",
    "This dataframe is sorted in ascending order based on the chromosomal location of the SNP-sets.  \n",
    "Carried out by the *annotate()* function\n",
    "\n",
    "**2)** an annotation mask matrix, which is a sparse matrix of 0s and 1s used to guide the model architecture, saved in a tab-delimited .txt file.   \n",
    "This is a matrix of size: (number of SNPs by number of SNPsets). An entry in the matrix at location (row i, column j) tells us whether SNP i is contained in SNP-set j (yes if 1, no if 0).  \n",
    "The rows of the mask matrix (which correspond to SNPs) are in the same order as the SNP list file, meaning the first row contains annotation information of the first SNP in the SNP list. The columns of the mask matrix (which correspond to SNP-set) are in the same order as the annotation dataframe, so columns correspond to SNP-sets in an ascending order based on chromosomal location.\n",
    "Carried out by the *getMaskMatrix()* function\n",
    "\n",
    "#### **Parameters**\n",
    "There are a few parameters we require from the user to specify how to carry out the annotations and save the results, apart from giving the path to the input SNP list file and gene range list file:\n",
    "\n",
    "**output file**: Both *annotate()*  and *getMaskMatrix()* functions require us to specify this. It is supposed to be path to the .txt file where we want to save the results (either annotation dataframe or mask matrix).\n",
    "\n",
    "**intergenic:** For *annotate()* function. This is a boolean parameter, that expects either of the True or False values. The default value is True.  \n",
    "If *True*, the annotation script creates intergenic SNP-sets and considers them when annotating the SNPs. If *False*, it simply groups SNPs into genes defined in the gene range list and all SNPs that are unannotated (in intergenic regions) are grouped into one SNP-set called \"Unannotated\". This \"Unannotated\" SNP-set is the last entry of the annotation dataframe and would be the last column of the mask matrix to be created from the annotation dataframe. If the gene range list provided by the user has all chromosomes, there will be no \"Unannotated\" SNP-set when this parameter is set to *True*. However, if there are chromosomes missing (as in the case of this example, just for demonstrations), SNPs in the missing chromosomes will still be grouped into the \"Unannotated\" SNP-set.  \n",
    "\n",
    "**buffer:** For *annotate()* function. This is an integer and the default value is 0.  \n",
    "It tells the annotation script how many basepairs to allow for as a buffer when considering a SNP-set neighborhood. If set to, let's say, 50000, then we would allow a 50kb window around SNP-sets when considering whether a SNP is in the SNP-set or not. \n",
    "\n",
    "**dropSingletons:** For *annotate()* function. This is a boolean parameter, that expects either of the True or False values. The default value is False.  \n",
    "When annotating, it is possible that some SNP-sets will only contain one SNP. We call these SNP-sets \"singletons\". In this case, whether they should still be considered a \"SNP-set\" is debatable. If you set this parameter value to *True*, then these SNP-sets will be dropped from the annotation, and SNPs will be re-annotated with the remaining SNP-sets. Otherwise (if set at *False*), singleton SNP-sets will be kept in the model.\n",
    "\n",
    "#### Creating the annotation dataframe:"
   ]
  },
  {
   "cell_type": "code",
   "execution_count": 2,
   "metadata": {},
   "outputs": [
    {
     "name": "stderr",
     "output_type": "stream",
     "text": [
      "100%|██████████| 10/10 [00:00<00:00, 241.81it/s]\n",
      "100%|██████████| 13/13 [00:00<00:00, 689.29it/s]"
     ]
    },
    {
     "name": "stdout",
     "output_type": "stream",
     "text": [
      "You have chosen to annotate SNP-sets with intergenic regions and with a buffer of 0bp\n",
      "Creating Intergenic SNP-sets\n",
      "Annotating SNP-sets with the corresponding SNPs\n",
      "Saving annotation results to file sampleData/TestAnnotationDF.txt\n",
      "                    GeneID Chromosome    Start      End   SNPindex  \\\n",
      "0   Intergenic_Gene3_Gene4         18    392.0   1022.0        [3]   \n",
      "1                    Gene4         18   1023.0   1803.0        [4]   \n",
      "2                    Gene6         19    587.0    791.0        [5]   \n",
      "3   Intergenic_Gene6_Gene7         19    792.0   9531.0        [6]   \n",
      "4                    Gene7         19   9532.0  10187.0        [7]   \n",
      "5         Downstream_Gene7         19  10188.0  12148.0        [8]   \n",
      "6                    Gene8          X      1.0    501.0    [9, 10]   \n",
      "7   Intergenic_Gene8_Gene9          X    502.0   2674.0       [11]   \n",
      "8                    Gene9          X   2675.0   5092.0       [12]   \n",
      "9                   Gene10          X   4061.0   9582.0       [12]   \n",
      "10             UnAnnotated        NaN      NaN      NaN  [1, 0, 2]   \n",
      "\n",
      "          VariantID  \n",
      "0             [rs4]  \n",
      "1             [rs5]  \n",
      "2             [rs5]  \n",
      "3             [rs6]  \n",
      "4             [rs7]  \n",
      "5             [rs8]  \n",
      "6       [rs9, rs10]  \n",
      "7            [rs11]  \n",
      "8            [rs12]  \n",
      "9            [rs12]  \n",
      "10  [rs1, rs2, rs3]  \n"
     ]
    },
    {
     "name": "stderr",
     "output_type": "stream",
     "text": [
      "\n"
     ]
    }
   ],
   "source": [
    "# Importing annotation.py from the src folder:\n",
    "import sys\n",
    "sys.path.insert(0, '../src/') #Need to do this for this notebook example since the code lives in a different directory \n",
    "\n",
    "from annotation import * # Import annotation code\n",
    "\n",
    "#Changing back to the original directory:\n",
    "sys.path.insert(0, '../examples_docs/')\n",
    "\n",
    "#Specifying the path to the SNP list file and gene range list file:\n",
    "path_to_SNPList=\"sampleData/TestSNPList.txt\"\n",
    "path_to_geneList=\"sampleData/TestGeneList.txt\"\n",
    "\n",
    "#Specifying the path to the file we want the save annotation dataframe into:\n",
    "file_toSave_annotationDF=\"sampleData/TestAnnotationDF.txt\"\n",
    "\n",
    "#Carrying out the annotation:\n",
    "annotationDF=annotate(path_to_SNPList, path_to_geneList, outputFile=file_toSave_annotationDF, \n",
    "                      intergenic=True, buffer=0, dropSingletons=False)\n",
    "\n",
    "print(annotationDF)"
   ]
  },
  {
   "cell_type": "markdown",
   "metadata": {},
   "source": [
    "Showing annotation results with different parameters:"
   ]
  },
  {
   "cell_type": "code",
   "execution_count": 3,
   "metadata": {},
   "outputs": [
    {
     "name": "stderr",
     "output_type": "stream",
     "text": [
      "100%|██████████| 13/13 [00:00<00:00, 859.38it/s]\n",
      "100%|██████████| 13/13 [00:00<00:00, 838.38it/s]"
     ]
    },
    {
     "name": "stdout",
     "output_type": "stream",
     "text": [
      "You have chosen to annotate SNP-sets without intergenic regions and with a buffer of 500bp\n",
      "Annotating SNP-sets with the corresponding SNPs\n",
      "Dropping SNP-sets that are singletons (containing only one SNP) and re-annotating SNPs without them\n",
      "Annotating SNP-sets with the corresponding SNPs\n",
      "Saving annotation results to file sampleData/TestAnnotationDF.txt\n",
      "        GeneID Chromosome   Start      End          SNPindex  \\\n",
      "0        Gene3         18   240.0    391.0               [2]   \n",
      "1        Gene4         18  1023.0   1803.0            [3, 4]   \n",
      "2        Gene6         19   587.0    791.0               [5]   \n",
      "3        Gene7         19  9532.0  10187.0               [7]   \n",
      "4        Gene8          X     1.0    501.0           [9, 10]   \n",
      "5        Gene9          X  2675.0   5092.0              [12]   \n",
      "6       Gene10          X  4061.0   9582.0              [12]   \n",
      "7  UnAnnotated        NaN     NaN      NaN  [1, 0, 6, 8, 11]   \n",
      "\n",
      "                    VariantID  \n",
      "0                       [rs3]  \n",
      "1                  [rs4, rs5]  \n",
      "2                       [rs5]  \n",
      "3                       [rs7]  \n",
      "4                 [rs9, rs10]  \n",
      "5                      [rs12]  \n",
      "6                      [rs12]  \n",
      "7  [rs1, rs2, rs6, rs8, rs11]  \n"
     ]
    },
    {
     "name": "stderr",
     "output_type": "stream",
     "text": [
      "\n"
     ]
    }
   ],
   "source": [
    "#Carrying out the annotation:\n",
    "annotationDF=annotate(path_to_SNPList, path_to_geneList, outputFile=file_toSave_annotationDF, \n",
    "                      intergenic=False, buffer=500, dropSingletons=True)\n",
    "\n",
    "print(annotationDF)"
   ]
  },
  {
   "cell_type": "markdown",
   "metadata": {},
   "source": [
    "#### Creating the mask matrix from the annotation dataframe:"
   ]
  },
  {
   "cell_type": "code",
   "execution_count": 4,
   "metadata": {},
   "outputs": [
    {
     "name": "stderr",
     "output_type": "stream",
     "text": [
      "100%|██████████| 8/8 [00:00<00:00, 3834.79it/s]"
     ]
    },
    {
     "name": "stdout",
     "output_type": "stream",
     "text": [
      "creating mask\n",
      "Saving annotation mask to file sampleData/TestMask.txt in tab-delimited format\n",
      "[[0. 0. 0. 0. 0. 0. 0. 1.]\n",
      " [0. 0. 0. 0. 0. 0. 0. 1.]\n",
      " [1. 0. 0. 0. 0. 0. 0. 0.]\n",
      " [0. 1. 0. 0. 0. 0. 0. 0.]\n",
      " [0. 1. 0. 0. 0. 0. 0. 0.]\n",
      " [0. 0. 1. 0. 0. 0. 0. 0.]\n",
      " [0. 0. 0. 0. 0. 0. 0. 1.]\n",
      " [0. 0. 0. 1. 0. 0. 0. 0.]\n",
      " [0. 0. 0. 0. 0. 0. 0. 1.]\n",
      " [0. 0. 0. 0. 1. 0. 0. 0.]\n",
      " [0. 0. 0. 0. 1. 0. 0. 0.]\n",
      " [0. 0. 0. 0. 0. 0. 0. 1.]\n",
      " [0. 0. 0. 0. 0. 1. 1. 0.]]\n"
     ]
    },
    {
     "name": "stderr",
     "output_type": "stream",
     "text": [
      "\n"
     ]
    }
   ],
   "source": [
    "mask_outputFile=\"sampleData/TestMask.txt\"\n",
    "mask = getMaskMatrix(path_to_SNPList, annotationDF, mask_outputFile)\n",
    "print(mask)"
   ]
  }
 ],
 "metadata": {
  "kernelspec": {
   "display_name": "Python 3",
   "language": "python",
   "name": "python3"
  },
  "language_info": {
   "codemirror_mode": {
    "name": "ipython",
    "version": 3
   },
   "file_extension": ".py",
   "mimetype": "text/x-python",
   "name": "python",
   "nbconvert_exporter": "python",
   "pygments_lexer": "ipython3",
   "version": "3.7.6"
  }
 },
 "nbformat": 4,
 "nbformat_minor": 4
}

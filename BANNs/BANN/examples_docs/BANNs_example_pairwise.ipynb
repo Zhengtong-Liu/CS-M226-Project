{
 "cells": [
  {
   "cell_type": "markdown",
   "metadata": {},
   "source": [
    "## BANNs Example Run\n",
    "\n",
    "### Introduction\n",
    "In this Jupyter notebook, we demonstrate how to run BANNs and access the model output on a sample dataset. \n",
    "\n"
   ]
  },
  {
   "cell_type": "markdown",
   "metadata": {},
   "source": [
    "### Simulating Data\n",
    "We will first simulate the sample data and pick which SNPs and SNP-sets are supposed to be the real associated values.\n"
   ]
  },
  {
   "cell_type": "code",
   "execution_count": 1,
   "metadata": {},
   "outputs": [
    {
     "name": "stdout",
     "output_type": "stream",
     "text": [
      "Dimensions of genotype matrix: (500, 1000)\n",
      "Number of samples: 500  Number of SNPs: 1000\n"
     ]
    }
   ],
   "source": [
    "import numpy as np\n",
    "np.random.seed(111) # We will seed the random number generator of numpy for reproducible results\n",
    "\n",
    "############### SIMULATING GENOTYPES #################\n",
    "# Defining the parameters of the simulated genotype matrix:\n",
    "N=500 #Number of samples (or \"individuals\")\n",
    "p=1000 #Number of SNPs\n",
    "\n",
    "# Randomly assign a minor allele frequency (maf) value to each SNP (limiting the range to 0.05 - 0.5 in this simulation):\n",
    "maf = 0.05 + 0.45*np.random.uniform(size=p)\n",
    "# Simulate the genotype matrix based on maf values for each SNP. \n",
    "# If the random allele frequencies we generate in the simulation step below is larger than the corresponding maf \n",
    "X = ((np.random.uniform(size=[N,p])>maf)&(np.random.uniform(size=[N,p])>maf))*1.0\n",
    "\n",
    "# Center and scale (z-score standardize) the genotype matrix:\n",
    "Xmean= np.mean(X, axis=0) #mean of each column, which corresponds to a SNP locus\n",
    "Xstd= np.std(X,axis=0) #standard deviation of each column\n",
    "X=np.nan_to_num((X-Xmean)/Xstd) #Final standardized simulated genotype matrix\n",
    "\n",
    "print(\"Dimensions of genotype matrix:\", X.shape)\n",
    "print(\"Number of samples:\", N, \" Number of SNPs:\",p)"
   ]
  },
  {
   "cell_type": "code",
   "execution_count": 7,
   "metadata": {},
   "outputs": [
    {
     "name": "stdout",
     "output_type": "stream",
     "text": [
      "Shape of the phenotype array: (500, 1)\n"
     ]
    }
   ],
   "source": [
    "############### SIMULATING PHENOTYPES #################\n",
    "# Defining the parameters of the phenotype simulations:\n",
    "\n",
    "H2 = 0.6 #Broad-sense heritability, meaning 60% of phenotypic variation is explained by genotypic variation.\n",
    "rho= 0.5 #All of the heritability comes from additive effects\n",
    "causal_indices=np.arange(0,np.int32(0.01*p)) #Pick the first 10 of 1000 SNPs to have non-zero effect sizes\n",
    "ncausal=len(causal_indices)\n",
    "\n",
    "# Simulate phenotype data based on additive effects:\n",
    "\n",
    "Xadditive=X[:, causal_indices] # Get the causal SNP values\n",
    "betaAdd= np.repeat(1, ncausal)# Initialize all effect sizes for these SNPs as \"1\"\n",
    "#Initialize the value of the portion of phenotypic variation explained by the additive effects as XB:\n",
    "y_additive=np.dot(Xadditive, betaAdd)\n",
    "# Re-scale additive effect sizes based on H^2*rho:\n",
    "betaAdd= betaAdd * np.sqrt(H2*rho/np.var(y_additive))\n",
    "# Update y_additive based on effect sizes:\n",
    "y_additive=np.dot(Xadditive, betaAdd) \n",
    "\n",
    "\n",
    "Xepi=[]\n",
    "for i in causal_indices:\n",
    "    for j in range(i+1, causal_indices[-1]+1):\n",
    "        Xepi.append(np.multiply(X[:, i], X[:, j]))\n",
    "Xepi=np.column_stack(Xepi) #Matrix that holds the values for \n",
    "# pairwise interactions between all causal SNPs.\n",
    "\n",
    "betaEpi= (np.array([1]*Xepi.shape[1])).reshape(-1,1) #Similar to the additive effects,\n",
    "# epistatic effect sizes are initialized as 1 and will be corrected below.\n",
    "y_epi= np.dot(Xepi, betaEpi)\n",
    "betaEpi= betaEpi* np.sqrt(H2*(1-rho)/np.var(y_epi))\n",
    "y_epi= np.dot(Xepi, betaEpi) # Final value for the portion of phenotypes explained by\n",
    "#the epistatic effects\n",
    "\n",
    "\n",
    "\n",
    "# Simulate random noise (drawn from standard normal distribution) for the rest of phenotypic variation (40%):\n",
    "y_noise = np.random.normal(size=N)\n",
    "y_noise = y_noise * np.sqrt((1 - H2) / np.var(y_noise))\n",
    "\n",
    "# Add y_additive and y_noise to get the final simulated phenotypes:\n",
    "# y = np.add(y_additive.reshape(N, 1), y_noise.reshape(N, 1)) \n",
    "y = np.add(y_additive.reshape(N, 1),y_epi.reshape(N, 1), y_noise.reshape(N, 1)) \n",
    "print(\"Shape of the phenotype array:\", y.shape)"
   ]
  },
  {
   "cell_type": "code",
   "execution_count": 8,
   "metadata": {},
   "outputs": [
    {
     "data": {
      "text/plain": [
       "array([0, 1, 2, 3, 4, 5, 6, 7, 8, 9])"
      ]
     },
     "execution_count": 8,
     "metadata": {},
     "output_type": "execute_result"
    }
   ],
   "source": [
    "causal_indices"
   ]
  },
  {
   "cell_type": "code",
   "execution_count": 9,
   "metadata": {},
   "outputs": [
    {
     "name": "stdout",
     "output_type": "stream",
     "text": [
      "The shape of the annotation mask is: (1000, 200)\n",
      "Number of SNPs: 1000  Number of SNP-sets: 200\n",
      "This is what the annotation mask looks like:\n",
      "[[1. 0. 0. ... 0. 0. 0.]\n",
      " [1. 0. 0. ... 0. 0. 0.]\n",
      " [1. 0. 0. ... 0. 0. 0.]\n",
      " ...\n",
      " [0. 0. 0. ... 0. 0. 1.]\n",
      " [0. 0. 0. ... 0. 0. 1.]\n",
      " [0. 0. 0. ... 0. 0. 1.]]\n"
     ]
    }
   ],
   "source": [
    "############## SIMULATE THE ANNOTATION MASK #################\n",
    "# While annotation.py script can be used to create biological annotations from SNP List and gene list files,\n",
    "# we will create a simple annotation mask here, where every five SNP falls into one SNP-set in order:\n",
    "\n",
    "nSNPs= p #Number of SNPs\n",
    "nSets= int(p/5) #Number of SNP-sets \n",
    "mask=np.zeros(shape=(nSNPs,nSets)) #Initialize annotation mask as a matrix of zeros of size nSNPs by nSets\n",
    "\n",
    "for i in range(0,nSets):#iterating over the columns of the annotation matrix, which correspond to SNP-sets\n",
    "\tfor j in range(i*5,(i+1)*5): #iterating over the rows of the annotation matrix, which correspond to SNPs\n",
    "\t\tmask[j,i]=1 #Make corresponding 5 SNPs fall into the corresponding SNPsets by turning these values to \"1\"\n",
    "\n",
    "print(\"The shape of the annotation mask is:\", mask.shape)\n",
    "print(\"Number of SNPs:\",mask.shape[0], \" Number of SNP-sets:\", mask.shape[1])\n",
    "print(\"This is what the annotation mask looks like:\")\n",
    "print(mask)\n",
    "\n",
    "#### Save files:\n",
    "np.savetxt(\"Xtest2.txt\", X, delimiter=\" \")\n",
    "np.savetxt(\"ytest2.txt\", y, delimiter=\" \")\n",
    "np.savetxt(\"masktest2.txt\",mask, delimiter=\" \")"
   ]
  },
  {
   "cell_type": "markdown",
   "metadata": {},
   "source": [
    "### Running BANNs model on the simulated data:\n",
    "Based on the simulation scheme above, we expect the first 10 SNPs and the first 2 SNP-sets to be picked to be associated with the phenotype by BANNs model. Let's run it:"
   ]
  },
  {
   "cell_type": "code",
   "execution_count": 10,
   "metadata": {},
   "outputs": [
    {
     "name": "stdout",
     "output_type": "stream",
     "text": [
      "Welcome to BANNs. Please make sure SNPs in the SNP List you provide are in the same order as in the genotype matrix. Results we return will be in the order of SNP annotations and SNP-set annotations.\n",
      "(500,)\n",
      "20/20 [==============================] - 10s 486ms/step\n",
      "20/20 [==============================] - 9s 430ms/step\n",
      "(500, 200)\n",
      "(500,)\n",
      "20/20 [==============================] - 3s 127ms/step\n",
      "20/20 [==============================] - 3s 144ms/step\n",
      "constructing kernelized features...\n",
      "200/200 [==============================] - 0s 64us/step\n",
      "start optional layer: SET_nonlinear_layer...\n",
      "(500,)\n",
      "20/20 [==============================] - 8s 386ms/step\n",
      "20/20 [==============================] - 8s 395ms/step\n",
      "PVE\n",
      "0.48887597222414664\n",
      "0.4525421533848896\n",
      "0.1233089950726313\n"
     ]
    },
    {
     "data": {
      "image/png": "[encoded data removed]",
      "text/plain": [
       "<Figure size 432x288 with 1 Axes>"
      ]
     },
     "metadata": {
      "needs_background": "light"
     },
     "output_type": "display_data"
    },
    {
     "data": {
      "image/png": "[encoded data removed]",
      "text/plain": [
       "<Figure size 432x288 with 1 Axes>"
      ]
     },
     "metadata": {
      "needs_background": "light"
     },
     "output_type": "display_data"
    },
    {
     "data": {
      "image/png": "[encoded data removed]",
      "text/plain": [
       "<Figure size 432x288 with 1 Axes>"
      ]
     },
     "metadata": {
      "needs_background": "light"
     },
     "output_type": "display_data"
    }
   ],
   "source": [
    "# Importing annotation.py from the src folder:\n",
    "import matplotlib.pyplot as plt\n",
    "import sys\n",
    "sys.path.insert(0, '../src/') #Need to do this for this notebook example since the code lives in a different directory \n",
    "\n",
    "from BANN import * # Import annotation code\n",
    "\n",
    "#Changing back to the original directory:\n",
    "sys.path.insert(0, '../examples_docs/')\n",
    "\n",
    "X = np.loadtxt(\"Xtest2.txt\")\n",
    "y = np.loadtxt(\"ytest2.txt\")\n",
    "mask = np.loadtxt(\"masktest2.txt\")\n",
    "\n",
    "bann=BANNs(X,y, mask, nModelsSNP=20, nModelsSET=20, nModelsSET_nonlinear=20)\n",
    "[SNP_layer, SET_layer, SET_nonlinear_layer]=bann.run(nonlinear_flag=True)\n",
    "print(\"PVE\")\n",
    "print(SNP_layer.pve)\n",
    "print(SET_layer.pve)\n",
    "print(SET_nonlinear_layer.pve)\n",
    "\n",
    "SNPpips=SNP_layer.pip\n",
    "SETpips=SET_layer.pip\n",
    "SET_nonlinear_pips=SET_nonlinear_layer.pip\n",
    "\n",
    "\n",
    "plt.scatter(np.arange(len(SNPpips)), SNPpips)\n",
    "plt.show()\n",
    "\n",
    "plt.scatter(np.arange(len(SETpips)), SETpips)\n",
    "plt.show()\n",
    "\n",
    "plt.scatter(np.arange(len(SET_nonlinear_pips)), SET_nonlinear_pips)\n",
    "plt.show()"
   ]
  },
  {
   "cell_type": "markdown",
   "metadata": {},
   "source": [
    "### Computational Power\n",
    "ROC curves"
   ]
  },
  {
   "cell_type": "code",
   "execution_count": 6,
   "metadata": {},
   "outputs": [
    {
     "data": {
      "text/plain": [
       "(500, 800)"
      ]
     },
     "execution_count": 6,
     "metadata": {},
     "output_type": "execute_result"
    }
   ],
   "source": [
    "bann.W.shape"
   ]
  },
  {
   "cell_type": "code",
   "execution_count": null,
   "metadata": {},
   "outputs": [],
   "source": []
  }
 ],
 "metadata": {
  "kernelspec": {
   "display_name": "Python 3 (ipykernel)",
   "language": "python",
   "name": "python3"
  },
  "language_info": {
   "codemirror_mode": {
    "name": "ipython",
    "version": 3
   },
   "file_extension": ".py",
   "mimetype": "text/x-python",
   "name": "python",
   "nbconvert_exporter": "python",
   "pygments_lexer": "ipython3",
   "version": "3.9.6"
  }
 },
 "nbformat": 4,
 "nbformat_minor": 4
}
